{
 "cells": [
  {
   "cell_type": "code",
   "execution_count": 1,
   "metadata": {},
   "outputs": [],
   "source": [
    "from liwc import get_text2word, get_text2cat, read_liwc"
   ]
  },
  {
   "cell_type": "code",
   "execution_count": 3,
   "metadata": {},
   "outputs": [],
   "source": [
    "cat, dic = read_liwc('liwc_data/LIWC2007_English131104.dic')"
   ]
  },
  {
   "cell_type": "code",
   "execution_count": 13,
   "metadata": {},
   "outputs": [],
   "source": [
    "import pickle\n",
    "from tqdm import tqdm"
   ]
  },
  {
   "cell_type": "code",
   "execution_count": 5,
   "metadata": {},
   "outputs": [],
   "source": [
    "sents = pickle.load(open('../sentences4LIWC.pkl', 'rb'))"
   ]
  },
  {
   "cell_type": "code",
   "execution_count": 6,
   "metadata": {},
   "outputs": [
    {
     "data": {
      "text/plain": [
       "55003"
      ]
     },
     "execution_count": 6,
     "metadata": {},
     "output_type": "execute_result"
    }
   ],
   "source": [
    "len(sents)"
   ]
  },
  {
   "cell_type": "code",
   "execution_count": 14,
   "metadata": {},
   "outputs": [
    {
     "name": "stderr",
     "output_type": "stream",
     "text": [
      "100%|██████████| 55003/55003 [23:02<00:00, 39.79it/s]\n"
     ]
    }
   ],
   "source": [
    "all_cats = set({})\n",
    "sent2LIWC = {}\n",
    "for sent in tqdm(sents):\n",
    "    _cats = get_text2cat(cat, dic, sent)\n",
    "#     _wds = get_text2word(cat, dic, sent, select_cats=['negemo', 'posemo'])\n",
    "    for _cat in _cats:\n",
    "        if _cat not in all_cats:\n",
    "            all_cats.add(_cat)\n",
    "    \n",
    "    sent2LIWC[sent] = _cats\n",
    "    \n",
    "    "
   ]
  },
  {
   "cell_type": "code",
   "execution_count": 16,
   "metadata": {},
   "outputs": [],
   "source": [
    "for sent in sent2LIWC:\n",
    "    _dic = sent2LIWC[sent]\n",
    "    for _cat in all_cats:\n",
    "        if _cat not in _dic:\n",
    "            _dic[_cat] = 0\n",
    "    "
   ]
  },
  {
   "cell_type": "code",
   "execution_count": 17,
   "metadata": {},
   "outputs": [],
   "source": [
    "pickle.dump(sent2LIWC, open('../sent_LIWC_rew.pkl', 'wb'))"
   ]
  },
  {
   "cell_type": "code",
   "execution_count": 20,
   "metadata": {},
   "outputs": [
    {
     "name": "stderr",
     "output_type": "stream",
     "text": [
      "100%|██████████| 55003/55003 [22:38<00:00, 40.50it/s]\n"
     ]
    }
   ],
   "source": [
    "sent2cat = {}\n",
    "for sent in tqdm(sents):\n",
    "    _cat_words = get_text2word(cat, dic, sent, select_cats=all_cats)[1]\n",
    "    sent2cat[sent] = _cat_words\n",
    "pickle.dump(sent2cat, open('../sent2cat.pkl', 'wb'))"
   ]
  },
  {
   "cell_type": "code",
   "execution_count": null,
   "metadata": {},
   "outputs": [],
   "source": []
  }
 ],
 "metadata": {
  "kernelspec": {
   "display_name": "Python 2",
   "language": "python",
   "name": "python2"
  },
  "language_info": {
   "codemirror_mode": {
    "name": "ipython",
    "version": 2
   },
   "file_extension": ".py",
   "mimetype": "text/x-python",
   "name": "python",
   "nbconvert_exporter": "python",
   "pygments_lexer": "ipython2",
   "version": "2.7.12"
  }
 },
 "nbformat": 4,
 "nbformat_minor": 2
}
