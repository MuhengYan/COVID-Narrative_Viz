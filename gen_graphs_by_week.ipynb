{
 "cells": [
  {
   "cell_type": "code",
   "execution_count": 1,
   "metadata": {},
   "outputs": [],
   "source": [
    "import pandas as pd\n",
    "import numpy as np\n",
    "import nltk\n",
    "from sklearn.feature_extraction.text import TfidfVectorizer\n",
    "\n",
    "from tqdm import tqdm\n",
    "\n",
    "import pickle\n",
    "\n",
    "from nltk.corpus import stopwords\n",
    "STOP = stopwords.words('english')\n",
    "\n",
    "\n",
    "\n",
    "import os\n",
    "\n",
    "import networkx as nx\n",
    "\n",
    "from utils import *\n",
    "from plot_utils import *"
   ]
  },
  {
   "cell_type": "code",
   "execution_count": 2,
   "metadata": {},
   "outputs": [],
   "source": [
    "tp = 'title'\n",
    "BY_WEEK_RELS, BY_WEEK_RAW = pickle.load(open(f'data/{tp}_by_week.pkl', 'rb'))\n",
    "MERGE_GRAMS = pickle.load(open('data/universal_merging_ngrams.pkl', 'rb'))\n",
    "word_tfidf, word_idf = pickle.load(open('data/universal_tfidf.pkl', 'rb'))"
   ]
  },
  {
   "cell_type": "code",
   "execution_count": 3,
   "metadata": {
    "code_folding": []
   },
   "outputs": [],
   "source": [
    "def sus_score(posts, raw):\n",
    "    color_score = {\n",
    "        'green': 0.0,\n",
    "        'yellow': 0.0,\n",
    "        'orange': 1.0,\n",
    "        'red': 1.0\n",
    "    }\n",
    "    res = []\n",
    "    for _p in posts:\n",
    "        res.append(color_score[raw[_p]['coding']])\n",
    "    return res\n",
    "\n",
    "\n",
    "\n",
    "act_mapping = {\n",
    "    '5g': ['5g'],\n",
    "    'coronavirus': ['SUPER:coronavirus|coronaviruses|postcoronavirus', 'coronavirus', \n",
    "                    'SUPER:coronavirus|coronavirus child|aronavirus', 'SUPER:coronavirus|coronaviruses|oronavirus', \n",
    "                    'SUPER:coronavirus|oronavirus', 'SUPER:coronavirus|coronaviruses|coronvirus', \n",
    "                    'SUPER:coronavirus|hantavirus|coronavirusfighting', \n",
    "                    'SUPER:coronavirus|coronavirus update liberals'],\n",
    "    'spy': ['SUPER:diamond_princess_cruise|spy', 'spy'],\n",
    "    'lab': ['SUPER:zoo|laboratory', 'SUPER:lab|laboratory', 'SUPER:room|laboratory', 'SUPER:lab|clinic',  \n",
    "            'biolab', 'SUPER:lab|clinic|laboratory', 'lab'],\n",
    "    'bioweapon': ['bioweapon'],\n",
    "    'virus': ['SUPER:virus|deadly_virus',  'SUPER:virus_outbreak|deadly_virus',\n",
    "          'SUPER:outbreak|virus_outbreak', 'SUPER:outbreak|virus_outbreak|epidemic',  'SUPER:deadly_virus|deadly',\n",
    "          'SUPER:virus_outbreak|virus|infection'],\n",
    "    'wuhan_virus': ['SUPER:wuhan_virus|dr._anthony_fauci|matt_hancock', 'SUPER:wuhan_virus|brexit|angelina_jolie', 'SUPER:wuhan_virus|shamima_begum'\n",
    "         'SUPER:wuhan_virus|wuhan', 'SUPER:wuhan_virus|deadly_virus'],\n",
    "    'china_virus': ['chinavirus', 'SUPER:chinese_virus|chinese|chinese_communist_party', \n",
    "                'SUPER:chinese_virus|chinese', 'SUPER:virus|chinese_virus|deadly_virus',  \n",
    "                'SUPER:virus_outbreak|chinese_virus', 'SUPER:virus_outbreak|virus|chinese_virus',\n",
    "                'SUPER:virus|chinese_virus']\n",
    "}\n",
    "\n",
    "centres = ['coronavirus', 'virus']\n",
    "rumors = ['5g', 'spy', 'lab', 'bioweapon']\n"
   ]
  },
  {
   "cell_type": "code",
   "execution_count": 4,
   "metadata": {
    "code_folding": [],
    "scrolled": true
   },
   "outputs": [
    {
     "name": "stderr",
     "output_type": "stream",
     "text": [
      " 50%|████▉     | 788/1591 [00:00<00:00, 7868.30it/s]"
     ]
    },
    {
     "name": "stdout",
     "output_type": "stream",
     "text": [
      "=======================\n",
      "processing week 4\n",
      "=========================\n"
     ]
    },
    {
     "name": "stderr",
     "output_type": "stream",
     "text": [
      "100%|██████████| 1591/1591 [00:00<00:00, 4864.60it/s]\n",
      "100%|██████████| 518/518 [00:00<00:00, 1879.66it/s]\n",
      "100%|██████████| 735/735 [00:00<00:00, 10206.23it/s]\n",
      " 22%|██▏       | 772/3477 [00:00<00:00, 7709.68it/s]"
     ]
    },
    {
     "name": "stdout",
     "output_type": "stream",
     "text": [
      "building und graph\n",
      "before removal of low degree nodes: #nodes=460\n",
      "after removal of low degree nodes: #nodes=460\n",
      "building dir graph\n",
      "before removal of low degree nodes: #nodes=460\n",
      "after removal of low degree nodes: #nodes=460\n",
      "=======================\n",
      "processing week 5\n",
      "=========================\n"
     ]
    },
    {
     "name": "stderr",
     "output_type": "stream",
     "text": [
      "100%|██████████| 3477/3477 [00:00<00:00, 7965.21it/s]\n",
      "100%|██████████| 1062/1062 [00:01<00:00, 899.10it/s]\n",
      "100%|██████████| 1572/1572 [00:00<00:00, 10038.57it/s]\n"
     ]
    },
    {
     "name": "stdout",
     "output_type": "stream",
     "text": [
      "building und graph\n",
      "before removal of low degree nodes: #nodes=911\n",
      "after removal of low degree nodes: #nodes=911\n",
      "building dir graph\n",
      "before removal of low degree nodes: #nodes=911\n",
      "after removal of low degree nodes: #nodes=911\n"
     ]
    },
    {
     "name": "stderr",
     "output_type": "stream",
     "text": [
      " 26%|██▌       | 728/2852 [00:00<00:00, 7279.63it/s]"
     ]
    },
    {
     "name": "stdout",
     "output_type": "stream",
     "text": [
      "=======================\n",
      "processing week 6\n",
      "=========================\n"
     ]
    },
    {
     "name": "stderr",
     "output_type": "stream",
     "text": [
      "100%|██████████| 2852/2852 [00:00<00:00, 7411.66it/s]\n",
      "100%|██████████| 1005/1005 [00:01<00:00, 969.82it/s]\n",
      "100%|██████████| 1289/1289 [00:00<00:00, 8553.13it/s]\n"
     ]
    },
    {
     "name": "stdout",
     "output_type": "stream",
     "text": [
      "building und graph\n",
      "before removal of low degree nodes: #nodes=871\n",
      "after removal of low degree nodes: #nodes=871\n",
      "building dir graph\n",
      "before removal of low degree nodes: #nodes=871\n",
      "after removal of low degree nodes: #nodes=871\n"
     ]
    },
    {
     "name": "stderr",
     "output_type": "stream",
     "text": [
      " 23%|██▎       | 771/3391 [00:00<00:00, 7692.14it/s]"
     ]
    },
    {
     "name": "stdout",
     "output_type": "stream",
     "text": [
      "=======================\n",
      "processing week 7\n",
      "=========================\n"
     ]
    },
    {
     "name": "stderr",
     "output_type": "stream",
     "text": [
      "100%|██████████| 3391/3391 [00:00<00:00, 7958.23it/s]\n",
      "100%|██████████| 1121/1121 [00:00<00:00, 3249.34it/s]\n",
      "100%|██████████| 1528/1528 [00:00<00:00, 13076.31it/s]\n"
     ]
    },
    {
     "name": "stdout",
     "output_type": "stream",
     "text": [
      "building und graph\n",
      "before removal of low degree nodes: #nodes=970\n",
      "after removal of low degree nodes: #nodes=970\n",
      "building dir graph\n",
      "before removal of low degree nodes: #nodes=970\n",
      "after removal of low degree nodes: #nodes=970\n"
     ]
    },
    {
     "name": "stderr",
     "output_type": "stream",
     "text": [
      " 33%|███▎      | 736/2254 [00:00<00:00, 7356.17it/s]"
     ]
    },
    {
     "name": "stdout",
     "output_type": "stream",
     "text": [
      "=======================\n",
      "processing week 8\n",
      "=========================\n"
     ]
    },
    {
     "name": "stderr",
     "output_type": "stream",
     "text": [
      "100%|██████████| 2254/2254 [00:00<00:00, 7451.47it/s]\n",
      "100%|██████████| 884/884 [00:00<00:00, 1051.83it/s]\n",
      "100%|██████████| 1053/1053 [00:00<00:00, 9488.27it/s]\n"
     ]
    },
    {
     "name": "stdout",
     "output_type": "stream",
     "text": [
      "building und graph\n",
      "before removal of low degree nodes: #nodes=779\n",
      "after removal of low degree nodes: #nodes=779\n",
      "building dir graph\n",
      "before removal of low degree nodes: #nodes=779\n",
      "after removal of low degree nodes: #nodes=779\n"
     ]
    },
    {
     "name": "stderr",
     "output_type": "stream",
     "text": [
      " 11%|█▏        | 660/5775 [00:00<00:00, 6592.15it/s]"
     ]
    },
    {
     "name": "stdout",
     "output_type": "stream",
     "text": [
      "=======================\n",
      "processing week 9\n",
      "=========================\n"
     ]
    },
    {
     "name": "stderr",
     "output_type": "stream",
     "text": [
      "100%|██████████| 5775/5775 [00:00<00:00, 7379.54it/s]\n",
      "100%|██████████| 1595/1595 [00:02<00:00, 580.12it/s]\n",
      "100%|██████████| 2625/2625 [00:00<00:00, 12102.28it/s]\n"
     ]
    },
    {
     "name": "stdout",
     "output_type": "stream",
     "text": [
      "building und graph\n",
      "before removal of low degree nodes: #nodes=1331\n",
      "after removal of low degree nodes: #nodes=1331\n",
      "building dir graph\n",
      "before removal of low degree nodes: #nodes=1331\n",
      "after removal of low degree nodes: #nodes=1331\n"
     ]
    },
    {
     "name": "stderr",
     "output_type": "stream",
     "text": [
      "  9%|▊         | 659/7588 [00:00<00:01, 6580.40it/s]"
     ]
    },
    {
     "name": "stdout",
     "output_type": "stream",
     "text": [
      "=======================\n",
      "processing week 10\n",
      "=========================\n"
     ]
    },
    {
     "name": "stderr",
     "output_type": "stream",
     "text": [
      "100%|██████████| 7588/7588 [00:00<00:00, 7808.47it/s]\n",
      "100%|██████████| 1914/1914 [00:03<00:00, 508.06it/s]\n",
      "100%|██████████| 3314/3314 [00:00<00:00, 6139.82it/s]\n"
     ]
    },
    {
     "name": "stdout",
     "output_type": "stream",
     "text": [
      "building und graph\n",
      "before removal of low degree nodes: #nodes=1613\n",
      "after removal of low degree nodes: #nodes=1613\n",
      "building dir graph\n",
      "before removal of low degree nodes: #nodes=1613\n",
      "after removal of low degree nodes: #nodes=1613\n"
     ]
    },
    {
     "name": "stderr",
     "output_type": "stream",
     "text": [
      "  9%|▉         | 721/7662 [00:00<00:00, 7206.28it/s]"
     ]
    },
    {
     "name": "stdout",
     "output_type": "stream",
     "text": [
      "=======================\n",
      "processing week 11\n",
      "=========================\n"
     ]
    },
    {
     "name": "stderr",
     "output_type": "stream",
     "text": [
      "100%|██████████| 7662/7662 [00:00<00:00, 8154.13it/s]\n",
      "100%|██████████| 1989/1989 [00:04<00:00, 453.21it/s]\n",
      "100%|██████████| 3401/3401 [00:00<00:00, 13106.50it/s]\n"
     ]
    },
    {
     "name": "stdout",
     "output_type": "stream",
     "text": [
      "building und graph\n",
      "before removal of low degree nodes: #nodes=1656\n",
      "after removal of low degree nodes: #nodes=1656\n",
      "building dir graph\n",
      "before removal of low degree nodes: #nodes=1656\n",
      "after removal of low degree nodes: #nodes=1656\n"
     ]
    },
    {
     "name": "stderr",
     "output_type": "stream",
     "text": [
      "  7%|▋         | 669/9333 [00:00<00:01, 6679.46it/s]"
     ]
    },
    {
     "name": "stdout",
     "output_type": "stream",
     "text": [
      "=======================\n",
      "processing week 12\n",
      "=========================\n"
     ]
    },
    {
     "name": "stderr",
     "output_type": "stream",
     "text": [
      "100%|██████████| 9333/9333 [00:01<00:00, 8010.60it/s]\n",
      "100%|██████████| 2407/2407 [00:06<00:00, 393.11it/s] \n",
      "100%|██████████| 4142/4142 [00:00<00:00, 12034.32it/s]\n"
     ]
    },
    {
     "name": "stdout",
     "output_type": "stream",
     "text": [
      "building und graph\n",
      "before removal of low degree nodes: #nodes=2001\n",
      "after removal of low degree nodes: #nodes=2001\n",
      "building dir graph\n",
      "before removal of low degree nodes: #nodes=2001\n",
      "after removal of low degree nodes: #nodes=2001\n"
     ]
    },
    {
     "name": "stderr",
     "output_type": "stream",
     "text": [
      "  5%|▌         | 609/11153 [00:00<00:01, 6089.56it/s]"
     ]
    },
    {
     "name": "stdout",
     "output_type": "stream",
     "text": [
      "=======================\n",
      "processing week 13\n",
      "=========================\n"
     ]
    },
    {
     "name": "stderr",
     "output_type": "stream",
     "text": [
      "100%|██████████| 11153/11153 [00:01<00:00, 7608.79it/s]\n",
      "100%|██████████| 2672/2672 [00:07<00:00, 351.55it/s]\n",
      "100%|██████████| 4833/4833 [00:00<00:00, 13230.09it/s]\n"
     ]
    },
    {
     "name": "stdout",
     "output_type": "stream",
     "text": [
      "building und graph\n",
      "before removal of low degree nodes: #nodes=2185\n",
      "after removal of low degree nodes: #nodes=2185\n",
      "building dir graph\n",
      "before removal of low degree nodes: #nodes=2185\n",
      "after removal of low degree nodes: #nodes=2185\n"
     ]
    },
    {
     "name": "stderr",
     "output_type": "stream",
     "text": [
      "  6%|▌         | 648/11009 [00:00<00:01, 6476.90it/s]"
     ]
    },
    {
     "name": "stdout",
     "output_type": "stream",
     "text": [
      "=======================\n",
      "processing week 14\n",
      "=========================\n"
     ]
    },
    {
     "name": "stderr",
     "output_type": "stream",
     "text": [
      "100%|██████████| 11009/11009 [00:01<00:00, 8267.50it/s]\n",
      "100%|██████████| 2687/2687 [00:07<00:00, 355.08it/s]\n",
      "100%|██████████| 4591/4591 [00:00<00:00, 12323.26it/s]\n"
     ]
    },
    {
     "name": "stdout",
     "output_type": "stream",
     "text": [
      "building und graph\n",
      "before removal of low degree nodes: #nodes=2212\n",
      "after removal of low degree nodes: #nodes=2212\n",
      "building dir graph\n",
      "before removal of low degree nodes: #nodes=2212\n",
      "after removal of low degree nodes: #nodes=2212\n"
     ]
    },
    {
     "name": "stderr",
     "output_type": "stream",
     "text": [
      "  6%|▌         | 615/10040 [00:00<00:01, 6142.11it/s]"
     ]
    },
    {
     "name": "stdout",
     "output_type": "stream",
     "text": [
      "=======================\n",
      "processing week 15\n",
      "=========================\n"
     ]
    },
    {
     "name": "stderr",
     "output_type": "stream",
     "text": [
      "100%|██████████| 10040/10040 [00:01<00:00, 7523.39it/s]\n",
      "100%|██████████| 2500/2500 [00:06<00:00, 383.12it/s]\n",
      "100%|██████████| 4265/4265 [00:00<00:00, 12990.38it/s]\n"
     ]
    },
    {
     "name": "stdout",
     "output_type": "stream",
     "text": [
      "building und graph\n",
      "before removal of low degree nodes: #nodes=2082\n",
      "after removal of low degree nodes: #nodes=2082\n",
      "building dir graph\n",
      "before removal of low degree nodes: #nodes=2082\n",
      "after removal of low degree nodes: #nodes=2082\n"
     ]
    },
    {
     "name": "stderr",
     "output_type": "stream",
     "text": [
      "  7%|▋         | 671/9828 [00:00<00:01, 6701.94it/s]"
     ]
    },
    {
     "name": "stdout",
     "output_type": "stream",
     "text": [
      "=======================\n",
      "processing week 16\n",
      "=========================\n"
     ]
    },
    {
     "name": "stderr",
     "output_type": "stream",
     "text": [
      "100%|██████████| 9828/9828 [00:01<00:00, 7814.40it/s]\n",
      "100%|██████████| 2420/2420 [00:06<00:00, 385.70it/s]\n",
      "100%|██████████| 4147/4147 [00:00<00:00, 12364.99it/s]\n"
     ]
    },
    {
     "name": "stdout",
     "output_type": "stream",
     "text": [
      "building und graph\n",
      "before removal of low degree nodes: #nodes=2010\n",
      "after removal of low degree nodes: #nodes=2010\n",
      "building dir graph\n",
      "before removal of low degree nodes: #nodes=2010\n",
      "after removal of low degree nodes: #nodes=2010\n"
     ]
    },
    {
     "name": "stderr",
     "output_type": "stream",
     "text": [
      "  9%|▊         | 591/6783 [00:00<00:01, 5891.98it/s]"
     ]
    },
    {
     "name": "stdout",
     "output_type": "stream",
     "text": [
      "=======================\n",
      "processing week 17\n",
      "=========================\n"
     ]
    },
    {
     "name": "stderr",
     "output_type": "stream",
     "text": [
      "100%|██████████| 6783/6783 [00:00<00:00, 7895.63it/s]\n",
      "100%|██████████| 2005/2005 [00:04<00:00, 469.87it/s] \n",
      "100%|██████████| 2932/2932 [00:00<00:00, 13092.92it/s]\n"
     ]
    },
    {
     "name": "stdout",
     "output_type": "stream",
     "text": [
      "building und graph\n",
      "before removal of low degree nodes: #nodes=1667\n",
      "after removal of low degree nodes: #nodes=1667\n",
      "building dir graph\n",
      "before removal of low degree nodes: #nodes=1667\n",
      "after removal of low degree nodes: #nodes=1667\n"
     ]
    }
   ],
   "source": [
    "#input weekly\n",
    "\n",
    "df_ind = ['week', \n",
    "        '#green_art', '#yellow_art', '#orange_art', '#red_art',\n",
    "         '#nodes',\n",
    "         'density',\n",
    "         'clust_coef',\n",
    "         '#green_node', '#yellow_node', '#orange_node', '#red_node'\n",
    "        ]\n",
    "\n",
    "\n",
    "weekly_rumors = {key: {} for key in rumors}\n",
    "target_effort = 'sus'\n",
    "\n",
    "weekly_stats = pd.DataFrame(columns=df_ind)\n",
    "\n",
    "\n",
    "all_nodes = set([])\n",
    "\n",
    "\n",
    "for week_num in range(4, 18):\n",
    "    print(f'=======================\\nprocessing week {week_num}\\n=========================')\n",
    "    \n",
    "    name = f'title_week_{week_num}'\n",
    "\n",
    "    DF_RELS = BY_WEEK_RELS[week_num]\n",
    "    RAW_META = BY_WEEK_RAW[week_num]\n",
    "    #find triplets while merging n-grams, and find arc words\n",
    "    if os.path.exists(f'data/cache/cached_ACTANTS_{name}.pkl'):\n",
    "        actants, triplets, verbs = pickle.load(open(f'data/cache/cached_actants_{name}.pkl', 'rb'))\n",
    "    else:\n",
    "        actants, triplets, verbs = extract_args(DF_RELS, merge_grams=MERGE_GRAMS)\n",
    "        pickle.dump((actants, triplets, verbs), open(f'data/cache/cached_actants_{name}.pkl', 'wb'))\n",
    "        \n",
    "    #query actants embedding\n",
    "\n",
    "    if os.path.exists(f'data/cache/cached_actant_emb_{name}.pkl'):\n",
    "        actant_emb = pickle.load(open(f'data/cache/cached_actant_emb_{name}.pkl', 'rb'))\n",
    "    else:\n",
    "        from bert_serving.client import BertClient\n",
    "        bc = BertClient(ip='picso-gpu.exp.sis.pitt.edu', port=5555)\n",
    "\n",
    "        actant_emb = {}\n",
    "        for _actant in tqdm(actants):\n",
    "\n",
    "            if _actant == '':\n",
    "                actant_emb[_actant] = np.zeros(768)\n",
    "                continue\n",
    "\n",
    "            tokens = _actant.split('_')\n",
    "\n",
    "            emb = np.average(bc.encode(tokens), axis=0)\n",
    "\n",
    "            actant_emb[_actant] = emb\n",
    "\n",
    "\n",
    "        pickle.dump(actant_emb, open(f'data/cache/cached_actant_emb_{name}.pkl', 'wb'))\n",
    "\n",
    "    actant_list = list(actant_emb.keys())\n",
    "\n",
    "    node_emb_array = []\n",
    "    for actant in actant_list:\n",
    "        node_emb_array.append(actant_emb[actant])\n",
    "    node_emb_array = np.array(node_emb_array)\n",
    "    node_emb_array.shape\n",
    "\n",
    "    answer = metrics.pairwise.cosine_similarity(node_emb_array)\n",
    "\n",
    "    # distrib = []\n",
    "    # for i in tqdm(range(len(answer))):\n",
    "    #     for j in range(i+1, len(answer)):\n",
    "    #         distrib.append(answer[i][j])\n",
    "\n",
    "    # plt.hist(distrib, bins=400)\n",
    "    # plt.show()\n",
    "    \n",
    "    \n",
    "    \n",
    "    #merge to super-nodes\n",
    "\n",
    "\n",
    "    threshold = 0.95\n",
    "\n",
    "    actant2superid = {}\n",
    "    super_nodes = {}\n",
    "\n",
    "\n",
    "    \n",
    "    for i in tqdm(range(len(answer))):\n",
    "        node1 = actant_list[i]\n",
    "        for j in range(i + 1, len(answer)):\n",
    "            node2 = actant_list[j]\n",
    "            if answer[i][j] >= 0.95:\n",
    "                if node1 in actant2superid:\n",
    "                    super_id = actant2superid[node1]\n",
    "\n",
    "                    #add j\n",
    "                    flag = True\n",
    "                    for exist in super_nodes[super_id]:\n",
    "                        if answer[j][actant_list.index(exist)] < 0.95:\n",
    "                            flag = False\n",
    "                            break\n",
    "                    if flag:\n",
    "                        super_nodes[super_id].add(node2)\n",
    "                        actant2superid[node2] = super_id\n",
    "\n",
    "                elif node1 in actant2superid:\n",
    "                    super_id = actant2superid[node2]\n",
    "\n",
    "                    #add j\n",
    "                    flag = True\n",
    "                    for exist in super_nodes[super_id]:\n",
    "                        if answer[i][actant_list.index(exist)] < 0.95:\n",
    "                            flag = False\n",
    "                            break\n",
    "                    if flag:\n",
    "                        super_nodes[super_id].add(node1)\n",
    "                        actant2superid[node1] = super_id\n",
    "\n",
    "                else:\n",
    "                    super_id = max_id(super_nodes)\n",
    "\n",
    "                    #add both\n",
    "\n",
    "                    super_nodes[super_id] = set([])\n",
    "\n",
    "                    super_nodes[super_id].add(node1)\n",
    "                    super_nodes[super_id].add(node2)\n",
    "\n",
    "\n",
    "                    actant2superid[node1] = super_id\n",
    "                    actant2superid[node2] = super_id\n",
    "\n",
    "    superid2names = {}\n",
    "    for i in super_nodes:\n",
    "        _name = get_super_node_label(super_nodes[i], word_tfidf)\n",
    "        superid2names[i] = _name\n",
    "        \n",
    "    #generate supernode meta\n",
    "\n",
    "    super_meta = {}\n",
    "\n",
    "    for _superid in super_nodes:\n",
    "\n",
    "        _name = superid2names[_superid]\n",
    "        _all_acts = super_nodes[_superid]\n",
    "        _all_posts = []\n",
    "\n",
    "        for _act in _all_acts:    \n",
    "            _act_meta = actants[_act]\n",
    "            _posts = [item['post'] for item in _act_meta]\n",
    "            _all_posts += _posts\n",
    "\n",
    "        _all_posts = set(_all_posts)\n",
    "\n",
    "        _act_idf = len(RAW_META) / len(_all_posts)\n",
    "        _act_pop = np.mean([RAW_META[idx]['pop'] for idx in _all_posts])\n",
    "        _act_rt = np.mean([RAW_META[idx]['rt'] for idx in _all_posts])\n",
    "        _act_fav = np.mean([RAW_META[idx]['fav'] for idx in _all_posts])\n",
    "\n",
    "        _colors = [RAW_META[idx]['coding'] for idx in _all_posts]\n",
    "        _color_mat = np.array([_colors.count(c)/len(_colors) for c in ['green', 'yellow', 'orange', 'red']])\n",
    "\n",
    "\n",
    "        super_meta[_name] = {\n",
    "            'idf': _act_idf,\n",
    "            'pop': _act_pop,\n",
    "            'rt': _act_rt,\n",
    "            'fav': _act_fav,\n",
    "            'color': _color_mat,\n",
    "            'freq': len(_all_posts)\n",
    "        }\n",
    "\n",
    "    #generate node meta and edge meta\n",
    "\n",
    "\n",
    "\n",
    "    # name, pop, rt, \n",
    "    nodes_in_graph = {}\n",
    "    # key, from, to, idfs, verbs\n",
    "    und_edges_in_graph = {}\n",
    "    dir_edges_in_graph = {}\n",
    "\n",
    "    for trip in tqdm(triplets):\n",
    "        _from = trip.split('->')[0]\n",
    "        _verb = trip.split('->')[1]\n",
    "        _to = trip.split('->')[2]\n",
    "\n",
    "        \n",
    "        _to_posts = set([item['post'] for item in actants[_to]])\n",
    "\n",
    "        if _from in actant2superid:\n",
    "            _from = superid2names[actant2superid[_from]]\n",
    "            nodes_in_graph[_from] = super_meta[_from]\n",
    "        else:\n",
    "            _from_posts = set([item['post'] for item in actants[_from]])\n",
    "            _from_idf = len(RAW_META) / len(_from_posts)\n",
    "            _from_pop = np.mean([RAW_META[idx]['pop'] for idx in _from_posts])\n",
    "            _from_rt = np.mean([RAW_META[idx]['rt'] for idx in _from_posts])\n",
    "            _from_fav = np.mean([RAW_META[idx]['fav'] for idx in _from_posts])\n",
    "            \n",
    "            _from_colors = [RAW_META[idx]['coding'] for idx in _from_posts]\n",
    "            _from_color_mat = np.array([_from_colors.count(c)/len(_from_colors) for c in ['green', 'yellow', 'orange', 'red']])\n",
    "\n",
    "            nodes_in_graph[_from] = {\n",
    "                'idf': _from_idf,\n",
    "                'pop': _from_pop,\n",
    "                'rt': _from_rt,\n",
    "                'fav': _from_fav,\n",
    "                'color': _from_color_mat,\n",
    "                'freq': len(_from_posts)\n",
    "            }\n",
    "\n",
    "        if _to in actant2superid:\n",
    "            _to = superid2names[actant2superid[_to]]\n",
    "            nodes_in_graph[_to] = super_meta[_to]\n",
    "        else:\n",
    "            _to_posts = set([item['post'] for item in actants[_to]])\n",
    "            _to_idf = len(RAW_META) / len(_to_posts)\n",
    "            _to_pop = np.mean([RAW_META[idx]['pop'] for idx in _to_posts])\n",
    "            _to_rt = np.mean([RAW_META[idx]['rt'] for idx in _to_posts])\n",
    "            _to_fav = np.mean([RAW_META[idx]['fav'] for idx in _to_posts])\n",
    "\n",
    "            _to_colors = [RAW_META[idx]['coding'] for idx in _to_posts]\n",
    "            _to_color_mat = np.array([_to_colors.count(c)/len(_to_colors) for c in ['green', 'yellow', 'orange', 'red']])\n",
    "\n",
    "            nodes_in_graph[_to] = {\n",
    "                'idf': _to_idf,\n",
    "                'pop': _to_pop,\n",
    "                'rt': _to_rt,\n",
    "                'fav': _to_fav,\n",
    "                'color': _to_color_mat,\n",
    "                'freq': len(_to_posts)\n",
    "            }\n",
    "\n",
    "\n",
    "\n",
    "        if _from < _to:\n",
    "            _und_id =  f'{_from}<->{_to}'\n",
    "        else:\n",
    "            _und_id =  f'{_to}<->{_from}'\n",
    "\n",
    "        _dir_id = f'{_from}->{_to}'\n",
    "\n",
    "        if _und_id not in und_edges_in_graph:\n",
    "            und_edges_in_graph[_und_id] = []\n",
    "\n",
    "        if _dir_id not in dir_edges_in_graph:\n",
    "            dir_edges_in_graph[_dir_id] = []\n",
    "\n",
    "\n",
    "        _verb_idf = np.log(len(RAW_META) / len(verbs[_verb]))\n",
    "        _sus = sus_score(triplets[trip], RAW_META)\n",
    "\n",
    "        _edge_color = color_mat(triplets[trip], RAW_META)\n",
    "\n",
    "\n",
    "        und_edges_in_graph[_und_id].append({'verb': _verb, 'idf': _verb_idf, 'suspicious': _sus, 'color': _edge_color})\n",
    "        dir_edges_in_graph[_dir_id].append({'verb': _verb, 'idf': _verb_idf, 'suspicious': _sus, 'color': _edge_color})\n",
    "\n",
    "        \n",
    "        \n",
    "    print('building und graph')\n",
    "    G = build_graph_perc_filter(nodes_in_graph, und_edges_in_graph, filter_it=-1, directed=False)\n",
    "\n",
    "    print('building dir graph')\n",
    "    GD = build_graph_perc_filter(nodes_in_graph, dir_edges_in_graph, filter_it=-1, directed=True)\n",
    "\n",
    "    \n",
    "    # #output nodes. graphs\n",
    "    out = (G, GD, nodes_in_graph, und_edges_in_graph, dir_edges_in_graph)\n",
    "    pickle.dump(out, open(f'output/graph_{name}.pkl', 'wb'))\n",
    "    \n",
    "    \n",
    "    art_colors = [RAW_META[aid]['coding'] for aid in RAW_META]\n",
    "    node_colors = [take_node_color(nodes_in_graph[node]) for node in G.nodes()]\n",
    "    row = [week_num]\n",
    "    \n",
    "    density = nx.density(G)\n",
    "    clust = nx.average_clustering(G)\n",
    "    \n",
    "    for color in ['green', 'yellow', 'orange', 'red']:\n",
    "        row.append(art_colors.count(color))\n",
    "        \n",
    "    row.append(len(G.nodes()))\n",
    "    row.append(density)\n",
    "    row.append(clust)\n",
    "    for color in ['green', 'yellow', 'orange', 'red']:\n",
    "        row.append(node_colors.count(color))\n",
    "        \n",
    "    weekly_stats = weekly_stats.append(pd.Series(row, index=df_ind), ignore_index=True)\n",
    "    \n",
    "    all_nodes.update(G.nodes())\n",
    "    \n",
    "    \n",
    "    \n",
    "    centre_lst = []\n",
    "    for centre in centres:\n",
    "        centre_lst += any_in(act_mapping[centre], G)\n",
    "    centre_lst = set(centre_lst)\n",
    "    \n",
    "    for rumor in rumors:\n",
    "        _nd_lst = any_in(act_mapping[rumor], G)\n",
    "        rumor_nodes = []\n",
    "        for _nd in _nd_lst:\n",
    "            for _cd in centre_lst:\n",
    "                rumor_nodes += show_shortest_path(G, _nd, _cd, effort='sus') #most un-sus\n",
    "                rumor_nodes += show_shortest_path(G, _nd, _cd, effort='rev_sus') #most un-sus\n",
    "                rumor_nodes += show_shortest_path(G, _nd, _cd, weighted=False) #shortest\n",
    "                rumor_nodes += show_shortest_path(G, _nd, _cd, effort='reverse_w') #most popular\n",
    "                rumor_nodes += show_shortest_path(G, _nd, _cd, effort='weight') #least popular\n",
    "        rumor_nodes = set(rumor_nodes)\n",
    "        if len(rumor_nodes) > 0:\n",
    "            sub_G = G.subgraph(rumor_nodes)\n",
    "        else:\n",
    "            sub_G = None\n",
    "        \n",
    "        weekly_rumors[rumor][week_num] = sub_G\n",
    "    "
   ]
  },
  {
   "cell_type": "code",
   "execution_count": 5,
   "metadata": {},
   "outputs": [
    {
     "data": {
      "image/png": "[encoded data removed]",
      "text/plain": [
       "<Figure size 1440x1080 with 6 Axes>"
      ]
     },
     "metadata": {
      "needs_background": "light"
     },
     "output_type": "display_data"
    }
   ],
   "source": [
    "import matplotlib\n",
    "import matplotlib.pyplot as plt\n",
    "\n",
    "#article vs. graph size (by color)\n",
    "\n",
    "fig, ax = plt.subplots(2, 3, figsize=(20, 15))\n",
    "\n",
    "for color in ['green', 'yellow', 'orange', 'red']:\n",
    "    ax[0][0].plot(weekly_stats[f'#{color}_art'], color=color)\n",
    "    \n",
    "ax[0][0].set_xticks(range(len(weekly_stats)))\n",
    "ax[0][0].set_xticklabels([f'{item:.0f}' for item in weekly_stats['week']])\n",
    "# ax[0][0].set_title(f'#articles per week')\n",
    "ax[0][0].set_ylabel('#articles')\n",
    "ax[0][0].set_xlabel('week')\n",
    "\n",
    "for color in ['green', 'yellow', 'orange', 'red']:\n",
    "    ax[0][1].plot(weekly_stats[f'#{color}_node'], color=color)\n",
    "    \n",
    "ax[0][1].plot(weekly_stats['#nodes'], color='black', label='all')\n",
    "\n",
    "ax[0][1].legend()\n",
    "    \n",
    "ax[0][1].set_xticks(range(len(weekly_stats)))\n",
    "ax[0][1].set_xticklabels([f'{item:.0f}' for item in weekly_stats['week']])\n",
    "ax[0][1].set_title(f'Graph Size per Week')\n",
    "ax[0][1].set_ylabel('#nodes')\n",
    "ax[0][1].set_xlabel('week')\n",
    "\n",
    "for color in ['green', 'yellow', 'orange', 'red']:\n",
    "    ax[0][2].plot(weekly_stats[f'#{color}_node'] / weekly_stats[f'#{color}_art'], color=color)\n",
    "    \n",
    "ax[0][2].set_xticks(range(len(weekly_stats)))\n",
    "ax[0][2].set_xticklabels([f'{item:.0f}' for item in weekly_stats['week']])\n",
    "# ax[0][0].set_title(f'#articles per week')\n",
    "ax[0][2].set_ylabel('#nodes/#articles')\n",
    "ax[0][2].set_xlabel('week')\n",
    "\n",
    "\n",
    "ax[1][0].plot(weekly_stats['density'] * 100, color='black')\n",
    "ax[1][0].set_xticks(range(len(weekly_stats)))\n",
    "ax[1][0].set_xticklabels([f'{item:.0f}' for item in weekly_stats['week']])\n",
    "ax[1][0].set_ylabel('graph density (%)')\n",
    "ax[1][0].set_xlabel('week')\n",
    "\n",
    "\n",
    "ax[1][1].plot(weekly_stats['clust_coef'] * 100, color='black')\n",
    "ax[1][1].set_xticks(range(len(weekly_stats)))\n",
    "ax[1][1].set_xticklabels([f'{item:.0f}' for item in weekly_stats['week']])\n",
    "ax[1][1].set_ylabel('average clustering coef (%)')\n",
    "ax[1][1].set_xlabel('week')\n",
    "\n",
    "plt.show()"
   ]
  },
  {
   "cell_type": "code",
   "execution_count": 6,
   "metadata": {
    "code_folding": []
   },
   "outputs": [],
   "source": [
    "fields = ['week', 'size_sub_graph', 'shortest_length', 'least_suspicious', 'most_suspicious', 'least_popular', 'most_popular']\n",
    "rumor_df = {}\n",
    "\n",
    "\n",
    "\n",
    "for rumor in rumors:\n",
    "    _rdf = pd.DataFrame(columns=fields)\n",
    "    for week in range(4, 18):\n",
    "        _graph = weekly_rumors[rumor][week]\n",
    "        \n",
    "        if _graph is None:\n",
    "            out = [f'{week:.0f}', 0, -1,\n",
    "              -1,\n",
    "              -1,\n",
    "              -1,\n",
    "              -1]\n",
    "            _rdf = _rdf.append(pd.Series(out, index=fields), ignore_index=True)\n",
    "            continue\n",
    "            \n",
    "        _centre_lst = []\n",
    "        for centre in centres:\n",
    "            _centre_lst += any_in(act_mapping[centre], _graph)\n",
    "        _centre_lst = set(_centre_lst)\n",
    "        \n",
    "        \n",
    "        _nd_lst = any_in(act_mapping[rumor], _graph)\n",
    "        \n",
    "        \n",
    "        out = [f'{week:.0f}', len(_graph), get_average_effort(_graph, _centre_lst, _nd_lst, weighted=False),\n",
    "              get_average_effort(_graph, _centre_lst, _nd_lst, effort='sus', ret='sus'),\n",
    "              get_average_effort(_graph, _centre_lst, _nd_lst, effort='rev_sus', ret='sus'),\n",
    "              get_average_effort(_graph, _centre_lst, _nd_lst, effort='weight', ret='weight'),\n",
    "              get_average_effort(_graph, _centre_lst, _nd_lst, effort='reverse_w', ret='weight')]\n",
    "        \n",
    "        _rdf = _rdf.append(pd.Series(out, index=fields), ignore_index=True)\n",
    "        \n",
    "    rumor_df[rumor] = _rdf"
   ]
  },
  {
   "cell_type": "code",
   "execution_count": 20,
   "metadata": {},
   "outputs": [
    {
     "data": {
      "text/html": [
       "<div>\n",
       "<style scoped>\n",
       "    .dataframe tbody tr th:only-of-type {\n",
       "        vertical-align: middle;\n",
       "    }\n",
       "\n",
       "    .dataframe tbody tr th {\n",
       "        vertical-align: top;\n",
       "    }\n",
       "\n",
       "    .dataframe thead th {\n",
       "        text-align: right;\n",
       "    }\n",
       "</style>\n",
       "<table border=\"1\" class=\"dataframe\">\n",
       "  <thead>\n",
       "    <tr style=\"text-align: right;\">\n",
       "      <th></th>\n",
       "      <th>week</th>\n",
       "      <th>size_sub_graph</th>\n",
       "      <th>shortest_length</th>\n",
       "      <th>least_suspicious</th>\n",
       "      <th>most_suspicious</th>\n",
       "      <th>least_popular</th>\n",
       "      <th>most_popular</th>\n",
       "    </tr>\n",
       "  </thead>\n",
       "  <tbody>\n",
       "    <tr>\n",
       "      <th>0</th>\n",
       "      <td>4</td>\n",
       "      <td>0</td>\n",
       "      <td>-1</td>\n",
       "      <td>-1</td>\n",
       "      <td>-1</td>\n",
       "      <td>-1</td>\n",
       "      <td>-1</td>\n",
       "    </tr>\n",
       "    <tr>\n",
       "      <th>1</th>\n",
       "      <td>5</td>\n",
       "      <td>13</td>\n",
       "      <td>2.33333</td>\n",
       "      <td>0.361111</td>\n",
       "      <td>1</td>\n",
       "      <td>7.46411</td>\n",
       "      <td>10.2082</td>\n",
       "    </tr>\n",
       "    <tr>\n",
       "      <th>2</th>\n",
       "      <td>6</td>\n",
       "      <td>0</td>\n",
       "      <td>-1</td>\n",
       "      <td>-1</td>\n",
       "      <td>-1</td>\n",
       "      <td>-1</td>\n",
       "      <td>-1</td>\n",
       "    </tr>\n",
       "    <tr>\n",
       "      <th>3</th>\n",
       "      <td>7</td>\n",
       "      <td>11</td>\n",
       "      <td>2.5</td>\n",
       "      <td>0.416667</td>\n",
       "      <td>0.922619</td>\n",
       "      <td>6.43549</td>\n",
       "      <td>18.7506</td>\n",
       "    </tr>\n",
       "    <tr>\n",
       "      <th>4</th>\n",
       "      <td>8</td>\n",
       "      <td>6</td>\n",
       "      <td>1.5</td>\n",
       "      <td>0.666667</td>\n",
       "      <td>1</td>\n",
       "      <td>3.62761</td>\n",
       "      <td>3.62761</td>\n",
       "    </tr>\n",
       "    <tr>\n",
       "      <th>5</th>\n",
       "      <td>9</td>\n",
       "      <td>13</td>\n",
       "      <td>2</td>\n",
       "      <td>0.305556</td>\n",
       "      <td>1</td>\n",
       "      <td>4.34964</td>\n",
       "      <td>14.9097</td>\n",
       "    </tr>\n",
       "    <tr>\n",
       "      <th>6</th>\n",
       "      <td>10</td>\n",
       "      <td>15</td>\n",
       "      <td>2</td>\n",
       "      <td>0.291667</td>\n",
       "      <td>0.958333</td>\n",
       "      <td>3.43628</td>\n",
       "      <td>13.2312</td>\n",
       "    </tr>\n",
       "    <tr>\n",
       "      <th>7</th>\n",
       "      <td>11</td>\n",
       "      <td>0</td>\n",
       "      <td>-1</td>\n",
       "      <td>-1</td>\n",
       "      <td>-1</td>\n",
       "      <td>-1</td>\n",
       "      <td>-1</td>\n",
       "    </tr>\n",
       "    <tr>\n",
       "      <th>8</th>\n",
       "      <td>12</td>\n",
       "      <td>0</td>\n",
       "      <td>-1</td>\n",
       "      <td>-1</td>\n",
       "      <td>-1</td>\n",
       "      <td>-1</td>\n",
       "      <td>-1</td>\n",
       "    </tr>\n",
       "    <tr>\n",
       "      <th>9</th>\n",
       "      <td>13</td>\n",
       "      <td>0</td>\n",
       "      <td>-1</td>\n",
       "      <td>-1</td>\n",
       "      <td>-1</td>\n",
       "      <td>-1</td>\n",
       "      <td>-1</td>\n",
       "    </tr>\n",
       "    <tr>\n",
       "      <th>10</th>\n",
       "      <td>14</td>\n",
       "      <td>0</td>\n",
       "      <td>-1</td>\n",
       "      <td>-1</td>\n",
       "      <td>-1</td>\n",
       "      <td>-1</td>\n",
       "      <td>-1</td>\n",
       "    </tr>\n",
       "    <tr>\n",
       "      <th>11</th>\n",
       "      <td>15</td>\n",
       "      <td>0</td>\n",
       "      <td>-1</td>\n",
       "      <td>-1</td>\n",
       "      <td>-1</td>\n",
       "      <td>-1</td>\n",
       "      <td>-1</td>\n",
       "    </tr>\n",
       "    <tr>\n",
       "      <th>12</th>\n",
       "      <td>16</td>\n",
       "      <td>23</td>\n",
       "      <td>3.33333</td>\n",
       "      <td>0.277778</td>\n",
       "      <td>1</td>\n",
       "      <td>5.69889</td>\n",
       "      <td>12.6033</td>\n",
       "    </tr>\n",
       "    <tr>\n",
       "      <th>13</th>\n",
       "      <td>17</td>\n",
       "      <td>0</td>\n",
       "      <td>-1</td>\n",
       "      <td>-1</td>\n",
       "      <td>-1</td>\n",
       "      <td>-1</td>\n",
       "      <td>-1</td>\n",
       "    </tr>\n",
       "  </tbody>\n",
       "</table>\n",
       "</div>"
      ],
      "text/plain": [
       "   week size_sub_graph shortest_length least_suspicious most_suspicious  \\\n",
       "0     4              0              -1               -1              -1   \n",
       "1     5             13         2.33333         0.361111               1   \n",
       "2     6              0              -1               -1              -1   \n",
       "3     7             11             2.5         0.416667        0.922619   \n",
       "4     8              6             1.5         0.666667               1   \n",
       "5     9             13               2         0.305556               1   \n",
       "6    10             15               2         0.291667        0.958333   \n",
       "7    11              0              -1               -1              -1   \n",
       "8    12              0              -1               -1              -1   \n",
       "9    13              0              -1               -1              -1   \n",
       "10   14              0              -1               -1              -1   \n",
       "11   15              0              -1               -1              -1   \n",
       "12   16             23         3.33333         0.277778               1   \n",
       "13   17              0              -1               -1              -1   \n",
       "\n",
       "   least_popular most_popular  \n",
       "0             -1           -1  \n",
       "1        7.46411      10.2082  \n",
       "2             -1           -1  \n",
       "3        6.43549      18.7506  \n",
       "4        3.62761      3.62761  \n",
       "5        4.34964      14.9097  \n",
       "6        3.43628      13.2312  \n",
       "7             -1           -1  \n",
       "8             -1           -1  \n",
       "9             -1           -1  \n",
       "10            -1           -1  \n",
       "11            -1           -1  \n",
       "12       5.69889      12.6033  \n",
       "13            -1           -1  "
      ]
     },
     "execution_count": 20,
     "metadata": {},
     "output_type": "execute_result"
    }
   ],
   "source": [
    "rumor_df['bioweapon']"
   ]
  },
  {
   "cell_type": "code",
   "execution_count": 21,
   "metadata": {
    "scrolled": true
   },
   "outputs": [
    {
     "name": "stderr",
     "output_type": "stream",
     "text": [
      "/home/muheng/.local/lib/python3.7/site-packages/plotly/graph_objs/_deprecations.py:441: DeprecationWarning:\n",
      "\n",
      "plotly.graph_objs.Marker is deprecated.\n",
      "Please replace it with one of the following more specific types\n",
      "  - plotly.graph_objs.scatter.Marker\n",
      "  - plotly.graph_objs.histogram.selected.Marker\n",
      "  - etc.\n",
      "\n",
      "\n",
      "/home/muheng/.local/lib/python3.7/site-packages/plotly/graph_objs/_deprecations.py:385: DeprecationWarning:\n",
      "\n",
      "plotly.graph_objs.Line is deprecated.\n",
      "Please replace it with one of the following more specific types\n",
      "  - plotly.graph_objs.scatter.Line\n",
      "  - plotly.graph_objs.layout.shape.Line\n",
      "  - etc.\n",
      "\n",
      "\n"
     ]
    },
    {
     "data": {
      "application/vnd.plotly.v1+json": {
       "config": {
        "plotlyServerURL": "https://plot.ly"
       },
       "data": [
        {
         "hoverinfo": "none",
         "line": {
          "color": "black",
          "width": 2
         },
         "mode": "lines",
         "opacity": 1,
         "type": "scatter",
         "x": [
          -0.6733323617695519,
          -0.3194142941499823,
          null
         ],
         "y": [
          -0.08294912167490408,
          0.25539593818417605,
          null
         ]
        },
        {
         "hoverinfo": "none",
         "line": {
          "color": "black",
          "width": 2
         },
         "mode": "lines",
         "opacity": 1,
         "type": "scatter",
         "x": [
          -0.3194142941499823,
          0.38295020859749823,
          null
         ],
         "y": [
          0.25539593818417605,
          0.11329787072482507,
          null
         ]
        },
        {
         "hoverinfo": "none",
         "line": {
          "color": "black",
          "width": 2
         },
         "mode": "lines",
         "opacity": 1,
         "type": "scatter",
         "x": [
          0.38295020859749823,
          0.7128711724657124,
          null
         ],
         "y": [
          0.11329787072482507,
          0.8669996884101974,
          null
         ]
        },
        {
         "hoverinfo": "text",
         "marker": {
          "color": "grey",
          "opacity": 0
         },
         "mode": "markers",
         "text": [
          "",
          "",
          ""
         ],
         "type": "scatter",
         "x": [
          -0.4963733279597671,
          0.03176795722375797,
          0.5479106905316053
         ],
         "y": [
          0.08622340825463598,
          0.18434690445450055,
          0.49014877956751124
         ]
        },
        {
         "hoverinfo": "none",
         "line": {
          "color": "purple",
          "width": 2
         },
         "mode": "lines",
         "opacity": 1,
         "type": "scatter",
         "x": [
          -0.6733323617695519,
          -0.5639564372374221,
          null
         ],
         "y": [
          -0.08294912167490408,
          -0.5167255228796308,
          null
         ]
        },
        {
         "hoverinfo": "none",
         "line": {
          "color": "purple",
          "width": 2
         },
         "mode": "lines",
         "opacity": 1,
         "type": "scatter",
         "x": [
          -0.5639564372374221,
          -0.12557669186629794,
          null
         ],
         "y": [
          -0.5167255228796308,
          0.0881727314678884,
          null
         ]
        },
        {
         "hoverinfo": "none",
         "line": {
          "color": "purple",
          "width": 2
         },
         "mode": "lines",
         "opacity": 1,
         "type": "scatter",
         "x": [
          -0.12557669186629794,
          0.3526385305193471,
          null
         ],
         "y": [
          0.0881727314678884,
          0.6034766665753772,
          null
         ]
        },
        {
         "hoverinfo": "none",
         "line": {
          "color": "purple",
          "width": 2
         },
         "mode": "lines",
         "opacity": 1,
         "type": "scatter",
         "x": [
          0.3526385305193471,
          0.38295020859749823,
          null
         ],
         "y": [
          0.6034766665753772,
          0.11329787072482507,
          null
         ]
        },
        {
         "hoverinfo": "none",
         "line": {
          "color": "purple",
          "width": 2
         },
         "mode": "lines",
         "opacity": 1,
         "type": "scatter",
         "x": [
          0.38295020859749823,
          0.7128711724657124,
          null
         ],
         "y": [
          0.11329787072482507,
          0.8669996884101974,
          null
         ]
        },
        {
         "hoverinfo": "text",
         "marker": {
          "color": "grey",
          "opacity": 0
         },
         "mode": "markers",
         "text": [
          "",
          "",
          "",
          "",
          ""
         ],
         "type": "scatter",
         "x": [
          -0.6186443995034869,
          -0.34476656455186,
          0.11353091932652459,
          0.3677943695584227,
          0.5479106905316053
         ],
         "y": [
          -0.29983732227726745,
          -0.2142763957058712,
          0.3458246990216328,
          0.3583872686501012,
          0.49014877956751124
         ]
        },
        {
         "hoverinfo": "none",
         "line": {
          "color": "green",
          "width": 2
         },
         "mode": "lines",
         "opacity": 1,
         "type": "scatter",
         "x": [
          -0.6733323617695519,
          -0.3194142941499823,
          null
         ],
         "y": [
          -0.08294912167490408,
          0.25539593818417605,
          null
         ]
        },
        {
         "hoverinfo": "none",
         "line": {
          "color": "green",
          "width": 2
         },
         "mode": "lines",
         "opacity": 1,
         "type": "scatter",
         "x": [
          -0.3194142941499823,
          0.38295020859749823,
          null
         ],
         "y": [
          0.25539593818417605,
          0.11329787072482507,
          null
         ]
        },
        {
         "hoverinfo": "none",
         "line": {
          "color": "green",
          "width": 2
         },
         "mode": "lines",
         "opacity": 1,
         "type": "scatter",
         "x": [
          0.38295020859749823,
          0.7128711724657124,
          null
         ],
         "y": [
          0.11329787072482507,
          0.8669996884101974,
          null
         ]
        },
        {
         "hoverinfo": "text",
         "marker": {
          "color": "grey",
          "opacity": 0
         },
         "mode": "markers",
         "text": [
          "",
          "",
          ""
         ],
         "type": "scatter",
         "x": [
          -0.4963733279597671,
          0.03176795722375797,
          0.5479106905316053
         ],
         "y": [
          0.08622340825463598,
          0.18434690445450055,
          0.49014877956751124
         ]
        },
        {
         "hoverinfo": "none",
         "line": {
          "color": "black",
          "width": 2
         },
         "mode": "lines",
         "opacity": 1,
         "type": "scatter",
         "x": [
          -0.12557669186629794,
          0.38295020859749823,
          null
         ],
         "y": [
          0.0881727314678884,
          0.11329787072482507,
          null
         ]
        },
        {
         "hoverinfo": "none",
         "line": {
          "color": "black",
          "width": 2
         },
         "mode": "lines",
         "opacity": 1,
         "type": "scatter",
         "x": [
          0.38295020859749823,
          0.7128711724657124,
          null
         ],
         "y": [
          0.11329787072482507,
          0.8669996884101974,
          null
         ]
        },
        {
         "hoverinfo": "text",
         "marker": {
          "color": "grey",
          "opacity": 0
         },
         "mode": "markers",
         "text": [
          "",
          ""
         ],
         "type": "scatter",
         "x": [
          0.12868675836560015,
          0.5479106905316053
         ],
         "y": [
          0.10073530109635673,
          0.49014877956751124
         ]
        },
        {
         "hoverinfo": "none",
         "line": {
          "color": "purple",
          "width": 2
         },
         "mode": "lines",
         "opacity": 1,
         "type": "scatter",
         "x": [
          -0.12557669186629794,
          0.3526385305193471,
          null
         ],
         "y": [
          0.0881727314678884,
          0.6034766665753772,
          null
         ]
        },
        {
         "hoverinfo": "none",
         "line": {
          "color": "purple",
          "width": 2
         },
         "mode": "lines",
         "opacity": 1,
         "type": "scatter",
         "x": [
          0.3526385305193471,
          0.38295020859749823,
          null
         ],
         "y": [
          0.6034766665753772,
          0.11329787072482507,
          null
         ]
        },
        {
         "hoverinfo": "none",
         "line": {
          "color": "purple",
          "width": 2
         },
         "mode": "lines",
         "opacity": 1,
         "type": "scatter",
         "x": [
          0.38295020859749823,
          0.7128711724657124,
          null
         ],
         "y": [
          0.11329787072482507,
          0.8669996884101974,
          null
         ]
        },
        {
         "hoverinfo": "text",
         "marker": {
          "color": "grey",
          "opacity": 0
         },
         "mode": "markers",
         "text": [
          "",
          "",
          ""
         ],
         "type": "scatter",
         "x": [
          0.11353091932652459,
          0.3677943695584227,
          0.5479106905316053
         ],
         "y": [
          0.3458246990216328,
          0.3583872686501012,
          0.49014877956751124
         ]
        },
        {
         "hoverinfo": "none",
         "line": {
          "color": "green",
          "width": 2
         },
         "mode": "lines",
         "opacity": 1,
         "type": "scatter",
         "x": [
          -0.12557669186629794,
          0.38295020859749823,
          null
         ],
         "y": [
          0.0881727314678884,
          0.11329787072482507,
          null
         ]
        },
        {
         "hoverinfo": "none",
         "line": {
          "color": "green",
          "width": 2
         },
         "mode": "lines",
         "opacity": 1,
         "type": "scatter",
         "x": [
          0.38295020859749823,
          0.7128711724657124,
          null
         ],
         "y": [
          0.11329787072482507,
          0.8669996884101974,
          null
         ]
        },
        {
         "hoverinfo": "text",
         "marker": {
          "color": "grey",
          "opacity": 0
         },
         "mode": "markers",
         "text": [
          "",
          ""
         ],
         "type": "scatter",
         "x": [
          0.12868675836560015,
          0.5479106905316053
         ],
         "y": [
          0.10073530109635673,
          0.49014877956751124
         ]
        },
        {
         "hoverinfo": "none",
         "line": {
          "color": "black",
          "width": 2
         },
         "mode": "lines",
         "opacity": 1,
         "type": "scatter",
         "x": [
          0.034639743945929884,
          0.38295020859749823,
          null
         ],
         "y": [
          -0.4579426491575087,
          0.11329787072482507,
          null
         ]
        },
        {
         "hoverinfo": "none",
         "line": {
          "color": "black",
          "width": 2
         },
         "mode": "lines",
         "opacity": 1,
         "type": "scatter",
         "x": [
          0.38295020859749823,
          0.7128711724657124,
          null
         ],
         "y": [
          0.11329787072482507,
          0.8669996884101974,
          null
         ]
        },
        {
         "hoverinfo": "text",
         "marker": {
          "color": "grey",
          "opacity": 0
         },
         "mode": "markers",
         "text": [
          "",
          ""
         ],
         "type": "scatter",
         "x": [
          0.20879497627171406,
          0.5479106905316053
         ],
         "y": [
          -0.17232238921634183,
          0.49014877956751124
         ]
        },
        {
         "hoverinfo": "none",
         "line": {
          "color": "purple",
          "width": 2
         },
         "mode": "lines",
         "opacity": 1,
         "type": "scatter",
         "x": [
          0.034639743945929884,
          -0.5639564372374221,
          null
         ],
         "y": [
          -0.4579426491575087,
          -0.5167255228796308,
          null
         ]
        },
        {
         "hoverinfo": "none",
         "line": {
          "color": "purple",
          "width": 2
         },
         "mode": "lines",
         "opacity": 1,
         "type": "scatter",
         "x": [
          -0.5639564372374221,
          -0.12557669186629794,
          null
         ],
         "y": [
          -0.5167255228796308,
          0.0881727314678884,
          null
         ]
        },
        {
         "hoverinfo": "none",
         "line": {
          "color": "purple",
          "width": 2
         },
         "mode": "lines",
         "opacity": 1,
         "type": "scatter",
         "x": [
          -0.12557669186629794,
          0.3526385305193471,
          null
         ],
         "y": [
          0.0881727314678884,
          0.6034766665753772,
          null
         ]
        },
        {
         "hoverinfo": "none",
         "line": {
          "color": "purple",
          "width": 2
         },
         "mode": "lines",
         "opacity": 1,
         "type": "scatter",
         "x": [
          0.3526385305193471,
          0.38295020859749823,
          null
         ],
         "y": [
          0.6034766665753772,
          0.11329787072482507,
          null
         ]
        },
        {
         "hoverinfo": "none",
         "line": {
          "color": "purple",
          "width": 2
         },
         "mode": "lines",
         "opacity": 1,
         "type": "scatter",
         "x": [
          0.38295020859749823,
          0.7128711724657124,
          null
         ],
         "y": [
          0.11329787072482507,
          0.8669996884101974,
          null
         ]
        },
        {
         "hoverinfo": "text",
         "marker": {
          "color": "grey",
          "opacity": 0
         },
         "mode": "markers",
         "text": [
          "",
          "",
          "",
          "",
          ""
         ],
         "type": "scatter",
         "x": [
          -0.2646583466457461,
          -0.34476656455186,
          0.11353091932652459,
          0.3677943695584227,
          0.5479106905316053
         ],
         "y": [
          -0.48733408601856976,
          -0.2142763957058712,
          0.3458246990216328,
          0.3583872686501012,
          0.49014877956751124
         ]
        },
        {
         "hoverinfo": "none",
         "line": {
          "color": "green",
          "width": 2
         },
         "mode": "lines",
         "opacity": 1,
         "type": "scatter",
         "x": [
          0.034639743945929884,
          0.6037182210971669,
          null
         ],
         "y": [
          -0.4579426491575087,
          -0.6751212349515828,
          null
         ]
        },
        {
         "hoverinfo": "none",
         "line": {
          "color": "green",
          "width": 2
         },
         "mode": "lines",
         "opacity": 1,
         "type": "scatter",
         "x": [
          0.6037182210971669,
          0.9281336539579373,
          null
         ],
         "y": [
          -0.6751212349515828,
          -0.24781400039225882,
          null
         ]
        },
        {
         "hoverinfo": "none",
         "line": {
          "color": "green",
          "width": 2
         },
         "mode": "lines",
         "opacity": 1,
         "type": "scatter",
         "x": [
          0.9281336539579373,
          0.38295020859749823,
          null
         ],
         "y": [
          -0.24781400039225882,
          0.11329787072482507,
          null
         ]
        },
        {
         "hoverinfo": "none",
         "line": {
          "color": "green",
          "width": 2
         },
         "mode": "lines",
         "opacity": 1,
         "type": "scatter",
         "x": [
          0.38295020859749823,
          0.7128711724657124,
          null
         ],
         "y": [
          0.11329787072482507,
          0.8669996884101974,
          null
         ]
        },
        {
         "hoverinfo": "text",
         "marker": {
          "color": "grey",
          "opacity": 0
         },
         "mode": "markers",
         "text": [
          "",
          "",
          "",
          ""
         ],
         "type": "scatter",
         "x": [
          0.31917898252154836,
          0.7659259375275521,
          0.6555419312777178,
          0.5479106905316053
         ],
         "y": [
          -0.5665319420545458,
          -0.4614676176719208,
          -0.06725806483371688,
          0.49014877956751124
         ]
        },
        {
         "hoverinfo": "none",
         "line": {
          "color": "orange",
          "width": 8.508984523043466
         },
         "mode": "lines",
         "opacity": 0.2,
         "type": "scatter",
         "x": [
          -1,
          -0.12557669186629794,
          null
         ],
         "y": [
          0.4253234372764807,
          0.0881727314678884,
          null
         ]
        },
        {
         "hoverinfo": "none",
         "line": {
          "color": "orange",
          "width": 9.602071935779607
         },
         "mode": "lines",
         "opacity": 0.2,
         "type": "scatter",
         "x": [
          -1,
          -0.6733323617695519,
          null
         ],
         "y": [
          0.4253234372764807,
          -0.08294912167490408,
          null
         ]
        },
        {
         "hoverinfo": "none",
         "line": {
          "color": "red",
          "width": 14.397862481376347
         },
         "mode": "lines",
         "opacity": 0.2,
         "type": "scatter",
         "x": [
          -0.12557669186629794,
          0.3526385305193471,
          null
         ],
         "y": [
          0.0881727314678884,
          0.6034766665753772,
          null
         ]
        },
        {
         "hoverinfo": "none",
         "line": {
          "color": "orange",
          "width": 31.95278571269474
         },
         "mode": "lines",
         "opacity": 0.2,
         "type": "scatter",
         "x": [
          -0.12557669186629794,
          -0.40251142424246933,
          null
         ],
         "y": [
          0.0881727314678884,
          -0.1525647642758963,
          null
         ]
        },
        {
         "hoverinfo": "none",
         "line": {
          "color": "yellow",
          "width": 14.397862481376347
         },
         "mode": "lines",
         "opacity": 0.2,
         "type": "scatter",
         "x": [
          -0.12557669186629794,
          0.38295020859749823,
          null
         ],
         "y": [
          0.0881727314678884,
          0.11329787072482507,
          null
         ]
        },
        {
         "hoverinfo": "none",
         "line": {
          "color": "yellow",
          "width": 23.129298274640263
         },
         "mode": "lines",
         "opacity": 0.2,
         "type": "scatter",
         "x": [
          -0.12557669186629794,
          -0.3194142941499823,
          null
         ],
         "y": [
          0.0881727314678884,
          0.25539593818417605,
          null
         ]
        },
        {
         "hoverinfo": "none",
         "line": {
          "color": "red",
          "width": 9.602071935779607
         },
         "mode": "lines",
         "opacity": 0.2,
         "type": "scatter",
         "x": [
          -0.12557669186629794,
          -0.5639564372374221,
          null
         ],
         "y": [
          0.0881727314678884,
          -0.5167255228796308,
          null
         ]
        },
        {
         "hoverinfo": "none",
         "line": {
          "color": "red",
          "width": 10.003413326703908
         },
         "mode": "lines",
         "opacity": 0.2,
         "type": "scatter",
         "x": [
          -0.12557669186629794,
          -0.12557669186629794,
          null
         ],
         "y": [
          0.0881727314678884,
          0.0881727314678884,
          null
         ]
        },
        {
         "hoverinfo": "none",
         "line": {
          "color": "yellow",
          "width": 47.78090036862854
         },
         "mode": "lines",
         "opacity": 0.2,
         "type": "scatter",
         "x": [
          -0.12557669186629794,
          0.06983967868213298,
          null
         ],
         "y": [
          0.0881727314678884,
          -0.21954903930716022,
          null
         ]
        },
        {
         "hoverinfo": "none",
         "line": {
          "color": "yellow",
          "width": 14.397862481376347
         },
         "mode": "lines",
         "opacity": 0.2,
         "type": "scatter",
         "x": [
          -0.3194142941499823,
          0.38295020859749823,
          null
         ],
         "y": [
          0.25539593818417605,
          0.11329787072482507,
          null
         ]
        },
        {
         "hoverinfo": "none",
         "line": {
          "color": "black",
          "width": 31.559365124202635
         },
         "mode": "lines",
         "opacity": 0.2,
         "type": "scatter",
         "x": [
          -0.3194142941499823,
          -0.40251142424246933,
          null
         ],
         "y": [
          0.25539593818417605,
          -0.1525647642758963,
          null
         ]
        },
        {
         "hoverinfo": "none",
         "line": {
          "color": "green",
          "width": 12.200637904040128
         },
         "mode": "lines",
         "opacity": 0.2,
         "type": "scatter",
         "x": [
          -0.3194142941499823,
          -0.6733323617695519,
          null
         ],
         "y": [
          0.25539593818417605,
          -0.08294912167490408,
          null
         ]
        },
        {
         "hoverinfo": "none",
         "line": {
          "color": "yellow",
          "width": 51.92502323739296
         },
         "mode": "lines",
         "opacity": 0.2,
         "type": "scatter",
         "x": [
          -0.40251142424246933,
          -0.6733323617695519,
          null
         ],
         "y": [
          -0.1525647642758963,
          -0.08294912167490408,
          null
         ]
        },
        {
         "hoverinfo": "none",
         "line": {
          "color": "green",
          "width": 16.979559086414834
         },
         "mode": "lines",
         "opacity": 0.2,
         "type": "scatter",
         "x": [
          -0.40251142424246933,
          -0.5639564372374221,
          null
         ],
         "y": [
          -0.1525647642758963,
          -0.5167255228796308,
          null
         ]
        },
        {
         "hoverinfo": "none",
         "line": {
          "color": "green",
          "width": 25.212206024296584
         },
         "mode": "lines",
         "opacity": 0.2,
         "type": "scatter",
         "x": [
          -0.40251142424246933,
          0.034639743945929884,
          null
         ],
         "y": [
          -0.1525647642758963,
          -0.4579426491575087,
          null
         ]
        },
        {
         "hoverinfo": "none",
         "line": {
          "color": "orange",
          "width": 14.397862481376347
         },
         "mode": "lines",
         "opacity": 0.2,
         "type": "scatter",
         "x": [
          -0.5639564372374221,
          -0.6733323617695519,
          null
         ],
         "y": [
          -0.5167255228796308,
          -0.08294912167490408,
          null
         ]
        },
        {
         "hoverinfo": "none",
         "line": {
          "color": "orange",
          "width": 11.625273759136567
         },
         "mode": "lines",
         "opacity": 0.2,
         "type": "scatter",
         "x": [
          -0.5639564372374221,
          0.034639743945929884,
          null
         ],
         "y": [
          -0.5167255228796308,
          -0.4579426491575087,
          null
         ]
        },
        {
         "hoverinfo": "none",
         "line": {
          "color": "yellow",
          "width": 22.357973313016295
         },
         "mode": "lines",
         "opacity": 0.2,
         "type": "scatter",
         "x": [
          0.034639743945929884,
          0.38295020859749823,
          null
         ],
         "y": [
          -0.4579426491575087,
          0.11329787072482507,
          null
         ]
        },
        {
         "hoverinfo": "none",
         "line": {
          "color": "yellow",
          "width": 18.74796392106014
         },
         "mode": "lines",
         "opacity": 0.2,
         "type": "scatter",
         "x": [
          0.034639743945929884,
          0.06983967868213298,
          null
         ],
         "y": [
          -0.4579426491575087,
          -0.21954903930716022,
          null
         ]
        },
        {
         "hoverinfo": "none",
         "line": {
          "color": "green",
          "width": 9.602071935779607
         },
         "mode": "lines",
         "opacity": 0.2,
         "type": "scatter",
         "x": [
          0.034639743945929884,
          0.6037182210971669,
          null
         ],
         "y": [
          -0.4579426491575087,
          -0.6751212349515828,
          null
         ]
        },
        {
         "hoverinfo": "none",
         "line": {
          "color": "yellow",
          "width": 12.200637904040128
         },
         "mode": "lines",
         "opacity": 0.2,
         "type": "scatter",
         "x": [
          0.06983967868213298,
          -0.6733323617695519,
          null
         ],
         "y": [
          -0.21954903930716022,
          -0.08294912167490408,
          null
         ]
        },
        {
         "hoverinfo": "none",
         "line": {
          "color": "yellow",
          "width": 9.428049181800347
         },
         "mode": "lines",
         "opacity": 0.2,
         "type": "scatter",
         "x": [
          0.06983967868213298,
          0.38295020859749823,
          null
         ],
         "y": [
          -0.21954903930716022,
          0.11329787072482507,
          null
         ]
        },
        {
         "hoverinfo": "none",
         "line": {
          "color": "green",
          "width": 13.011568120256458
         },
         "mode": "lines",
         "opacity": 0.2,
         "type": "scatter",
         "x": [
          0.06983967868213298,
          0.6037182210971669,
          null
         ],
         "y": [
          -0.21954903930716022,
          -0.6751212349515828,
          null
         ]
        },
        {
         "hoverinfo": "none",
         "line": {
          "color": "red",
          "width": 14.397862481376347
         },
         "mode": "lines",
         "opacity": 0.2,
         "type": "scatter",
         "x": [
          0.38295020859749823,
          0.7128711724657124,
          null
         ],
         "y": [
          0.11329787072482507,
          0.8669996884101974,
          null
         ]
        },
        {
         "hoverinfo": "none",
         "line": {
          "color": "red",
          "width": 5.354285327278267
         },
         "mode": "lines",
         "opacity": 0.2,
         "type": "scatter",
         "x": [
          0.38295020859749823,
          0.3526385305193471,
          null
         ],
         "y": [
          0.11329787072482507,
          0.6034766665753772,
          null
         ]
        },
        {
         "hoverinfo": "none",
         "line": {
          "color": "green",
          "width": 20.745021581282398
         },
         "mode": "lines",
         "opacity": 0.2,
         "type": "scatter",
         "x": [
          0.38295020859749823,
          0.9281336539579373,
          null
         ],
         "y": [
          0.11329787072482507,
          -0.24781400039225882,
          null
         ]
        },
        {
         "hoverinfo": "none",
         "line": {
          "color": "green",
          "width": 13.011568120256458
         },
         "mode": "lines",
         "opacity": 0.2,
         "type": "scatter",
         "x": [
          0.6037182210971669,
          0.9281336539579373,
          null
         ],
         "y": [
          -0.6751212349515828,
          -0.24781400039225882,
          null
         ]
        },
        {
         "hoverinfo": "text",
         "marker": {
          "color": "grey",
          "opacity": 0
         },
         "mode": "markers",
         "text": [
          "'weight': 4.254492261521733<br>'d_suspicious': 1.0<br>'colors': [0. 0. 1. 0.]",
          "'weight': 4.801035967889804<br>'d_suspicious': 1.0<br>'colors': [0. 0. 1. 0.]",
          "'weight': 7.198931240688173<br>'d_suspicious': 1.0<br>'colors': [0. 0. 0. 1.]",
          "'weight': 15.97639285634737<br>'d_suspicious': 0.6666666666666666<br>'colors': [0.         0.33333333 0.66666667 0.        ]",
          "'weight': 7.198931240688173<br>'d_suspicious': 0.0<br>'colors': [0. 1. 0. 0.]",
          "'weight': 11.564649137320131<br>'d_suspicious': 0.5<br>'colors': [0.  0.5 0.  0.5]",
          "'weight': 4.801035967889804<br>'d_suspicious': 1.0<br>'colors': [0. 0. 0. 1.]",
          "'weight': 5.001706663351954<br>'d_suspicious': 1.0<br>'colors': [0. 0. 0. 1.]",
          "'weight': 23.89045018431427<br>'d_suspicious': 0.2<br>'colors': [0.2 0.6 0.  0.2]",
          "'weight': 7.198931240688173<br>'d_suspicious': 0.0<br>'colors': [0. 1. 0. 0.]",
          "'weight': 15.779682562101318<br>'d_suspicious': 0.3333333333333333<br>'colors': [0.33333333 0.33333333 0.33333333 0.        ]",
          "'weight': 6.100318952020064<br>'d_suspicious': 0.0<br>'colors': [1. 0. 0. 0.]",
          "'weight': 25.96251161869648<br>'d_suspicious': 0.25<br>'colors': [0.25 0.5  0.25 0.  ]",
          "'weight': 8.489779543207417<br>'d_suspicious': 0.5<br>'colors': [0.5 0.  0.5 0. ]",
          "'weight': 12.606103012148292<br>'d_suspicious': 0.5<br>'colors': [0.5 0.  0.  0.5]",
          "'weight': 7.198931240688173<br>'d_suspicious': 1.0<br>'colors': [0. 0. 1. 0.]",
          "'weight': 5.8126368795682835<br>'d_suspicious': 1.0<br>'colors': [0. 0. 1. 0.]",
          "'weight': 11.178986656508147<br>'d_suspicious': 0.5<br>'colors': [0.  0.5 0.5 0. ]",
          "'weight': 9.37398196053007<br>'d_suspicious': 0.5<br>'colors': [0.  0.5 0.5 0. ]",
          "'weight': 4.801035967889804<br>'d_suspicious': 0.0<br>'colors': [1. 0. 0. 0.]",
          "'weight': 6.100318952020064<br>'d_suspicious': 0.5<br>'colors': [0.  0.5 0.  0.5]",
          "'weight': 4.7140245909001735<br>'d_suspicious': 0.0<br>'colors': [0. 1. 0. 0.]",
          "'weight': 6.505784060128229<br>'d_suspicious': 0.0<br>'colors': [1. 0. 0. 0.]",
          "'weight': 7.198931240688173<br>'d_suspicious': 1.0<br>'colors': [0. 0. 0. 1.]",
          "'weight': 2.6771426636391333<br>'d_suspicious': 1.0<br>'colors': [0. 0. 0. 1.]",
          "'weight': 10.372510790641199<br>'d_suspicious': 0.0<br>'colors': [0.5 0.5 0.  0. ]",
          "'weight': 6.505784060128229<br>'d_suspicious': 0.0<br>'colors': [1. 0. 0. 0.]"
         ],
         "type": "scatter",
         "x": [
          -0.562788345933149,
          -0.836666180884776,
          0.11353091932652459,
          -0.26404405805438363,
          0.12868675836560015,
          -0.22249549300814012,
          -0.34476656455186,
          -0.12557669186629794,
          -0.02786850659208248,
          0.03176795722375797,
          -0.36096285919622584,
          -0.4963733279597671,
          -0.5379218930060106,
          -0.4832339307399457,
          -0.18393584014826972,
          -0.6186443995034869,
          -0.2646583466457461,
          0.20879497627171406,
          0.052239711314031434,
          0.31917898252154836,
          -0.3017463415437095,
          0.2263949436398156,
          0.33677894988964996,
          0.5479106905316053,
          0.3677943695584227,
          0.6555419312777178,
          0.7659259375275521
         ],
         "y": [
          0.25674808437218455,
          0.1711871578007883,
          0.3458246990216328,
          -0.03219601640400395,
          0.10073530109635673,
          0.17178433482603223,
          -0.2142763957058712,
          0.0881727314678884,
          -0.06568815391963591,
          0.18434690445450055,
          0.05141558695413988,
          0.08622340825463598,
          -0.11775694297540018,
          -0.33464514357776354,
          -0.3052537067167025,
          -0.29983732227726745,
          -0.48733408601856976,
          -0.17232238921634183,
          -0.33874584423233445,
          -0.5665319420545458,
          -0.15124908049103214,
          -0.05312558429116757,
          -0.4473351371293715,
          0.49014877956751124,
          0.3583872686501012,
          -0.06725806483371688,
          -0.4614676176719208
         ]
        },
        {
         "hoverinfo": "text",
         "marker": {
          "color": [
           "orange",
           "yellow",
           "black",
           "black",
           "black",
           "black",
           "yellow",
           "yellow",
           "green",
           "red",
           "black",
           "green",
           "red"
          ],
          "line": {
           "color": "rgb(50,50,50)",
           "width": 0.5
          },
          "size": 50,
          "symbol": "circle-dot"
         },
         "mode": "markers",
         "name": "net",
         "text": [
          "'name':state<br>'df': 223.0<br>'pop': -3.0911830068975537<br>'rt': 1.1666666666666667<br>'fav': 1.3333333333333333<br>'color': [0.16666667 0.16666667 0.5        0.16666667]<br>'freq': 6",
          "'name':coronavirus<br>'df': 8.25925925925926<br>'pop': -2.6440287323605114<br>'rt': 1.4074074074074074<br>'fav': 3.3518518518518516<br>'color': [0.16666667 0.58024691 0.14197531 0.11111111]<br>'freq': 162",
          "'name':SUPER:britain|briton<br>'df': 41.8125<br>'pop': -3.2333900313439377<br>'rt': 0.875<br>'fav': 1.25<br>'color': [0.40625 0.4375  0.125   0.03125]<br>'freq': 32",
          "'name':china<br>'df': 13.793814432989691<br>'pop': -2.225927036999153<br>'rt': 1.8144329896907216<br>'fav': 2.216494845360825<br>'color': [0.26804124 0.3814433  0.1443299  0.20618557]<br>'freq': 97",
          "'name':u._s.<br>'df': 148.66666666666666<br>'pop': -3.2692196947862775<br>'rt': 3.6666666666666665<br>'fav': 4.0<br>'color': [0.33333333 0.11111111 0.33333333 0.22222222]<br>'freq': 9",
          "'name':SUPER:virus_outbreak|virus|infection<br>'df': 47.785714285714285<br>'pop': -2.620594208490366<br>'rt': 1.1071428571428572<br>'fav': 1.5<br>'color': [0.25       0.28571429 0.25       0.21428571]<br>'freq': 28",
          "'name':SUPER:<<NUM>>_people|<<NUM>>_day|hit_<<NUM>><br>'df': 27.875<br>'pop': -1.6578481910536393<br>'rt': 3.5<br>'fav': 4.166666666666667<br>'color': [0.33333333 0.52083333 0.08333333 0.0625    ]<br>'freq': 48",
          "'name':fear<br>'df': 58.17391304347826<br>'pop': -3.584205165334619<br>'rt': 1.0869565217391304<br>'fav': 0.6086956521739131<br>'color': [0.17391304 0.52173913 0.17391304 0.13043478]<br>'freq': 23",
          "'name':SUPER:joe_biden|japan|pakistan<br>'df': 223.0<br>'pop': -3.2602334024237734<br>'rt': 0.3333333333333333<br>'fav': 0.16666666666666666<br>'color': [0.66666667 0.33333333 0.         0.        ]<br>'freq': 6",
          "'name':insertion<br>'df': 1338.0<br>'pop': -6.0<br>'rt': 0.0<br>'fav': 0.0<br>'color': [0. 0. 0. 1.]<br>'freq': 1",
          "'name':SUPER:outbreak|virus_outbreak|epidemic<br>'df': 23.892857142857142<br>'pop': -2.577339434845998<br>'rt': 2.5<br>'fav': 2.6964285714285716<br>'color': [0.28571429 0.39285714 0.21428571 0.10714286]<br>'freq': 56",
          "'name':SUPER:cruise_ship_passenger|airline<br>'df': 70.42105263157895<br>'pop': -3.601539696229357<br>'rt': 1.2105263157894737<br>'fav': 1.368421052631579<br>'color': [0.52631579 0.36842105 0.05263158 0.05263158]<br>'freq': 19",
          "'name':bioweapon<br>'df': 669.0<br>'pop': -6.0<br>'rt': 0.0<br>'fav': 0.0<br>'color': [0. 0. 0. 1.]<br>'freq': 2"
         ],
         "type": "scatter",
         "x": [
          -1,
          -0.12557669186629794,
          -0.3194142941499823,
          -0.40251142424246933,
          -0.5639564372374221,
          0.034639743945929884,
          0.06983967868213298,
          0.38295020859749823,
          0.6037182210971669,
          0.3526385305193471,
          -0.6733323617695519,
          0.9281336539579373,
          0.7128711724657124
         ],
         "y": [
          0.4253234372764807,
          0.0881727314678884,
          0.25539593818417605,
          -0.1525647642758963,
          -0.5167255228796308,
          -0.4579426491575087,
          -0.21954903930716022,
          0.11329787072482507,
          -0.6751212349515828,
          0.6034766665753772,
          -0.08294912167490408,
          -0.24781400039225882,
          0.8669996884101974
         ]
        }
       ],
       "layout": {
        "annotations": [
         {
          "font": {
           "size": 14
          },
          "showarrow": false,
          "text": "The rumor graph",
          "x": 0,
          "xanchor": "left",
          "xref": "paper",
          "y": -0.1,
          "yanchor": "bottom",
          "yref": "paper"
         }
        ],
        "autosize": false,
        "font": {
         "size": 12
        },
        "height": 1000,
        "hovermode": "closest",
        "margin": {
         "b": 85,
         "l": 40,
         "r": 40,
         "t": 100
        },
        "showlegend": false,
        "template": {
         "data": {
          "bar": [
           {
            "error_x": {
             "color": "#2a3f5f"
            },
            "error_y": {
             "color": "#2a3f5f"
            },
            "marker": {
             "line": {
              "color": "#E5ECF6",
              "width": 0.5
             }
            },
            "type": "bar"
           }
          ],
          "barpolar": [
           {
            "marker": {
             "line": {
              "color": "#E5ECF6",
              "width": 0.5
             }
            },
            "type": "barpolar"
           }
          ],
          "carpet": [
           {
            "aaxis": {
             "endlinecolor": "#2a3f5f",
             "gridcolor": "white",
             "linecolor": "white",
             "minorgridcolor": "white",
             "startlinecolor": "#2a3f5f"
            },
            "baxis": {
             "endlinecolor": "#2a3f5f",
             "gridcolor": "white",
             "linecolor": "white",
             "minorgridcolor": "white",
             "startlinecolor": "#2a3f5f"
            },
            "type": "carpet"
           }
          ],
          "choropleth": [
           {
            "colorbar": {
             "outlinewidth": 0,
             "ticks": ""
            },
            "type": "choropleth"
           }
          ],
          "contour": [
           {
            "colorbar": {
             "outlinewidth": 0,
             "ticks": ""
            },
            "colorscale": [
             [
              0,
              "#0d0887"
             ],
             [
              0.1111111111111111,
              "#46039f"
             ],
             [
              0.2222222222222222,
              "#7201a8"
             ],
             [
              0.3333333333333333,
              "#9c179e"
             ],
             [
              0.4444444444444444,
              "#bd3786"
             ],
             [
              0.5555555555555556,
              "#d8576b"
             ],
             [
              0.6666666666666666,
              "#ed7953"
             ],
             [
              0.7777777777777778,
              "#fb9f3a"
             ],
             [
              0.8888888888888888,
              "#fdca26"
             ],
             [
              1,
              "#f0f921"
             ]
            ],
            "type": "contour"
           }
          ],
          "contourcarpet": [
           {
            "colorbar": {
             "outlinewidth": 0,
             "ticks": ""
            },
            "type": "contourcarpet"
           }
          ],
          "heatmap": [
           {
            "colorbar": {
             "outlinewidth": 0,
             "ticks": ""
            },
            "colorscale": [
             [
              0,
              "#0d0887"
             ],
             [
              0.1111111111111111,
              "#46039f"
             ],
             [
              0.2222222222222222,
              "#7201a8"
             ],
             [
              0.3333333333333333,
              "#9c179e"
             ],
             [
              0.4444444444444444,
              "#bd3786"
             ],
             [
              0.5555555555555556,
              "#d8576b"
             ],
             [
              0.6666666666666666,
              "#ed7953"
             ],
             [
              0.7777777777777778,
              "#fb9f3a"
             ],
             [
              0.8888888888888888,
              "#fdca26"
             ],
             [
              1,
              "#f0f921"
             ]
            ],
            "type": "heatmap"
           }
          ],
          "heatmapgl": [
           {
            "colorbar": {
             "outlinewidth": 0,
             "ticks": ""
            },
            "colorscale": [
             [
              0,
              "#0d0887"
             ],
             [
              0.1111111111111111,
              "#46039f"
             ],
             [
              0.2222222222222222,
              "#7201a8"
             ],
             [
              0.3333333333333333,
              "#9c179e"
             ],
             [
              0.4444444444444444,
              "#bd3786"
             ],
             [
              0.5555555555555556,
              "#d8576b"
             ],
             [
              0.6666666666666666,
              "#ed7953"
             ],
             [
              0.7777777777777778,
              "#fb9f3a"
             ],
             [
              0.8888888888888888,
              "#fdca26"
             ],
             [
              1,
              "#f0f921"
             ]
            ],
            "type": "heatmapgl"
           }
          ],
          "histogram": [
           {
            "marker": {
             "colorbar": {
              "outlinewidth": 0,
              "ticks": ""
             }
            },
            "type": "histogram"
           }
          ],
          "histogram2d": [
           {
            "colorbar": {
             "outlinewidth": 0,
             "ticks": ""
            },
            "colorscale": [
             [
              0,
              "#0d0887"
             ],
             [
              0.1111111111111111,
              "#46039f"
             ],
             [
              0.2222222222222222,
              "#7201a8"
             ],
             [
              0.3333333333333333,
              "#9c179e"
             ],
             [
              0.4444444444444444,
              "#bd3786"
             ],
             [
              0.5555555555555556,
              "#d8576b"
             ],
             [
              0.6666666666666666,
              "#ed7953"
             ],
             [
              0.7777777777777778,
              "#fb9f3a"
             ],
             [
              0.8888888888888888,
              "#fdca26"
             ],
             [
              1,
              "#f0f921"
             ]
            ],
            "type": "histogram2d"
           }
          ],
          "histogram2dcontour": [
           {
            "colorbar": {
             "outlinewidth": 0,
             "ticks": ""
            },
            "colorscale": [
             [
              0,
              "#0d0887"
             ],
             [
              0.1111111111111111,
              "#46039f"
             ],
             [
              0.2222222222222222,
              "#7201a8"
             ],
             [
              0.3333333333333333,
              "#9c179e"
             ],
             [
              0.4444444444444444,
              "#bd3786"
             ],
             [
              0.5555555555555556,
              "#d8576b"
             ],
             [
              0.6666666666666666,
              "#ed7953"
             ],
             [
              0.7777777777777778,
              "#fb9f3a"
             ],
             [
              0.8888888888888888,
              "#fdca26"
             ],
             [
              1,
              "#f0f921"
             ]
            ],
            "type": "histogram2dcontour"
           }
          ],
          "mesh3d": [
           {
            "colorbar": {
             "outlinewidth": 0,
             "ticks": ""
            },
            "type": "mesh3d"
           }
          ],
          "parcoords": [
           {
            "line": {
             "colorbar": {
              "outlinewidth": 0,
              "ticks": ""
             }
            },
            "type": "parcoords"
           }
          ],
          "pie": [
           {
            "automargin": true,
            "type": "pie"
           }
          ],
          "scatter": [
           {
            "marker": {
             "colorbar": {
              "outlinewidth": 0,
              "ticks": ""
             }
            },
            "type": "scatter"
           }
          ],
          "scatter3d": [
           {
            "line": {
             "colorbar": {
              "outlinewidth": 0,
              "ticks": ""
             }
            },
            "marker": {
             "colorbar": {
              "outlinewidth": 0,
              "ticks": ""
             }
            },
            "type": "scatter3d"
           }
          ],
          "scattercarpet": [
           {
            "marker": {
             "colorbar": {
              "outlinewidth": 0,
              "ticks": ""
             }
            },
            "type": "scattercarpet"
           }
          ],
          "scattergeo": [
           {
            "marker": {
             "colorbar": {
              "outlinewidth": 0,
              "ticks": ""
             }
            },
            "type": "scattergeo"
           }
          ],
          "scattergl": [
           {
            "marker": {
             "colorbar": {
              "outlinewidth": 0,
              "ticks": ""
             }
            },
            "type": "scattergl"
           }
          ],
          "scattermapbox": [
           {
            "marker": {
             "colorbar": {
              "outlinewidth": 0,
              "ticks": ""
             }
            },
            "type": "scattermapbox"
           }
          ],
          "scatterpolar": [
           {
            "marker": {
             "colorbar": {
              "outlinewidth": 0,
              "ticks": ""
             }
            },
            "type": "scatterpolar"
           }
          ],
          "scatterpolargl": [
           {
            "marker": {
             "colorbar": {
              "outlinewidth": 0,
              "ticks": ""
             }
            },
            "type": "scatterpolargl"
           }
          ],
          "scatterternary": [
           {
            "marker": {
             "colorbar": {
              "outlinewidth": 0,
              "ticks": ""
             }
            },
            "type": "scatterternary"
           }
          ],
          "surface": [
           {
            "colorbar": {
             "outlinewidth": 0,
             "ticks": ""
            },
            "colorscale": [
             [
              0,
              "#0d0887"
             ],
             [
              0.1111111111111111,
              "#46039f"
             ],
             [
              0.2222222222222222,
              "#7201a8"
             ],
             [
              0.3333333333333333,
              "#9c179e"
             ],
             [
              0.4444444444444444,
              "#bd3786"
             ],
             [
              0.5555555555555556,
              "#d8576b"
             ],
             [
              0.6666666666666666,
              "#ed7953"
             ],
             [
              0.7777777777777778,
              "#fb9f3a"
             ],
             [
              0.8888888888888888,
              "#fdca26"
             ],
             [
              1,
              "#f0f921"
             ]
            ],
            "type": "surface"
           }
          ],
          "table": [
           {
            "cells": {
             "fill": {
              "color": "#EBF0F8"
             },
             "line": {
              "color": "white"
             }
            },
            "header": {
             "fill": {
              "color": "#C8D4E3"
             },
             "line": {
              "color": "white"
             }
            },
            "type": "table"
           }
          ]
         },
         "layout": {
          "annotationdefaults": {
           "arrowcolor": "#2a3f5f",
           "arrowhead": 0,
           "arrowwidth": 1
          },
          "coloraxis": {
           "colorbar": {
            "outlinewidth": 0,
            "ticks": ""
           }
          },
          "colorscale": {
           "diverging": [
            [
             0,
             "#8e0152"
            ],
            [
             0.1,
             "#c51b7d"
            ],
            [
             0.2,
             "#de77ae"
            ],
            [
             0.3,
             "#f1b6da"
            ],
            [
             0.4,
             "#fde0ef"
            ],
            [
             0.5,
             "#f7f7f7"
            ],
            [
             0.6,
             "#e6f5d0"
            ],
            [
             0.7,
             "#b8e186"
            ],
            [
             0.8,
             "#7fbc41"
            ],
            [
             0.9,
             "#4d9221"
            ],
            [
             1,
             "#276419"
            ]
           ],
           "sequential": [
            [
             0,
             "#0d0887"
            ],
            [
             0.1111111111111111,
             "#46039f"
            ],
            [
             0.2222222222222222,
             "#7201a8"
            ],
            [
             0.3333333333333333,
             "#9c179e"
            ],
            [
             0.4444444444444444,
             "#bd3786"
            ],
            [
             0.5555555555555556,
             "#d8576b"
            ],
            [
             0.6666666666666666,
             "#ed7953"
            ],
            [
             0.7777777777777778,
             "#fb9f3a"
            ],
            [
             0.8888888888888888,
             "#fdca26"
            ],
            [
             1,
             "#f0f921"
            ]
           ],
           "sequentialminus": [
            [
             0,
             "#0d0887"
            ],
            [
             0.1111111111111111,
             "#46039f"
            ],
            [
             0.2222222222222222,
             "#7201a8"
            ],
            [
             0.3333333333333333,
             "#9c179e"
            ],
            [
             0.4444444444444444,
             "#bd3786"
            ],
            [
             0.5555555555555556,
             "#d8576b"
            ],
            [
             0.6666666666666666,
             "#ed7953"
            ],
            [
             0.7777777777777778,
             "#fb9f3a"
            ],
            [
             0.8888888888888888,
             "#fdca26"
            ],
            [
             1,
             "#f0f921"
            ]
           ]
          },
          "colorway": [
           "#636efa",
           "#EF553B",
           "#00cc96",
           "#ab63fa",
           "#FFA15A",
           "#19d3f3",
           "#FF6692",
           "#B6E880",
           "#FF97FF",
           "#FECB52"
          ],
          "font": {
           "color": "#2a3f5f"
          },
          "geo": {
           "bgcolor": "white",
           "lakecolor": "white",
           "landcolor": "#E5ECF6",
           "showlakes": true,
           "showland": true,
           "subunitcolor": "white"
          },
          "hoverlabel": {
           "align": "left"
          },
          "hovermode": "closest",
          "mapbox": {
           "style": "light"
          },
          "paper_bgcolor": "white",
          "plot_bgcolor": "#E5ECF6",
          "polar": {
           "angularaxis": {
            "gridcolor": "white",
            "linecolor": "white",
            "ticks": ""
           },
           "bgcolor": "#E5ECF6",
           "radialaxis": {
            "gridcolor": "white",
            "linecolor": "white",
            "ticks": ""
           }
          },
          "scene": {
           "xaxis": {
            "backgroundcolor": "#E5ECF6",
            "gridcolor": "white",
            "gridwidth": 2,
            "linecolor": "white",
            "showbackground": true,
            "ticks": "",
            "zerolinecolor": "white"
           },
           "yaxis": {
            "backgroundcolor": "#E5ECF6",
            "gridcolor": "white",
            "gridwidth": 2,
            "linecolor": "white",
            "showbackground": true,
            "ticks": "",
            "zerolinecolor": "white"
           },
           "zaxis": {
            "backgroundcolor": "#E5ECF6",
            "gridcolor": "white",
            "gridwidth": 2,
            "linecolor": "white",
            "showbackground": true,
            "ticks": "",
            "zerolinecolor": "white"
           }
          },
          "shapedefaults": {
           "line": {
            "color": "#2a3f5f"
           }
          },
          "ternary": {
           "aaxis": {
            "gridcolor": "white",
            "linecolor": "white",
            "ticks": ""
           },
           "baxis": {
            "gridcolor": "white",
            "linecolor": "white",
            "ticks": ""
           },
           "bgcolor": "#E5ECF6",
           "caxis": {
            "gridcolor": "white",
            "linecolor": "white",
            "ticks": ""
           }
          },
          "title": {
           "x": 0.05
          },
          "xaxis": {
           "automargin": true,
           "gridcolor": "white",
           "linecolor": "white",
           "ticks": "",
           "title": {
            "standoff": 15
           },
           "zerolinecolor": "white",
           "zerolinewidth": 2
          },
          "yaxis": {
           "automargin": true,
           "gridcolor": "white",
           "linecolor": "white",
           "ticks": "",
           "title": {
            "standoff": 15
           },
           "zerolinecolor": "white",
           "zerolinewidth": 2
          }
         }
        },
        "title": {
         "text": "The rumor graph of bioweapon at week 5"
        },
        "width": 1000,
        "xaxis": {
         "showgrid": false,
         "showline": false,
         "showticklabels": false,
         "title": {
          "text": ""
         },
         "zeroline": false
        },
        "yaxis": {
         "showgrid": false,
         "showline": false,
         "showticklabels": false,
         "title": {
          "text": ""
         },
         "zeroline": false
        }
       }
      },
      "text/html": [
       "<div>\n",
       "        \n",
       "        \n",
       "            <div id=\"81a15688-a0e5-45ab-b07e-294c9305532a\" class=\"plotly-graph-div\" style=\"height:1000px; width:1000px;\"></div>\n",
       "            <script type=\"text/javascript\">\n",
       "                require([\"plotly\"], function(Plotly) {\n",
       "                    window.PLOTLYENV=window.PLOTLYENV || {};\n",
       "                    \n",
       "                if (document.getElementById(\"81a15688-a0e5-45ab-b07e-294c9305532a\")) {\n",
       "                    Plotly.newPlot(\n",
       "                        '81a15688-a0e5-45ab-b07e-294c9305532a',\n",
       "                        [{\"hoverinfo\": \"none\", \"line\": {\"color\": \"black\", \"width\": 2}, \"mode\": \"lines\", \"opacity\": 1, \"type\": \"scatter\", \"x\": [-0.6733323617695519, -0.3194142941499823, null], \"y\": [-0.08294912167490408, 0.25539593818417605, null]}, {\"hoverinfo\": \"none\", \"line\": {\"color\": \"black\", \"width\": 2}, \"mode\": \"lines\", \"opacity\": 1, \"type\": \"scatter\", \"x\": [-0.3194142941499823, 0.38295020859749823, null], \"y\": [0.25539593818417605, 0.11329787072482507, null]}, {\"hoverinfo\": \"none\", \"line\": {\"color\": \"black\", \"width\": 2}, \"mode\": \"lines\", \"opacity\": 1, \"type\": \"scatter\", \"x\": [0.38295020859749823, 0.7128711724657124, null], \"y\": [0.11329787072482507, 0.8669996884101974, null]}, {\"hoverinfo\": \"text\", \"marker\": {\"color\": \"grey\", \"opacity\": 0}, \"mode\": \"markers\", \"text\": [\"\", \"\", \"\"], \"type\": \"scatter\", \"x\": [-0.4963733279597671, 0.03176795722375797, 0.5479106905316053], \"y\": [0.08622340825463598, 0.18434690445450055, 0.49014877956751124]}, {\"hoverinfo\": \"none\", \"line\": {\"color\": \"purple\", \"width\": 2}, \"mode\": \"lines\", \"opacity\": 1, \"type\": \"scatter\", \"x\": [-0.6733323617695519, -0.5639564372374221, null], \"y\": [-0.08294912167490408, -0.5167255228796308, null]}, {\"hoverinfo\": \"none\", \"line\": {\"color\": \"purple\", \"width\": 2}, \"mode\": \"lines\", \"opacity\": 1, \"type\": \"scatter\", \"x\": [-0.5639564372374221, -0.12557669186629794, null], \"y\": [-0.5167255228796308, 0.0881727314678884, null]}, {\"hoverinfo\": \"none\", \"line\": {\"color\": \"purple\", \"width\": 2}, \"mode\": \"lines\", \"opacity\": 1, \"type\": \"scatter\", \"x\": [-0.12557669186629794, 0.3526385305193471, null], \"y\": [0.0881727314678884, 0.6034766665753772, null]}, {\"hoverinfo\": \"none\", \"line\": {\"color\": \"purple\", \"width\": 2}, \"mode\": \"lines\", \"opacity\": 1, \"type\": \"scatter\", \"x\": [0.3526385305193471, 0.38295020859749823, null], \"y\": [0.6034766665753772, 0.11329787072482507, null]}, {\"hoverinfo\": \"none\", \"line\": {\"color\": \"purple\", \"width\": 2}, \"mode\": \"lines\", \"opacity\": 1, \"type\": \"scatter\", \"x\": [0.38295020859749823, 0.7128711724657124, null], \"y\": [0.11329787072482507, 0.8669996884101974, null]}, {\"hoverinfo\": \"text\", \"marker\": {\"color\": \"grey\", \"opacity\": 0}, \"mode\": \"markers\", \"text\": [\"\", \"\", \"\", \"\", \"\"], \"type\": \"scatter\", \"x\": [-0.6186443995034869, -0.34476656455186, 0.11353091932652459, 0.3677943695584227, 0.5479106905316053], \"y\": [-0.29983732227726745, -0.2142763957058712, 0.3458246990216328, 0.3583872686501012, 0.49014877956751124]}, {\"hoverinfo\": \"none\", \"line\": {\"color\": \"green\", \"width\": 2}, \"mode\": \"lines\", \"opacity\": 1, \"type\": \"scatter\", \"x\": [-0.6733323617695519, -0.3194142941499823, null], \"y\": [-0.08294912167490408, 0.25539593818417605, null]}, {\"hoverinfo\": \"none\", \"line\": {\"color\": \"green\", \"width\": 2}, \"mode\": \"lines\", \"opacity\": 1, \"type\": \"scatter\", \"x\": [-0.3194142941499823, 0.38295020859749823, null], \"y\": [0.25539593818417605, 0.11329787072482507, null]}, {\"hoverinfo\": \"none\", \"line\": {\"color\": \"green\", \"width\": 2}, \"mode\": \"lines\", \"opacity\": 1, \"type\": \"scatter\", \"x\": [0.38295020859749823, 0.7128711724657124, null], \"y\": [0.11329787072482507, 0.8669996884101974, null]}, {\"hoverinfo\": \"text\", \"marker\": {\"color\": \"grey\", \"opacity\": 0}, \"mode\": \"markers\", \"text\": [\"\", \"\", \"\"], \"type\": \"scatter\", \"x\": [-0.4963733279597671, 0.03176795722375797, 0.5479106905316053], \"y\": [0.08622340825463598, 0.18434690445450055, 0.49014877956751124]}, {\"hoverinfo\": \"none\", \"line\": {\"color\": \"black\", \"width\": 2}, \"mode\": \"lines\", \"opacity\": 1, \"type\": \"scatter\", \"x\": [-0.12557669186629794, 0.38295020859749823, null], \"y\": [0.0881727314678884, 0.11329787072482507, null]}, {\"hoverinfo\": \"none\", \"line\": {\"color\": \"black\", \"width\": 2}, \"mode\": \"lines\", \"opacity\": 1, \"type\": \"scatter\", \"x\": [0.38295020859749823, 0.7128711724657124, null], \"y\": [0.11329787072482507, 0.8669996884101974, null]}, {\"hoverinfo\": \"text\", \"marker\": {\"color\": \"grey\", \"opacity\": 0}, \"mode\": \"markers\", \"text\": [\"\", \"\"], \"type\": \"scatter\", \"x\": [0.12868675836560015, 0.5479106905316053], \"y\": [0.10073530109635673, 0.49014877956751124]}, {\"hoverinfo\": \"none\", \"line\": {\"color\": \"purple\", \"width\": 2}, \"mode\": \"lines\", \"opacity\": 1, \"type\": \"scatter\", \"x\": [-0.12557669186629794, 0.3526385305193471, null], \"y\": [0.0881727314678884, 0.6034766665753772, null]}, {\"hoverinfo\": \"none\", \"line\": {\"color\": \"purple\", \"width\": 2}, \"mode\": \"lines\", \"opacity\": 1, \"type\": \"scatter\", \"x\": [0.3526385305193471, 0.38295020859749823, null], \"y\": [0.6034766665753772, 0.11329787072482507, null]}, {\"hoverinfo\": \"none\", \"line\": {\"color\": \"purple\", \"width\": 2}, \"mode\": \"lines\", \"opacity\": 1, \"type\": \"scatter\", \"x\": [0.38295020859749823, 0.7128711724657124, null], \"y\": [0.11329787072482507, 0.8669996884101974, null]}, {\"hoverinfo\": \"text\", \"marker\": {\"color\": \"grey\", \"opacity\": 0}, \"mode\": \"markers\", \"text\": [\"\", \"\", \"\"], \"type\": \"scatter\", \"x\": [0.11353091932652459, 0.3677943695584227, 0.5479106905316053], \"y\": [0.3458246990216328, 0.3583872686501012, 0.49014877956751124]}, {\"hoverinfo\": \"none\", \"line\": {\"color\": \"green\", \"width\": 2}, \"mode\": \"lines\", \"opacity\": 1, \"type\": \"scatter\", \"x\": [-0.12557669186629794, 0.38295020859749823, null], \"y\": [0.0881727314678884, 0.11329787072482507, null]}, {\"hoverinfo\": \"none\", \"line\": {\"color\": \"green\", \"width\": 2}, \"mode\": \"lines\", \"opacity\": 1, \"type\": \"scatter\", \"x\": [0.38295020859749823, 0.7128711724657124, null], \"y\": [0.11329787072482507, 0.8669996884101974, null]}, {\"hoverinfo\": \"text\", \"marker\": {\"color\": \"grey\", \"opacity\": 0}, \"mode\": \"markers\", \"text\": [\"\", \"\"], \"type\": \"scatter\", \"x\": [0.12868675836560015, 0.5479106905316053], \"y\": [0.10073530109635673, 0.49014877956751124]}, {\"hoverinfo\": \"none\", \"line\": {\"color\": \"black\", \"width\": 2}, \"mode\": \"lines\", \"opacity\": 1, \"type\": \"scatter\", \"x\": [0.034639743945929884, 0.38295020859749823, null], \"y\": [-0.4579426491575087, 0.11329787072482507, null]}, {\"hoverinfo\": \"none\", \"line\": {\"color\": \"black\", \"width\": 2}, \"mode\": \"lines\", \"opacity\": 1, \"type\": \"scatter\", \"x\": [0.38295020859749823, 0.7128711724657124, null], \"y\": [0.11329787072482507, 0.8669996884101974, null]}, {\"hoverinfo\": \"text\", \"marker\": {\"color\": \"grey\", \"opacity\": 0}, \"mode\": \"markers\", \"text\": [\"\", \"\"], \"type\": \"scatter\", \"x\": [0.20879497627171406, 0.5479106905316053], \"y\": [-0.17232238921634183, 0.49014877956751124]}, {\"hoverinfo\": \"none\", \"line\": {\"color\": \"purple\", \"width\": 2}, \"mode\": \"lines\", \"opacity\": 1, \"type\": \"scatter\", \"x\": [0.034639743945929884, -0.5639564372374221, null], \"y\": [-0.4579426491575087, -0.5167255228796308, null]}, {\"hoverinfo\": \"none\", \"line\": {\"color\": \"purple\", \"width\": 2}, \"mode\": \"lines\", \"opacity\": 1, \"type\": \"scatter\", \"x\": [-0.5639564372374221, -0.12557669186629794, null], \"y\": [-0.5167255228796308, 0.0881727314678884, null]}, {\"hoverinfo\": \"none\", \"line\": {\"color\": \"purple\", \"width\": 2}, \"mode\": \"lines\", \"opacity\": 1, \"type\": \"scatter\", \"x\": [-0.12557669186629794, 0.3526385305193471, null], \"y\": [0.0881727314678884, 0.6034766665753772, null]}, {\"hoverinfo\": \"none\", \"line\": {\"color\": \"purple\", \"width\": 2}, \"mode\": \"lines\", \"opacity\": 1, \"type\": \"scatter\", \"x\": [0.3526385305193471, 0.38295020859749823, null], \"y\": [0.6034766665753772, 0.11329787072482507, null]}, {\"hoverinfo\": \"none\", \"line\": {\"color\": \"purple\", \"width\": 2}, \"mode\": \"lines\", \"opacity\": 1, \"type\": \"scatter\", \"x\": [0.38295020859749823, 0.7128711724657124, null], \"y\": [0.11329787072482507, 0.8669996884101974, null]}, {\"hoverinfo\": \"text\", \"marker\": {\"color\": \"grey\", \"opacity\": 0}, \"mode\": \"markers\", \"text\": [\"\", \"\", \"\", \"\", \"\"], \"type\": \"scatter\", \"x\": [-0.2646583466457461, -0.34476656455186, 0.11353091932652459, 0.3677943695584227, 0.5479106905316053], \"y\": [-0.48733408601856976, -0.2142763957058712, 0.3458246990216328, 0.3583872686501012, 0.49014877956751124]}, {\"hoverinfo\": \"none\", \"line\": {\"color\": \"green\", \"width\": 2}, \"mode\": \"lines\", \"opacity\": 1, \"type\": \"scatter\", \"x\": [0.034639743945929884, 0.6037182210971669, null], \"y\": [-0.4579426491575087, -0.6751212349515828, null]}, {\"hoverinfo\": \"none\", \"line\": {\"color\": \"green\", \"width\": 2}, \"mode\": \"lines\", \"opacity\": 1, \"type\": \"scatter\", \"x\": [0.6037182210971669, 0.9281336539579373, null], \"y\": [-0.6751212349515828, -0.24781400039225882, null]}, {\"hoverinfo\": \"none\", \"line\": {\"color\": \"green\", \"width\": 2}, \"mode\": \"lines\", \"opacity\": 1, \"type\": \"scatter\", \"x\": [0.9281336539579373, 0.38295020859749823, null], \"y\": [-0.24781400039225882, 0.11329787072482507, null]}, {\"hoverinfo\": \"none\", \"line\": {\"color\": \"green\", \"width\": 2}, \"mode\": \"lines\", \"opacity\": 1, \"type\": \"scatter\", \"x\": [0.38295020859749823, 0.7128711724657124, null], \"y\": [0.11329787072482507, 0.8669996884101974, null]}, {\"hoverinfo\": \"text\", \"marker\": {\"color\": \"grey\", \"opacity\": 0}, \"mode\": \"markers\", \"text\": [\"\", \"\", \"\", \"\"], \"type\": \"scatter\", \"x\": [0.31917898252154836, 0.7659259375275521, 0.6555419312777178, 0.5479106905316053], \"y\": [-0.5665319420545458, -0.4614676176719208, -0.06725806483371688, 0.49014877956751124]}, {\"hoverinfo\": \"none\", \"line\": {\"color\": \"orange\", \"width\": 8.508984523043466}, \"mode\": \"lines\", \"opacity\": 0.2, \"type\": \"scatter\", \"x\": [-1.0, -0.12557669186629794, null], \"y\": [0.4253234372764807, 0.0881727314678884, null]}, {\"hoverinfo\": \"none\", \"line\": {\"color\": \"orange\", \"width\": 9.602071935779607}, \"mode\": \"lines\", \"opacity\": 0.2, \"type\": \"scatter\", \"x\": [-1.0, -0.6733323617695519, null], \"y\": [0.4253234372764807, -0.08294912167490408, null]}, {\"hoverinfo\": \"none\", \"line\": {\"color\": \"red\", \"width\": 14.397862481376347}, \"mode\": \"lines\", \"opacity\": 0.2, \"type\": \"scatter\", \"x\": [-0.12557669186629794, 0.3526385305193471, null], \"y\": [0.0881727314678884, 0.6034766665753772, null]}, {\"hoverinfo\": \"none\", \"line\": {\"color\": \"orange\", \"width\": 31.95278571269474}, \"mode\": \"lines\", \"opacity\": 0.2, \"type\": \"scatter\", \"x\": [-0.12557669186629794, -0.40251142424246933, null], \"y\": [0.0881727314678884, -0.1525647642758963, null]}, {\"hoverinfo\": \"none\", \"line\": {\"color\": \"yellow\", \"width\": 14.397862481376347}, \"mode\": \"lines\", \"opacity\": 0.2, \"type\": \"scatter\", \"x\": [-0.12557669186629794, 0.38295020859749823, null], \"y\": [0.0881727314678884, 0.11329787072482507, null]}, {\"hoverinfo\": \"none\", \"line\": {\"color\": \"yellow\", \"width\": 23.129298274640263}, \"mode\": \"lines\", \"opacity\": 0.2, \"type\": \"scatter\", \"x\": [-0.12557669186629794, -0.3194142941499823, null], \"y\": [0.0881727314678884, 0.25539593818417605, null]}, {\"hoverinfo\": \"none\", \"line\": {\"color\": \"red\", \"width\": 9.602071935779607}, \"mode\": \"lines\", \"opacity\": 0.2, \"type\": \"scatter\", \"x\": [-0.12557669186629794, -0.5639564372374221, null], \"y\": [0.0881727314678884, -0.5167255228796308, null]}, {\"hoverinfo\": \"none\", \"line\": {\"color\": \"red\", \"width\": 10.003413326703908}, \"mode\": \"lines\", \"opacity\": 0.2, \"type\": \"scatter\", \"x\": [-0.12557669186629794, -0.12557669186629794, null], \"y\": [0.0881727314678884, 0.0881727314678884, null]}, {\"hoverinfo\": \"none\", \"line\": {\"color\": \"yellow\", \"width\": 47.78090036862854}, \"mode\": \"lines\", \"opacity\": 0.2, \"type\": \"scatter\", \"x\": [-0.12557669186629794, 0.06983967868213298, null], \"y\": [0.0881727314678884, -0.21954903930716022, null]}, {\"hoverinfo\": \"none\", \"line\": {\"color\": \"yellow\", \"width\": 14.397862481376347}, \"mode\": \"lines\", \"opacity\": 0.2, \"type\": \"scatter\", \"x\": [-0.3194142941499823, 0.38295020859749823, null], \"y\": [0.25539593818417605, 0.11329787072482507, null]}, {\"hoverinfo\": \"none\", \"line\": {\"color\": \"black\", \"width\": 31.559365124202635}, \"mode\": \"lines\", \"opacity\": 0.2, \"type\": \"scatter\", \"x\": [-0.3194142941499823, -0.40251142424246933, null], \"y\": [0.25539593818417605, -0.1525647642758963, null]}, {\"hoverinfo\": \"none\", \"line\": {\"color\": \"green\", \"width\": 12.200637904040128}, \"mode\": \"lines\", \"opacity\": 0.2, \"type\": \"scatter\", \"x\": [-0.3194142941499823, -0.6733323617695519, null], \"y\": [0.25539593818417605, -0.08294912167490408, null]}, {\"hoverinfo\": \"none\", \"line\": {\"color\": \"yellow\", \"width\": 51.92502323739296}, \"mode\": \"lines\", \"opacity\": 0.2, \"type\": \"scatter\", \"x\": [-0.40251142424246933, -0.6733323617695519, null], \"y\": [-0.1525647642758963, -0.08294912167490408, null]}, {\"hoverinfo\": \"none\", \"line\": {\"color\": \"green\", \"width\": 16.979559086414834}, \"mode\": \"lines\", \"opacity\": 0.2, \"type\": \"scatter\", \"x\": [-0.40251142424246933, -0.5639564372374221, null], \"y\": [-0.1525647642758963, -0.5167255228796308, null]}, {\"hoverinfo\": \"none\", \"line\": {\"color\": \"green\", \"width\": 25.212206024296584}, \"mode\": \"lines\", \"opacity\": 0.2, \"type\": \"scatter\", \"x\": [-0.40251142424246933, 0.034639743945929884, null], \"y\": [-0.1525647642758963, -0.4579426491575087, null]}, {\"hoverinfo\": \"none\", \"line\": {\"color\": \"orange\", \"width\": 14.397862481376347}, \"mode\": \"lines\", \"opacity\": 0.2, \"type\": \"scatter\", \"x\": [-0.5639564372374221, -0.6733323617695519, null], \"y\": [-0.5167255228796308, -0.08294912167490408, null]}, {\"hoverinfo\": \"none\", \"line\": {\"color\": \"orange\", \"width\": 11.625273759136567}, \"mode\": \"lines\", \"opacity\": 0.2, \"type\": \"scatter\", \"x\": [-0.5639564372374221, 0.034639743945929884, null], \"y\": [-0.5167255228796308, -0.4579426491575087, null]}, {\"hoverinfo\": \"none\", \"line\": {\"color\": \"yellow\", \"width\": 22.357973313016295}, \"mode\": \"lines\", \"opacity\": 0.2, \"type\": \"scatter\", \"x\": [0.034639743945929884, 0.38295020859749823, null], \"y\": [-0.4579426491575087, 0.11329787072482507, null]}, {\"hoverinfo\": \"none\", \"line\": {\"color\": \"yellow\", \"width\": 18.74796392106014}, \"mode\": \"lines\", \"opacity\": 0.2, \"type\": \"scatter\", \"x\": [0.034639743945929884, 0.06983967868213298, null], \"y\": [-0.4579426491575087, -0.21954903930716022, null]}, {\"hoverinfo\": \"none\", \"line\": {\"color\": \"green\", \"width\": 9.602071935779607}, \"mode\": \"lines\", \"opacity\": 0.2, \"type\": \"scatter\", \"x\": [0.034639743945929884, 0.6037182210971669, null], \"y\": [-0.4579426491575087, -0.6751212349515828, null]}, {\"hoverinfo\": \"none\", \"line\": {\"color\": \"yellow\", \"width\": 12.200637904040128}, \"mode\": \"lines\", \"opacity\": 0.2, \"type\": \"scatter\", \"x\": [0.06983967868213298, -0.6733323617695519, null], \"y\": [-0.21954903930716022, -0.08294912167490408, null]}, {\"hoverinfo\": \"none\", \"line\": {\"color\": \"yellow\", \"width\": 9.428049181800347}, \"mode\": \"lines\", \"opacity\": 0.2, \"type\": \"scatter\", \"x\": [0.06983967868213298, 0.38295020859749823, null], \"y\": [-0.21954903930716022, 0.11329787072482507, null]}, {\"hoverinfo\": \"none\", \"line\": {\"color\": \"green\", \"width\": 13.011568120256458}, \"mode\": \"lines\", \"opacity\": 0.2, \"type\": \"scatter\", \"x\": [0.06983967868213298, 0.6037182210971669, null], \"y\": [-0.21954903930716022, -0.6751212349515828, null]}, {\"hoverinfo\": \"none\", \"line\": {\"color\": \"red\", \"width\": 14.397862481376347}, \"mode\": \"lines\", \"opacity\": 0.2, \"type\": \"scatter\", \"x\": [0.38295020859749823, 0.7128711724657124, null], \"y\": [0.11329787072482507, 0.8669996884101974, null]}, {\"hoverinfo\": \"none\", \"line\": {\"color\": \"red\", \"width\": 5.354285327278267}, \"mode\": \"lines\", \"opacity\": 0.2, \"type\": \"scatter\", \"x\": [0.38295020859749823, 0.3526385305193471, null], \"y\": [0.11329787072482507, 0.6034766665753772, null]}, {\"hoverinfo\": \"none\", \"line\": {\"color\": \"green\", \"width\": 20.745021581282398}, \"mode\": \"lines\", \"opacity\": 0.2, \"type\": \"scatter\", \"x\": [0.38295020859749823, 0.9281336539579373, null], \"y\": [0.11329787072482507, -0.24781400039225882, null]}, {\"hoverinfo\": \"none\", \"line\": {\"color\": \"green\", \"width\": 13.011568120256458}, \"mode\": \"lines\", \"opacity\": 0.2, \"type\": \"scatter\", \"x\": [0.6037182210971669, 0.9281336539579373, null], \"y\": [-0.6751212349515828, -0.24781400039225882, null]}, {\"hoverinfo\": \"text\", \"marker\": {\"color\": \"grey\", \"opacity\": 0}, \"mode\": \"markers\", \"text\": [\"'weight': 4.254492261521733<br>'d_suspicious': 1.0<br>'colors': [0. 0. 1. 0.]\", \"'weight': 4.801035967889804<br>'d_suspicious': 1.0<br>'colors': [0. 0. 1. 0.]\", \"'weight': 7.198931240688173<br>'d_suspicious': 1.0<br>'colors': [0. 0. 0. 1.]\", \"'weight': 15.97639285634737<br>'d_suspicious': 0.6666666666666666<br>'colors': [0.         0.33333333 0.66666667 0.        ]\", \"'weight': 7.198931240688173<br>'d_suspicious': 0.0<br>'colors': [0. 1. 0. 0.]\", \"'weight': 11.564649137320131<br>'d_suspicious': 0.5<br>'colors': [0.  0.5 0.  0.5]\", \"'weight': 4.801035967889804<br>'d_suspicious': 1.0<br>'colors': [0. 0. 0. 1.]\", \"'weight': 5.001706663351954<br>'d_suspicious': 1.0<br>'colors': [0. 0. 0. 1.]\", \"'weight': 23.89045018431427<br>'d_suspicious': 0.2<br>'colors': [0.2 0.6 0.  0.2]\", \"'weight': 7.198931240688173<br>'d_suspicious': 0.0<br>'colors': [0. 1. 0. 0.]\", \"'weight': 15.779682562101318<br>'d_suspicious': 0.3333333333333333<br>'colors': [0.33333333 0.33333333 0.33333333 0.        ]\", \"'weight': 6.100318952020064<br>'d_suspicious': 0.0<br>'colors': [1. 0. 0. 0.]\", \"'weight': 25.96251161869648<br>'d_suspicious': 0.25<br>'colors': [0.25 0.5  0.25 0.  ]\", \"'weight': 8.489779543207417<br>'d_suspicious': 0.5<br>'colors': [0.5 0.  0.5 0. ]\", \"'weight': 12.606103012148292<br>'d_suspicious': 0.5<br>'colors': [0.5 0.  0.  0.5]\", \"'weight': 7.198931240688173<br>'d_suspicious': 1.0<br>'colors': [0. 0. 1. 0.]\", \"'weight': 5.8126368795682835<br>'d_suspicious': 1.0<br>'colors': [0. 0. 1. 0.]\", \"'weight': 11.178986656508147<br>'d_suspicious': 0.5<br>'colors': [0.  0.5 0.5 0. ]\", \"'weight': 9.37398196053007<br>'d_suspicious': 0.5<br>'colors': [0.  0.5 0.5 0. ]\", \"'weight': 4.801035967889804<br>'d_suspicious': 0.0<br>'colors': [1. 0. 0. 0.]\", \"'weight': 6.100318952020064<br>'d_suspicious': 0.5<br>'colors': [0.  0.5 0.  0.5]\", \"'weight': 4.7140245909001735<br>'d_suspicious': 0.0<br>'colors': [0. 1. 0. 0.]\", \"'weight': 6.505784060128229<br>'d_suspicious': 0.0<br>'colors': [1. 0. 0. 0.]\", \"'weight': 7.198931240688173<br>'d_suspicious': 1.0<br>'colors': [0. 0. 0. 1.]\", \"'weight': 2.6771426636391333<br>'d_suspicious': 1.0<br>'colors': [0. 0. 0. 1.]\", \"'weight': 10.372510790641199<br>'d_suspicious': 0.0<br>'colors': [0.5 0.5 0.  0. ]\", \"'weight': 6.505784060128229<br>'d_suspicious': 0.0<br>'colors': [1. 0. 0. 0.]\"], \"type\": \"scatter\", \"x\": [-0.562788345933149, -0.836666180884776, 0.11353091932652459, -0.26404405805438363, 0.12868675836560015, -0.22249549300814012, -0.34476656455186, -0.12557669186629794, -0.02786850659208248, 0.03176795722375797, -0.36096285919622584, -0.4963733279597671, -0.5379218930060106, -0.4832339307399457, -0.18393584014826972, -0.6186443995034869, -0.2646583466457461, 0.20879497627171406, 0.052239711314031434, 0.31917898252154836, -0.3017463415437095, 0.2263949436398156, 0.33677894988964996, 0.5479106905316053, 0.3677943695584227, 0.6555419312777178, 0.7659259375275521], \"y\": [0.25674808437218455, 0.1711871578007883, 0.3458246990216328, -0.03219601640400395, 0.10073530109635673, 0.17178433482603223, -0.2142763957058712, 0.0881727314678884, -0.06568815391963591, 0.18434690445450055, 0.05141558695413988, 0.08622340825463598, -0.11775694297540018, -0.33464514357776354, -0.3052537067167025, -0.29983732227726745, -0.48733408601856976, -0.17232238921634183, -0.33874584423233445, -0.5665319420545458, -0.15124908049103214, -0.05312558429116757, -0.4473351371293715, 0.49014877956751124, 0.3583872686501012, -0.06725806483371688, -0.4614676176719208]}, {\"hoverinfo\": \"text\", \"marker\": {\"color\": [\"orange\", \"yellow\", \"black\", \"black\", \"black\", \"black\", \"yellow\", \"yellow\", \"green\", \"red\", \"black\", \"green\", \"red\"], \"line\": {\"color\": \"rgb(50,50,50)\", \"width\": 0.5}, \"size\": 50, \"symbol\": \"circle-dot\"}, \"mode\": \"markers\", \"name\": \"net\", \"text\": [\"'name':state<br>'df': 223.0<br>'pop': -3.0911830068975537<br>'rt': 1.1666666666666667<br>'fav': 1.3333333333333333<br>'color': [0.16666667 0.16666667 0.5        0.16666667]<br>'freq': 6\", \"'name':coronavirus<br>'df': 8.25925925925926<br>'pop': -2.6440287323605114<br>'rt': 1.4074074074074074<br>'fav': 3.3518518518518516<br>'color': [0.16666667 0.58024691 0.14197531 0.11111111]<br>'freq': 162\", \"'name':SUPER:britain|briton<br>'df': 41.8125<br>'pop': -3.2333900313439377<br>'rt': 0.875<br>'fav': 1.25<br>'color': [0.40625 0.4375  0.125   0.03125]<br>'freq': 32\", \"'name':china<br>'df': 13.793814432989691<br>'pop': -2.225927036999153<br>'rt': 1.8144329896907216<br>'fav': 2.216494845360825<br>'color': [0.26804124 0.3814433  0.1443299  0.20618557]<br>'freq': 97\", \"'name':u._s.<br>'df': 148.66666666666666<br>'pop': -3.2692196947862775<br>'rt': 3.6666666666666665<br>'fav': 4.0<br>'color': [0.33333333 0.11111111 0.33333333 0.22222222]<br>'freq': 9\", \"'name':SUPER:virus_outbreak|virus|infection<br>'df': 47.785714285714285<br>'pop': -2.620594208490366<br>'rt': 1.1071428571428572<br>'fav': 1.5<br>'color': [0.25       0.28571429 0.25       0.21428571]<br>'freq': 28\", \"'name':SUPER:<<NUM>>_people|<<NUM>>_day|hit_<<NUM>><br>'df': 27.875<br>'pop': -1.6578481910536393<br>'rt': 3.5<br>'fav': 4.166666666666667<br>'color': [0.33333333 0.52083333 0.08333333 0.0625    ]<br>'freq': 48\", \"'name':fear<br>'df': 58.17391304347826<br>'pop': -3.584205165334619<br>'rt': 1.0869565217391304<br>'fav': 0.6086956521739131<br>'color': [0.17391304 0.52173913 0.17391304 0.13043478]<br>'freq': 23\", \"'name':SUPER:joe_biden|japan|pakistan<br>'df': 223.0<br>'pop': -3.2602334024237734<br>'rt': 0.3333333333333333<br>'fav': 0.16666666666666666<br>'color': [0.66666667 0.33333333 0.         0.        ]<br>'freq': 6\", \"'name':insertion<br>'df': 1338.0<br>'pop': -6.0<br>'rt': 0.0<br>'fav': 0.0<br>'color': [0. 0. 0. 1.]<br>'freq': 1\", \"'name':SUPER:outbreak|virus_outbreak|epidemic<br>'df': 23.892857142857142<br>'pop': -2.577339434845998<br>'rt': 2.5<br>'fav': 2.6964285714285716<br>'color': [0.28571429 0.39285714 0.21428571 0.10714286]<br>'freq': 56\", \"'name':SUPER:cruise_ship_passenger|airline<br>'df': 70.42105263157895<br>'pop': -3.601539696229357<br>'rt': 1.2105263157894737<br>'fav': 1.368421052631579<br>'color': [0.52631579 0.36842105 0.05263158 0.05263158]<br>'freq': 19\", \"'name':bioweapon<br>'df': 669.0<br>'pop': -6.0<br>'rt': 0.0<br>'fav': 0.0<br>'color': [0. 0. 0. 1.]<br>'freq': 2\"], \"type\": \"scatter\", \"x\": [-1.0, -0.12557669186629794, -0.3194142941499823, -0.40251142424246933, -0.5639564372374221, 0.034639743945929884, 0.06983967868213298, 0.38295020859749823, 0.6037182210971669, 0.3526385305193471, -0.6733323617695519, 0.9281336539579373, 0.7128711724657124], \"y\": [0.4253234372764807, 0.0881727314678884, 0.25539593818417605, -0.1525647642758963, -0.5167255228796308, -0.4579426491575087, -0.21954903930716022, 0.11329787072482507, -0.6751212349515828, 0.6034766665753772, -0.08294912167490408, -0.24781400039225882, 0.8669996884101974]}],\n",
       "                        {\"annotations\": [{\"font\": {\"size\": 14}, \"showarrow\": false, \"text\": \"The rumor graph\", \"x\": 0, \"xanchor\": \"left\", \"xref\": \"paper\", \"y\": -0.1, \"yanchor\": \"bottom\", \"yref\": \"paper\"}], \"autosize\": false, \"font\": {\"size\": 12}, \"height\": 1000, \"hovermode\": \"closest\", \"margin\": {\"b\": 85, \"l\": 40, \"r\": 40, \"t\": 100}, \"showlegend\": false, \"template\": {\"data\": {\"bar\": [{\"error_x\": {\"color\": \"#2a3f5f\"}, \"error_y\": {\"color\": \"#2a3f5f\"}, \"marker\": {\"line\": {\"color\": \"#E5ECF6\", \"width\": 0.5}}, \"type\": \"bar\"}], \"barpolar\": [{\"marker\": {\"line\": {\"color\": \"#E5ECF6\", \"width\": 0.5}}, \"type\": \"barpolar\"}], \"carpet\": [{\"aaxis\": {\"endlinecolor\": \"#2a3f5f\", \"gridcolor\": \"white\", \"linecolor\": \"white\", \"minorgridcolor\": \"white\", \"startlinecolor\": \"#2a3f5f\"}, \"baxis\": {\"endlinecolor\": \"#2a3f5f\", \"gridcolor\": \"white\", \"linecolor\": \"white\", \"minorgridcolor\": \"white\", \"startlinecolor\": \"#2a3f5f\"}, \"type\": \"carpet\"}], \"choropleth\": [{\"colorbar\": {\"outlinewidth\": 0, \"ticks\": \"\"}, \"type\": \"choropleth\"}], \"contour\": [{\"colorbar\": {\"outlinewidth\": 0, \"ticks\": \"\"}, \"colorscale\": [[0.0, \"#0d0887\"], [0.1111111111111111, \"#46039f\"], [0.2222222222222222, \"#7201a8\"], [0.3333333333333333, \"#9c179e\"], [0.4444444444444444, \"#bd3786\"], [0.5555555555555556, \"#d8576b\"], [0.6666666666666666, \"#ed7953\"], [0.7777777777777778, \"#fb9f3a\"], [0.8888888888888888, \"#fdca26\"], [1.0, \"#f0f921\"]], \"type\": \"contour\"}], \"contourcarpet\": [{\"colorbar\": {\"outlinewidth\": 0, \"ticks\": \"\"}, \"type\": \"contourcarpet\"}], \"heatmap\": [{\"colorbar\": {\"outlinewidth\": 0, \"ticks\": \"\"}, \"colorscale\": [[0.0, \"#0d0887\"], [0.1111111111111111, \"#46039f\"], [0.2222222222222222, \"#7201a8\"], [0.3333333333333333, \"#9c179e\"], [0.4444444444444444, \"#bd3786\"], [0.5555555555555556, \"#d8576b\"], [0.6666666666666666, \"#ed7953\"], [0.7777777777777778, \"#fb9f3a\"], [0.8888888888888888, \"#fdca26\"], [1.0, \"#f0f921\"]], \"type\": \"heatmap\"}], \"heatmapgl\": [{\"colorbar\": {\"outlinewidth\": 0, \"ticks\": \"\"}, \"colorscale\": [[0.0, \"#0d0887\"], [0.1111111111111111, \"#46039f\"], [0.2222222222222222, \"#7201a8\"], [0.3333333333333333, \"#9c179e\"], [0.4444444444444444, \"#bd3786\"], [0.5555555555555556, \"#d8576b\"], [0.6666666666666666, \"#ed7953\"], [0.7777777777777778, \"#fb9f3a\"], [0.8888888888888888, \"#fdca26\"], [1.0, \"#f0f921\"]], \"type\": \"heatmapgl\"}], \"histogram\": [{\"marker\": {\"colorbar\": {\"outlinewidth\": 0, \"ticks\": \"\"}}, \"type\": \"histogram\"}], \"histogram2d\": [{\"colorbar\": {\"outlinewidth\": 0, \"ticks\": \"\"}, \"colorscale\": [[0.0, \"#0d0887\"], [0.1111111111111111, \"#46039f\"], [0.2222222222222222, \"#7201a8\"], [0.3333333333333333, \"#9c179e\"], [0.4444444444444444, \"#bd3786\"], [0.5555555555555556, \"#d8576b\"], [0.6666666666666666, \"#ed7953\"], [0.7777777777777778, \"#fb9f3a\"], [0.8888888888888888, \"#fdca26\"], [1.0, \"#f0f921\"]], \"type\": \"histogram2d\"}], \"histogram2dcontour\": [{\"colorbar\": {\"outlinewidth\": 0, \"ticks\": \"\"}, \"colorscale\": [[0.0, \"#0d0887\"], [0.1111111111111111, \"#46039f\"], [0.2222222222222222, \"#7201a8\"], [0.3333333333333333, \"#9c179e\"], [0.4444444444444444, \"#bd3786\"], [0.5555555555555556, \"#d8576b\"], [0.6666666666666666, \"#ed7953\"], [0.7777777777777778, \"#fb9f3a\"], [0.8888888888888888, \"#fdca26\"], [1.0, \"#f0f921\"]], \"type\": \"histogram2dcontour\"}], \"mesh3d\": [{\"colorbar\": {\"outlinewidth\": 0, \"ticks\": \"\"}, \"type\": \"mesh3d\"}], \"parcoords\": [{\"line\": {\"colorbar\": {\"outlinewidth\": 0, \"ticks\": \"\"}}, \"type\": \"parcoords\"}], \"pie\": [{\"automargin\": true, \"type\": \"pie\"}], \"scatter\": [{\"marker\": {\"colorbar\": {\"outlinewidth\": 0, \"ticks\": \"\"}}, \"type\": \"scatter\"}], \"scatter3d\": [{\"line\": {\"colorbar\": {\"outlinewidth\": 0, \"ticks\": \"\"}}, \"marker\": {\"colorbar\": {\"outlinewidth\": 0, \"ticks\": \"\"}}, \"type\": \"scatter3d\"}], \"scattercarpet\": [{\"marker\": {\"colorbar\": {\"outlinewidth\": 0, \"ticks\": \"\"}}, \"type\": \"scattercarpet\"}], \"scattergeo\": [{\"marker\": {\"colorbar\": {\"outlinewidth\": 0, \"ticks\": \"\"}}, \"type\": \"scattergeo\"}], \"scattergl\": [{\"marker\": {\"colorbar\": {\"outlinewidth\": 0, \"ticks\": \"\"}}, \"type\": \"scattergl\"}], \"scattermapbox\": [{\"marker\": {\"colorbar\": {\"outlinewidth\": 0, \"ticks\": \"\"}}, \"type\": \"scattermapbox\"}], \"scatterpolar\": [{\"marker\": {\"colorbar\": {\"outlinewidth\": 0, \"ticks\": \"\"}}, \"type\": \"scatterpolar\"}], \"scatterpolargl\": [{\"marker\": {\"colorbar\": {\"outlinewidth\": 0, \"ticks\": \"\"}}, \"type\": \"scatterpolargl\"}], \"scatterternary\": [{\"marker\": {\"colorbar\": {\"outlinewidth\": 0, \"ticks\": \"\"}}, \"type\": \"scatterternary\"}], \"surface\": [{\"colorbar\": {\"outlinewidth\": 0, \"ticks\": \"\"}, \"colorscale\": [[0.0, \"#0d0887\"], [0.1111111111111111, \"#46039f\"], [0.2222222222222222, \"#7201a8\"], [0.3333333333333333, \"#9c179e\"], [0.4444444444444444, \"#bd3786\"], [0.5555555555555556, \"#d8576b\"], [0.6666666666666666, \"#ed7953\"], [0.7777777777777778, \"#fb9f3a\"], [0.8888888888888888, \"#fdca26\"], [1.0, \"#f0f921\"]], \"type\": \"surface\"}], \"table\": [{\"cells\": {\"fill\": {\"color\": \"#EBF0F8\"}, \"line\": {\"color\": \"white\"}}, \"header\": {\"fill\": {\"color\": \"#C8D4E3\"}, \"line\": {\"color\": \"white\"}}, \"type\": \"table\"}]}, \"layout\": {\"annotationdefaults\": {\"arrowcolor\": \"#2a3f5f\", \"arrowhead\": 0, \"arrowwidth\": 1}, \"coloraxis\": {\"colorbar\": {\"outlinewidth\": 0, \"ticks\": \"\"}}, \"colorscale\": {\"diverging\": [[0, \"#8e0152\"], [0.1, \"#c51b7d\"], [0.2, \"#de77ae\"], [0.3, \"#f1b6da\"], [0.4, \"#fde0ef\"], [0.5, \"#f7f7f7\"], [0.6, \"#e6f5d0\"], [0.7, \"#b8e186\"], [0.8, \"#7fbc41\"], [0.9, \"#4d9221\"], [1, \"#276419\"]], \"sequential\": [[0.0, \"#0d0887\"], [0.1111111111111111, \"#46039f\"], [0.2222222222222222, \"#7201a8\"], [0.3333333333333333, \"#9c179e\"], [0.4444444444444444, \"#bd3786\"], [0.5555555555555556, \"#d8576b\"], [0.6666666666666666, \"#ed7953\"], [0.7777777777777778, \"#fb9f3a\"], [0.8888888888888888, \"#fdca26\"], [1.0, \"#f0f921\"]], \"sequentialminus\": [[0.0, \"#0d0887\"], [0.1111111111111111, \"#46039f\"], [0.2222222222222222, \"#7201a8\"], [0.3333333333333333, \"#9c179e\"], [0.4444444444444444, \"#bd3786\"], [0.5555555555555556, \"#d8576b\"], [0.6666666666666666, \"#ed7953\"], [0.7777777777777778, \"#fb9f3a\"], [0.8888888888888888, \"#fdca26\"], [1.0, \"#f0f921\"]]}, \"colorway\": [\"#636efa\", \"#EF553B\", \"#00cc96\", \"#ab63fa\", \"#FFA15A\", \"#19d3f3\", \"#FF6692\", \"#B6E880\", \"#FF97FF\", \"#FECB52\"], \"font\": {\"color\": \"#2a3f5f\"}, \"geo\": {\"bgcolor\": \"white\", \"lakecolor\": \"white\", \"landcolor\": \"#E5ECF6\", \"showlakes\": true, \"showland\": true, \"subunitcolor\": \"white\"}, \"hoverlabel\": {\"align\": \"left\"}, \"hovermode\": \"closest\", \"mapbox\": {\"style\": \"light\"}, \"paper_bgcolor\": \"white\", \"plot_bgcolor\": \"#E5ECF6\", \"polar\": {\"angularaxis\": {\"gridcolor\": \"white\", \"linecolor\": \"white\", \"ticks\": \"\"}, \"bgcolor\": \"#E5ECF6\", \"radialaxis\": {\"gridcolor\": \"white\", \"linecolor\": \"white\", \"ticks\": \"\"}}, \"scene\": {\"xaxis\": {\"backgroundcolor\": \"#E5ECF6\", \"gridcolor\": \"white\", \"gridwidth\": 2, \"linecolor\": \"white\", \"showbackground\": true, \"ticks\": \"\", \"zerolinecolor\": \"white\"}, \"yaxis\": {\"backgroundcolor\": \"#E5ECF6\", \"gridcolor\": \"white\", \"gridwidth\": 2, \"linecolor\": \"white\", \"showbackground\": true, \"ticks\": \"\", \"zerolinecolor\": \"white\"}, \"zaxis\": {\"backgroundcolor\": \"#E5ECF6\", \"gridcolor\": \"white\", \"gridwidth\": 2, \"linecolor\": \"white\", \"showbackground\": true, \"ticks\": \"\", \"zerolinecolor\": \"white\"}}, \"shapedefaults\": {\"line\": {\"color\": \"#2a3f5f\"}}, \"ternary\": {\"aaxis\": {\"gridcolor\": \"white\", \"linecolor\": \"white\", \"ticks\": \"\"}, \"baxis\": {\"gridcolor\": \"white\", \"linecolor\": \"white\", \"ticks\": \"\"}, \"bgcolor\": \"#E5ECF6\", \"caxis\": {\"gridcolor\": \"white\", \"linecolor\": \"white\", \"ticks\": \"\"}}, \"title\": {\"x\": 0.05}, \"xaxis\": {\"automargin\": true, \"gridcolor\": \"white\", \"linecolor\": \"white\", \"ticks\": \"\", \"title\": {\"standoff\": 15}, \"zerolinecolor\": \"white\", \"zerolinewidth\": 2}, \"yaxis\": {\"automargin\": true, \"gridcolor\": \"white\", \"linecolor\": \"white\", \"ticks\": \"\", \"title\": {\"standoff\": 15}, \"zerolinecolor\": \"white\", \"zerolinewidth\": 2}}}, \"title\": {\"text\": \"The rumor graph of bioweapon at week 5\"}, \"width\": 1000, \"xaxis\": {\"showgrid\": false, \"showline\": false, \"showticklabels\": false, \"title\": {\"text\": \"\"}, \"zeroline\": false}, \"yaxis\": {\"showgrid\": false, \"showline\": false, \"showticklabels\": false, \"title\": {\"text\": \"\"}, \"zeroline\": false}},\n",
       "                        {\"responsive\": true}\n",
       "                    ).then(function(){\n",
       "                            \n",
       "var gd = document.getElementById('81a15688-a0e5-45ab-b07e-294c9305532a');\n",
       "var x = new MutationObserver(function (mutations, observer) {{\n",
       "        var display = window.getComputedStyle(gd).display;\n",
       "        if (!display || display === 'none') {{\n",
       "            console.log([gd, 'removed!']);\n",
       "            Plotly.purge(gd);\n",
       "            observer.disconnect();\n",
       "        }}\n",
       "}});\n",
       "\n",
       "// Listen for the removal of the full notebook cells\n",
       "var notebookContainer = gd.closest('#notebook-container');\n",
       "if (notebookContainer) {{\n",
       "    x.observe(notebookContainer, {childList: true});\n",
       "}}\n",
       "\n",
       "// Listen for the clearing of the current output cell\n",
       "var outputEl = gd.closest('.output');\n",
       "if (outputEl) {{\n",
       "    x.observe(outputEl, {childList: true});\n",
       "}}\n",
       "\n",
       "                        })\n",
       "                };\n",
       "                });\n",
       "            </script>\n",
       "        </div>"
      ]
     },
     "metadata": {},
     "output_type": "display_data"
    }
   ],
   "source": [
    "rm = 'bioweapon'\n",
    "wk = 5\n",
    "fig = plot_rumor(rm, wk, weekly_rumors[rm][wk], act_mapping, centres)\n",
    "fig"
   ]
  },
  {
   "cell_type": "code",
   "execution_count": 22,
   "metadata": {
    "scrolled": true
   },
   "outputs": [
    {
     "data": {
      "application/vnd.plotly.v1+json": {
       "config": {
        "plotlyServerURL": "https://plot.ly"
       },
       "data": [
        {
         "hoverinfo": "none",
         "line": {
          "color": "black",
          "width": 2
         },
         "mode": "lines",
         "opacity": 1,
         "type": "scatter",
         "x": [
          0.4589779188391658,
          0.14345145534995443,
          null
         ],
         "y": [
          -0.4137951377005734,
          -0.20922966260672396,
          null
         ]
        },
        {
         "hoverinfo": "none",
         "line": {
          "color": "black",
          "width": 2
         },
         "mode": "lines",
         "opacity": 1,
         "type": "scatter",
         "x": [
          0.14345145534995443,
          0.22650289507991103,
          null
         ],
         "y": [
          -0.20922966260672396,
          0.23001000712761038,
          null
         ]
        },
        {
         "hoverinfo": "none",
         "line": {
          "color": "black",
          "width": 2
         },
         "mode": "lines",
         "opacity": 1,
         "type": "scatter",
         "x": [
          0.22650289507991103,
          0.6144101248933538,
          null
         ],
         "y": [
          0.23001000712761038,
          0.77348066273073,
          null
         ]
        },
        {
         "hoverinfo": "text",
         "marker": {
          "color": "grey",
          "opacity": 0
         },
         "mode": "markers",
         "text": [
          "",
          "",
          ""
         ],
         "type": "scatter",
         "x": [
          0.3012146870945601,
          0.18497717521493273,
          0.4204565099866324
         ],
         "y": [
          -0.31151240015364867,
          0.010390172260443212,
          0.5017453349291702
         ]
        },
        {
         "hoverinfo": "none",
         "line": {
          "color": "purple",
          "width": 2
         },
         "mode": "lines",
         "opacity": 1,
         "type": "scatter",
         "x": [
          0.4589779188391658,
          -0.07036625534684322,
          null
         ],
         "y": [
          -0.4137951377005734,
          -0.26611879904749824,
          null
         ]
        },
        {
         "hoverinfo": "none",
         "line": {
          "color": "purple",
          "width": 2
         },
         "mode": "lines",
         "opacity": 1,
         "type": "scatter",
         "x": [
          -0.07036625534684322,
          -1,
          null
         ],
         "y": [
          -0.26611879904749824,
          -0.13549194389968885,
          null
         ]
        },
        {
         "hoverinfo": "none",
         "line": {
          "color": "purple",
          "width": 2
         },
         "mode": "lines",
         "opacity": 1,
         "type": "scatter",
         "x": [
          -1,
          -0.5437393206838801,
          null
         ],
         "y": [
          -0.13549194389968885,
          0.13539002111208925,
          null
         ]
        },
        {
         "hoverinfo": "none",
         "line": {
          "color": "purple",
          "width": 2
         },
         "mode": "lines",
         "opacity": 1,
         "type": "scatter",
         "x": [
          -0.5437393206838801,
          -0.1150412598903132,
          null
         ],
         "y": [
          0.13539002111208925,
          0.5915497667057682,
          null
         ]
        },
        {
         "hoverinfo": "none",
         "line": {
          "color": "purple",
          "width": 2
         },
         "mode": "lines",
         "opacity": 1,
         "type": "scatter",
         "x": [
          -0.1150412598903132,
          0.22650289507991103,
          null
         ],
         "y": [
          0.5915497667057682,
          0.23001000712761038,
          null
         ]
        },
        {
         "hoverinfo": "none",
         "line": {
          "color": "purple",
          "width": 2
         },
         "mode": "lines",
         "opacity": 1,
         "type": "scatter",
         "x": [
          0.22650289507991103,
          0.6144101248933538,
          null
         ],
         "y": [
          0.23001000712761038,
          0.77348066273073,
          null
         ]
        },
        {
         "hoverinfo": "text",
         "marker": {
          "color": "grey",
          "opacity": 0
         },
         "mode": "markers",
         "text": [
          "",
          "",
          "",
          "",
          "",
          ""
         ],
         "type": "scatter",
         "x": [
          0.19430583174616128,
          -0.5351831276734216,
          -0.77186966034194,
          -0.32939029028709665,
          0.05573081759479891,
          0.4204565099866324
         ],
         "y": [
          -0.33995696837403583,
          -0.20080537147359356,
          -5.096139379980047e-05,
          0.3634698939089287,
          0.4107798869166893,
          0.5017453349291702
         ]
        },
        {
         "hoverinfo": "none",
         "line": {
          "color": "green",
          "width": 2
         },
         "mode": "lines",
         "opacity": 1,
         "type": "scatter",
         "x": [
          0.4589779188391658,
          0.14345145534995443,
          null
         ],
         "y": [
          -0.4137951377005734,
          -0.20922966260672396,
          null
         ]
        },
        {
         "hoverinfo": "none",
         "line": {
          "color": "green",
          "width": 2
         },
         "mode": "lines",
         "opacity": 1,
         "type": "scatter",
         "x": [
          0.14345145534995443,
          0.22650289507991103,
          null
         ],
         "y": [
          -0.20922966260672396,
          0.23001000712761038,
          null
         ]
        },
        {
         "hoverinfo": "none",
         "line": {
          "color": "green",
          "width": 2
         },
         "mode": "lines",
         "opacity": 1,
         "type": "scatter",
         "x": [
          0.22650289507991103,
          0.6144101248933538,
          null
         ],
         "y": [
          0.23001000712761038,
          0.77348066273073,
          null
         ]
        },
        {
         "hoverinfo": "text",
         "marker": {
          "color": "grey",
          "opacity": 0
         },
         "mode": "markers",
         "text": [
          "",
          "",
          ""
         ],
         "type": "scatter",
         "x": [
          0.3012146870945601,
          0.18497717521493273,
          0.4204565099866324
         ],
         "y": [
          -0.31151240015364867,
          0.010390172260443212,
          0.5017453349291702
         ]
        },
        {
         "hoverinfo": "none",
         "line": {
          "color": "black",
          "width": 2
         },
         "mode": "lines",
         "opacity": 1,
         "type": "scatter",
         "x": [
          -0.19779330015998967,
          0.22650289507991103,
          null
         ],
         "y": [
          -0.124243135620067,
          0.23001000712761038,
          null
         ]
        },
        {
         "hoverinfo": "none",
         "line": {
          "color": "black",
          "width": 2
         },
         "mode": "lines",
         "opacity": 1,
         "type": "scatter",
         "x": [
          0.22650289507991103,
          0.6144101248933538,
          null
         ],
         "y": [
          0.23001000712761038,
          0.77348066273073,
          null
         ]
        },
        {
         "hoverinfo": "text",
         "marker": {
          "color": "grey",
          "opacity": 0
         },
         "mode": "markers",
         "text": [
          "",
          ""
         ],
         "type": "scatter",
         "x": [
          0.014354797459960683,
          0.4204565099866324
         ],
         "y": [
          0.05288343575377169,
          0.5017453349291702
         ]
        },
        {
         "hoverinfo": "none",
         "line": {
          "color": "purple",
          "width": 2
         },
         "mode": "lines",
         "opacity": 1,
         "type": "scatter",
         "x": [
          -0.19779330015998967,
          -0.37933506950544543,
          null
         ],
         "y": [
          -0.124243135620067,
          -0.5754308259481848,
          null
         ]
        },
        {
         "hoverinfo": "none",
         "line": {
          "color": "purple",
          "width": 2
         },
         "mode": "lines",
         "opacity": 1,
         "type": "scatter",
         "x": [
          -0.37933506950544543,
          -0.07036625534684322,
          null
         ],
         "y": [
          -0.5754308259481848,
          -0.26611879904749824,
          null
         ]
        },
        {
         "hoverinfo": "none",
         "line": {
          "color": "purple",
          "width": 2
         },
         "mode": "lines",
         "opacity": 1,
         "type": "scatter",
         "x": [
          -0.07036625534684322,
          -1,
          null
         ],
         "y": [
          -0.26611879904749824,
          -0.13549194389968885,
          null
         ]
        },
        {
         "hoverinfo": "none",
         "line": {
          "color": "purple",
          "width": 2
         },
         "mode": "lines",
         "opacity": 1,
         "type": "scatter",
         "x": [
          -1,
          -0.5437393206838801,
          null
         ],
         "y": [
          -0.13549194389968885,
          0.13539002111208925,
          null
         ]
        },
        {
         "hoverinfo": "none",
         "line": {
          "color": "purple",
          "width": 2
         },
         "mode": "lines",
         "opacity": 1,
         "type": "scatter",
         "x": [
          -0.5437393206838801,
          -0.1150412598903132,
          null
         ],
         "y": [
          0.13539002111208925,
          0.5915497667057682,
          null
         ]
        },
        {
         "hoverinfo": "none",
         "line": {
          "color": "purple",
          "width": 2
         },
         "mode": "lines",
         "opacity": 1,
         "type": "scatter",
         "x": [
          -0.1150412598903132,
          0.22650289507991103,
          null
         ],
         "y": [
          0.5915497667057682,
          0.23001000712761038,
          null
         ]
        },
        {
         "hoverinfo": "none",
         "line": {
          "color": "purple",
          "width": 2
         },
         "mode": "lines",
         "opacity": 1,
         "type": "scatter",
         "x": [
          0.22650289507991103,
          0.6144101248933538,
          null
         ],
         "y": [
          0.23001000712761038,
          0.77348066273073,
          null
         ]
        },
        {
         "hoverinfo": "text",
         "marker": {
          "color": "grey",
          "opacity": 0
         },
         "mode": "markers",
         "text": [
          "",
          "",
          "",
          "",
          "",
          "",
          ""
         ],
         "type": "scatter",
         "x": [
          -0.28856418483271756,
          -0.22485066242614432,
          -0.5351831276734216,
          -0.77186966034194,
          -0.32939029028709665,
          0.05573081759479891,
          0.4204565099866324
         ],
         "y": [
          -0.34983698078412595,
          -0.42077481249784154,
          -0.20080537147359356,
          -5.096139379980047e-05,
          0.3634698939089287,
          0.4107798869166893,
          0.5017453349291702
         ]
        },
        {
         "hoverinfo": "none",
         "line": {
          "color": "green",
          "width": 2
         },
         "mode": "lines",
         "opacity": 1,
         "type": "scatter",
         "x": [
          -0.19779330015998967,
          0.22650289507991103,
          null
         ],
         "y": [
          -0.124243135620067,
          0.23001000712761038,
          null
         ]
        },
        {
         "hoverinfo": "none",
         "line": {
          "color": "green",
          "width": 2
         },
         "mode": "lines",
         "opacity": 1,
         "type": "scatter",
         "x": [
          0.22650289507991103,
          0.6144101248933538,
          null
         ],
         "y": [
          0.23001000712761038,
          0.77348066273073,
          null
         ]
        },
        {
         "hoverinfo": "text",
         "marker": {
          "color": "grey",
          "opacity": 0
         },
         "mode": "markers",
         "text": [
          "",
          ""
         ],
         "type": "scatter",
         "x": [
          0.014354797459960683,
          0.4204565099866324
         ],
         "y": [
          0.05288343575377169,
          0.5017453349291702
         ]
        },
        {
         "hoverinfo": "none",
         "line": {
          "color": "yellow",
          "width": 28.09307144540729
         },
         "mode": "lines",
         "opacity": 0.2,
         "type": "scatter",
         "x": [
          0.4589779188391658,
          0.14345145534995443,
          null
         ],
         "y": [
          -0.4137951377005734,
          -0.20922966260672396,
          null
         ]
        },
        {
         "hoverinfo": "none",
         "line": {
          "color": "orange",
          "width": 14.347916639513588
         },
         "mode": "lines",
         "opacity": 0.2,
         "type": "scatter",
         "x": [
          0.4589779188391658,
          -0.07036625534684322,
          null
         ],
         "y": [
          -0.4137951377005734,
          -0.26611879904749824,
          null
         ]
        },
        {
         "hoverinfo": "none",
         "line": {
          "color": "red",
          "width": 14.347916639513588
         },
         "mode": "lines",
         "opacity": 0.2,
         "type": "scatter",
         "x": [
          0.4589779188391658,
          0.4589779188391658,
          null
         ],
         "y": [
          -0.4137951377005734,
          -0.4137951377005734,
          null
         ]
        },
        {
         "hoverinfo": "none",
         "line": {
          "color": "red",
          "width": 8.258871764066742
         },
         "mode": "lines",
         "opacity": 0.2,
         "type": "scatter",
         "x": [
          0.4589779188391658,
          0.8629328114240867,
          null
         ],
         "y": [
          -0.4137951377005734,
          -0.006120952853462048,
          null
         ]
        },
        {
         "hoverinfo": "none",
         "line": {
          "color": "red",
          "width": 9.953467484841148
         },
         "mode": "lines",
         "opacity": 0.2,
         "type": "scatter",
         "x": [
          -1,
          -0.5437393206838801,
          null
         ],
         "y": [
          -0.13549194389968885,
          0.13539002111208925,
          null
         ]
        },
        {
         "hoverinfo": "none",
         "line": {
          "color": "red",
          "width": 5.55901833016871
         },
         "mode": "lines",
         "opacity": 0.2,
         "type": "scatter",
         "x": [
          -1,
          -0.07036625534684322,
          null
         ],
         "y": [
          -0.13549194389968885,
          -0.26611879904749824,
          null
         ]
        },
        {
         "hoverinfo": "none",
         "line": {
          "color": "black",
          "width": 37.26300640274843
         },
         "mode": "lines",
         "opacity": 0.2,
         "type": "scatter",
         "x": [
          -0.5437393206838801,
          -0.19779330015998967,
          null
         ],
         "y": [
          0.13539002111208925,
          -0.124243135620067,
          null
         ]
        },
        {
         "hoverinfo": "none",
         "line": {
          "color": "orange",
          "width": 8.567173123721258
         },
         "mode": "lines",
         "opacity": 0.2,
         "type": "scatter",
         "x": [
          -0.5437393206838801,
          -0.1150412598903132,
          null
         ],
         "y": [
          0.13539002111208925,
          0.5915497667057682,
          null
         ]
        },
        {
         "hoverinfo": "none",
         "line": {
          "color": "yellow",
          "width": 9.378103339937587
         },
         "mode": "lines",
         "opacity": 0.2,
         "type": "scatter",
         "x": [
          0.14345145534995443,
          0.22650289507991103,
          null
         ],
         "y": [
          -0.20922966260672396,
          0.23001000712761038,
          null
         ]
        },
        {
         "hoverinfo": "none",
         "line": {
          "color": "yellow",
          "width": 68.96699447532816
         },
         "mode": "lines",
         "opacity": 0.2,
         "type": "scatter",
         "x": [
          0.14345145534995443,
          -0.19779330015998967,
          null
         ],
         "y": [
          -0.20922966260672396,
          -0.124243135620067,
          null
         ]
        },
        {
         "hoverinfo": "none",
         "line": {
          "color": "yellow",
          "width": 11.575327917273807
         },
         "mode": "lines",
         "opacity": 0.2,
         "type": "scatter",
         "x": [
          0.14345145534995443,
          -0.07036625534684322,
          null
         ],
         "y": [
          -0.20922966260672396,
          -0.26611879904749824,
          null
         ]
        },
        {
         "hoverinfo": "none",
         "line": {
          "color": "yellow",
          "width": 23.726019979451173
         },
         "mode": "lines",
         "opacity": 0.2,
         "type": "scatter",
         "x": [
          0.22650289507991103,
          -0.1150412598903132,
          null
         ],
         "y": [
          0.23001000712761038,
          0.5915497667057682,
          null
         ]
        },
        {
         "hoverinfo": "none",
         "line": {
          "color": "red",
          "width": 14.347916639513588
         },
         "mode": "lines",
         "opacity": 0.2,
         "type": "scatter",
         "x": [
          0.22650289507991103,
          0.6144101248933538,
          null
         ],
         "y": [
          0.23001000712761038,
          0.77348066273073,
          null
         ]
        },
        {
         "hoverinfo": "none",
         "line": {
          "color": "yellow",
          "width": 25.112314340571068
         },
         "mode": "lines",
         "opacity": 0.2,
         "type": "scatter",
         "x": [
          0.22650289507991103,
          -0.07036625534684322,
          null
         ],
         "y": [
          0.23001000712761038,
          -0.26611879904749824,
          null
         ]
        },
        {
         "hoverinfo": "none",
         "line": {
          "color": "yellow",
          "width": 11.575327917273807
         },
         "mode": "lines",
         "opacity": 0.2,
         "type": "scatter",
         "x": [
          0.22650289507991103,
          0.8629328114240867,
          null
         ],
         "y": [
          0.23001000712761038,
          -0.006120952853462048,
          null
         ]
        },
        {
         "hoverinfo": "none",
         "line": {
          "color": "yellow",
          "width": 14.347916639513588
         },
         "mode": "lines",
         "opacity": 0.2,
         "type": "scatter",
         "x": [
          0.22650289507991103,
          -0.19779330015998967,
          null
         ],
         "y": [
          0.23001000712761038,
          -0.124243135620067,
          null
         ]
        },
        {
         "hoverinfo": "none",
         "line": {
          "color": "yellow",
          "width": 64.7718050025534
         },
         "mode": "lines",
         "opacity": 0.2,
         "type": "scatter",
         "x": [
          -0.07036625534684322,
          -0.19779330015998967,
          null
         ],
         "y": [
          -0.26611879904749824,
          -0.124243135620067,
          null
         ]
        },
        {
         "hoverinfo": "none",
         "line": {
          "color": "yellow",
          "width": 8.931816237309167
         },
         "mode": "lines",
         "opacity": 0.2,
         "type": "scatter",
         "x": [
          -0.07036625534684322,
          -0.07036625534684322,
          null
         ],
         "y": [
          -0.26611879904749824,
          -0.26611879904749824,
          null
         ]
        },
        {
         "hoverinfo": "none",
         "line": {
          "color": "orange",
          "width": 14.347916639513588
         },
         "mode": "lines",
         "opacity": 0.2,
         "type": "scatter",
         "x": [
          -0.07036625534684322,
          -0.37933506950544543,
          null
         ],
         "y": [
          -0.26611879904749824,
          -0.5754308259481848,
          null
         ]
        },
        {
         "hoverinfo": "none",
         "line": {
          "color": "orange",
          "width": 24.090663093039083
         },
         "mode": "lines",
         "opacity": 0.2,
         "type": "scatter",
         "x": [
          -0.37933506950544543,
          -0.19779330015998967,
          null
         ],
         "y": [
          -0.5754308259481848,
          -0.124243135620067,
          null
         ]
        },
        {
         "hoverinfo": "text",
         "marker": {
          "color": "grey",
          "opacity": 0
         },
         "mode": "markers",
         "text": [
          "'weight': 14.046535722703645<br>'d_suspicious': 0.0<br>'colors': [0.33333333 0.66666667 0.         0.        ]",
          "'weight': 7.173958319756794<br>'d_suspicious': 1.0<br>'colors': [0. 0. 1. 0.]",
          "'weight': 7.173958319756794<br>'d_suspicious': 1.0<br>'colors': [0. 0. 0. 1.]",
          "'weight': 4.129435882033371<br>'d_suspicious': 1.0<br>'colors': [0. 0. 0. 1.]",
          "'weight': 4.976733742420574<br>'d_suspicious': 1.0<br>'colors': [0. 0. 0. 1.]",
          "'weight': 2.779509165084355<br>'d_suspicious': 1.0<br>'colors': [0. 0. 0. 1.]",
          "'weight': 18.631503201374215<br>'d_suspicious': 0.6<br>'colors': [0.4 0.  0.4 0.2]",
          "'weight': 4.283586561860629<br>'d_suspicious': 1.0<br>'colors': [0. 0. 1. 0.]",
          "'weight': 4.689051669968793<br>'d_suspicious': 0.0<br>'colors': [0. 1. 0. 0.]",
          "'weight': 34.48349723766408<br>'d_suspicious': 0.0<br>'colors': [0.4 0.6 0.  0. ]",
          "'weight': 5.787663958636903<br>'d_suspicious': 0.0<br>'colors': [0. 1. 0. 0.]",
          "'weight': 11.863009989725587<br>'d_suspicious': 0.5<br>'colors': [0.  0.5 0.5 0. ]",
          "'weight': 7.173958319756794<br>'d_suspicious': 1.0<br>'colors': [0. 0. 0. 1.]",
          "'weight': 12.556157170285534<br>'d_suspicious': 0.0<br>'colors': [0. 1. 0. 0.]",
          "'weight': 5.787663958636903<br>'d_suspicious': 0.0<br>'colors': [0. 1. 0. 0.]",
          "'weight': 7.173958319756794<br>'d_suspicious': 0.0<br>'colors': [0. 1. 0. 0.]",
          "'weight': 32.3859025012767<br>'d_suspicious': 0.0<br>'colors': [0.14285714 0.85714286 0.         0.        ]",
          "'weight': 4.465908118654584<br>'d_suspicious': 0.0<br>'colors': [0. 1. 0. 0.]",
          "'weight': 7.173958319756794<br>'d_suspicious': 1.0<br>'colors': [0. 0. 1. 0.]",
          "'weight': 12.045331546519542<br>'d_suspicious': 1.0<br>'colors': [0.  0.  0.5 0.5]"
         ],
         "type": "scatter",
         "x": [
          0.3012146870945601,
          0.19430583174616128,
          0.4589779188391658,
          0.6609553651316262,
          -0.77186966034194,
          -0.5351831276734216,
          -0.37076631042193486,
          -0.32939029028709665,
          0.18497717521493273,
          -0.027170922405017617,
          0.036542600001555604,
          0.05573081759479891,
          0.4204565099866324,
          0.0780683198665339,
          0.5447178532519988,
          0.014354797459960683,
          -0.13407977775341645,
          -0.07036625534684322,
          -0.22485066242614432,
          -0.28856418483271756
         ],
         "y": [
          -0.31151240015364867,
          -0.33995696837403583,
          -0.4137951377005734,
          -0.20995804527701772,
          -5.096139379980047e-05,
          -0.20080537147359356,
          0.005573442746011126,
          0.3634698939089287,
          0.010390172260443212,
          -0.1667363991133955,
          -0.2376742308271111,
          0.4107798869166893,
          0.5017453349291702,
          -0.01805439595994393,
          0.11194452713707417,
          0.05288343575377169,
          -0.19518096733378262,
          -0.26611879904749824,
          -0.42077481249784154,
          -0.34983698078412595
         ]
        },
        {
         "hoverinfo": "text",
         "marker": {
          "color": [
           "black",
           "green",
           "black",
           "yellow",
           "yellow",
           "yellow",
           "yellow",
           "orange",
           "black",
           "red",
           "black"
          ],
          "line": {
           "color": "rgb(50,50,50)",
           "width": 0.5
          },
          "size": 50,
          "symbol": "circle-dot"
         },
         "mode": "markers",
         "name": "net",
         "text": [
          "'name':SUPER:virus|deadly_virus<br>'df': 40.78125<br>'pop': -2.853678198575083<br>'rt': 1.8125<br>'fav': 3.5625<br>'color': [0.46875 0.21875 0.21875 0.09375]<br>'freq': 32",
          "'name':briefing<br>'df': 435.0<br>'pop': -3.0123901316022534<br>'rt': 0.3333333333333333<br>'fav': 0.6666666666666666<br>'color': [0.66666667 0.         0.         0.33333333]<br>'freq': 3",
          "'name':SUPER:you|your<br>'df': 68.6842105263158<br>'pop': -2.2614224191394663<br>'rt': 0.5789473684210527<br>'fav': 1.2105263157894737<br>'color': [0.21052632 0.31578947 0.31578947 0.15789474]<br>'freq': 19",
          "'name':china<br>'df': 17.876712328767123<br>'pop': -2.4099646028422543<br>'rt': 1.082191780821918<br>'fav': 1.8904109589041096<br>'color': [0.23287671 0.53424658 0.06849315 0.16438356]<br>'freq': 73",
          "'name':lab<br>'df': 186.42857142857142<br>'pop': -4.042228094262054<br>'rt': 0.14285714285714285<br>'fav': 0.14285714285714285<br>'color': [0.         0.71428571 0.14285714 0.14285714]<br>'freq': 7",
          "'name':vaccine<br>'df': 186.42857142857142<br>'pop': -2.0707094116151774<br>'rt': 0.14285714285714285<br>'fav': 0.14285714285714285<br>'color': [0.         0.57142857 0.42857143 0.        ]<br>'freq': 7",
          "'name':SUPER:<<NUM>>_people|<<NUM>>_day|<<NUM>>_case<br>'df': 26.1<br>'pop': -2.562738643878087<br>'rt': 0.88<br>'fav': 1.96<br>'color': [0.14 0.66 0.1  0.1 ]<br>'freq': 50",
          "'name':pandemic<br>'df': 217.5<br>'pop': -2.493206830953715<br>'rt': 0.3333333333333333<br>'fav': 0.3333333333333333<br>'color': [0.16666667 0.16666667 0.5        0.16666667]<br>'freq': 6",
          "'name':SUPER:coronavirus|oronavirus<br>'df': 6.46039603960396<br>'pop': -2.059009570729066<br>'rt': 1.099009900990099<br>'fav': 1.5940594059405941<br>'color': [0.23267327 0.49009901 0.15346535 0.12376238]<br>'freq': 202",
          "'name':bioweapon<br>'df': 1305.0<br>'pop': -3.201252216354915<br>'rt': 1.0<br>'fav': 1.0<br>'color': [0. 0. 0. 1.]<br>'freq': 1",
          "'name':SUPER:report|document<br>'df': 261.0<br>'pop': -3.1822125986883996<br>'rt': 0.6<br>'fav': 1.8<br>'color': [0.2 0.4 0.2 0.2]<br>'freq': 5"
         ],
         "type": "scatter",
         "x": [
          0.4589779188391658,
          -1,
          -0.5437393206838801,
          0.14345145534995443,
          0.22650289507991103,
          -0.1150412598903132,
          -0.07036625534684322,
          -0.37933506950544543,
          -0.19779330015998967,
          0.6144101248933538,
          0.8629328114240867
         ],
         "y": [
          -0.4137951377005734,
          -0.13549194389968885,
          0.13539002111208925,
          -0.20922966260672396,
          0.23001000712761038,
          0.5915497667057682,
          -0.26611879904749824,
          -0.5754308259481848,
          -0.124243135620067,
          0.77348066273073,
          -0.006120952853462048
         ]
        }
       ],
       "layout": {
        "annotations": [
         {
          "font": {
           "size": 14
          },
          "showarrow": false,
          "text": "The rumor graph",
          "x": 0,
          "xanchor": "left",
          "xref": "paper",
          "y": -0.1,
          "yanchor": "bottom",
          "yref": "paper"
         }
        ],
        "autosize": false,
        "font": {
         "size": 12
        },
        "height": 1000,
        "hovermode": "closest",
        "margin": {
         "b": 85,
         "l": 40,
         "r": 40,
         "t": 100
        },
        "showlegend": false,
        "template": {
         "data": {
          "bar": [
           {
            "error_x": {
             "color": "#2a3f5f"
            },
            "error_y": {
             "color": "#2a3f5f"
            },
            "marker": {
             "line": {
              "color": "#E5ECF6",
              "width": 0.5
             }
            },
            "type": "bar"
           }
          ],
          "barpolar": [
           {
            "marker": {
             "line": {
              "color": "#E5ECF6",
              "width": 0.5
             }
            },
            "type": "barpolar"
           }
          ],
          "carpet": [
           {
            "aaxis": {
             "endlinecolor": "#2a3f5f",
             "gridcolor": "white",
             "linecolor": "white",
             "minorgridcolor": "white",
             "startlinecolor": "#2a3f5f"
            },
            "baxis": {
             "endlinecolor": "#2a3f5f",
             "gridcolor": "white",
             "linecolor": "white",
             "minorgridcolor": "white",
             "startlinecolor": "#2a3f5f"
            },
            "type": "carpet"
           }
          ],
          "choropleth": [
           {
            "colorbar": {
             "outlinewidth": 0,
             "ticks": ""
            },
            "type": "choropleth"
           }
          ],
          "contour": [
           {
            "colorbar": {
             "outlinewidth": 0,
             "ticks": ""
            },
            "colorscale": [
             [
              0,
              "#0d0887"
             ],
             [
              0.1111111111111111,
              "#46039f"
             ],
             [
              0.2222222222222222,
              "#7201a8"
             ],
             [
              0.3333333333333333,
              "#9c179e"
             ],
             [
              0.4444444444444444,
              "#bd3786"
             ],
             [
              0.5555555555555556,
              "#d8576b"
             ],
             [
              0.6666666666666666,
              "#ed7953"
             ],
             [
              0.7777777777777778,
              "#fb9f3a"
             ],
             [
              0.8888888888888888,
              "#fdca26"
             ],
             [
              1,
              "#f0f921"
             ]
            ],
            "type": "contour"
           }
          ],
          "contourcarpet": [
           {
            "colorbar": {
             "outlinewidth": 0,
             "ticks": ""
            },
            "type": "contourcarpet"
           }
          ],
          "heatmap": [
           {
            "colorbar": {
             "outlinewidth": 0,
             "ticks": ""
            },
            "colorscale": [
             [
              0,
              "#0d0887"
             ],
             [
              0.1111111111111111,
              "#46039f"
             ],
             [
              0.2222222222222222,
              "#7201a8"
             ],
             [
              0.3333333333333333,
              "#9c179e"
             ],
             [
              0.4444444444444444,
              "#bd3786"
             ],
             [
              0.5555555555555556,
              "#d8576b"
             ],
             [
              0.6666666666666666,
              "#ed7953"
             ],
             [
              0.7777777777777778,
              "#fb9f3a"
             ],
             [
              0.8888888888888888,
              "#fdca26"
             ],
             [
              1,
              "#f0f921"
             ]
            ],
            "type": "heatmap"
           }
          ],
          "heatmapgl": [
           {
            "colorbar": {
             "outlinewidth": 0,
             "ticks": ""
            },
            "colorscale": [
             [
              0,
              "#0d0887"
             ],
             [
              0.1111111111111111,
              "#46039f"
             ],
             [
              0.2222222222222222,
              "#7201a8"
             ],
             [
              0.3333333333333333,
              "#9c179e"
             ],
             [
              0.4444444444444444,
              "#bd3786"
             ],
             [
              0.5555555555555556,
              "#d8576b"
             ],
             [
              0.6666666666666666,
              "#ed7953"
             ],
             [
              0.7777777777777778,
              "#fb9f3a"
             ],
             [
              0.8888888888888888,
              "#fdca26"
             ],
             [
              1,
              "#f0f921"
             ]
            ],
            "type": "heatmapgl"
           }
          ],
          "histogram": [
           {
            "marker": {
             "colorbar": {
              "outlinewidth": 0,
              "ticks": ""
             }
            },
            "type": "histogram"
           }
          ],
          "histogram2d": [
           {
            "colorbar": {
             "outlinewidth": 0,
             "ticks": ""
            },
            "colorscale": [
             [
              0,
              "#0d0887"
             ],
             [
              0.1111111111111111,
              "#46039f"
             ],
             [
              0.2222222222222222,
              "#7201a8"
             ],
             [
              0.3333333333333333,
              "#9c179e"
             ],
             [
              0.4444444444444444,
              "#bd3786"
             ],
             [
              0.5555555555555556,
              "#d8576b"
             ],
             [
              0.6666666666666666,
              "#ed7953"
             ],
             [
              0.7777777777777778,
              "#fb9f3a"
             ],
             [
              0.8888888888888888,
              "#fdca26"
             ],
             [
              1,
              "#f0f921"
             ]
            ],
            "type": "histogram2d"
           }
          ],
          "histogram2dcontour": [
           {
            "colorbar": {
             "outlinewidth": 0,
             "ticks": ""
            },
            "colorscale": [
             [
              0,
              "#0d0887"
             ],
             [
              0.1111111111111111,
              "#46039f"
             ],
             [
              0.2222222222222222,
              "#7201a8"
             ],
             [
              0.3333333333333333,
              "#9c179e"
             ],
             [
              0.4444444444444444,
              "#bd3786"
             ],
             [
              0.5555555555555556,
              "#d8576b"
             ],
             [
              0.6666666666666666,
              "#ed7953"
             ],
             [
              0.7777777777777778,
              "#fb9f3a"
             ],
             [
              0.8888888888888888,
              "#fdca26"
             ],
             [
              1,
              "#f0f921"
             ]
            ],
            "type": "histogram2dcontour"
           }
          ],
          "mesh3d": [
           {
            "colorbar": {
             "outlinewidth": 0,
             "ticks": ""
            },
            "type": "mesh3d"
           }
          ],
          "parcoords": [
           {
            "line": {
             "colorbar": {
              "outlinewidth": 0,
              "ticks": ""
             }
            },
            "type": "parcoords"
           }
          ],
          "pie": [
           {
            "automargin": true,
            "type": "pie"
           }
          ],
          "scatter": [
           {
            "marker": {
             "colorbar": {
              "outlinewidth": 0,
              "ticks": ""
             }
            },
            "type": "scatter"
           }
          ],
          "scatter3d": [
           {
            "line": {
             "colorbar": {
              "outlinewidth": 0,
              "ticks": ""
             }
            },
            "marker": {
             "colorbar": {
              "outlinewidth": 0,
              "ticks": ""
             }
            },
            "type": "scatter3d"
           }
          ],
          "scattercarpet": [
           {
            "marker": {
             "colorbar": {
              "outlinewidth": 0,
              "ticks": ""
             }
            },
            "type": "scattercarpet"
           }
          ],
          "scattergeo": [
           {
            "marker": {
             "colorbar": {
              "outlinewidth": 0,
              "ticks": ""
             }
            },
            "type": "scattergeo"
           }
          ],
          "scattergl": [
           {
            "marker": {
             "colorbar": {
              "outlinewidth": 0,
              "ticks": ""
             }
            },
            "type": "scattergl"
           }
          ],
          "scattermapbox": [
           {
            "marker": {
             "colorbar": {
              "outlinewidth": 0,
              "ticks": ""
             }
            },
            "type": "scattermapbox"
           }
          ],
          "scatterpolar": [
           {
            "marker": {
             "colorbar": {
              "outlinewidth": 0,
              "ticks": ""
             }
            },
            "type": "scatterpolar"
           }
          ],
          "scatterpolargl": [
           {
            "marker": {
             "colorbar": {
              "outlinewidth": 0,
              "ticks": ""
             }
            },
            "type": "scatterpolargl"
           }
          ],
          "scatterternary": [
           {
            "marker": {
             "colorbar": {
              "outlinewidth": 0,
              "ticks": ""
             }
            },
            "type": "scatterternary"
           }
          ],
          "surface": [
           {
            "colorbar": {
             "outlinewidth": 0,
             "ticks": ""
            },
            "colorscale": [
             [
              0,
              "#0d0887"
             ],
             [
              0.1111111111111111,
              "#46039f"
             ],
             [
              0.2222222222222222,
              "#7201a8"
             ],
             [
              0.3333333333333333,
              "#9c179e"
             ],
             [
              0.4444444444444444,
              "#bd3786"
             ],
             [
              0.5555555555555556,
              "#d8576b"
             ],
             [
              0.6666666666666666,
              "#ed7953"
             ],
             [
              0.7777777777777778,
              "#fb9f3a"
             ],
             [
              0.8888888888888888,
              "#fdca26"
             ],
             [
              1,
              "#f0f921"
             ]
            ],
            "type": "surface"
           }
          ],
          "table": [
           {
            "cells": {
             "fill": {
              "color": "#EBF0F8"
             },
             "line": {
              "color": "white"
             }
            },
            "header": {
             "fill": {
              "color": "#C8D4E3"
             },
             "line": {
              "color": "white"
             }
            },
            "type": "table"
           }
          ]
         },
         "layout": {
          "annotationdefaults": {
           "arrowcolor": "#2a3f5f",
           "arrowhead": 0,
           "arrowwidth": 1
          },
          "coloraxis": {
           "colorbar": {
            "outlinewidth": 0,
            "ticks": ""
           }
          },
          "colorscale": {
           "diverging": [
            [
             0,
             "#8e0152"
            ],
            [
             0.1,
             "#c51b7d"
            ],
            [
             0.2,
             "#de77ae"
            ],
            [
             0.3,
             "#f1b6da"
            ],
            [
             0.4,
             "#fde0ef"
            ],
            [
             0.5,
             "#f7f7f7"
            ],
            [
             0.6,
             "#e6f5d0"
            ],
            [
             0.7,
             "#b8e186"
            ],
            [
             0.8,
             "#7fbc41"
            ],
            [
             0.9,
             "#4d9221"
            ],
            [
             1,
             "#276419"
            ]
           ],
           "sequential": [
            [
             0,
             "#0d0887"
            ],
            [
             0.1111111111111111,
             "#46039f"
            ],
            [
             0.2222222222222222,
             "#7201a8"
            ],
            [
             0.3333333333333333,
             "#9c179e"
            ],
            [
             0.4444444444444444,
             "#bd3786"
            ],
            [
             0.5555555555555556,
             "#d8576b"
            ],
            [
             0.6666666666666666,
             "#ed7953"
            ],
            [
             0.7777777777777778,
             "#fb9f3a"
            ],
            [
             0.8888888888888888,
             "#fdca26"
            ],
            [
             1,
             "#f0f921"
            ]
           ],
           "sequentialminus": [
            [
             0,
             "#0d0887"
            ],
            [
             0.1111111111111111,
             "#46039f"
            ],
            [
             0.2222222222222222,
             "#7201a8"
            ],
            [
             0.3333333333333333,
             "#9c179e"
            ],
            [
             0.4444444444444444,
             "#bd3786"
            ],
            [
             0.5555555555555556,
             "#d8576b"
            ],
            [
             0.6666666666666666,
             "#ed7953"
            ],
            [
             0.7777777777777778,
             "#fb9f3a"
            ],
            [
             0.8888888888888888,
             "#fdca26"
            ],
            [
             1,
             "#f0f921"
            ]
           ]
          },
          "colorway": [
           "#636efa",
           "#EF553B",
           "#00cc96",
           "#ab63fa",
           "#FFA15A",
           "#19d3f3",
           "#FF6692",
           "#B6E880",
           "#FF97FF",
           "#FECB52"
          ],
          "font": {
           "color": "#2a3f5f"
          },
          "geo": {
           "bgcolor": "white",
           "lakecolor": "white",
           "landcolor": "#E5ECF6",
           "showlakes": true,
           "showland": true,
           "subunitcolor": "white"
          },
          "hoverlabel": {
           "align": "left"
          },
          "hovermode": "closest",
          "mapbox": {
           "style": "light"
          },
          "paper_bgcolor": "white",
          "plot_bgcolor": "#E5ECF6",
          "polar": {
           "angularaxis": {
            "gridcolor": "white",
            "linecolor": "white",
            "ticks": ""
           },
           "bgcolor": "#E5ECF6",
           "radialaxis": {
            "gridcolor": "white",
            "linecolor": "white",
            "ticks": ""
           }
          },
          "scene": {
           "xaxis": {
            "backgroundcolor": "#E5ECF6",
            "gridcolor": "white",
            "gridwidth": 2,
            "linecolor": "white",
            "showbackground": true,
            "ticks": "",
            "zerolinecolor": "white"
           },
           "yaxis": {
            "backgroundcolor": "#E5ECF6",
            "gridcolor": "white",
            "gridwidth": 2,
            "linecolor": "white",
            "showbackground": true,
            "ticks": "",
            "zerolinecolor": "white"
           },
           "zaxis": {
            "backgroundcolor": "#E5ECF6",
            "gridcolor": "white",
            "gridwidth": 2,
            "linecolor": "white",
            "showbackground": true,
            "ticks": "",
            "zerolinecolor": "white"
           }
          },
          "shapedefaults": {
           "line": {
            "color": "#2a3f5f"
           }
          },
          "ternary": {
           "aaxis": {
            "gridcolor": "white",
            "linecolor": "white",
            "ticks": ""
           },
           "baxis": {
            "gridcolor": "white",
            "linecolor": "white",
            "ticks": ""
           },
           "bgcolor": "#E5ECF6",
           "caxis": {
            "gridcolor": "white",
            "linecolor": "white",
            "ticks": ""
           }
          },
          "title": {
           "x": 0.05
          },
          "xaxis": {
           "automargin": true,
           "gridcolor": "white",
           "linecolor": "white",
           "ticks": "",
           "title": {
            "standoff": 15
           },
           "zerolinecolor": "white",
           "zerolinewidth": 2
          },
          "yaxis": {
           "automargin": true,
           "gridcolor": "white",
           "linecolor": "white",
           "ticks": "",
           "title": {
            "standoff": 15
           },
           "zerolinecolor": "white",
           "zerolinewidth": 2
          }
         }
        },
        "title": {
         "text": "The rumor graph of bioweapon at week 7"
        },
        "width": 1000,
        "xaxis": {
         "showgrid": false,
         "showline": false,
         "showticklabels": false,
         "title": {
          "text": ""
         },
         "zeroline": false
        },
        "yaxis": {
         "showgrid": false,
         "showline": false,
         "showticklabels": false,
         "title": {
          "text": ""
         },
         "zeroline": false
        }
       }
      },
      "text/html": [
       "<div>\n",
       "        \n",
       "        \n",
       "            <div id=\"409f6c12-cb90-46c4-839e-b649d7a09d77\" class=\"plotly-graph-div\" style=\"height:1000px; width:1000px;\"></div>\n",
       "            <script type=\"text/javascript\">\n",
       "                require([\"plotly\"], function(Plotly) {\n",
       "                    window.PLOTLYENV=window.PLOTLYENV || {};\n",
       "                    \n",
       "                if (document.getElementById(\"409f6c12-cb90-46c4-839e-b649d7a09d77\")) {\n",
       "                    Plotly.newPlot(\n",
       "                        '409f6c12-cb90-46c4-839e-b649d7a09d77',\n",
       "                        [{\"hoverinfo\": \"none\", \"line\": {\"color\": \"black\", \"width\": 2}, \"mode\": \"lines\", \"opacity\": 1, \"type\": \"scatter\", \"x\": [0.4589779188391658, 0.14345145534995443, null], \"y\": [-0.4137951377005734, -0.20922966260672396, null]}, {\"hoverinfo\": \"none\", \"line\": {\"color\": \"black\", \"width\": 2}, \"mode\": \"lines\", \"opacity\": 1, \"type\": \"scatter\", \"x\": [0.14345145534995443, 0.22650289507991103, null], \"y\": [-0.20922966260672396, 0.23001000712761038, null]}, {\"hoverinfo\": \"none\", \"line\": {\"color\": \"black\", \"width\": 2}, \"mode\": \"lines\", \"opacity\": 1, \"type\": \"scatter\", \"x\": [0.22650289507991103, 0.6144101248933538, null], \"y\": [0.23001000712761038, 0.77348066273073, null]}, {\"hoverinfo\": \"text\", \"marker\": {\"color\": \"grey\", \"opacity\": 0}, \"mode\": \"markers\", \"text\": [\"\", \"\", \"\"], \"type\": \"scatter\", \"x\": [0.3012146870945601, 0.18497717521493273, 0.4204565099866324], \"y\": [-0.31151240015364867, 0.010390172260443212, 0.5017453349291702]}, {\"hoverinfo\": \"none\", \"line\": {\"color\": \"purple\", \"width\": 2}, \"mode\": \"lines\", \"opacity\": 1, \"type\": \"scatter\", \"x\": [0.4589779188391658, -0.07036625534684322, null], \"y\": [-0.4137951377005734, -0.26611879904749824, null]}, {\"hoverinfo\": \"none\", \"line\": {\"color\": \"purple\", \"width\": 2}, \"mode\": \"lines\", \"opacity\": 1, \"type\": \"scatter\", \"x\": [-0.07036625534684322, -1.0, null], \"y\": [-0.26611879904749824, -0.13549194389968885, null]}, {\"hoverinfo\": \"none\", \"line\": {\"color\": \"purple\", \"width\": 2}, \"mode\": \"lines\", \"opacity\": 1, \"type\": \"scatter\", \"x\": [-1.0, -0.5437393206838801, null], \"y\": [-0.13549194389968885, 0.13539002111208925, null]}, {\"hoverinfo\": \"none\", \"line\": {\"color\": \"purple\", \"width\": 2}, \"mode\": \"lines\", \"opacity\": 1, \"type\": \"scatter\", \"x\": [-0.5437393206838801, -0.1150412598903132, null], \"y\": [0.13539002111208925, 0.5915497667057682, null]}, {\"hoverinfo\": \"none\", \"line\": {\"color\": \"purple\", \"width\": 2}, \"mode\": \"lines\", \"opacity\": 1, \"type\": \"scatter\", \"x\": [-0.1150412598903132, 0.22650289507991103, null], \"y\": [0.5915497667057682, 0.23001000712761038, null]}, {\"hoverinfo\": \"none\", \"line\": {\"color\": \"purple\", \"width\": 2}, \"mode\": \"lines\", \"opacity\": 1, \"type\": \"scatter\", \"x\": [0.22650289507991103, 0.6144101248933538, null], \"y\": [0.23001000712761038, 0.77348066273073, null]}, {\"hoverinfo\": \"text\", \"marker\": {\"color\": \"grey\", \"opacity\": 0}, \"mode\": \"markers\", \"text\": [\"\", \"\", \"\", \"\", \"\", \"\"], \"type\": \"scatter\", \"x\": [0.19430583174616128, -0.5351831276734216, -0.77186966034194, -0.32939029028709665, 0.05573081759479891, 0.4204565099866324], \"y\": [-0.33995696837403583, -0.20080537147359356, -5.096139379980047e-05, 0.3634698939089287, 0.4107798869166893, 0.5017453349291702]}, {\"hoverinfo\": \"none\", \"line\": {\"color\": \"green\", \"width\": 2}, \"mode\": \"lines\", \"opacity\": 1, \"type\": \"scatter\", \"x\": [0.4589779188391658, 0.14345145534995443, null], \"y\": [-0.4137951377005734, -0.20922966260672396, null]}, {\"hoverinfo\": \"none\", \"line\": {\"color\": \"green\", \"width\": 2}, \"mode\": \"lines\", \"opacity\": 1, \"type\": \"scatter\", \"x\": [0.14345145534995443, 0.22650289507991103, null], \"y\": [-0.20922966260672396, 0.23001000712761038, null]}, {\"hoverinfo\": \"none\", \"line\": {\"color\": \"green\", \"width\": 2}, \"mode\": \"lines\", \"opacity\": 1, \"type\": \"scatter\", \"x\": [0.22650289507991103, 0.6144101248933538, null], \"y\": [0.23001000712761038, 0.77348066273073, null]}, {\"hoverinfo\": \"text\", \"marker\": {\"color\": \"grey\", \"opacity\": 0}, \"mode\": \"markers\", \"text\": [\"\", \"\", \"\"], \"type\": \"scatter\", \"x\": [0.3012146870945601, 0.18497717521493273, 0.4204565099866324], \"y\": [-0.31151240015364867, 0.010390172260443212, 0.5017453349291702]}, {\"hoverinfo\": \"none\", \"line\": {\"color\": \"black\", \"width\": 2}, \"mode\": \"lines\", \"opacity\": 1, \"type\": \"scatter\", \"x\": [-0.19779330015998967, 0.22650289507991103, null], \"y\": [-0.124243135620067, 0.23001000712761038, null]}, {\"hoverinfo\": \"none\", \"line\": {\"color\": \"black\", \"width\": 2}, \"mode\": \"lines\", \"opacity\": 1, \"type\": \"scatter\", \"x\": [0.22650289507991103, 0.6144101248933538, null], \"y\": [0.23001000712761038, 0.77348066273073, null]}, {\"hoverinfo\": \"text\", \"marker\": {\"color\": \"grey\", \"opacity\": 0}, \"mode\": \"markers\", \"text\": [\"\", \"\"], \"type\": \"scatter\", \"x\": [0.014354797459960683, 0.4204565099866324], \"y\": [0.05288343575377169, 0.5017453349291702]}, {\"hoverinfo\": \"none\", \"line\": {\"color\": \"purple\", \"width\": 2}, \"mode\": \"lines\", \"opacity\": 1, \"type\": \"scatter\", \"x\": [-0.19779330015998967, -0.37933506950544543, null], \"y\": [-0.124243135620067, -0.5754308259481848, null]}, {\"hoverinfo\": \"none\", \"line\": {\"color\": \"purple\", \"width\": 2}, \"mode\": \"lines\", \"opacity\": 1, \"type\": \"scatter\", \"x\": [-0.37933506950544543, -0.07036625534684322, null], \"y\": [-0.5754308259481848, -0.26611879904749824, null]}, {\"hoverinfo\": \"none\", \"line\": {\"color\": \"purple\", \"width\": 2}, \"mode\": \"lines\", \"opacity\": 1, \"type\": \"scatter\", \"x\": [-0.07036625534684322, -1.0, null], \"y\": [-0.26611879904749824, -0.13549194389968885, null]}, {\"hoverinfo\": \"none\", \"line\": {\"color\": \"purple\", \"width\": 2}, \"mode\": \"lines\", \"opacity\": 1, \"type\": \"scatter\", \"x\": [-1.0, -0.5437393206838801, null], \"y\": [-0.13549194389968885, 0.13539002111208925, null]}, {\"hoverinfo\": \"none\", \"line\": {\"color\": \"purple\", \"width\": 2}, \"mode\": \"lines\", \"opacity\": 1, \"type\": \"scatter\", \"x\": [-0.5437393206838801, -0.1150412598903132, null], \"y\": [0.13539002111208925, 0.5915497667057682, null]}, {\"hoverinfo\": \"none\", \"line\": {\"color\": \"purple\", \"width\": 2}, \"mode\": \"lines\", \"opacity\": 1, \"type\": \"scatter\", \"x\": [-0.1150412598903132, 0.22650289507991103, null], \"y\": [0.5915497667057682, 0.23001000712761038, null]}, {\"hoverinfo\": \"none\", \"line\": {\"color\": \"purple\", \"width\": 2}, \"mode\": \"lines\", \"opacity\": 1, \"type\": \"scatter\", \"x\": [0.22650289507991103, 0.6144101248933538, null], \"y\": [0.23001000712761038, 0.77348066273073, null]}, {\"hoverinfo\": \"text\", \"marker\": {\"color\": \"grey\", \"opacity\": 0}, \"mode\": \"markers\", \"text\": [\"\", \"\", \"\", \"\", \"\", \"\", \"\"], \"type\": \"scatter\", \"x\": [-0.28856418483271756, -0.22485066242614432, -0.5351831276734216, -0.77186966034194, -0.32939029028709665, 0.05573081759479891, 0.4204565099866324], \"y\": [-0.34983698078412595, -0.42077481249784154, -0.20080537147359356, -5.096139379980047e-05, 0.3634698939089287, 0.4107798869166893, 0.5017453349291702]}, {\"hoverinfo\": \"none\", \"line\": {\"color\": \"green\", \"width\": 2}, \"mode\": \"lines\", \"opacity\": 1, \"type\": \"scatter\", \"x\": [-0.19779330015998967, 0.22650289507991103, null], \"y\": [-0.124243135620067, 0.23001000712761038, null]}, {\"hoverinfo\": \"none\", \"line\": {\"color\": \"green\", \"width\": 2}, \"mode\": \"lines\", \"opacity\": 1, \"type\": \"scatter\", \"x\": [0.22650289507991103, 0.6144101248933538, null], \"y\": [0.23001000712761038, 0.77348066273073, null]}, {\"hoverinfo\": \"text\", \"marker\": {\"color\": \"grey\", \"opacity\": 0}, \"mode\": \"markers\", \"text\": [\"\", \"\"], \"type\": \"scatter\", \"x\": [0.014354797459960683, 0.4204565099866324], \"y\": [0.05288343575377169, 0.5017453349291702]}, {\"hoverinfo\": \"none\", \"line\": {\"color\": \"yellow\", \"width\": 28.09307144540729}, \"mode\": \"lines\", \"opacity\": 0.2, \"type\": \"scatter\", \"x\": [0.4589779188391658, 0.14345145534995443, null], \"y\": [-0.4137951377005734, -0.20922966260672396, null]}, {\"hoverinfo\": \"none\", \"line\": {\"color\": \"orange\", \"width\": 14.347916639513588}, \"mode\": \"lines\", \"opacity\": 0.2, \"type\": \"scatter\", \"x\": [0.4589779188391658, -0.07036625534684322, null], \"y\": [-0.4137951377005734, -0.26611879904749824, null]}, {\"hoverinfo\": \"none\", \"line\": {\"color\": \"red\", \"width\": 14.347916639513588}, \"mode\": \"lines\", \"opacity\": 0.2, \"type\": \"scatter\", \"x\": [0.4589779188391658, 0.4589779188391658, null], \"y\": [-0.4137951377005734, -0.4137951377005734, null]}, {\"hoverinfo\": \"none\", \"line\": {\"color\": \"red\", \"width\": 8.258871764066742}, \"mode\": \"lines\", \"opacity\": 0.2, \"type\": \"scatter\", \"x\": [0.4589779188391658, 0.8629328114240867, null], \"y\": [-0.4137951377005734, -0.006120952853462048, null]}, {\"hoverinfo\": \"none\", \"line\": {\"color\": \"red\", \"width\": 9.953467484841148}, \"mode\": \"lines\", \"opacity\": 0.2, \"type\": \"scatter\", \"x\": [-1.0, -0.5437393206838801, null], \"y\": [-0.13549194389968885, 0.13539002111208925, null]}, {\"hoverinfo\": \"none\", \"line\": {\"color\": \"red\", \"width\": 5.55901833016871}, \"mode\": \"lines\", \"opacity\": 0.2, \"type\": \"scatter\", \"x\": [-1.0, -0.07036625534684322, null], \"y\": [-0.13549194389968885, -0.26611879904749824, null]}, {\"hoverinfo\": \"none\", \"line\": {\"color\": \"black\", \"width\": 37.26300640274843}, \"mode\": \"lines\", \"opacity\": 0.2, \"type\": \"scatter\", \"x\": [-0.5437393206838801, -0.19779330015998967, null], \"y\": [0.13539002111208925, -0.124243135620067, null]}, {\"hoverinfo\": \"none\", \"line\": {\"color\": \"orange\", \"width\": 8.567173123721258}, \"mode\": \"lines\", \"opacity\": 0.2, \"type\": \"scatter\", \"x\": [-0.5437393206838801, -0.1150412598903132, null], \"y\": [0.13539002111208925, 0.5915497667057682, null]}, {\"hoverinfo\": \"none\", \"line\": {\"color\": \"yellow\", \"width\": 9.378103339937587}, \"mode\": \"lines\", \"opacity\": 0.2, \"type\": \"scatter\", \"x\": [0.14345145534995443, 0.22650289507991103, null], \"y\": [-0.20922966260672396, 0.23001000712761038, null]}, {\"hoverinfo\": \"none\", \"line\": {\"color\": \"yellow\", \"width\": 68.96699447532816}, \"mode\": \"lines\", \"opacity\": 0.2, \"type\": \"scatter\", \"x\": [0.14345145534995443, -0.19779330015998967, null], \"y\": [-0.20922966260672396, -0.124243135620067, null]}, {\"hoverinfo\": \"none\", \"line\": {\"color\": \"yellow\", \"width\": 11.575327917273807}, \"mode\": \"lines\", \"opacity\": 0.2, \"type\": \"scatter\", \"x\": [0.14345145534995443, -0.07036625534684322, null], \"y\": [-0.20922966260672396, -0.26611879904749824, null]}, {\"hoverinfo\": \"none\", \"line\": {\"color\": \"yellow\", \"width\": 23.726019979451173}, \"mode\": \"lines\", \"opacity\": 0.2, \"type\": \"scatter\", \"x\": [0.22650289507991103, -0.1150412598903132, null], \"y\": [0.23001000712761038, 0.5915497667057682, null]}, {\"hoverinfo\": \"none\", \"line\": {\"color\": \"red\", \"width\": 14.347916639513588}, \"mode\": \"lines\", \"opacity\": 0.2, \"type\": \"scatter\", \"x\": [0.22650289507991103, 0.6144101248933538, null], \"y\": [0.23001000712761038, 0.77348066273073, null]}, {\"hoverinfo\": \"none\", \"line\": {\"color\": \"yellow\", \"width\": 25.112314340571068}, \"mode\": \"lines\", \"opacity\": 0.2, \"type\": \"scatter\", \"x\": [0.22650289507991103, -0.07036625534684322, null], \"y\": [0.23001000712761038, -0.26611879904749824, null]}, {\"hoverinfo\": \"none\", \"line\": {\"color\": \"yellow\", \"width\": 11.575327917273807}, \"mode\": \"lines\", \"opacity\": 0.2, \"type\": \"scatter\", \"x\": [0.22650289507991103, 0.8629328114240867, null], \"y\": [0.23001000712761038, -0.006120952853462048, null]}, {\"hoverinfo\": \"none\", \"line\": {\"color\": \"yellow\", \"width\": 14.347916639513588}, \"mode\": \"lines\", \"opacity\": 0.2, \"type\": \"scatter\", \"x\": [0.22650289507991103, -0.19779330015998967, null], \"y\": [0.23001000712761038, -0.124243135620067, null]}, {\"hoverinfo\": \"none\", \"line\": {\"color\": \"yellow\", \"width\": 64.7718050025534}, \"mode\": \"lines\", \"opacity\": 0.2, \"type\": \"scatter\", \"x\": [-0.07036625534684322, -0.19779330015998967, null], \"y\": [-0.26611879904749824, -0.124243135620067, null]}, {\"hoverinfo\": \"none\", \"line\": {\"color\": \"yellow\", \"width\": 8.931816237309167}, \"mode\": \"lines\", \"opacity\": 0.2, \"type\": \"scatter\", \"x\": [-0.07036625534684322, -0.07036625534684322, null], \"y\": [-0.26611879904749824, -0.26611879904749824, null]}, {\"hoverinfo\": \"none\", \"line\": {\"color\": \"orange\", \"width\": 14.347916639513588}, \"mode\": \"lines\", \"opacity\": 0.2, \"type\": \"scatter\", \"x\": [-0.07036625534684322, -0.37933506950544543, null], \"y\": [-0.26611879904749824, -0.5754308259481848, null]}, {\"hoverinfo\": \"none\", \"line\": {\"color\": \"orange\", \"width\": 24.090663093039083}, \"mode\": \"lines\", \"opacity\": 0.2, \"type\": \"scatter\", \"x\": [-0.37933506950544543, -0.19779330015998967, null], \"y\": [-0.5754308259481848, -0.124243135620067, null]}, {\"hoverinfo\": \"text\", \"marker\": {\"color\": \"grey\", \"opacity\": 0}, \"mode\": \"markers\", \"text\": [\"'weight': 14.046535722703645<br>'d_suspicious': 0.0<br>'colors': [0.33333333 0.66666667 0.         0.        ]\", \"'weight': 7.173958319756794<br>'d_suspicious': 1.0<br>'colors': [0. 0. 1. 0.]\", \"'weight': 7.173958319756794<br>'d_suspicious': 1.0<br>'colors': [0. 0. 0. 1.]\", \"'weight': 4.129435882033371<br>'d_suspicious': 1.0<br>'colors': [0. 0. 0. 1.]\", \"'weight': 4.976733742420574<br>'d_suspicious': 1.0<br>'colors': [0. 0. 0. 1.]\", \"'weight': 2.779509165084355<br>'d_suspicious': 1.0<br>'colors': [0. 0. 0. 1.]\", \"'weight': 18.631503201374215<br>'d_suspicious': 0.6<br>'colors': [0.4 0.  0.4 0.2]\", \"'weight': 4.283586561860629<br>'d_suspicious': 1.0<br>'colors': [0. 0. 1. 0.]\", \"'weight': 4.689051669968793<br>'d_suspicious': 0.0<br>'colors': [0. 1. 0. 0.]\", \"'weight': 34.48349723766408<br>'d_suspicious': 0.0<br>'colors': [0.4 0.6 0.  0. ]\", \"'weight': 5.787663958636903<br>'d_suspicious': 0.0<br>'colors': [0. 1. 0. 0.]\", \"'weight': 11.863009989725587<br>'d_suspicious': 0.5<br>'colors': [0.  0.5 0.5 0. ]\", \"'weight': 7.173958319756794<br>'d_suspicious': 1.0<br>'colors': [0. 0. 0. 1.]\", \"'weight': 12.556157170285534<br>'d_suspicious': 0.0<br>'colors': [0. 1. 0. 0.]\", \"'weight': 5.787663958636903<br>'d_suspicious': 0.0<br>'colors': [0. 1. 0. 0.]\", \"'weight': 7.173958319756794<br>'d_suspicious': 0.0<br>'colors': [0. 1. 0. 0.]\", \"'weight': 32.3859025012767<br>'d_suspicious': 0.0<br>'colors': [0.14285714 0.85714286 0.         0.        ]\", \"'weight': 4.465908118654584<br>'d_suspicious': 0.0<br>'colors': [0. 1. 0. 0.]\", \"'weight': 7.173958319756794<br>'d_suspicious': 1.0<br>'colors': [0. 0. 1. 0.]\", \"'weight': 12.045331546519542<br>'d_suspicious': 1.0<br>'colors': [0.  0.  0.5 0.5]\"], \"type\": \"scatter\", \"x\": [0.3012146870945601, 0.19430583174616128, 0.4589779188391658, 0.6609553651316262, -0.77186966034194, -0.5351831276734216, -0.37076631042193486, -0.32939029028709665, 0.18497717521493273, -0.027170922405017617, 0.036542600001555604, 0.05573081759479891, 0.4204565099866324, 0.0780683198665339, 0.5447178532519988, 0.014354797459960683, -0.13407977775341645, -0.07036625534684322, -0.22485066242614432, -0.28856418483271756], \"y\": [-0.31151240015364867, -0.33995696837403583, -0.4137951377005734, -0.20995804527701772, -5.096139379980047e-05, -0.20080537147359356, 0.005573442746011126, 0.3634698939089287, 0.010390172260443212, -0.1667363991133955, -0.2376742308271111, 0.4107798869166893, 0.5017453349291702, -0.01805439595994393, 0.11194452713707417, 0.05288343575377169, -0.19518096733378262, -0.26611879904749824, -0.42077481249784154, -0.34983698078412595]}, {\"hoverinfo\": \"text\", \"marker\": {\"color\": [\"black\", \"green\", \"black\", \"yellow\", \"yellow\", \"yellow\", \"yellow\", \"orange\", \"black\", \"red\", \"black\"], \"line\": {\"color\": \"rgb(50,50,50)\", \"width\": 0.5}, \"size\": 50, \"symbol\": \"circle-dot\"}, \"mode\": \"markers\", \"name\": \"net\", \"text\": [\"'name':SUPER:virus|deadly_virus<br>'df': 40.78125<br>'pop': -2.853678198575083<br>'rt': 1.8125<br>'fav': 3.5625<br>'color': [0.46875 0.21875 0.21875 0.09375]<br>'freq': 32\", \"'name':briefing<br>'df': 435.0<br>'pop': -3.0123901316022534<br>'rt': 0.3333333333333333<br>'fav': 0.6666666666666666<br>'color': [0.66666667 0.         0.         0.33333333]<br>'freq': 3\", \"'name':SUPER:you|your<br>'df': 68.6842105263158<br>'pop': -2.2614224191394663<br>'rt': 0.5789473684210527<br>'fav': 1.2105263157894737<br>'color': [0.21052632 0.31578947 0.31578947 0.15789474]<br>'freq': 19\", \"'name':china<br>'df': 17.876712328767123<br>'pop': -2.4099646028422543<br>'rt': 1.082191780821918<br>'fav': 1.8904109589041096<br>'color': [0.23287671 0.53424658 0.06849315 0.16438356]<br>'freq': 73\", \"'name':lab<br>'df': 186.42857142857142<br>'pop': -4.042228094262054<br>'rt': 0.14285714285714285<br>'fav': 0.14285714285714285<br>'color': [0.         0.71428571 0.14285714 0.14285714]<br>'freq': 7\", \"'name':vaccine<br>'df': 186.42857142857142<br>'pop': -2.0707094116151774<br>'rt': 0.14285714285714285<br>'fav': 0.14285714285714285<br>'color': [0.         0.57142857 0.42857143 0.        ]<br>'freq': 7\", \"'name':SUPER:<<NUM>>_people|<<NUM>>_day|<<NUM>>_case<br>'df': 26.1<br>'pop': -2.562738643878087<br>'rt': 0.88<br>'fav': 1.96<br>'color': [0.14 0.66 0.1  0.1 ]<br>'freq': 50\", \"'name':pandemic<br>'df': 217.5<br>'pop': -2.493206830953715<br>'rt': 0.3333333333333333<br>'fav': 0.3333333333333333<br>'color': [0.16666667 0.16666667 0.5        0.16666667]<br>'freq': 6\", \"'name':SUPER:coronavirus|oronavirus<br>'df': 6.46039603960396<br>'pop': -2.059009570729066<br>'rt': 1.099009900990099<br>'fav': 1.5940594059405941<br>'color': [0.23267327 0.49009901 0.15346535 0.12376238]<br>'freq': 202\", \"'name':bioweapon<br>'df': 1305.0<br>'pop': -3.201252216354915<br>'rt': 1.0<br>'fav': 1.0<br>'color': [0. 0. 0. 1.]<br>'freq': 1\", \"'name':SUPER:report|document<br>'df': 261.0<br>'pop': -3.1822125986883996<br>'rt': 0.6<br>'fav': 1.8<br>'color': [0.2 0.4 0.2 0.2]<br>'freq': 5\"], \"type\": \"scatter\", \"x\": [0.4589779188391658, -1.0, -0.5437393206838801, 0.14345145534995443, 0.22650289507991103, -0.1150412598903132, -0.07036625534684322, -0.37933506950544543, -0.19779330015998967, 0.6144101248933538, 0.8629328114240867], \"y\": [-0.4137951377005734, -0.13549194389968885, 0.13539002111208925, -0.20922966260672396, 0.23001000712761038, 0.5915497667057682, -0.26611879904749824, -0.5754308259481848, -0.124243135620067, 0.77348066273073, -0.006120952853462048]}],\n",
       "                        {\"annotations\": [{\"font\": {\"size\": 14}, \"showarrow\": false, \"text\": \"The rumor graph\", \"x\": 0, \"xanchor\": \"left\", \"xref\": \"paper\", \"y\": -0.1, \"yanchor\": \"bottom\", \"yref\": \"paper\"}], \"autosize\": false, \"font\": {\"size\": 12}, \"height\": 1000, \"hovermode\": \"closest\", \"margin\": {\"b\": 85, \"l\": 40, \"r\": 40, \"t\": 100}, \"showlegend\": false, \"template\": {\"data\": {\"bar\": [{\"error_x\": {\"color\": \"#2a3f5f\"}, \"error_y\": {\"color\": \"#2a3f5f\"}, \"marker\": {\"line\": {\"color\": \"#E5ECF6\", \"width\": 0.5}}, \"type\": \"bar\"}], \"barpolar\": [{\"marker\": {\"line\": {\"color\": \"#E5ECF6\", \"width\": 0.5}}, \"type\": \"barpolar\"}], \"carpet\": [{\"aaxis\": {\"endlinecolor\": \"#2a3f5f\", \"gridcolor\": \"white\", \"linecolor\": \"white\", \"minorgridcolor\": \"white\", \"startlinecolor\": \"#2a3f5f\"}, \"baxis\": {\"endlinecolor\": \"#2a3f5f\", \"gridcolor\": \"white\", \"linecolor\": \"white\", \"minorgridcolor\": \"white\", \"startlinecolor\": \"#2a3f5f\"}, \"type\": \"carpet\"}], \"choropleth\": [{\"colorbar\": {\"outlinewidth\": 0, \"ticks\": \"\"}, \"type\": \"choropleth\"}], \"contour\": [{\"colorbar\": {\"outlinewidth\": 0, \"ticks\": \"\"}, \"colorscale\": [[0.0, \"#0d0887\"], [0.1111111111111111, \"#46039f\"], [0.2222222222222222, \"#7201a8\"], [0.3333333333333333, \"#9c179e\"], [0.4444444444444444, \"#bd3786\"], [0.5555555555555556, \"#d8576b\"], [0.6666666666666666, \"#ed7953\"], [0.7777777777777778, \"#fb9f3a\"], [0.8888888888888888, \"#fdca26\"], [1.0, \"#f0f921\"]], \"type\": \"contour\"}], \"contourcarpet\": [{\"colorbar\": {\"outlinewidth\": 0, \"ticks\": \"\"}, \"type\": \"contourcarpet\"}], \"heatmap\": [{\"colorbar\": {\"outlinewidth\": 0, \"ticks\": \"\"}, \"colorscale\": [[0.0, \"#0d0887\"], [0.1111111111111111, \"#46039f\"], [0.2222222222222222, \"#7201a8\"], [0.3333333333333333, \"#9c179e\"], [0.4444444444444444, \"#bd3786\"], [0.5555555555555556, \"#d8576b\"], [0.6666666666666666, \"#ed7953\"], [0.7777777777777778, \"#fb9f3a\"], [0.8888888888888888, \"#fdca26\"], [1.0, \"#f0f921\"]], \"type\": \"heatmap\"}], \"heatmapgl\": [{\"colorbar\": {\"outlinewidth\": 0, \"ticks\": \"\"}, \"colorscale\": [[0.0, \"#0d0887\"], [0.1111111111111111, \"#46039f\"], [0.2222222222222222, \"#7201a8\"], [0.3333333333333333, \"#9c179e\"], [0.4444444444444444, \"#bd3786\"], [0.5555555555555556, \"#d8576b\"], [0.6666666666666666, \"#ed7953\"], [0.7777777777777778, \"#fb9f3a\"], [0.8888888888888888, \"#fdca26\"], [1.0, \"#f0f921\"]], \"type\": \"heatmapgl\"}], \"histogram\": [{\"marker\": {\"colorbar\": {\"outlinewidth\": 0, \"ticks\": \"\"}}, \"type\": \"histogram\"}], \"histogram2d\": [{\"colorbar\": {\"outlinewidth\": 0, \"ticks\": \"\"}, \"colorscale\": [[0.0, \"#0d0887\"], [0.1111111111111111, \"#46039f\"], [0.2222222222222222, \"#7201a8\"], [0.3333333333333333, \"#9c179e\"], [0.4444444444444444, \"#bd3786\"], [0.5555555555555556, \"#d8576b\"], [0.6666666666666666, \"#ed7953\"], [0.7777777777777778, \"#fb9f3a\"], [0.8888888888888888, \"#fdca26\"], [1.0, \"#f0f921\"]], \"type\": \"histogram2d\"}], \"histogram2dcontour\": [{\"colorbar\": {\"outlinewidth\": 0, \"ticks\": \"\"}, \"colorscale\": [[0.0, \"#0d0887\"], [0.1111111111111111, \"#46039f\"], [0.2222222222222222, \"#7201a8\"], [0.3333333333333333, \"#9c179e\"], [0.4444444444444444, \"#bd3786\"], [0.5555555555555556, \"#d8576b\"], [0.6666666666666666, \"#ed7953\"], [0.7777777777777778, \"#fb9f3a\"], [0.8888888888888888, \"#fdca26\"], [1.0, \"#f0f921\"]], \"type\": \"histogram2dcontour\"}], \"mesh3d\": [{\"colorbar\": {\"outlinewidth\": 0, \"ticks\": \"\"}, \"type\": \"mesh3d\"}], \"parcoords\": [{\"line\": {\"colorbar\": {\"outlinewidth\": 0, \"ticks\": \"\"}}, \"type\": \"parcoords\"}], \"pie\": [{\"automargin\": true, \"type\": \"pie\"}], \"scatter\": [{\"marker\": {\"colorbar\": {\"outlinewidth\": 0, \"ticks\": \"\"}}, \"type\": \"scatter\"}], \"scatter3d\": [{\"line\": {\"colorbar\": {\"outlinewidth\": 0, \"ticks\": \"\"}}, \"marker\": {\"colorbar\": {\"outlinewidth\": 0, \"ticks\": \"\"}}, \"type\": \"scatter3d\"}], \"scattercarpet\": [{\"marker\": {\"colorbar\": {\"outlinewidth\": 0, \"ticks\": \"\"}}, \"type\": \"scattercarpet\"}], \"scattergeo\": [{\"marker\": {\"colorbar\": {\"outlinewidth\": 0, \"ticks\": \"\"}}, \"type\": \"scattergeo\"}], \"scattergl\": [{\"marker\": {\"colorbar\": {\"outlinewidth\": 0, \"ticks\": \"\"}}, \"type\": \"scattergl\"}], \"scattermapbox\": [{\"marker\": {\"colorbar\": {\"outlinewidth\": 0, \"ticks\": \"\"}}, \"type\": \"scattermapbox\"}], \"scatterpolar\": [{\"marker\": {\"colorbar\": {\"outlinewidth\": 0, \"ticks\": \"\"}}, \"type\": \"scatterpolar\"}], \"scatterpolargl\": [{\"marker\": {\"colorbar\": {\"outlinewidth\": 0, \"ticks\": \"\"}}, \"type\": \"scatterpolargl\"}], \"scatterternary\": [{\"marker\": {\"colorbar\": {\"outlinewidth\": 0, \"ticks\": \"\"}}, \"type\": \"scatterternary\"}], \"surface\": [{\"colorbar\": {\"outlinewidth\": 0, \"ticks\": \"\"}, \"colorscale\": [[0.0, \"#0d0887\"], [0.1111111111111111, \"#46039f\"], [0.2222222222222222, \"#7201a8\"], [0.3333333333333333, \"#9c179e\"], [0.4444444444444444, \"#bd3786\"], [0.5555555555555556, \"#d8576b\"], [0.6666666666666666, \"#ed7953\"], [0.7777777777777778, \"#fb9f3a\"], [0.8888888888888888, \"#fdca26\"], [1.0, \"#f0f921\"]], \"type\": \"surface\"}], \"table\": [{\"cells\": {\"fill\": {\"color\": \"#EBF0F8\"}, \"line\": {\"color\": \"white\"}}, \"header\": {\"fill\": {\"color\": \"#C8D4E3\"}, \"line\": {\"color\": \"white\"}}, \"type\": \"table\"}]}, \"layout\": {\"annotationdefaults\": {\"arrowcolor\": \"#2a3f5f\", \"arrowhead\": 0, \"arrowwidth\": 1}, \"coloraxis\": {\"colorbar\": {\"outlinewidth\": 0, \"ticks\": \"\"}}, \"colorscale\": {\"diverging\": [[0, \"#8e0152\"], [0.1, \"#c51b7d\"], [0.2, \"#de77ae\"], [0.3, \"#f1b6da\"], [0.4, \"#fde0ef\"], [0.5, \"#f7f7f7\"], [0.6, \"#e6f5d0\"], [0.7, \"#b8e186\"], [0.8, \"#7fbc41\"], [0.9, \"#4d9221\"], [1, \"#276419\"]], \"sequential\": [[0.0, \"#0d0887\"], [0.1111111111111111, \"#46039f\"], [0.2222222222222222, \"#7201a8\"], [0.3333333333333333, \"#9c179e\"], [0.4444444444444444, \"#bd3786\"], [0.5555555555555556, \"#d8576b\"], [0.6666666666666666, \"#ed7953\"], [0.7777777777777778, \"#fb9f3a\"], [0.8888888888888888, \"#fdca26\"], [1.0, \"#f0f921\"]], \"sequentialminus\": [[0.0, \"#0d0887\"], [0.1111111111111111, \"#46039f\"], [0.2222222222222222, \"#7201a8\"], [0.3333333333333333, \"#9c179e\"], [0.4444444444444444, \"#bd3786\"], [0.5555555555555556, \"#d8576b\"], [0.6666666666666666, \"#ed7953\"], [0.7777777777777778, \"#fb9f3a\"], [0.8888888888888888, \"#fdca26\"], [1.0, \"#f0f921\"]]}, \"colorway\": [\"#636efa\", \"#EF553B\", \"#00cc96\", \"#ab63fa\", \"#FFA15A\", \"#19d3f3\", \"#FF6692\", \"#B6E880\", \"#FF97FF\", \"#FECB52\"], \"font\": {\"color\": \"#2a3f5f\"}, \"geo\": {\"bgcolor\": \"white\", \"lakecolor\": \"white\", \"landcolor\": \"#E5ECF6\", \"showlakes\": true, \"showland\": true, \"subunitcolor\": \"white\"}, \"hoverlabel\": {\"align\": \"left\"}, \"hovermode\": \"closest\", \"mapbox\": {\"style\": \"light\"}, \"paper_bgcolor\": \"white\", \"plot_bgcolor\": \"#E5ECF6\", \"polar\": {\"angularaxis\": {\"gridcolor\": \"white\", \"linecolor\": \"white\", \"ticks\": \"\"}, \"bgcolor\": \"#E5ECF6\", \"radialaxis\": {\"gridcolor\": \"white\", \"linecolor\": \"white\", \"ticks\": \"\"}}, \"scene\": {\"xaxis\": {\"backgroundcolor\": \"#E5ECF6\", \"gridcolor\": \"white\", \"gridwidth\": 2, \"linecolor\": \"white\", \"showbackground\": true, \"ticks\": \"\", \"zerolinecolor\": \"white\"}, \"yaxis\": {\"backgroundcolor\": \"#E5ECF6\", \"gridcolor\": \"white\", \"gridwidth\": 2, \"linecolor\": \"white\", \"showbackground\": true, \"ticks\": \"\", \"zerolinecolor\": \"white\"}, \"zaxis\": {\"backgroundcolor\": \"#E5ECF6\", \"gridcolor\": \"white\", \"gridwidth\": 2, \"linecolor\": \"white\", \"showbackground\": true, \"ticks\": \"\", \"zerolinecolor\": \"white\"}}, \"shapedefaults\": {\"line\": {\"color\": \"#2a3f5f\"}}, \"ternary\": {\"aaxis\": {\"gridcolor\": \"white\", \"linecolor\": \"white\", \"ticks\": \"\"}, \"baxis\": {\"gridcolor\": \"white\", \"linecolor\": \"white\", \"ticks\": \"\"}, \"bgcolor\": \"#E5ECF6\", \"caxis\": {\"gridcolor\": \"white\", \"linecolor\": \"white\", \"ticks\": \"\"}}, \"title\": {\"x\": 0.05}, \"xaxis\": {\"automargin\": true, \"gridcolor\": \"white\", \"linecolor\": \"white\", \"ticks\": \"\", \"title\": {\"standoff\": 15}, \"zerolinecolor\": \"white\", \"zerolinewidth\": 2}, \"yaxis\": {\"automargin\": true, \"gridcolor\": \"white\", \"linecolor\": \"white\", \"ticks\": \"\", \"title\": {\"standoff\": 15}, \"zerolinecolor\": \"white\", \"zerolinewidth\": 2}}}, \"title\": {\"text\": \"The rumor graph of bioweapon at week 7\"}, \"width\": 1000, \"xaxis\": {\"showgrid\": false, \"showline\": false, \"showticklabels\": false, \"title\": {\"text\": \"\"}, \"zeroline\": false}, \"yaxis\": {\"showgrid\": false, \"showline\": false, \"showticklabels\": false, \"title\": {\"text\": \"\"}, \"zeroline\": false}},\n",
       "                        {\"responsive\": true}\n",
       "                    ).then(function(){\n",
       "                            \n",
       "var gd = document.getElementById('409f6c12-cb90-46c4-839e-b649d7a09d77');\n",
       "var x = new MutationObserver(function (mutations, observer) {{\n",
       "        var display = window.getComputedStyle(gd).display;\n",
       "        if (!display || display === 'none') {{\n",
       "            console.log([gd, 'removed!']);\n",
       "            Plotly.purge(gd);\n",
       "            observer.disconnect();\n",
       "        }}\n",
       "}});\n",
       "\n",
       "// Listen for the removal of the full notebook cells\n",
       "var notebookContainer = gd.closest('#notebook-container');\n",
       "if (notebookContainer) {{\n",
       "    x.observe(notebookContainer, {childList: true});\n",
       "}}\n",
       "\n",
       "// Listen for the clearing of the current output cell\n",
       "var outputEl = gd.closest('.output');\n",
       "if (outputEl) {{\n",
       "    x.observe(outputEl, {childList: true});\n",
       "}}\n",
       "\n",
       "                        })\n",
       "                };\n",
       "                });\n",
       "            </script>\n",
       "        </div>"
      ]
     },
     "metadata": {},
     "output_type": "display_data"
    }
   ],
   "source": [
    "rm = 'bioweapon'\n",
    "wk = 7\n",
    "fig = plot_rumor(rm, wk, weekly_rumors[rm][wk], act_mapping, centres)\n",
    "fig"
   ]
  },
  {
   "cell_type": "code",
   "execution_count": 23,
   "metadata": {
    "code_folding": [],
    "scrolled": false
   },
   "outputs": [
    {
     "data": {
      "application/vnd.plotly.v1+json": {
       "config": {
        "plotlyServerURL": "https://plot.ly"
       },
       "data": [
        {
         "hoverinfo": "none",
         "line": {
          "color": "black",
          "width": 2
         },
         "mode": "lines",
         "opacity": 1,
         "type": "scatter",
         "x": [
          -0.07539663097025635,
          -0.04187394720583461,
          null
         ],
         "y": [
          0.4998698787510727,
          -0.04638337335604815,
          null
         ]
        },
        {
         "hoverinfo": "none",
         "line": {
          "color": "black",
          "width": 2
         },
         "mode": "lines",
         "opacity": 1,
         "type": "scatter",
         "x": [
          -0.04187394720583461,
          -0.46083495749826386,
          null
         ],
         "y": [
          -0.04638337335604815,
          -1,
          null
         ]
        },
        {
         "hoverinfo": "text",
         "marker": {
          "color": "grey",
          "opacity": 0
         },
         "mode": "markers",
         "text": [
          "",
          ""
         ],
         "type": "scatter",
         "x": [
          -0.05863528908804548,
          -0.25135445235204923
         ],
         "y": [
          0.22674325269751228,
          -0.5231916866780241
         ]
        },
        {
         "hoverinfo": "none",
         "line": {
          "color": "purple",
          "width": 2
         },
         "mode": "lines",
         "opacity": 1,
         "type": "scatter",
         "x": [
          -0.07539663097025635,
          0.4552635954334956,
          null
         ],
         "y": [
          0.4998698787510727,
          0.3500534324637007,
          null
         ]
        },
        {
         "hoverinfo": "none",
         "line": {
          "color": "purple",
          "width": 2
         },
         "mode": "lines",
         "opacity": 1,
         "type": "scatter",
         "x": [
          0.4552635954334956,
          0.7124639644958981,
          null
         ],
         "y": [
          0.3500534324637007,
          -0.15495215242996077,
          null
         ]
        },
        {
         "hoverinfo": "none",
         "line": {
          "color": "purple",
          "width": 2
         },
         "mode": "lines",
         "opacity": 1,
         "type": "scatter",
         "x": [
          0.7124639644958981,
          -0.04187394720583461,
          null
         ],
         "y": [
          -0.15495215242996077,
          -0.04638337335604815,
          null
         ]
        },
        {
         "hoverinfo": "none",
         "line": {
          "color": "purple",
          "width": 2
         },
         "mode": "lines",
         "opacity": 1,
         "type": "scatter",
         "x": [
          -0.04187394720583461,
          -0.46083495749826386,
          null
         ],
         "y": [
          -0.04638337335604815,
          -1,
          null
         ]
        },
        {
         "hoverinfo": "text",
         "marker": {
          "color": "grey",
          "opacity": 0
         },
         "mode": "markers",
         "text": [
          "",
          "",
          "",
          ""
         ],
         "type": "scatter",
         "x": [
          0.18993348223161963,
          0.5838637799646968,
          0.33529500864503176,
          -0.25135445235204923
         ],
         "y": [
          0.4249616556073867,
          0.09755064001686996,
          -0.10066776289300446,
          -0.5231916866780241
         ]
        },
        {
         "hoverinfo": "none",
         "line": {
          "color": "green",
          "width": 2
         },
         "mode": "lines",
         "opacity": 1,
         "type": "scatter",
         "x": [
          -0.07539663097025635,
          -0.5896220242550385,
          null
         ],
         "y": [
          0.4998698787510727,
          0.35141221457123517,
          null
         ]
        },
        {
         "hoverinfo": "none",
         "line": {
          "color": "green",
          "width": 2
         },
         "mode": "lines",
         "opacity": 1,
         "type": "scatter",
         "x": [
          -0.5896220242550385,
          -0.04187394720583461,
          null
         ],
         "y": [
          0.35141221457123517,
          -0.04638337335604815,
          null
         ]
        },
        {
         "hoverinfo": "none",
         "line": {
          "color": "green",
          "width": 2
         },
         "mode": "lines",
         "opacity": 1,
         "type": "scatter",
         "x": [
          -0.04187394720583461,
          -0.46083495749826386,
          null
         ],
         "y": [
          -0.04638337335604815,
          -1,
          null
         ]
        },
        {
         "hoverinfo": "text",
         "marker": {
          "color": "grey",
          "opacity": 0
         },
         "mode": "markers",
         "text": [
          "",
          "",
          ""
         ],
         "type": "scatter",
         "x": [
          -0.33250932761264745,
          -0.31574798573043655,
          -0.25135445235204923
         ],
         "y": [
          0.42564104666115393,
          0.15251442060759351,
          -0.5231916866780241
         ]
        },
        {
         "hoverinfo": "none",
         "line": {
          "color": "black",
          "width": 2
         },
         "mode": "lines",
         "opacity": 1,
         "type": "scatter",
         "x": [
          -0.04187394720583461,
          -0.46083495749826386,
          null
         ],
         "y": [
          -0.04638337335604815,
          -1,
          null
         ]
        },
        {
         "hoverinfo": "text",
         "marker": {
          "color": "grey",
          "opacity": 0
         },
         "mode": "markers",
         "text": [
          ""
         ],
         "type": "scatter",
         "x": [
          -0.25135445235204923
         ],
         "y": [
          -0.5231916866780241
         ]
        },
        {
         "hoverinfo": "none",
         "line": {
          "color": "purple",
          "width": 2
         },
         "mode": "lines",
         "opacity": 1,
         "type": "scatter",
         "x": [
          -0.04187394720583461,
          -0.46083495749826386,
          null
         ],
         "y": [
          -0.04638337335604815,
          -1,
          null
         ]
        },
        {
         "hoverinfo": "text",
         "marker": {
          "color": "grey",
          "opacity": 0
         },
         "mode": "markers",
         "text": [
          ""
         ],
         "type": "scatter",
         "x": [
          -0.25135445235204923
         ],
         "y": [
          -0.5231916866780241
         ]
        },
        {
         "hoverinfo": "none",
         "line": {
          "color": "green",
          "width": 2
         },
         "mode": "lines",
         "opacity": 1,
         "type": "scatter",
         "x": [
          -0.04187394720583461,
          -0.46083495749826386,
          null
         ],
         "y": [
          -0.04638337335604815,
          -1,
          null
         ]
        },
        {
         "hoverinfo": "text",
         "marker": {
          "color": "grey",
          "opacity": 0
         },
         "mode": "markers",
         "text": [
          ""
         ],
         "type": "scatter",
         "x": [
          -0.25135445235204923
         ],
         "y": [
          -0.5231916866780241
         ]
        },
        {
         "hoverinfo": "none",
         "line": {
          "color": "yellow",
          "width": 14.546598834113203
         },
         "mode": "lines",
         "opacity": 0.2,
         "type": "scatter",
         "x": [
          -0.07539663097025635,
          -0.04187394720583461,
          null
         ],
         "y": [
          0.4998698787510727,
          -0.04638337335604815,
          null
         ]
        },
        {
         "hoverinfo": "none",
         "line": {
          "color": "orange",
          "width": 13.613658720784352
         },
         "mode": "lines",
         "opacity": 0.2,
         "type": "scatter",
         "x": [
          -0.07539663097025635,
          0.4552635954334956,
          null
         ],
         "y": [
          0.4998698787510727,
          0.3500534324637007,
          null
         ]
        },
        {
         "hoverinfo": "none",
         "line": {
          "color": "green",
          "width": 10.841069998544572
         },
         "mode": "lines",
         "opacity": 0.2,
         "type": "scatter",
         "x": [
          -0.07539663097025635,
          -0.5896220242550385,
          null
         ],
         "y": [
          0.4998698787510727,
          0.35141221457123517,
          null
         ]
        },
        {
         "hoverinfo": "none",
         "line": {
          "color": "orange",
          "width": 4.824760411439476
         },
         "mode": "lines",
         "opacity": 0.2,
         "type": "scatter",
         "x": [
          -0.04187394720583461,
          -0.46083495749826386,
          null
         ],
         "y": [
          -0.04638337335604815,
          -1,
          null
         ]
        },
        {
         "hoverinfo": "none",
         "line": {
          "color": "orange",
          "width": 8.643845421208352
         },
         "mode": "lines",
         "opacity": 0.2,
         "type": "scatter",
         "x": [
          -0.04187394720583461,
          0.7124639644958981,
          null
         ],
         "y": [
          -0.04638337335604815,
          -0.15495215242996077,
          null
         ]
        },
        {
         "hoverinfo": "none",
         "line": {
          "color": "green",
          "width": 9.219209566111914
         },
         "mode": "lines",
         "opacity": 0.2,
         "type": "scatter",
         "x": [
          -0.04187394720583461,
          0.4552635954334956,
          null
         ],
         "y": [
          -0.04638337335604815,
          0.3500534324637007,
          null
         ]
        },
        {
         "hoverinfo": "none",
         "line": {
          "color": "green",
          "width": 10.841069998544572
         },
         "mode": "lines",
         "opacity": 0.2,
         "type": "scatter",
         "x": [
          -0.04187394720583461,
          -0.5896220242550385,
          null
         ],
         "y": [
          -0.04638337335604815,
          0.35141221457123517,
          null
         ]
        },
        {
         "hoverinfo": "none",
         "line": {
          "color": "orange",
          "width": 9.721838422673727
         },
         "mode": "lines",
         "opacity": 0.2,
         "type": "scatter",
         "x": [
          0.4552635954334956,
          0.7124639644958981,
          null
         ],
         "y": [
          0.3500534324637007,
          -0.15495215242996077,
          null
         ]
        },
        {
         "hoverinfo": "text",
         "marker": {
          "color": "grey",
          "opacity": 0
         },
         "mode": "markers",
         "text": [
          "'weight': 7.273299417056601<br>'d_suspicious': 0.5<br>'colors': [0.  0.5 0.  0.5]",
          "'weight': 6.806829360392176<br>'d_suspicious': 1.0<br>'colors': [0. 0. 1. 0.]",
          "'weight': 5.420534999272286<br>'d_suspicious': 0.0<br>'colors': [1. 0. 0. 0.]",
          "'weight': 2.412380205719738<br>'d_suspicious': 1.0<br>'colors': [0. 0. 1. 0.]",
          "'weight': 4.321922710604176<br>'d_suspicious': 1.0<br>'colors': [0. 0. 1. 0.]",
          "'weight': 4.609604783055957<br>'d_suspicious': 0.0<br>'colors': [1. 0. 0. 0.]",
          "'weight': 5.420534999272286<br>'d_suspicious': 0.0<br>'colors': [1. 0. 0. 0.]",
          "'weight': 4.8609192113368636<br>'d_suspicious': 1.0<br>'colors': [0. 0. 1. 0.]"
         ],
         "type": "scatter",
         "x": [
          -0.05863528908804548,
          0.18993348223161963,
          -0.33250932761264745,
          -0.25135445235204923,
          0.33529500864503176,
          0.2066948241138305,
          -0.31574798573043655,
          0.5838637799646968
         ],
         "y": [
          0.22674325269751228,
          0.4249616556073867,
          0.42564104666115393,
          -0.5231916866780241,
          -0.10066776289300446,
          0.15183502955382627,
          0.15251442060759351,
          0.09755064001686996
         ]
        },
        {
         "hoverinfo": "text",
         "marker": {
          "color": [
           "black",
           "black",
           "black",
           "yellow",
           "green",
           "orange"
          ],
          "line": {
           "color": "rgb(50,50,50)",
           "width": 0.5
          },
          "size": 50,
          "symbol": "circle-dot"
         },
         "mode": "markers",
         "name": "net",
         "text": [
          "'name':SUPER:virus|deadly_virus<br>'df': 90.4<br>'pop': -4.3844586438243764<br>'rt': 0.4<br>'fav': 0.4<br>'color': [0.3 0.2 0.4 0.1]<br>'freq': 10",
          "'name':coronavirus<br>'df': 7.290322580645161<br>'pop': -2.7732935341287965<br>'rt': 0.6209677419354839<br>'fav': 1.0080645161290323<br>'color': [0.35483871 0.39516129 0.11290323 0.13709677]<br>'freq': 124",
          "'name':SUPER:cruise|cruise_ship<br>'df': 60.266666666666666<br>'pop': -2.695554469659766<br>'rt': 58.46666666666667<br>'fav': 53.2<br>'color': [0.33333333 0.46666667 0.13333333 0.06666667]<br>'freq': 15",
          "'name':brit<br>'df': 90.4<br>'pop': -3.68982999198735<br>'rt': 0.5<br>'fav': 0.8<br>'color': [0.  0.7 0.1 0.2]<br>'freq': 10",
          "'name':life<br>'df': 226.0<br>'pop': -4.678918275280508<br>'rt': 0.0<br>'fav': 1.75<br>'color': [0.75 0.   0.25 0.  ]<br>'freq': 4",
          "'name':bioweapon<br>'df': 904.0<br>'pop': -3.053929530452257<br>'rt': 0.0<br>'fav': 2.0<br>'color': [0. 0. 1. 0.]<br>'freq': 1"
         ],
         "type": "scatter",
         "x": [
          -0.07539663097025635,
          -0.04187394720583461,
          0.4552635954334956,
          0.7124639644958981,
          -0.5896220242550385,
          -0.46083495749826386
         ],
         "y": [
          0.4998698787510727,
          -0.04638337335604815,
          0.3500534324637007,
          -0.15495215242996077,
          0.35141221457123517,
          -1
         ]
        }
       ],
       "layout": {
        "annotations": [
         {
          "font": {
           "size": 14
          },
          "showarrow": false,
          "text": "The rumor graph",
          "x": 0,
          "xanchor": "left",
          "xref": "paper",
          "y": -0.1,
          "yanchor": "bottom",
          "yref": "paper"
         }
        ],
        "autosize": false,
        "font": {
         "size": 12
        },
        "height": 1000,
        "hovermode": "closest",
        "margin": {
         "b": 85,
         "l": 40,
         "r": 40,
         "t": 100
        },
        "showlegend": false,
        "template": {
         "data": {
          "bar": [
           {
            "error_x": {
             "color": "#2a3f5f"
            },
            "error_y": {
             "color": "#2a3f5f"
            },
            "marker": {
             "line": {
              "color": "#E5ECF6",
              "width": 0.5
             }
            },
            "type": "bar"
           }
          ],
          "barpolar": [
           {
            "marker": {
             "line": {
              "color": "#E5ECF6",
              "width": 0.5
             }
            },
            "type": "barpolar"
           }
          ],
          "carpet": [
           {
            "aaxis": {
             "endlinecolor": "#2a3f5f",
             "gridcolor": "white",
             "linecolor": "white",
             "minorgridcolor": "white",
             "startlinecolor": "#2a3f5f"
            },
            "baxis": {
             "endlinecolor": "#2a3f5f",
             "gridcolor": "white",
             "linecolor": "white",
             "minorgridcolor": "white",
             "startlinecolor": "#2a3f5f"
            },
            "type": "carpet"
           }
          ],
          "choropleth": [
           {
            "colorbar": {
             "outlinewidth": 0,
             "ticks": ""
            },
            "type": "choropleth"
           }
          ],
          "contour": [
           {
            "colorbar": {
             "outlinewidth": 0,
             "ticks": ""
            },
            "colorscale": [
             [
              0,
              "#0d0887"
             ],
             [
              0.1111111111111111,
              "#46039f"
             ],
             [
              0.2222222222222222,
              "#7201a8"
             ],
             [
              0.3333333333333333,
              "#9c179e"
             ],
             [
              0.4444444444444444,
              "#bd3786"
             ],
             [
              0.5555555555555556,
              "#d8576b"
             ],
             [
              0.6666666666666666,
              "#ed7953"
             ],
             [
              0.7777777777777778,
              "#fb9f3a"
             ],
             [
              0.8888888888888888,
              "#fdca26"
             ],
             [
              1,
              "#f0f921"
             ]
            ],
            "type": "contour"
           }
          ],
          "contourcarpet": [
           {
            "colorbar": {
             "outlinewidth": 0,
             "ticks": ""
            },
            "type": "contourcarpet"
           }
          ],
          "heatmap": [
           {
            "colorbar": {
             "outlinewidth": 0,
             "ticks": ""
            },
            "colorscale": [
             [
              0,
              "#0d0887"
             ],
             [
              0.1111111111111111,
              "#46039f"
             ],
             [
              0.2222222222222222,
              "#7201a8"
             ],
             [
              0.3333333333333333,
              "#9c179e"
             ],
             [
              0.4444444444444444,
              "#bd3786"
             ],
             [
              0.5555555555555556,
              "#d8576b"
             ],
             [
              0.6666666666666666,
              "#ed7953"
             ],
             [
              0.7777777777777778,
              "#fb9f3a"
             ],
             [
              0.8888888888888888,
              "#fdca26"
             ],
             [
              1,
              "#f0f921"
             ]
            ],
            "type": "heatmap"
           }
          ],
          "heatmapgl": [
           {
            "colorbar": {
             "outlinewidth": 0,
             "ticks": ""
            },
            "colorscale": [
             [
              0,
              "#0d0887"
             ],
             [
              0.1111111111111111,
              "#46039f"
             ],
             [
              0.2222222222222222,
              "#7201a8"
             ],
             [
              0.3333333333333333,
              "#9c179e"
             ],
             [
              0.4444444444444444,
              "#bd3786"
             ],
             [
              0.5555555555555556,
              "#d8576b"
             ],
             [
              0.6666666666666666,
              "#ed7953"
             ],
             [
              0.7777777777777778,
              "#fb9f3a"
             ],
             [
              0.8888888888888888,
              "#fdca26"
             ],
             [
              1,
              "#f0f921"
             ]
            ],
            "type": "heatmapgl"
           }
          ],
          "histogram": [
           {
            "marker": {
             "colorbar": {
              "outlinewidth": 0,
              "ticks": ""
             }
            },
            "type": "histogram"
           }
          ],
          "histogram2d": [
           {
            "colorbar": {
             "outlinewidth": 0,
             "ticks": ""
            },
            "colorscale": [
             [
              0,
              "#0d0887"
             ],
             [
              0.1111111111111111,
              "#46039f"
             ],
             [
              0.2222222222222222,
              "#7201a8"
             ],
             [
              0.3333333333333333,
              "#9c179e"
             ],
             [
              0.4444444444444444,
              "#bd3786"
             ],
             [
              0.5555555555555556,
              "#d8576b"
             ],
             [
              0.6666666666666666,
              "#ed7953"
             ],
             [
              0.7777777777777778,
              "#fb9f3a"
             ],
             [
              0.8888888888888888,
              "#fdca26"
             ],
             [
              1,
              "#f0f921"
             ]
            ],
            "type": "histogram2d"
           }
          ],
          "histogram2dcontour": [
           {
            "colorbar": {
             "outlinewidth": 0,
             "ticks": ""
            },
            "colorscale": [
             [
              0,
              "#0d0887"
             ],
             [
              0.1111111111111111,
              "#46039f"
             ],
             [
              0.2222222222222222,
              "#7201a8"
             ],
             [
              0.3333333333333333,
              "#9c179e"
             ],
             [
              0.4444444444444444,
              "#bd3786"
             ],
             [
              0.5555555555555556,
              "#d8576b"
             ],
             [
              0.6666666666666666,
              "#ed7953"
             ],
             [
              0.7777777777777778,
              "#fb9f3a"
             ],
             [
              0.8888888888888888,
              "#fdca26"
             ],
             [
              1,
              "#f0f921"
             ]
            ],
            "type": "histogram2dcontour"
           }
          ],
          "mesh3d": [
           {
            "colorbar": {
             "outlinewidth": 0,
             "ticks": ""
            },
            "type": "mesh3d"
           }
          ],
          "parcoords": [
           {
            "line": {
             "colorbar": {
              "outlinewidth": 0,
              "ticks": ""
             }
            },
            "type": "parcoords"
           }
          ],
          "pie": [
           {
            "automargin": true,
            "type": "pie"
           }
          ],
          "scatter": [
           {
            "marker": {
             "colorbar": {
              "outlinewidth": 0,
              "ticks": ""
             }
            },
            "type": "scatter"
           }
          ],
          "scatter3d": [
           {
            "line": {
             "colorbar": {
              "outlinewidth": 0,
              "ticks": ""
             }
            },
            "marker": {
             "colorbar": {
              "outlinewidth": 0,
              "ticks": ""
             }
            },
            "type": "scatter3d"
           }
          ],
          "scattercarpet": [
           {
            "marker": {
             "colorbar": {
              "outlinewidth": 0,
              "ticks": ""
             }
            },
            "type": "scattercarpet"
           }
          ],
          "scattergeo": [
           {
            "marker": {
             "colorbar": {
              "outlinewidth": 0,
              "ticks": ""
             }
            },
            "type": "scattergeo"
           }
          ],
          "scattergl": [
           {
            "marker": {
             "colorbar": {
              "outlinewidth": 0,
              "ticks": ""
             }
            },
            "type": "scattergl"
           }
          ],
          "scattermapbox": [
           {
            "marker": {
             "colorbar": {
              "outlinewidth": 0,
              "ticks": ""
             }
            },
            "type": "scattermapbox"
           }
          ],
          "scatterpolar": [
           {
            "marker": {
             "colorbar": {
              "outlinewidth": 0,
              "ticks": ""
             }
            },
            "type": "scatterpolar"
           }
          ],
          "scatterpolargl": [
           {
            "marker": {
             "colorbar": {
              "outlinewidth": 0,
              "ticks": ""
             }
            },
            "type": "scatterpolargl"
           }
          ],
          "scatterternary": [
           {
            "marker": {
             "colorbar": {
              "outlinewidth": 0,
              "ticks": ""
             }
            },
            "type": "scatterternary"
           }
          ],
          "surface": [
           {
            "colorbar": {
             "outlinewidth": 0,
             "ticks": ""
            },
            "colorscale": [
             [
              0,
              "#0d0887"
             ],
             [
              0.1111111111111111,
              "#46039f"
             ],
             [
              0.2222222222222222,
              "#7201a8"
             ],
             [
              0.3333333333333333,
              "#9c179e"
             ],
             [
              0.4444444444444444,
              "#bd3786"
             ],
             [
              0.5555555555555556,
              "#d8576b"
             ],
             [
              0.6666666666666666,
              "#ed7953"
             ],
             [
              0.7777777777777778,
              "#fb9f3a"
             ],
             [
              0.8888888888888888,
              "#fdca26"
             ],
             [
              1,
              "#f0f921"
             ]
            ],
            "type": "surface"
           }
          ],
          "table": [
           {
            "cells": {
             "fill": {
              "color": "#EBF0F8"
             },
             "line": {
              "color": "white"
             }
            },
            "header": {
             "fill": {
              "color": "#C8D4E3"
             },
             "line": {
              "color": "white"
             }
            },
            "type": "table"
           }
          ]
         },
         "layout": {
          "annotationdefaults": {
           "arrowcolor": "#2a3f5f",
           "arrowhead": 0,
           "arrowwidth": 1
          },
          "coloraxis": {
           "colorbar": {
            "outlinewidth": 0,
            "ticks": ""
           }
          },
          "colorscale": {
           "diverging": [
            [
             0,
             "#8e0152"
            ],
            [
             0.1,
             "#c51b7d"
            ],
            [
             0.2,
             "#de77ae"
            ],
            [
             0.3,
             "#f1b6da"
            ],
            [
             0.4,
             "#fde0ef"
            ],
            [
             0.5,
             "#f7f7f7"
            ],
            [
             0.6,
             "#e6f5d0"
            ],
            [
             0.7,
             "#b8e186"
            ],
            [
             0.8,
             "#7fbc41"
            ],
            [
             0.9,
             "#4d9221"
            ],
            [
             1,
             "#276419"
            ]
           ],
           "sequential": [
            [
             0,
             "#0d0887"
            ],
            [
             0.1111111111111111,
             "#46039f"
            ],
            [
             0.2222222222222222,
             "#7201a8"
            ],
            [
             0.3333333333333333,
             "#9c179e"
            ],
            [
             0.4444444444444444,
             "#bd3786"
            ],
            [
             0.5555555555555556,
             "#d8576b"
            ],
            [
             0.6666666666666666,
             "#ed7953"
            ],
            [
             0.7777777777777778,
             "#fb9f3a"
            ],
            [
             0.8888888888888888,
             "#fdca26"
            ],
            [
             1,
             "#f0f921"
            ]
           ],
           "sequentialminus": [
            [
             0,
             "#0d0887"
            ],
            [
             0.1111111111111111,
             "#46039f"
            ],
            [
             0.2222222222222222,
             "#7201a8"
            ],
            [
             0.3333333333333333,
             "#9c179e"
            ],
            [
             0.4444444444444444,
             "#bd3786"
            ],
            [
             0.5555555555555556,
             "#d8576b"
            ],
            [
             0.6666666666666666,
             "#ed7953"
            ],
            [
             0.7777777777777778,
             "#fb9f3a"
            ],
            [
             0.8888888888888888,
             "#fdca26"
            ],
            [
             1,
             "#f0f921"
            ]
           ]
          },
          "colorway": [
           "#636efa",
           "#EF553B",
           "#00cc96",
           "#ab63fa",
           "#FFA15A",
           "#19d3f3",
           "#FF6692",
           "#B6E880",
           "#FF97FF",
           "#FECB52"
          ],
          "font": {
           "color": "#2a3f5f"
          },
          "geo": {
           "bgcolor": "white",
           "lakecolor": "white",
           "landcolor": "#E5ECF6",
           "showlakes": true,
           "showland": true,
           "subunitcolor": "white"
          },
          "hoverlabel": {
           "align": "left"
          },
          "hovermode": "closest",
          "mapbox": {
           "style": "light"
          },
          "paper_bgcolor": "white",
          "plot_bgcolor": "#E5ECF6",
          "polar": {
           "angularaxis": {
            "gridcolor": "white",
            "linecolor": "white",
            "ticks": ""
           },
           "bgcolor": "#E5ECF6",
           "radialaxis": {
            "gridcolor": "white",
            "linecolor": "white",
            "ticks": ""
           }
          },
          "scene": {
           "xaxis": {
            "backgroundcolor": "#E5ECF6",
            "gridcolor": "white",
            "gridwidth": 2,
            "linecolor": "white",
            "showbackground": true,
            "ticks": "",
            "zerolinecolor": "white"
           },
           "yaxis": {
            "backgroundcolor": "#E5ECF6",
            "gridcolor": "white",
            "gridwidth": 2,
            "linecolor": "white",
            "showbackground": true,
            "ticks": "",
            "zerolinecolor": "white"
           },
           "zaxis": {
            "backgroundcolor": "#E5ECF6",
            "gridcolor": "white",
            "gridwidth": 2,
            "linecolor": "white",
            "showbackground": true,
            "ticks": "",
            "zerolinecolor": "white"
           }
          },
          "shapedefaults": {
           "line": {
            "color": "#2a3f5f"
           }
          },
          "ternary": {
           "aaxis": {
            "gridcolor": "white",
            "linecolor": "white",
            "ticks": ""
           },
           "baxis": {
            "gridcolor": "white",
            "linecolor": "white",
            "ticks": ""
           },
           "bgcolor": "#E5ECF6",
           "caxis": {
            "gridcolor": "white",
            "linecolor": "white",
            "ticks": ""
           }
          },
          "title": {
           "x": 0.05
          },
          "xaxis": {
           "automargin": true,
           "gridcolor": "white",
           "linecolor": "white",
           "ticks": "",
           "title": {
            "standoff": 15
           },
           "zerolinecolor": "white",
           "zerolinewidth": 2
          },
          "yaxis": {
           "automargin": true,
           "gridcolor": "white",
           "linecolor": "white",
           "ticks": "",
           "title": {
            "standoff": 15
           },
           "zerolinecolor": "white",
           "zerolinewidth": 2
          }
         }
        },
        "title": {
         "text": "The rumor graph of bioweapon at week 8"
        },
        "width": 1000,
        "xaxis": {
         "showgrid": false,
         "showline": false,
         "showticklabels": false,
         "title": {
          "text": ""
         },
         "zeroline": false
        },
        "yaxis": {
         "showgrid": false,
         "showline": false,
         "showticklabels": false,
         "title": {
          "text": ""
         },
         "zeroline": false
        }
       }
      },
      "text/html": [
       "<div>\n",
       "        \n",
       "        \n",
       "            <div id=\"418c8471-26e9-440b-b838-c9d3e80a236c\" class=\"plotly-graph-div\" style=\"height:1000px; width:1000px;\"></div>\n",
       "            <script type=\"text/javascript\">\n",
       "                require([\"plotly\"], function(Plotly) {\n",
       "                    window.PLOTLYENV=window.PLOTLYENV || {};\n",
       "                    \n",
       "                if (document.getElementById(\"418c8471-26e9-440b-b838-c9d3e80a236c\")) {\n",
       "                    Plotly.newPlot(\n",
       "                        '418c8471-26e9-440b-b838-c9d3e80a236c',\n",
       "                        [{\"hoverinfo\": \"none\", \"line\": {\"color\": \"black\", \"width\": 2}, \"mode\": \"lines\", \"opacity\": 1, \"type\": \"scatter\", \"x\": [-0.07539663097025635, -0.04187394720583461, null], \"y\": [0.4998698787510727, -0.04638337335604815, null]}, {\"hoverinfo\": \"none\", \"line\": {\"color\": \"black\", \"width\": 2}, \"mode\": \"lines\", \"opacity\": 1, \"type\": \"scatter\", \"x\": [-0.04187394720583461, -0.46083495749826386, null], \"y\": [-0.04638337335604815, -1.0, null]}, {\"hoverinfo\": \"text\", \"marker\": {\"color\": \"grey\", \"opacity\": 0}, \"mode\": \"markers\", \"text\": [\"\", \"\"], \"type\": \"scatter\", \"x\": [-0.05863528908804548, -0.25135445235204923], \"y\": [0.22674325269751228, -0.5231916866780241]}, {\"hoverinfo\": \"none\", \"line\": {\"color\": \"purple\", \"width\": 2}, \"mode\": \"lines\", \"opacity\": 1, \"type\": \"scatter\", \"x\": [-0.07539663097025635, 0.4552635954334956, null], \"y\": [0.4998698787510727, 0.3500534324637007, null]}, {\"hoverinfo\": \"none\", \"line\": {\"color\": \"purple\", \"width\": 2}, \"mode\": \"lines\", \"opacity\": 1, \"type\": \"scatter\", \"x\": [0.4552635954334956, 0.7124639644958981, null], \"y\": [0.3500534324637007, -0.15495215242996077, null]}, {\"hoverinfo\": \"none\", \"line\": {\"color\": \"purple\", \"width\": 2}, \"mode\": \"lines\", \"opacity\": 1, \"type\": \"scatter\", \"x\": [0.7124639644958981, -0.04187394720583461, null], \"y\": [-0.15495215242996077, -0.04638337335604815, null]}, {\"hoverinfo\": \"none\", \"line\": {\"color\": \"purple\", \"width\": 2}, \"mode\": \"lines\", \"opacity\": 1, \"type\": \"scatter\", \"x\": [-0.04187394720583461, -0.46083495749826386, null], \"y\": [-0.04638337335604815, -1.0, null]}, {\"hoverinfo\": \"text\", \"marker\": {\"color\": \"grey\", \"opacity\": 0}, \"mode\": \"markers\", \"text\": [\"\", \"\", \"\", \"\"], \"type\": \"scatter\", \"x\": [0.18993348223161963, 0.5838637799646968, 0.33529500864503176, -0.25135445235204923], \"y\": [0.4249616556073867, 0.09755064001686996, -0.10066776289300446, -0.5231916866780241]}, {\"hoverinfo\": \"none\", \"line\": {\"color\": \"green\", \"width\": 2}, \"mode\": \"lines\", \"opacity\": 1, \"type\": \"scatter\", \"x\": [-0.07539663097025635, -0.5896220242550385, null], \"y\": [0.4998698787510727, 0.35141221457123517, null]}, {\"hoverinfo\": \"none\", \"line\": {\"color\": \"green\", \"width\": 2}, \"mode\": \"lines\", \"opacity\": 1, \"type\": \"scatter\", \"x\": [-0.5896220242550385, -0.04187394720583461, null], \"y\": [0.35141221457123517, -0.04638337335604815, null]}, {\"hoverinfo\": \"none\", \"line\": {\"color\": \"green\", \"width\": 2}, \"mode\": \"lines\", \"opacity\": 1, \"type\": \"scatter\", \"x\": [-0.04187394720583461, -0.46083495749826386, null], \"y\": [-0.04638337335604815, -1.0, null]}, {\"hoverinfo\": \"text\", \"marker\": {\"color\": \"grey\", \"opacity\": 0}, \"mode\": \"markers\", \"text\": [\"\", \"\", \"\"], \"type\": \"scatter\", \"x\": [-0.33250932761264745, -0.31574798573043655, -0.25135445235204923], \"y\": [0.42564104666115393, 0.15251442060759351, -0.5231916866780241]}, {\"hoverinfo\": \"none\", \"line\": {\"color\": \"black\", \"width\": 2}, \"mode\": \"lines\", \"opacity\": 1, \"type\": \"scatter\", \"x\": [-0.04187394720583461, -0.46083495749826386, null], \"y\": [-0.04638337335604815, -1.0, null]}, {\"hoverinfo\": \"text\", \"marker\": {\"color\": \"grey\", \"opacity\": 0}, \"mode\": \"markers\", \"text\": [\"\"], \"type\": \"scatter\", \"x\": [-0.25135445235204923], \"y\": [-0.5231916866780241]}, {\"hoverinfo\": \"none\", \"line\": {\"color\": \"purple\", \"width\": 2}, \"mode\": \"lines\", \"opacity\": 1, \"type\": \"scatter\", \"x\": [-0.04187394720583461, -0.46083495749826386, null], \"y\": [-0.04638337335604815, -1.0, null]}, {\"hoverinfo\": \"text\", \"marker\": {\"color\": \"grey\", \"opacity\": 0}, \"mode\": \"markers\", \"text\": [\"\"], \"type\": \"scatter\", \"x\": [-0.25135445235204923], \"y\": [-0.5231916866780241]}, {\"hoverinfo\": \"none\", \"line\": {\"color\": \"green\", \"width\": 2}, \"mode\": \"lines\", \"opacity\": 1, \"type\": \"scatter\", \"x\": [-0.04187394720583461, -0.46083495749826386, null], \"y\": [-0.04638337335604815, -1.0, null]}, {\"hoverinfo\": \"text\", \"marker\": {\"color\": \"grey\", \"opacity\": 0}, \"mode\": \"markers\", \"text\": [\"\"], \"type\": \"scatter\", \"x\": [-0.25135445235204923], \"y\": [-0.5231916866780241]}, {\"hoverinfo\": \"none\", \"line\": {\"color\": \"yellow\", \"width\": 14.546598834113203}, \"mode\": \"lines\", \"opacity\": 0.2, \"type\": \"scatter\", \"x\": [-0.07539663097025635, -0.04187394720583461, null], \"y\": [0.4998698787510727, -0.04638337335604815, null]}, {\"hoverinfo\": \"none\", \"line\": {\"color\": \"orange\", \"width\": 13.613658720784352}, \"mode\": \"lines\", \"opacity\": 0.2, \"type\": \"scatter\", \"x\": [-0.07539663097025635, 0.4552635954334956, null], \"y\": [0.4998698787510727, 0.3500534324637007, null]}, {\"hoverinfo\": \"none\", \"line\": {\"color\": \"green\", \"width\": 10.841069998544572}, \"mode\": \"lines\", \"opacity\": 0.2, \"type\": \"scatter\", \"x\": [-0.07539663097025635, -0.5896220242550385, null], \"y\": [0.4998698787510727, 0.35141221457123517, null]}, {\"hoverinfo\": \"none\", \"line\": {\"color\": \"orange\", \"width\": 4.824760411439476}, \"mode\": \"lines\", \"opacity\": 0.2, \"type\": \"scatter\", \"x\": [-0.04187394720583461, -0.46083495749826386, null], \"y\": [-0.04638337335604815, -1.0, null]}, {\"hoverinfo\": \"none\", \"line\": {\"color\": \"orange\", \"width\": 8.643845421208352}, \"mode\": \"lines\", \"opacity\": 0.2, \"type\": \"scatter\", \"x\": [-0.04187394720583461, 0.7124639644958981, null], \"y\": [-0.04638337335604815, -0.15495215242996077, null]}, {\"hoverinfo\": \"none\", \"line\": {\"color\": \"green\", \"width\": 9.219209566111914}, \"mode\": \"lines\", \"opacity\": 0.2, \"type\": \"scatter\", \"x\": [-0.04187394720583461, 0.4552635954334956, null], \"y\": [-0.04638337335604815, 0.3500534324637007, null]}, {\"hoverinfo\": \"none\", \"line\": {\"color\": \"green\", \"width\": 10.841069998544572}, \"mode\": \"lines\", \"opacity\": 0.2, \"type\": \"scatter\", \"x\": [-0.04187394720583461, -0.5896220242550385, null], \"y\": [-0.04638337335604815, 0.35141221457123517, null]}, {\"hoverinfo\": \"none\", \"line\": {\"color\": \"orange\", \"width\": 9.721838422673727}, \"mode\": \"lines\", \"opacity\": 0.2, \"type\": \"scatter\", \"x\": [0.4552635954334956, 0.7124639644958981, null], \"y\": [0.3500534324637007, -0.15495215242996077, null]}, {\"hoverinfo\": \"text\", \"marker\": {\"color\": \"grey\", \"opacity\": 0}, \"mode\": \"markers\", \"text\": [\"'weight': 7.273299417056601<br>'d_suspicious': 0.5<br>'colors': [0.  0.5 0.  0.5]\", \"'weight': 6.806829360392176<br>'d_suspicious': 1.0<br>'colors': [0. 0. 1. 0.]\", \"'weight': 5.420534999272286<br>'d_suspicious': 0.0<br>'colors': [1. 0. 0. 0.]\", \"'weight': 2.412380205719738<br>'d_suspicious': 1.0<br>'colors': [0. 0. 1. 0.]\", \"'weight': 4.321922710604176<br>'d_suspicious': 1.0<br>'colors': [0. 0. 1. 0.]\", \"'weight': 4.609604783055957<br>'d_suspicious': 0.0<br>'colors': [1. 0. 0. 0.]\", \"'weight': 5.420534999272286<br>'d_suspicious': 0.0<br>'colors': [1. 0. 0. 0.]\", \"'weight': 4.8609192113368636<br>'d_suspicious': 1.0<br>'colors': [0. 0. 1. 0.]\"], \"type\": \"scatter\", \"x\": [-0.05863528908804548, 0.18993348223161963, -0.33250932761264745, -0.25135445235204923, 0.33529500864503176, 0.2066948241138305, -0.31574798573043655, 0.5838637799646968], \"y\": [0.22674325269751228, 0.4249616556073867, 0.42564104666115393, -0.5231916866780241, -0.10066776289300446, 0.15183502955382627, 0.15251442060759351, 0.09755064001686996]}, {\"hoverinfo\": \"text\", \"marker\": {\"color\": [\"black\", \"black\", \"black\", \"yellow\", \"green\", \"orange\"], \"line\": {\"color\": \"rgb(50,50,50)\", \"width\": 0.5}, \"size\": 50, \"symbol\": \"circle-dot\"}, \"mode\": \"markers\", \"name\": \"net\", \"text\": [\"'name':SUPER:virus|deadly_virus<br>'df': 90.4<br>'pop': -4.3844586438243764<br>'rt': 0.4<br>'fav': 0.4<br>'color': [0.3 0.2 0.4 0.1]<br>'freq': 10\", \"'name':coronavirus<br>'df': 7.290322580645161<br>'pop': -2.7732935341287965<br>'rt': 0.6209677419354839<br>'fav': 1.0080645161290323<br>'color': [0.35483871 0.39516129 0.11290323 0.13709677]<br>'freq': 124\", \"'name':SUPER:cruise|cruise_ship<br>'df': 60.266666666666666<br>'pop': -2.695554469659766<br>'rt': 58.46666666666667<br>'fav': 53.2<br>'color': [0.33333333 0.46666667 0.13333333 0.06666667]<br>'freq': 15\", \"'name':brit<br>'df': 90.4<br>'pop': -3.68982999198735<br>'rt': 0.5<br>'fav': 0.8<br>'color': [0.  0.7 0.1 0.2]<br>'freq': 10\", \"'name':life<br>'df': 226.0<br>'pop': -4.678918275280508<br>'rt': 0.0<br>'fav': 1.75<br>'color': [0.75 0.   0.25 0.  ]<br>'freq': 4\", \"'name':bioweapon<br>'df': 904.0<br>'pop': -3.053929530452257<br>'rt': 0.0<br>'fav': 2.0<br>'color': [0. 0. 1. 0.]<br>'freq': 1\"], \"type\": \"scatter\", \"x\": [-0.07539663097025635, -0.04187394720583461, 0.4552635954334956, 0.7124639644958981, -0.5896220242550385, -0.46083495749826386], \"y\": [0.4998698787510727, -0.04638337335604815, 0.3500534324637007, -0.15495215242996077, 0.35141221457123517, -1.0]}],\n",
       "                        {\"annotations\": [{\"font\": {\"size\": 14}, \"showarrow\": false, \"text\": \"The rumor graph\", \"x\": 0, \"xanchor\": \"left\", \"xref\": \"paper\", \"y\": -0.1, \"yanchor\": \"bottom\", \"yref\": \"paper\"}], \"autosize\": false, \"font\": {\"size\": 12}, \"height\": 1000, \"hovermode\": \"closest\", \"margin\": {\"b\": 85, \"l\": 40, \"r\": 40, \"t\": 100}, \"showlegend\": false, \"template\": {\"data\": {\"bar\": [{\"error_x\": {\"color\": \"#2a3f5f\"}, \"error_y\": {\"color\": \"#2a3f5f\"}, \"marker\": {\"line\": {\"color\": \"#E5ECF6\", \"width\": 0.5}}, \"type\": \"bar\"}], \"barpolar\": [{\"marker\": {\"line\": {\"color\": \"#E5ECF6\", \"width\": 0.5}}, \"type\": \"barpolar\"}], \"carpet\": [{\"aaxis\": {\"endlinecolor\": \"#2a3f5f\", \"gridcolor\": \"white\", \"linecolor\": \"white\", \"minorgridcolor\": \"white\", \"startlinecolor\": \"#2a3f5f\"}, \"baxis\": {\"endlinecolor\": \"#2a3f5f\", \"gridcolor\": \"white\", \"linecolor\": \"white\", \"minorgridcolor\": \"white\", \"startlinecolor\": \"#2a3f5f\"}, \"type\": \"carpet\"}], \"choropleth\": [{\"colorbar\": {\"outlinewidth\": 0, \"ticks\": \"\"}, \"type\": \"choropleth\"}], \"contour\": [{\"colorbar\": {\"outlinewidth\": 0, \"ticks\": \"\"}, \"colorscale\": [[0.0, \"#0d0887\"], [0.1111111111111111, \"#46039f\"], [0.2222222222222222, \"#7201a8\"], [0.3333333333333333, \"#9c179e\"], [0.4444444444444444, \"#bd3786\"], [0.5555555555555556, \"#d8576b\"], [0.6666666666666666, \"#ed7953\"], [0.7777777777777778, \"#fb9f3a\"], [0.8888888888888888, \"#fdca26\"], [1.0, \"#f0f921\"]], \"type\": \"contour\"}], \"contourcarpet\": [{\"colorbar\": {\"outlinewidth\": 0, \"ticks\": \"\"}, \"type\": \"contourcarpet\"}], \"heatmap\": [{\"colorbar\": {\"outlinewidth\": 0, \"ticks\": \"\"}, \"colorscale\": [[0.0, \"#0d0887\"], [0.1111111111111111, \"#46039f\"], [0.2222222222222222, \"#7201a8\"], [0.3333333333333333, \"#9c179e\"], [0.4444444444444444, \"#bd3786\"], [0.5555555555555556, \"#d8576b\"], [0.6666666666666666, \"#ed7953\"], [0.7777777777777778, \"#fb9f3a\"], [0.8888888888888888, \"#fdca26\"], [1.0, \"#f0f921\"]], \"type\": \"heatmap\"}], \"heatmapgl\": [{\"colorbar\": {\"outlinewidth\": 0, \"ticks\": \"\"}, \"colorscale\": [[0.0, \"#0d0887\"], [0.1111111111111111, \"#46039f\"], [0.2222222222222222, \"#7201a8\"], [0.3333333333333333, \"#9c179e\"], [0.4444444444444444, \"#bd3786\"], [0.5555555555555556, \"#d8576b\"], [0.6666666666666666, \"#ed7953\"], [0.7777777777777778, \"#fb9f3a\"], [0.8888888888888888, \"#fdca26\"], [1.0, \"#f0f921\"]], \"type\": \"heatmapgl\"}], \"histogram\": [{\"marker\": {\"colorbar\": {\"outlinewidth\": 0, \"ticks\": \"\"}}, \"type\": \"histogram\"}], \"histogram2d\": [{\"colorbar\": {\"outlinewidth\": 0, \"ticks\": \"\"}, \"colorscale\": [[0.0, \"#0d0887\"], [0.1111111111111111, \"#46039f\"], [0.2222222222222222, \"#7201a8\"], [0.3333333333333333, \"#9c179e\"], [0.4444444444444444, \"#bd3786\"], [0.5555555555555556, \"#d8576b\"], [0.6666666666666666, \"#ed7953\"], [0.7777777777777778, \"#fb9f3a\"], [0.8888888888888888, \"#fdca26\"], [1.0, \"#f0f921\"]], \"type\": \"histogram2d\"}], \"histogram2dcontour\": [{\"colorbar\": {\"outlinewidth\": 0, \"ticks\": \"\"}, \"colorscale\": [[0.0, \"#0d0887\"], [0.1111111111111111, \"#46039f\"], [0.2222222222222222, \"#7201a8\"], [0.3333333333333333, \"#9c179e\"], [0.4444444444444444, \"#bd3786\"], [0.5555555555555556, \"#d8576b\"], [0.6666666666666666, \"#ed7953\"], [0.7777777777777778, \"#fb9f3a\"], [0.8888888888888888, \"#fdca26\"], [1.0, \"#f0f921\"]], \"type\": \"histogram2dcontour\"}], \"mesh3d\": [{\"colorbar\": {\"outlinewidth\": 0, \"ticks\": \"\"}, \"type\": \"mesh3d\"}], \"parcoords\": [{\"line\": {\"colorbar\": {\"outlinewidth\": 0, \"ticks\": \"\"}}, \"type\": \"parcoords\"}], \"pie\": [{\"automargin\": true, \"type\": \"pie\"}], \"scatter\": [{\"marker\": {\"colorbar\": {\"outlinewidth\": 0, \"ticks\": \"\"}}, \"type\": \"scatter\"}], \"scatter3d\": [{\"line\": {\"colorbar\": {\"outlinewidth\": 0, \"ticks\": \"\"}}, \"marker\": {\"colorbar\": {\"outlinewidth\": 0, \"ticks\": \"\"}}, \"type\": \"scatter3d\"}], \"scattercarpet\": [{\"marker\": {\"colorbar\": {\"outlinewidth\": 0, \"ticks\": \"\"}}, \"type\": \"scattercarpet\"}], \"scattergeo\": [{\"marker\": {\"colorbar\": {\"outlinewidth\": 0, \"ticks\": \"\"}}, \"type\": \"scattergeo\"}], \"scattergl\": [{\"marker\": {\"colorbar\": {\"outlinewidth\": 0, \"ticks\": \"\"}}, \"type\": \"scattergl\"}], \"scattermapbox\": [{\"marker\": {\"colorbar\": {\"outlinewidth\": 0, \"ticks\": \"\"}}, \"type\": \"scattermapbox\"}], \"scatterpolar\": [{\"marker\": {\"colorbar\": {\"outlinewidth\": 0, \"ticks\": \"\"}}, \"type\": \"scatterpolar\"}], \"scatterpolargl\": [{\"marker\": {\"colorbar\": {\"outlinewidth\": 0, \"ticks\": \"\"}}, \"type\": \"scatterpolargl\"}], \"scatterternary\": [{\"marker\": {\"colorbar\": {\"outlinewidth\": 0, \"ticks\": \"\"}}, \"type\": \"scatterternary\"}], \"surface\": [{\"colorbar\": {\"outlinewidth\": 0, \"ticks\": \"\"}, \"colorscale\": [[0.0, \"#0d0887\"], [0.1111111111111111, \"#46039f\"], [0.2222222222222222, \"#7201a8\"], [0.3333333333333333, \"#9c179e\"], [0.4444444444444444, \"#bd3786\"], [0.5555555555555556, \"#d8576b\"], [0.6666666666666666, \"#ed7953\"], [0.7777777777777778, \"#fb9f3a\"], [0.8888888888888888, \"#fdca26\"], [1.0, \"#f0f921\"]], \"type\": \"surface\"}], \"table\": [{\"cells\": {\"fill\": {\"color\": \"#EBF0F8\"}, \"line\": {\"color\": \"white\"}}, \"header\": {\"fill\": {\"color\": \"#C8D4E3\"}, \"line\": {\"color\": \"white\"}}, \"type\": \"table\"}]}, \"layout\": {\"annotationdefaults\": {\"arrowcolor\": \"#2a3f5f\", \"arrowhead\": 0, \"arrowwidth\": 1}, \"coloraxis\": {\"colorbar\": {\"outlinewidth\": 0, \"ticks\": \"\"}}, \"colorscale\": {\"diverging\": [[0, \"#8e0152\"], [0.1, \"#c51b7d\"], [0.2, \"#de77ae\"], [0.3, \"#f1b6da\"], [0.4, \"#fde0ef\"], [0.5, \"#f7f7f7\"], [0.6, \"#e6f5d0\"], [0.7, \"#b8e186\"], [0.8, \"#7fbc41\"], [0.9, \"#4d9221\"], [1, \"#276419\"]], \"sequential\": [[0.0, \"#0d0887\"], [0.1111111111111111, \"#46039f\"], [0.2222222222222222, \"#7201a8\"], [0.3333333333333333, \"#9c179e\"], [0.4444444444444444, \"#bd3786\"], [0.5555555555555556, \"#d8576b\"], [0.6666666666666666, \"#ed7953\"], [0.7777777777777778, \"#fb9f3a\"], [0.8888888888888888, \"#fdca26\"], [1.0, \"#f0f921\"]], \"sequentialminus\": [[0.0, \"#0d0887\"], [0.1111111111111111, \"#46039f\"], [0.2222222222222222, \"#7201a8\"], [0.3333333333333333, \"#9c179e\"], [0.4444444444444444, \"#bd3786\"], [0.5555555555555556, \"#d8576b\"], [0.6666666666666666, \"#ed7953\"], [0.7777777777777778, \"#fb9f3a\"], [0.8888888888888888, \"#fdca26\"], [1.0, \"#f0f921\"]]}, \"colorway\": [\"#636efa\", \"#EF553B\", \"#00cc96\", \"#ab63fa\", \"#FFA15A\", \"#19d3f3\", \"#FF6692\", \"#B6E880\", \"#FF97FF\", \"#FECB52\"], \"font\": {\"color\": \"#2a3f5f\"}, \"geo\": {\"bgcolor\": \"white\", \"lakecolor\": \"white\", \"landcolor\": \"#E5ECF6\", \"showlakes\": true, \"showland\": true, \"subunitcolor\": \"white\"}, \"hoverlabel\": {\"align\": \"left\"}, \"hovermode\": \"closest\", \"mapbox\": {\"style\": \"light\"}, \"paper_bgcolor\": \"white\", \"plot_bgcolor\": \"#E5ECF6\", \"polar\": {\"angularaxis\": {\"gridcolor\": \"white\", \"linecolor\": \"white\", \"ticks\": \"\"}, \"bgcolor\": \"#E5ECF6\", \"radialaxis\": {\"gridcolor\": \"white\", \"linecolor\": \"white\", \"ticks\": \"\"}}, \"scene\": {\"xaxis\": {\"backgroundcolor\": \"#E5ECF6\", \"gridcolor\": \"white\", \"gridwidth\": 2, \"linecolor\": \"white\", \"showbackground\": true, \"ticks\": \"\", \"zerolinecolor\": \"white\"}, \"yaxis\": {\"backgroundcolor\": \"#E5ECF6\", \"gridcolor\": \"white\", \"gridwidth\": 2, \"linecolor\": \"white\", \"showbackground\": true, \"ticks\": \"\", \"zerolinecolor\": \"white\"}, \"zaxis\": {\"backgroundcolor\": \"#E5ECF6\", \"gridcolor\": \"white\", \"gridwidth\": 2, \"linecolor\": \"white\", \"showbackground\": true, \"ticks\": \"\", \"zerolinecolor\": \"white\"}}, \"shapedefaults\": {\"line\": {\"color\": \"#2a3f5f\"}}, \"ternary\": {\"aaxis\": {\"gridcolor\": \"white\", \"linecolor\": \"white\", \"ticks\": \"\"}, \"baxis\": {\"gridcolor\": \"white\", \"linecolor\": \"white\", \"ticks\": \"\"}, \"bgcolor\": \"#E5ECF6\", \"caxis\": {\"gridcolor\": \"white\", \"linecolor\": \"white\", \"ticks\": \"\"}}, \"title\": {\"x\": 0.05}, \"xaxis\": {\"automargin\": true, \"gridcolor\": \"white\", \"linecolor\": \"white\", \"ticks\": \"\", \"title\": {\"standoff\": 15}, \"zerolinecolor\": \"white\", \"zerolinewidth\": 2}, \"yaxis\": {\"automargin\": true, \"gridcolor\": \"white\", \"linecolor\": \"white\", \"ticks\": \"\", \"title\": {\"standoff\": 15}, \"zerolinecolor\": \"white\", \"zerolinewidth\": 2}}}, \"title\": {\"text\": \"The rumor graph of bioweapon at week 8\"}, \"width\": 1000, \"xaxis\": {\"showgrid\": false, \"showline\": false, \"showticklabels\": false, \"title\": {\"text\": \"\"}, \"zeroline\": false}, \"yaxis\": {\"showgrid\": false, \"showline\": false, \"showticklabels\": false, \"title\": {\"text\": \"\"}, \"zeroline\": false}},\n",
       "                        {\"responsive\": true}\n",
       "                    ).then(function(){\n",
       "                            \n",
       "var gd = document.getElementById('418c8471-26e9-440b-b838-c9d3e80a236c');\n",
       "var x = new MutationObserver(function (mutations, observer) {{\n",
       "        var display = window.getComputedStyle(gd).display;\n",
       "        if (!display || display === 'none') {{\n",
       "            console.log([gd, 'removed!']);\n",
       "            Plotly.purge(gd);\n",
       "            observer.disconnect();\n",
       "        }}\n",
       "}});\n",
       "\n",
       "// Listen for the removal of the full notebook cells\n",
       "var notebookContainer = gd.closest('#notebook-container');\n",
       "if (notebookContainer) {{\n",
       "    x.observe(notebookContainer, {childList: true});\n",
       "}}\n",
       "\n",
       "// Listen for the clearing of the current output cell\n",
       "var outputEl = gd.closest('.output');\n",
       "if (outputEl) {{\n",
       "    x.observe(outputEl, {childList: true});\n",
       "}}\n",
       "\n",
       "                        })\n",
       "                };\n",
       "                });\n",
       "            </script>\n",
       "        </div>"
      ]
     },
     "metadata": {},
     "output_type": "display_data"
    }
   ],
   "source": [
    "rm = 'bioweapon'\n",
    "wk = 8\n",
    "fig = plot_rumor(rm, wk, weekly_rumors[rm][wk], act_mapping, centres)\n",
    "fig"
   ]
  },
  {
   "cell_type": "code",
   "execution_count": 24,
   "metadata": {
    "code_folding": []
   },
   "outputs": [
    {
     "data": {
      "application/vnd.plotly.v1+json": {
       "config": {
        "plotlyServerURL": "https://plot.ly"
       },
       "data": [
        {
         "hoverinfo": "none",
         "line": {
          "color": "black",
          "width": 2
         },
         "mode": "lines",
         "opacity": 1,
         "type": "scatter",
         "x": [
          -0.3011586905270084,
          -0.05476216657681331,
          null
         ],
         "y": [
          -0.05978976628526923,
          -0.07504206625212563,
          null
         ]
        },
        {
         "hoverinfo": "none",
         "line": {
          "color": "black",
          "width": 2
         },
         "mode": "lines",
         "opacity": 1,
         "type": "scatter",
         "x": [
          -0.05476216657681331,
          0.9920839329710154,
          null
         ],
         "y": [
          -0.07504206625212563,
          0.842179520727728,
          null
         ]
        },
        {
         "hoverinfo": "text",
         "marker": {
          "color": "grey",
          "opacity": 0
         },
         "mode": "markers",
         "text": [
          "",
          ""
         ],
         "type": "scatter",
         "x": [
          -0.17796042855191085,
          0.46866088319710103
         ],
         "y": [
          -0.06741591626869743,
          0.38356872723780117
         ]
        },
        {
         "hoverinfo": "none",
         "line": {
          "color": "purple",
          "width": 2
         },
         "mode": "lines",
         "opacity": 1,
         "type": "scatter",
         "x": [
          -0.3011586905270084,
          0.4171199632827575,
          null
         ],
         "y": [
          -0.05978976628526923,
          0.29714935394451725,
          null
         ]
        },
        {
         "hoverinfo": "none",
         "line": {
          "color": "purple",
          "width": 2
         },
         "mode": "lines",
         "opacity": 1,
         "type": "scatter",
         "x": [
          0.4171199632827575,
          -0.05476216657681331,
          null
         ],
         "y": [
          0.29714935394451725,
          -0.07504206625212563,
          null
         ]
        },
        {
         "hoverinfo": "none",
         "line": {
          "color": "purple",
          "width": 2
         },
         "mode": "lines",
         "opacity": 1,
         "type": "scatter",
         "x": [
          -0.05476216657681331,
          0.9920839329710154,
          null
         ],
         "y": [
          -0.07504206625212563,
          0.842179520727728,
          null
         ]
        },
        {
         "hoverinfo": "text",
         "marker": {
          "color": "grey",
          "opacity": 0
         },
         "mode": "markers",
         "text": [
          "",
          "",
          ""
         ],
         "type": "scatter",
         "x": [
          0.05798063637787457,
          0.1811788983529721,
          0.46866088319710103
         ],
         "y": [
          0.11867979382962401,
          0.11105364384619582,
          0.38356872723780117
         ]
        },
        {
         "hoverinfo": "none",
         "line": {
          "color": "green",
          "width": 2
         },
         "mode": "lines",
         "opacity": 1,
         "type": "scatter",
         "x": [
          -0.3011586905270084,
          -0.624497017510726,
          null
         ],
         "y": [
          -0.05978976628526923,
          -0.15813462082855548,
          null
         ]
        },
        {
         "hoverinfo": "none",
         "line": {
          "color": "green",
          "width": 2
         },
         "mode": "lines",
         "opacity": 1,
         "type": "scatter",
         "x": [
          -0.624497017510726,
          -0.05476216657681331,
          null
         ],
         "y": [
          -0.15813462082855548,
          -0.07504206625212563,
          null
         ]
        },
        {
         "hoverinfo": "none",
         "line": {
          "color": "green",
          "width": 2
         },
         "mode": "lines",
         "opacity": 1,
         "type": "scatter",
         "x": [
          -0.05476216657681331,
          0.9920839329710154,
          null
         ],
         "y": [
          -0.07504206625212563,
          0.842179520727728,
          null
         ]
        },
        {
         "hoverinfo": "text",
         "marker": {
          "color": "grey",
          "opacity": 0
         },
         "mode": "markers",
         "text": [
          "",
          "",
          ""
         ],
         "type": "scatter",
         "x": [
          -0.46282785401886717,
          -0.33962959204376963,
          0.46866088319710103
         ],
         "y": [
          -0.10896219355691236,
          -0.11658834354034056,
          0.38356872723780117
         ]
        },
        {
         "hoverinfo": "none",
         "line": {
          "color": "black",
          "width": 2
         },
         "mode": "lines",
         "opacity": 1,
         "type": "scatter",
         "x": [
          -0.020938260429115882,
          -0.05476216657681331,
          null
         ],
         "y": [
          -0.9958206339401493,
          -0.07504206625212563,
          null
         ]
        },
        {
         "hoverinfo": "none",
         "line": {
          "color": "black",
          "width": 2
         },
         "mode": "lines",
         "opacity": 1,
         "type": "scatter",
         "x": [
          -0.05476216657681331,
          0.9920839329710154,
          null
         ],
         "y": [
          -0.07504206625212563,
          0.842179520727728,
          null
         ]
        },
        {
         "hoverinfo": "text",
         "marker": {
          "color": "grey",
          "opacity": 0
         },
         "mode": "markers",
         "text": [
          "",
          ""
         ],
         "type": "scatter",
         "x": [
          -0.037850213502964594,
          0.46866088319710103
         ],
         "y": [
          -0.5354313500961375,
          0.38356872723780117
         ]
        },
        {
         "hoverinfo": "none",
         "line": {
          "color": "purple",
          "width": 2
         },
         "mode": "lines",
         "opacity": 1,
         "type": "scatter",
         "x": [
          -0.020938260429115882,
          -0.05476216657681331,
          null
         ],
         "y": [
          -0.9958206339401493,
          -0.07504206625212563,
          null
         ]
        },
        {
         "hoverinfo": "none",
         "line": {
          "color": "purple",
          "width": 2
         },
         "mode": "lines",
         "opacity": 1,
         "type": "scatter",
         "x": [
          -0.05476216657681331,
          0.9920839329710154,
          null
         ],
         "y": [
          -0.07504206625212563,
          0.842179520727728,
          null
         ]
        },
        {
         "hoverinfo": "text",
         "marker": {
          "color": "grey",
          "opacity": 0
         },
         "mode": "markers",
         "text": [
          "",
          ""
         ],
         "type": "scatter",
         "x": [
          -0.037850213502964594,
          0.46866088319710103
         ],
         "y": [
          -0.5354313500961375,
          0.38356872723780117
         ]
        },
        {
         "hoverinfo": "none",
         "line": {
          "color": "green",
          "width": 2
         },
         "mode": "lines",
         "opacity": 1,
         "type": "scatter",
         "x": [
          -0.020938260429115882,
          0.27695065098468147,
          null
         ],
         "y": [
          -0.9958206339401493,
          -0.44311458155570455,
          null
         ]
        },
        {
         "hoverinfo": "none",
         "line": {
          "color": "green",
          "width": 2
         },
         "mode": "lines",
         "opacity": 1,
         "type": "scatter",
         "x": [
          0.27695065098468147,
          0.7397284211176135,
          null
         ],
         "y": [
          -0.44311458155570455,
          -0.42863218889314697,
          null
         ]
        },
        {
         "hoverinfo": "none",
         "line": {
          "color": "green",
          "width": 2
         },
         "mode": "lines",
         "opacity": 1,
         "type": "scatter",
         "x": [
          0.7397284211176135,
          -0.05476216657681331,
          null
         ],
         "y": [
          -0.42863218889314697,
          -0.07504206625212563,
          null
         ]
        },
        {
         "hoverinfo": "none",
         "line": {
          "color": "green",
          "width": 2
         },
         "mode": "lines",
         "opacity": 1,
         "type": "scatter",
         "x": [
          -0.05476216657681331,
          0.9920839329710154,
          null
         ],
         "y": [
          -0.07504206625212563,
          0.842179520727728,
          null
         ]
        },
        {
         "hoverinfo": "text",
         "marker": {
          "color": "grey",
          "opacity": 0
         },
         "mode": "markers",
         "text": [
          "",
          "",
          "",
          ""
         ],
         "type": "scatter",
         "x": [
          0.12800619527778279,
          0.5083395360511475,
          0.3424831272704001,
          0.46866088319710103
         ],
         "y": [
          -0.719467607747927,
          -0.43587338522442576,
          -0.2518371275726363,
          0.38356872723780117
         ]
        },
        {
         "hoverinfo": "none",
         "line": {
          "color": "black",
          "width": 2
         },
         "mode": "lines",
         "opacity": 1,
         "type": "scatter",
         "x": [
          -0.14238651253932533,
          -0.05476216657681331,
          null
         ],
         "y": [
          0.6127943027860046,
          -0.07504206625212563,
          null
         ]
        },
        {
         "hoverinfo": "none",
         "line": {
          "color": "black",
          "width": 2
         },
         "mode": "lines",
         "opacity": 1,
         "type": "scatter",
         "x": [
          -0.05476216657681331,
          0.9920839329710154,
          null
         ],
         "y": [
          -0.07504206625212563,
          0.842179520727728,
          null
         ]
        },
        {
         "hoverinfo": "text",
         "marker": {
          "color": "grey",
          "opacity": 0
         },
         "mode": "markers",
         "text": [
          "",
          ""
         ],
         "type": "scatter",
         "x": [
          -0.09857433955806932,
          0.46866088319710103
         ],
         "y": [
          0.26887611826693947,
          0.38356872723780117
         ]
        },
        {
         "hoverinfo": "none",
         "line": {
          "color": "purple",
          "width": 2
         },
         "mode": "lines",
         "opacity": 1,
         "type": "scatter",
         "x": [
          -0.14238651253932533,
          -0.05476216657681331,
          null
         ],
         "y": [
          0.6127943027860046,
          -0.07504206625212563,
          null
         ]
        },
        {
         "hoverinfo": "none",
         "line": {
          "color": "purple",
          "width": 2
         },
         "mode": "lines",
         "opacity": 1,
         "type": "scatter",
         "x": [
          -0.05476216657681331,
          0.9920839329710154,
          null
         ],
         "y": [
          -0.07504206625212563,
          0.842179520727728,
          null
         ]
        },
        {
         "hoverinfo": "text",
         "marker": {
          "color": "grey",
          "opacity": 0
         },
         "mode": "markers",
         "text": [
          "",
          ""
         ],
         "type": "scatter",
         "x": [
          -0.09857433955806932,
          0.46866088319710103
         ],
         "y": [
          0.26887611826693947,
          0.38356872723780117
         ]
        },
        {
         "hoverinfo": "none",
         "line": {
          "color": "green",
          "width": 2
         },
         "mode": "lines",
         "opacity": 1,
         "type": "scatter",
         "x": [
          -0.14238651253932533,
          -0.434155433387539,
          null
         ],
         "y": [
          0.6127943027860046,
          0.34631199133485074,
          null
         ]
        },
        {
         "hoverinfo": "none",
         "line": {
          "color": "green",
          "width": 2
         },
         "mode": "lines",
         "opacity": 1,
         "type": "scatter",
         "x": [
          -0.434155433387539,
          -0.05476216657681331,
          null
         ],
         "y": [
          0.34631199133485074,
          -0.07504206625212563,
          null
         ]
        },
        {
         "hoverinfo": "none",
         "line": {
          "color": "green",
          "width": 2
         },
         "mode": "lines",
         "opacity": 1,
         "type": "scatter",
         "x": [
          -0.05476216657681331,
          0.9920839329710154,
          null
         ],
         "y": [
          -0.07504206625212563,
          0.842179520727728,
          null
         ]
        },
        {
         "hoverinfo": "text",
         "marker": {
          "color": "grey",
          "opacity": 0
         },
         "mode": "markers",
         "text": [
          "",
          "",
          ""
         ],
         "type": "scatter",
         "x": [
          -0.2882709729634322,
          -0.24445879998217615,
          0.46866088319710103
         ],
         "y": [
          0.4795531470604276,
          0.13563496254136256,
          0.38356872723780117
         ]
        },
        {
         "hoverinfo": "none",
         "line": {
          "color": "yellow",
          "width": 44.21426856070083
         },
         "mode": "lines",
         "opacity": 0.2,
         "type": "scatter",
         "x": [
          -0.05476216657681331,
          -0.624497017510726,
          null
         ],
         "y": [
          -0.07504206625212563,
          -0.15813462082855548,
          null
         ]
        },
        {
         "hoverinfo": "none",
         "line": {
          "color": "yellow",
          "width": 38.21081388254292
         },
         "mode": "lines",
         "opacity": 0.2,
         "type": "scatter",
         "x": [
          -0.05476216657681331,
          -0.434155433387539,
          null
         ],
         "y": [
          -0.07504206625212563,
          0.34631199133485074,
          null
         ]
        },
        {
         "hoverinfo": "none",
         "line": {
          "color": "yellow",
          "width": 15.413225827928393
         },
         "mode": "lines",
         "opacity": 0.2,
         "type": "scatter",
         "x": [
          -0.05476216657681331,
          0.7397284211176135,
          null
         ],
         "y": [
          -0.07504206625212563,
          -0.42863218889314697,
          null
         ]
        },
        {
         "hoverinfo": "none",
         "line": {
          "color": "yellow",
          "width": 123.78544739015899
         },
         "mode": "lines",
         "opacity": 0.2,
         "type": "scatter",
         "x": [
          -0.05476216657681331,
          -0.07907326570960221,
          null
         ],
         "y": [
          -0.07504206625212563,
          -0.2989880163676148,
          null
         ]
        },
        {
         "hoverinfo": "none",
         "line": {
          "color": "yellow",
          "width": 52.8519456659692
         },
         "mode": "lines",
         "opacity": 0.2,
         "type": "scatter",
         "x": [
          -0.05476216657681331,
          0.27695065098468147,
          null
         ],
         "y": [
          -0.07504206625212563,
          -0.44311458155570455,
          null
         ]
        },
        {
         "hoverinfo": "none",
         "line": {
          "color": "yellow",
          "width": 40.05759257706855
         },
         "mode": "lines",
         "opacity": 0.2,
         "type": "scatter",
         "x": [
          -0.05476216657681331,
          -0.29616848857205574,
          null
         ],
         "y": [
          -0.07504206625212563,
          -0.6389132946705339,
          null
         ]
        },
        {
         "hoverinfo": "none",
         "line": {
          "color": "yellow",
          "width": 16.771822627777233
         },
         "mode": "lines",
         "opacity": 0.2,
         "type": "scatter",
         "x": [
          -0.05476216657681331,
          -0.3011586905270084,
          null
         ],
         "y": [
          -0.07504206625212563,
          -0.05978976628526923,
          null
         ]
        },
        {
         "hoverinfo": "none",
         "line": {
          "color": "red",
          "width": 24.388700006120384
         },
         "mode": "lines",
         "opacity": 0.2,
         "type": "scatter",
         "x": [
          -0.05476216657681331,
          -0.14238651253932533,
          null
         ],
         "y": [
          -0.07504206625212563,
          0.6127943027860046,
          null
         ]
        },
        {
         "hoverinfo": "none",
         "line": {
          "color": "green",
          "width": 8.191390002639944
         },
         "mode": "lines",
         "opacity": 0.2,
         "type": "scatter",
         "x": [
          -0.05476216657681331,
          -0.472743133103884,
          null
         ],
         "y": [
          -0.07504206625212563,
          1,
          null
         ]
        },
        {
         "hoverinfo": "none",
         "line": {
          "color": "red",
          "width": 10.500834195918934
         },
         "mode": "lines",
         "opacity": 0.2,
         "type": "scatter",
         "x": [
          -0.05476216657681331,
          -0.020938260429115882,
          null
         ],
         "y": [
          -0.07504206625212563,
          -0.9958206339401493,
          null
         ]
        },
        {
         "hoverinfo": "none",
         "line": {
          "color": "red",
          "width": 9.86804838344883
         },
         "mode": "lines",
         "opacity": 0.2,
         "type": "scatter",
         "x": [
          -0.05476216657681331,
          -0.05476216657681331,
          null
         ],
         "y": [
          -0.07504206625212563,
          -0.07504206625212563,
          null
         ]
        },
        {
         "hoverinfo": "none",
         "line": {
          "color": "red",
          "width": 5.250417097959467
         },
         "mode": "lines",
         "opacity": 0.2,
         "type": "scatter",
         "x": [
          -0.05476216657681331,
          0.9920839329710154,
          null
         ],
         "y": [
          -0.07504206625212563,
          0.842179520727728,
          null
         ]
        },
        {
         "hoverinfo": "none",
         "line": {
          "color": "orange",
          "width": 10.443412528352393
         },
         "mode": "lines",
         "opacity": 0.2,
         "type": "scatter",
         "x": [
          -0.05476216657681331,
          0.4171199632827575,
          null
         ],
         "y": [
          -0.07504206625212563,
          0.29714935394451725,
          null
         ]
        },
        {
         "hoverinfo": "none",
         "line": {
          "color": "red",
          "width": 15.413225827928393
         },
         "mode": "lines",
         "opacity": 0.2,
         "type": "scatter",
         "x": [
          -0.29616848857205574,
          -0.020938260429115882,
          null
         ],
         "y": [
          -0.6389132946705339,
          -0.9958206339401493,
          null
         ]
        },
        {
         "hoverinfo": "none",
         "line": {
          "color": "yellow",
          "width": 9.86804838344883
         },
         "mode": "lines",
         "opacity": 0.2,
         "type": "scatter",
         "x": [
          -0.434155433387539,
          -0.14238651253932533,
          null
         ],
         "y": [
          0.34631199133485074,
          0.6127943027860046,
          null
         ]
        },
        {
         "hoverinfo": "none",
         "line": {
          "color": "yellow",
          "width": 12.640637105688612
         },
         "mode": "lines",
         "opacity": 0.2,
         "type": "scatter",
         "x": [
          -0.434155433387539,
          -0.434155433387539,
          null
         ],
         "y": [
          0.34631199133485074,
          0.34631199133485074,
          null
         ]
        },
        {
         "hoverinfo": "none",
         "line": {
          "color": "green",
          "width": 8.191390002639944
         },
         "mode": "lines",
         "opacity": 0.2,
         "type": "scatter",
         "x": [
          -0.020938260429115882,
          0.27695065098468147,
          null
         ],
         "y": [
          -0.9958206339401493,
          -0.44311458155570455,
          null
         ]
        },
        {
         "hoverinfo": "none",
         "line": {
          "color": "orange",
          "width": 34.15916806123035
         },
         "mode": "lines",
         "opacity": 0.2,
         "type": "scatter",
         "x": [
          -0.3011586905270084,
          -0.07907326570960221,
          null
         ],
         "y": [
          -0.05978976628526923,
          -0.2989880163676148,
          null
         ]
        },
        {
         "hoverinfo": "none",
         "line": {
          "color": "green",
          "width": 15.413225827928393
         },
         "mode": "lines",
         "opacity": 0.2,
         "type": "scatter",
         "x": [
          -0.3011586905270084,
          -0.624497017510726,
          null
         ],
         "y": [
          -0.05978976628526923,
          -0.15813462082855548,
          null
         ]
        },
        {
         "hoverinfo": "none",
         "line": {
          "color": "orange",
          "width": 10.808055641940301
         },
         "mode": "lines",
         "opacity": 0.2,
         "type": "scatter",
         "x": [
          -0.3011586905270084,
          0.4171199632827575,
          null
         ],
         "y": [
          -0.05978976628526923,
          0.29714935394451725,
          null
         ]
        },
        {
         "hoverinfo": "none",
         "line": {
          "color": "green",
          "width": 10.28332711300532
         },
         "mode": "lines",
         "opacity": 0.2,
         "type": "scatter",
         "x": [
          -0.07907326570960221,
          -0.07907326570960221,
          null
         ],
         "y": [
          -0.2989880163676148,
          -0.2989880163676148,
          null
         ]
        },
        {
         "hoverinfo": "none",
         "line": {
          "color": "yellow",
          "width": 8.191390002639944
         },
         "mode": "lines",
         "opacity": 0.2,
         "type": "scatter",
         "x": [
          0.27695065098468147,
          0.7397284211176135,
          null
         ],
         "y": [
          -0.44311458155570455,
          -0.42863218889314697,
          null
         ]
        },
        {
         "hoverinfo": "none",
         "line": {
          "color": "yellow",
          "width": 8.191390002639944
         },
         "mode": "lines",
         "opacity": 0.2,
         "type": "scatter",
         "x": [
          -0.14238651253932533,
          -0.472743133103884,
          null
         ],
         "y": [
          0.6127943027860046,
          1,
          null
         ]
        },
        {
         "hoverinfo": "text",
         "marker": {
          "color": "grey",
          "opacity": 0
         },
         "mode": "markers",
         "text": [
          "'weight': 22.107134280350415<br>'d_suspicious': 0.0<br>'colors': [0. 1. 0. 0.]",
          "'weight': 19.10540694127146<br>'d_suspicious': 0.0<br>'colors': [0. 1. 0. 0.]",
          "'weight': 7.706612913964197<br>'d_suspicious': 0.0<br>'colors': [0. 1. 0. 0.]",
          "'weight': 61.892723695079496<br>'d_suspicious': 0.2727272727272727<br>'colors': [0.18181818 0.54545455 0.         0.27272727]",
          "'weight': 26.4259728329846<br>'d_suspicious': 0.16666666666666666<br>'colors': [0.         0.83333333 0.16666667 0.        ]",
          "'weight': 20.028796288534274<br>'d_suspicious': 0.3333333333333333<br>'colors': [0.         0.66666667 0.         0.33333333]",
          "'weight': 8.385911313888617<br>'d_suspicious': 0.5<br>'colors': [0.  0.5 0.5 0. ]",
          "'weight': 12.194350003060192<br>'d_suspicious': 1.0<br>'colors': [0. 0. 0. 1.]",
          "'weight': 4.095695001319972<br>'d_suspicious': 0.0<br>'colors': [0.5 0.5 0.  0. ]",
          "'weight': 5.250417097959467<br>'d_suspicious': 1.0<br>'colors': [0. 0. 0. 1.]",
          "'weight': 4.934024191724415<br>'d_suspicious': 1.0<br>'colors': [0. 0. 0. 1.]",
          "'weight': 2.6252085489797334<br>'d_suspicious': 1.0<br>'colors': [0. 0. 0. 1.]",
          "'weight': 5.221706264176197<br>'d_suspicious': 1.0<br>'colors': [0. 0. 1. 0.]",
          "'weight': 7.706612913964197<br>'d_suspicious': 1.0<br>'colors': [0. 0. 0. 1.]",
          "'weight': 4.934024191724415<br>'d_suspicious': 0.0<br>'colors': [0. 1. 0. 0.]",
          "'weight': 6.320318552844306<br>'d_suspicious': 0.0<br>'colors': [0. 1. 0. 0.]",
          "'weight': 4.095695001319972<br>'d_suspicious': 0.0<br>'colors': [1. 0. 0. 0.]",
          "'weight': 17.079584030615177<br>'d_suspicious': 1.0<br>'colors': [0. 0. 1. 0.]",
          "'weight': 7.706612913964197<br>'d_suspicious': 0.0<br>'colors': [1. 0. 0. 0.]",
          "'weight': 5.404027820970151<br>'d_suspicious': 1.0<br>'colors': [0. 0. 1. 0.]",
          "'weight': 5.14166355650266<br>'d_suspicious': 0.0<br>'colors': [1. 0. 0. 0.]",
          "'weight': 4.095695001319972<br>'d_suspicious': 0.0<br>'colors': [0. 1. 0. 0.]",
          "'weight': 4.095695001319972<br>'d_suspicious': 0.0<br>'colors': [0. 1. 0. 0.]"
         ],
         "type": "scatter",
         "x": [
          -0.33962959204376963,
          -0.24445879998217615,
          0.3424831272704001,
          -0.06691771614320777,
          0.11109424220393407,
          -0.17546532757443453,
          -0.17796042855191085,
          -0.09857433955806932,
          -0.26375264984034863,
          -0.037850213502964594,
          -0.05476216657681331,
          0.46866088319710103,
          0.1811788983529721,
          -0.15855337450058582,
          -0.2882709729634322,
          -0.434155433387539,
          0.12800619527778279,
          -0.1901159781183053,
          -0.46282785401886717,
          0.05798063637787457,
          -0.07907326570960221,
          0.5083395360511475,
          -0.3075648228216047
         ],
         "y": [
          -0.11658834354034056,
          0.13563496254136256,
          -0.2518371275726363,
          -0.1870150413098702,
          -0.2590783239039151,
          -0.35697768046132977,
          -0.06741591626869743,
          0.26887611826693947,
          0.4624789668739372,
          -0.5354313500961375,
          -0.07504206625212563,
          0.38356872723780117,
          0.11105364384619582,
          -0.8173669643053416,
          0.4795531470604276,
          0.34631199133485074,
          -0.719467607747927,
          -0.179388891326442,
          -0.10896219355691236,
          0.11867979382962401,
          -0.2989880163676148,
          -0.43587338522442576,
          0.8063971513930023
         ]
        },
        {
         "hoverinfo": "text",
         "marker": {
          "color": [
           "black",
           "yellow",
           "yellow",
           "black",
           "black",
           "yellow",
           "black",
           "black",
           "yellow",
           "orange",
           "black",
           "yellow",
           "red"
          ],
          "line": {
           "color": "rgb(50,50,50)",
           "width": 0.5
          },
          "size": 50,
          "symbol": "circle-dot"
         },
         "mode": "markers",
         "name": "net",
         "text": [
          "'name':SUPER:coronavirus|aronavirus|the alarm coronavirus<br>'df': 6.024390243902439<br>'pop': -2.182028472708682<br>'rt': 11.24119241192412<br>'fav': 42.69376693766937<br>'color': [0.21680217 0.49593496 0.14363144 0.14363144]<br>'freq': 369",
          "'name':SUPER:hotel|restaurant<br>'df': 202.0909090909091<br>'pop': -2.4268618565886073<br>'rt': 8.363636363636363<br>'fav': 12.636363636363637<br>'color': [0.18181818 0.54545455 0.09090909 0.18181818]<br>'freq': 11",
          "'name':SUPER:people|people.<br>'df': 71.70967741935483<br>'pop': -3.1651956086741<br>'rt': 1.8709677419354838<br>'fav': 2.6774193548387095<br>'color': [0.19354839 0.67741935 0.06451613 0.06451613]<br>'freq': 31",
          "'name':SUPER:deadly_virus|deadly<br>'df': 444.6<br>'pop': -3.9769689789754183<br>'rt': 1.0<br>'fav': 1.4<br>'color': [0.4 0.2 0.  0.4]<br>'freq': 5",
          "'name':SUPER:outbreak|virus_outbreak|epidemic<br>'df': 30.04054054054054<br>'pop': -2.287344796002749<br>'rt': 2.8513513513513513<br>'fav': 8.391891891891891<br>'color': [0.33783784 0.41891892 0.2027027  0.04054054]<br>'freq': 74",
          "'name':SUPER:<<NUM>>_people|<<NUM>>_death|<<NUM>>_day<br>'df': 27.444444444444443<br>'pop': -3.1125954146581316<br>'rt': 1.3580246913580247<br>'fav': 2.123456790123457<br>'color': [0.28395062 0.51851852 0.07407407 0.12345679]<br>'freq': 81",
          "'name':SUPER:woman|girl<br>'df': 92.625<br>'pop': -2.030736839875133<br>'rt': 2.125<br>'fav': 6.916666666666667<br>'color': [0.375      0.41666667 0.125      0.08333333]<br>'freq': 24",
          "'name':SUPER:virus_outbreak|virus|infection<br>'df': 63.51428571428571<br>'pop': -2.923413498500679<br>'rt': 4.628571428571429<br>'fav': 12.114285714285714<br>'color': [0.31428571 0.28571429 0.25714286 0.14285714]<br>'freq': 35",
          "'name':SUPER:first_time|time<br>'df': 185.25<br>'pop': -2.932050989497182<br>'rt': 6.083333333333333<br>'fav': 23.25<br>'color': [0.16666667 0.58333333 0.         0.25      ]<br>'freq': 12",
          "'name':sale<br>'df': 1111.5<br>'pop': -4.963200661707947<br>'rt': 3.0<br>'fav': 6.5<br>'color': [0. 0. 1. 0.]<br>'freq': 2",
          "'name':SUPER:man|guy|kid<br>'df': 96.65217391304348<br>'pop': -1.863967550667424<br>'rt': 0.782608695652174<br>'fav': 1.8695652173913044<br>'color': [0.43478261 0.47826087 0.         0.08695652]<br>'freq': 23",
          "'name':SUPER:minister|prime_minister<br>'df': 317.57142857142856<br>'pop': -2.9108263351303494<br>'rt': 1.1428571428571428<br>'fav': 2.142857142857143<br>'color': [0.14285714 0.71428571 0.14285714 0.        ]<br>'freq': 7",
          "'name':bioweapon<br>'df': 2223.0<br>'pop': -6.0<br>'rt': 0.0<br>'fav': 0.0<br>'color': [0. 0. 0. 1.]<br>'freq': 1"
         ],
         "type": "scatter",
         "x": [
          -0.05476216657681331,
          -0.29616848857205574,
          -0.434155433387539,
          -0.020938260429115882,
          -0.3011586905270084,
          -0.07907326570960221,
          0.27695065098468147,
          -0.14238651253932533,
          0.7397284211176135,
          0.4171199632827575,
          -0.624497017510726,
          -0.472743133103884,
          0.9920839329710154
         ],
         "y": [
          -0.07504206625212563,
          -0.6389132946705339,
          0.34631199133485074,
          -0.9958206339401493,
          -0.05978976628526923,
          -0.2989880163676148,
          -0.44311458155570455,
          0.6127943027860046,
          -0.42863218889314697,
          0.29714935394451725,
          -0.15813462082855548,
          1,
          0.842179520727728
         ]
        }
       ],
       "layout": {
        "annotations": [
         {
          "font": {
           "size": 14
          },
          "showarrow": false,
          "text": "The rumor graph",
          "x": 0,
          "xanchor": "left",
          "xref": "paper",
          "y": -0.1,
          "yanchor": "bottom",
          "yref": "paper"
         }
        ],
        "autosize": false,
        "font": {
         "size": 12
        },
        "height": 1000,
        "hovermode": "closest",
        "margin": {
         "b": 85,
         "l": 40,
         "r": 40,
         "t": 100
        },
        "showlegend": false,
        "template": {
         "data": {
          "bar": [
           {
            "error_x": {
             "color": "#2a3f5f"
            },
            "error_y": {
             "color": "#2a3f5f"
            },
            "marker": {
             "line": {
              "color": "#E5ECF6",
              "width": 0.5
             }
            },
            "type": "bar"
           }
          ],
          "barpolar": [
           {
            "marker": {
             "line": {
              "color": "#E5ECF6",
              "width": 0.5
             }
            },
            "type": "barpolar"
           }
          ],
          "carpet": [
           {
            "aaxis": {
             "endlinecolor": "#2a3f5f",
             "gridcolor": "white",
             "linecolor": "white",
             "minorgridcolor": "white",
             "startlinecolor": "#2a3f5f"
            },
            "baxis": {
             "endlinecolor": "#2a3f5f",
             "gridcolor": "white",
             "linecolor": "white",
             "minorgridcolor": "white",
             "startlinecolor": "#2a3f5f"
            },
            "type": "carpet"
           }
          ],
          "choropleth": [
           {
            "colorbar": {
             "outlinewidth": 0,
             "ticks": ""
            },
            "type": "choropleth"
           }
          ],
          "contour": [
           {
            "colorbar": {
             "outlinewidth": 0,
             "ticks": ""
            },
            "colorscale": [
             [
              0,
              "#0d0887"
             ],
             [
              0.1111111111111111,
              "#46039f"
             ],
             [
              0.2222222222222222,
              "#7201a8"
             ],
             [
              0.3333333333333333,
              "#9c179e"
             ],
             [
              0.4444444444444444,
              "#bd3786"
             ],
             [
              0.5555555555555556,
              "#d8576b"
             ],
             [
              0.6666666666666666,
              "#ed7953"
             ],
             [
              0.7777777777777778,
              "#fb9f3a"
             ],
             [
              0.8888888888888888,
              "#fdca26"
             ],
             [
              1,
              "#f0f921"
             ]
            ],
            "type": "contour"
           }
          ],
          "contourcarpet": [
           {
            "colorbar": {
             "outlinewidth": 0,
             "ticks": ""
            },
            "type": "contourcarpet"
           }
          ],
          "heatmap": [
           {
            "colorbar": {
             "outlinewidth": 0,
             "ticks": ""
            },
            "colorscale": [
             [
              0,
              "#0d0887"
             ],
             [
              0.1111111111111111,
              "#46039f"
             ],
             [
              0.2222222222222222,
              "#7201a8"
             ],
             [
              0.3333333333333333,
              "#9c179e"
             ],
             [
              0.4444444444444444,
              "#bd3786"
             ],
             [
              0.5555555555555556,
              "#d8576b"
             ],
             [
              0.6666666666666666,
              "#ed7953"
             ],
             [
              0.7777777777777778,
              "#fb9f3a"
             ],
             [
              0.8888888888888888,
              "#fdca26"
             ],
             [
              1,
              "#f0f921"
             ]
            ],
            "type": "heatmap"
           }
          ],
          "heatmapgl": [
           {
            "colorbar": {
             "outlinewidth": 0,
             "ticks": ""
            },
            "colorscale": [
             [
              0,
              "#0d0887"
             ],
             [
              0.1111111111111111,
              "#46039f"
             ],
             [
              0.2222222222222222,
              "#7201a8"
             ],
             [
              0.3333333333333333,
              "#9c179e"
             ],
             [
              0.4444444444444444,
              "#bd3786"
             ],
             [
              0.5555555555555556,
              "#d8576b"
             ],
             [
              0.6666666666666666,
              "#ed7953"
             ],
             [
              0.7777777777777778,
              "#fb9f3a"
             ],
             [
              0.8888888888888888,
              "#fdca26"
             ],
             [
              1,
              "#f0f921"
             ]
            ],
            "type": "heatmapgl"
           }
          ],
          "histogram": [
           {
            "marker": {
             "colorbar": {
              "outlinewidth": 0,
              "ticks": ""
             }
            },
            "type": "histogram"
           }
          ],
          "histogram2d": [
           {
            "colorbar": {
             "outlinewidth": 0,
             "ticks": ""
            },
            "colorscale": [
             [
              0,
              "#0d0887"
             ],
             [
              0.1111111111111111,
              "#46039f"
             ],
             [
              0.2222222222222222,
              "#7201a8"
             ],
             [
              0.3333333333333333,
              "#9c179e"
             ],
             [
              0.4444444444444444,
              "#bd3786"
             ],
             [
              0.5555555555555556,
              "#d8576b"
             ],
             [
              0.6666666666666666,
              "#ed7953"
             ],
             [
              0.7777777777777778,
              "#fb9f3a"
             ],
             [
              0.8888888888888888,
              "#fdca26"
             ],
             [
              1,
              "#f0f921"
             ]
            ],
            "type": "histogram2d"
           }
          ],
          "histogram2dcontour": [
           {
            "colorbar": {
             "outlinewidth": 0,
             "ticks": ""
            },
            "colorscale": [
             [
              0,
              "#0d0887"
             ],
             [
              0.1111111111111111,
              "#46039f"
             ],
             [
              0.2222222222222222,
              "#7201a8"
             ],
             [
              0.3333333333333333,
              "#9c179e"
             ],
             [
              0.4444444444444444,
              "#bd3786"
             ],
             [
              0.5555555555555556,
              "#d8576b"
             ],
             [
              0.6666666666666666,
              "#ed7953"
             ],
             [
              0.7777777777777778,
              "#fb9f3a"
             ],
             [
              0.8888888888888888,
              "#fdca26"
             ],
             [
              1,
              "#f0f921"
             ]
            ],
            "type": "histogram2dcontour"
           }
          ],
          "mesh3d": [
           {
            "colorbar": {
             "outlinewidth": 0,
             "ticks": ""
            },
            "type": "mesh3d"
           }
          ],
          "parcoords": [
           {
            "line": {
             "colorbar": {
              "outlinewidth": 0,
              "ticks": ""
             }
            },
            "type": "parcoords"
           }
          ],
          "pie": [
           {
            "automargin": true,
            "type": "pie"
           }
          ],
          "scatter": [
           {
            "marker": {
             "colorbar": {
              "outlinewidth": 0,
              "ticks": ""
             }
            },
            "type": "scatter"
           }
          ],
          "scatter3d": [
           {
            "line": {
             "colorbar": {
              "outlinewidth": 0,
              "ticks": ""
             }
            },
            "marker": {
             "colorbar": {
              "outlinewidth": 0,
              "ticks": ""
             }
            },
            "type": "scatter3d"
           }
          ],
          "scattercarpet": [
           {
            "marker": {
             "colorbar": {
              "outlinewidth": 0,
              "ticks": ""
             }
            },
            "type": "scattercarpet"
           }
          ],
          "scattergeo": [
           {
            "marker": {
             "colorbar": {
              "outlinewidth": 0,
              "ticks": ""
             }
            },
            "type": "scattergeo"
           }
          ],
          "scattergl": [
           {
            "marker": {
             "colorbar": {
              "outlinewidth": 0,
              "ticks": ""
             }
            },
            "type": "scattergl"
           }
          ],
          "scattermapbox": [
           {
            "marker": {
             "colorbar": {
              "outlinewidth": 0,
              "ticks": ""
             }
            },
            "type": "scattermapbox"
           }
          ],
          "scatterpolar": [
           {
            "marker": {
             "colorbar": {
              "outlinewidth": 0,
              "ticks": ""
             }
            },
            "type": "scatterpolar"
           }
          ],
          "scatterpolargl": [
           {
            "marker": {
             "colorbar": {
              "outlinewidth": 0,
              "ticks": ""
             }
            },
            "type": "scatterpolargl"
           }
          ],
          "scatterternary": [
           {
            "marker": {
             "colorbar": {
              "outlinewidth": 0,
              "ticks": ""
             }
            },
            "type": "scatterternary"
           }
          ],
          "surface": [
           {
            "colorbar": {
             "outlinewidth": 0,
             "ticks": ""
            },
            "colorscale": [
             [
              0,
              "#0d0887"
             ],
             [
              0.1111111111111111,
              "#46039f"
             ],
             [
              0.2222222222222222,
              "#7201a8"
             ],
             [
              0.3333333333333333,
              "#9c179e"
             ],
             [
              0.4444444444444444,
              "#bd3786"
             ],
             [
              0.5555555555555556,
              "#d8576b"
             ],
             [
              0.6666666666666666,
              "#ed7953"
             ],
             [
              0.7777777777777778,
              "#fb9f3a"
             ],
             [
              0.8888888888888888,
              "#fdca26"
             ],
             [
              1,
              "#f0f921"
             ]
            ],
            "type": "surface"
           }
          ],
          "table": [
           {
            "cells": {
             "fill": {
              "color": "#EBF0F8"
             },
             "line": {
              "color": "white"
             }
            },
            "header": {
             "fill": {
              "color": "#C8D4E3"
             },
             "line": {
              "color": "white"
             }
            },
            "type": "table"
           }
          ]
         },
         "layout": {
          "annotationdefaults": {
           "arrowcolor": "#2a3f5f",
           "arrowhead": 0,
           "arrowwidth": 1
          },
          "coloraxis": {
           "colorbar": {
            "outlinewidth": 0,
            "ticks": ""
           }
          },
          "colorscale": {
           "diverging": [
            [
             0,
             "#8e0152"
            ],
            [
             0.1,
             "#c51b7d"
            ],
            [
             0.2,
             "#de77ae"
            ],
            [
             0.3,
             "#f1b6da"
            ],
            [
             0.4,
             "#fde0ef"
            ],
            [
             0.5,
             "#f7f7f7"
            ],
            [
             0.6,
             "#e6f5d0"
            ],
            [
             0.7,
             "#b8e186"
            ],
            [
             0.8,
             "#7fbc41"
            ],
            [
             0.9,
             "#4d9221"
            ],
            [
             1,
             "#276419"
            ]
           ],
           "sequential": [
            [
             0,
             "#0d0887"
            ],
            [
             0.1111111111111111,
             "#46039f"
            ],
            [
             0.2222222222222222,
             "#7201a8"
            ],
            [
             0.3333333333333333,
             "#9c179e"
            ],
            [
             0.4444444444444444,
             "#bd3786"
            ],
            [
             0.5555555555555556,
             "#d8576b"
            ],
            [
             0.6666666666666666,
             "#ed7953"
            ],
            [
             0.7777777777777778,
             "#fb9f3a"
            ],
            [
             0.8888888888888888,
             "#fdca26"
            ],
            [
             1,
             "#f0f921"
            ]
           ],
           "sequentialminus": [
            [
             0,
             "#0d0887"
            ],
            [
             0.1111111111111111,
             "#46039f"
            ],
            [
             0.2222222222222222,
             "#7201a8"
            ],
            [
             0.3333333333333333,
             "#9c179e"
            ],
            [
             0.4444444444444444,
             "#bd3786"
            ],
            [
             0.5555555555555556,
             "#d8576b"
            ],
            [
             0.6666666666666666,
             "#ed7953"
            ],
            [
             0.7777777777777778,
             "#fb9f3a"
            ],
            [
             0.8888888888888888,
             "#fdca26"
            ],
            [
             1,
             "#f0f921"
            ]
           ]
          },
          "colorway": [
           "#636efa",
           "#EF553B",
           "#00cc96",
           "#ab63fa",
           "#FFA15A",
           "#19d3f3",
           "#FF6692",
           "#B6E880",
           "#FF97FF",
           "#FECB52"
          ],
          "font": {
           "color": "#2a3f5f"
          },
          "geo": {
           "bgcolor": "white",
           "lakecolor": "white",
           "landcolor": "#E5ECF6",
           "showlakes": true,
           "showland": true,
           "subunitcolor": "white"
          },
          "hoverlabel": {
           "align": "left"
          },
          "hovermode": "closest",
          "mapbox": {
           "style": "light"
          },
          "paper_bgcolor": "white",
          "plot_bgcolor": "#E5ECF6",
          "polar": {
           "angularaxis": {
            "gridcolor": "white",
            "linecolor": "white",
            "ticks": ""
           },
           "bgcolor": "#E5ECF6",
           "radialaxis": {
            "gridcolor": "white",
            "linecolor": "white",
            "ticks": ""
           }
          },
          "scene": {
           "xaxis": {
            "backgroundcolor": "#E5ECF6",
            "gridcolor": "white",
            "gridwidth": 2,
            "linecolor": "white",
            "showbackground": true,
            "ticks": "",
            "zerolinecolor": "white"
           },
           "yaxis": {
            "backgroundcolor": "#E5ECF6",
            "gridcolor": "white",
            "gridwidth": 2,
            "linecolor": "white",
            "showbackground": true,
            "ticks": "",
            "zerolinecolor": "white"
           },
           "zaxis": {
            "backgroundcolor": "#E5ECF6",
            "gridcolor": "white",
            "gridwidth": 2,
            "linecolor": "white",
            "showbackground": true,
            "ticks": "",
            "zerolinecolor": "white"
           }
          },
          "shapedefaults": {
           "line": {
            "color": "#2a3f5f"
           }
          },
          "ternary": {
           "aaxis": {
            "gridcolor": "white",
            "linecolor": "white",
            "ticks": ""
           },
           "baxis": {
            "gridcolor": "white",
            "linecolor": "white",
            "ticks": ""
           },
           "bgcolor": "#E5ECF6",
           "caxis": {
            "gridcolor": "white",
            "linecolor": "white",
            "ticks": ""
           }
          },
          "title": {
           "x": 0.05
          },
          "xaxis": {
           "automargin": true,
           "gridcolor": "white",
           "linecolor": "white",
           "ticks": "",
           "title": {
            "standoff": 15
           },
           "zerolinecolor": "white",
           "zerolinewidth": 2
          },
          "yaxis": {
           "automargin": true,
           "gridcolor": "white",
           "linecolor": "white",
           "ticks": "",
           "title": {
            "standoff": 15
           },
           "zerolinecolor": "white",
           "zerolinewidth": 2
          }
         }
        },
        "title": {
         "text": "The rumor graph of bioweapon at week 9"
        },
        "width": 1000,
        "xaxis": {
         "showgrid": false,
         "showline": false,
         "showticklabels": false,
         "title": {
          "text": ""
         },
         "zeroline": false
        },
        "yaxis": {
         "showgrid": false,
         "showline": false,
         "showticklabels": false,
         "title": {
          "text": ""
         },
         "zeroline": false
        }
       }
      },
      "text/html": [
       "<div>\n",
       "        \n",
       "        \n",
       "            <div id=\"c1a09ca5-72cd-4951-9a0a-e031534d4883\" class=\"plotly-graph-div\" style=\"height:1000px; width:1000px;\"></div>\n",
       "            <script type=\"text/javascript\">\n",
       "                require([\"plotly\"], function(Plotly) {\n",
       "                    window.PLOTLYENV=window.PLOTLYENV || {};\n",
       "                    \n",
       "                if (document.getElementById(\"c1a09ca5-72cd-4951-9a0a-e031534d4883\")) {\n",
       "                    Plotly.newPlot(\n",
       "                        'c1a09ca5-72cd-4951-9a0a-e031534d4883',\n",
       "                        [{\"hoverinfo\": \"none\", \"line\": {\"color\": \"black\", \"width\": 2}, \"mode\": \"lines\", \"opacity\": 1, \"type\": \"scatter\", \"x\": [-0.3011586905270084, -0.05476216657681331, null], \"y\": [-0.05978976628526923, -0.07504206625212563, null]}, {\"hoverinfo\": \"none\", \"line\": {\"color\": \"black\", \"width\": 2}, \"mode\": \"lines\", \"opacity\": 1, \"type\": \"scatter\", \"x\": [-0.05476216657681331, 0.9920839329710154, null], \"y\": [-0.07504206625212563, 0.842179520727728, null]}, {\"hoverinfo\": \"text\", \"marker\": {\"color\": \"grey\", \"opacity\": 0}, \"mode\": \"markers\", \"text\": [\"\", \"\"], \"type\": \"scatter\", \"x\": [-0.17796042855191085, 0.46866088319710103], \"y\": [-0.06741591626869743, 0.38356872723780117]}, {\"hoverinfo\": \"none\", \"line\": {\"color\": \"purple\", \"width\": 2}, \"mode\": \"lines\", \"opacity\": 1, \"type\": \"scatter\", \"x\": [-0.3011586905270084, 0.4171199632827575, null], \"y\": [-0.05978976628526923, 0.29714935394451725, null]}, {\"hoverinfo\": \"none\", \"line\": {\"color\": \"purple\", \"width\": 2}, \"mode\": \"lines\", \"opacity\": 1, \"type\": \"scatter\", \"x\": [0.4171199632827575, -0.05476216657681331, null], \"y\": [0.29714935394451725, -0.07504206625212563, null]}, {\"hoverinfo\": \"none\", \"line\": {\"color\": \"purple\", \"width\": 2}, \"mode\": \"lines\", \"opacity\": 1, \"type\": \"scatter\", \"x\": [-0.05476216657681331, 0.9920839329710154, null], \"y\": [-0.07504206625212563, 0.842179520727728, null]}, {\"hoverinfo\": \"text\", \"marker\": {\"color\": \"grey\", \"opacity\": 0}, \"mode\": \"markers\", \"text\": [\"\", \"\", \"\"], \"type\": \"scatter\", \"x\": [0.05798063637787457, 0.1811788983529721, 0.46866088319710103], \"y\": [0.11867979382962401, 0.11105364384619582, 0.38356872723780117]}, {\"hoverinfo\": \"none\", \"line\": {\"color\": \"green\", \"width\": 2}, \"mode\": \"lines\", \"opacity\": 1, \"type\": \"scatter\", \"x\": [-0.3011586905270084, -0.624497017510726, null], \"y\": [-0.05978976628526923, -0.15813462082855548, null]}, {\"hoverinfo\": \"none\", \"line\": {\"color\": \"green\", \"width\": 2}, \"mode\": \"lines\", \"opacity\": 1, \"type\": \"scatter\", \"x\": [-0.624497017510726, -0.05476216657681331, null], \"y\": [-0.15813462082855548, -0.07504206625212563, null]}, {\"hoverinfo\": \"none\", \"line\": {\"color\": \"green\", \"width\": 2}, \"mode\": \"lines\", \"opacity\": 1, \"type\": \"scatter\", \"x\": [-0.05476216657681331, 0.9920839329710154, null], \"y\": [-0.07504206625212563, 0.842179520727728, null]}, {\"hoverinfo\": \"text\", \"marker\": {\"color\": \"grey\", \"opacity\": 0}, \"mode\": \"markers\", \"text\": [\"\", \"\", \"\"], \"type\": \"scatter\", \"x\": [-0.46282785401886717, -0.33962959204376963, 0.46866088319710103], \"y\": [-0.10896219355691236, -0.11658834354034056, 0.38356872723780117]}, {\"hoverinfo\": \"none\", \"line\": {\"color\": \"black\", \"width\": 2}, \"mode\": \"lines\", \"opacity\": 1, \"type\": \"scatter\", \"x\": [-0.020938260429115882, -0.05476216657681331, null], \"y\": [-0.9958206339401493, -0.07504206625212563, null]}, {\"hoverinfo\": \"none\", \"line\": {\"color\": \"black\", \"width\": 2}, \"mode\": \"lines\", \"opacity\": 1, \"type\": \"scatter\", \"x\": [-0.05476216657681331, 0.9920839329710154, null], \"y\": [-0.07504206625212563, 0.842179520727728, null]}, {\"hoverinfo\": \"text\", \"marker\": {\"color\": \"grey\", \"opacity\": 0}, \"mode\": \"markers\", \"text\": [\"\", \"\"], \"type\": \"scatter\", \"x\": [-0.037850213502964594, 0.46866088319710103], \"y\": [-0.5354313500961375, 0.38356872723780117]}, {\"hoverinfo\": \"none\", \"line\": {\"color\": \"purple\", \"width\": 2}, \"mode\": \"lines\", \"opacity\": 1, \"type\": \"scatter\", \"x\": [-0.020938260429115882, -0.05476216657681331, null], \"y\": [-0.9958206339401493, -0.07504206625212563, null]}, {\"hoverinfo\": \"none\", \"line\": {\"color\": \"purple\", \"width\": 2}, \"mode\": \"lines\", \"opacity\": 1, \"type\": \"scatter\", \"x\": [-0.05476216657681331, 0.9920839329710154, null], \"y\": [-0.07504206625212563, 0.842179520727728, null]}, {\"hoverinfo\": \"text\", \"marker\": {\"color\": \"grey\", \"opacity\": 0}, \"mode\": \"markers\", \"text\": [\"\", \"\"], \"type\": \"scatter\", \"x\": [-0.037850213502964594, 0.46866088319710103], \"y\": [-0.5354313500961375, 0.38356872723780117]}, {\"hoverinfo\": \"none\", \"line\": {\"color\": \"green\", \"width\": 2}, \"mode\": \"lines\", \"opacity\": 1, \"type\": \"scatter\", \"x\": [-0.020938260429115882, 0.27695065098468147, null], \"y\": [-0.9958206339401493, -0.44311458155570455, null]}, {\"hoverinfo\": \"none\", \"line\": {\"color\": \"green\", \"width\": 2}, \"mode\": \"lines\", \"opacity\": 1, \"type\": \"scatter\", \"x\": [0.27695065098468147, 0.7397284211176135, null], \"y\": [-0.44311458155570455, -0.42863218889314697, null]}, {\"hoverinfo\": \"none\", \"line\": {\"color\": \"green\", \"width\": 2}, \"mode\": \"lines\", \"opacity\": 1, \"type\": \"scatter\", \"x\": [0.7397284211176135, -0.05476216657681331, null], \"y\": [-0.42863218889314697, -0.07504206625212563, null]}, {\"hoverinfo\": \"none\", \"line\": {\"color\": \"green\", \"width\": 2}, \"mode\": \"lines\", \"opacity\": 1, \"type\": \"scatter\", \"x\": [-0.05476216657681331, 0.9920839329710154, null], \"y\": [-0.07504206625212563, 0.842179520727728, null]}, {\"hoverinfo\": \"text\", \"marker\": {\"color\": \"grey\", \"opacity\": 0}, \"mode\": \"markers\", \"text\": [\"\", \"\", \"\", \"\"], \"type\": \"scatter\", \"x\": [0.12800619527778279, 0.5083395360511475, 0.3424831272704001, 0.46866088319710103], \"y\": [-0.719467607747927, -0.43587338522442576, -0.2518371275726363, 0.38356872723780117]}, {\"hoverinfo\": \"none\", \"line\": {\"color\": \"black\", \"width\": 2}, \"mode\": \"lines\", \"opacity\": 1, \"type\": \"scatter\", \"x\": [-0.14238651253932533, -0.05476216657681331, null], \"y\": [0.6127943027860046, -0.07504206625212563, null]}, {\"hoverinfo\": \"none\", \"line\": {\"color\": \"black\", \"width\": 2}, \"mode\": \"lines\", \"opacity\": 1, \"type\": \"scatter\", \"x\": [-0.05476216657681331, 0.9920839329710154, null], \"y\": [-0.07504206625212563, 0.842179520727728, null]}, {\"hoverinfo\": \"text\", \"marker\": {\"color\": \"grey\", \"opacity\": 0}, \"mode\": \"markers\", \"text\": [\"\", \"\"], \"type\": \"scatter\", \"x\": [-0.09857433955806932, 0.46866088319710103], \"y\": [0.26887611826693947, 0.38356872723780117]}, {\"hoverinfo\": \"none\", \"line\": {\"color\": \"purple\", \"width\": 2}, \"mode\": \"lines\", \"opacity\": 1, \"type\": \"scatter\", \"x\": [-0.14238651253932533, -0.05476216657681331, null], \"y\": [0.6127943027860046, -0.07504206625212563, null]}, {\"hoverinfo\": \"none\", \"line\": {\"color\": \"purple\", \"width\": 2}, \"mode\": \"lines\", \"opacity\": 1, \"type\": \"scatter\", \"x\": [-0.05476216657681331, 0.9920839329710154, null], \"y\": [-0.07504206625212563, 0.842179520727728, null]}, {\"hoverinfo\": \"text\", \"marker\": {\"color\": \"grey\", \"opacity\": 0}, \"mode\": \"markers\", \"text\": [\"\", \"\"], \"type\": \"scatter\", \"x\": [-0.09857433955806932, 0.46866088319710103], \"y\": [0.26887611826693947, 0.38356872723780117]}, {\"hoverinfo\": \"none\", \"line\": {\"color\": \"green\", \"width\": 2}, \"mode\": \"lines\", \"opacity\": 1, \"type\": \"scatter\", \"x\": [-0.14238651253932533, -0.434155433387539, null], \"y\": [0.6127943027860046, 0.34631199133485074, null]}, {\"hoverinfo\": \"none\", \"line\": {\"color\": \"green\", \"width\": 2}, \"mode\": \"lines\", \"opacity\": 1, \"type\": \"scatter\", \"x\": [-0.434155433387539, -0.05476216657681331, null], \"y\": [0.34631199133485074, -0.07504206625212563, null]}, {\"hoverinfo\": \"none\", \"line\": {\"color\": \"green\", \"width\": 2}, \"mode\": \"lines\", \"opacity\": 1, \"type\": \"scatter\", \"x\": [-0.05476216657681331, 0.9920839329710154, null], \"y\": [-0.07504206625212563, 0.842179520727728, null]}, {\"hoverinfo\": \"text\", \"marker\": {\"color\": \"grey\", \"opacity\": 0}, \"mode\": \"markers\", \"text\": [\"\", \"\", \"\"], \"type\": \"scatter\", \"x\": [-0.2882709729634322, -0.24445879998217615, 0.46866088319710103], \"y\": [0.4795531470604276, 0.13563496254136256, 0.38356872723780117]}, {\"hoverinfo\": \"none\", \"line\": {\"color\": \"yellow\", \"width\": 44.21426856070083}, \"mode\": \"lines\", \"opacity\": 0.2, \"type\": \"scatter\", \"x\": [-0.05476216657681331, -0.624497017510726, null], \"y\": [-0.07504206625212563, -0.15813462082855548, null]}, {\"hoverinfo\": \"none\", \"line\": {\"color\": \"yellow\", \"width\": 38.21081388254292}, \"mode\": \"lines\", \"opacity\": 0.2, \"type\": \"scatter\", \"x\": [-0.05476216657681331, -0.434155433387539, null], \"y\": [-0.07504206625212563, 0.34631199133485074, null]}, {\"hoverinfo\": \"none\", \"line\": {\"color\": \"yellow\", \"width\": 15.413225827928393}, \"mode\": \"lines\", \"opacity\": 0.2, \"type\": \"scatter\", \"x\": [-0.05476216657681331, 0.7397284211176135, null], \"y\": [-0.07504206625212563, -0.42863218889314697, null]}, {\"hoverinfo\": \"none\", \"line\": {\"color\": \"yellow\", \"width\": 123.78544739015899}, \"mode\": \"lines\", \"opacity\": 0.2, \"type\": \"scatter\", \"x\": [-0.05476216657681331, -0.07907326570960221, null], \"y\": [-0.07504206625212563, -0.2989880163676148, null]}, {\"hoverinfo\": \"none\", \"line\": {\"color\": \"yellow\", \"width\": 52.8519456659692}, \"mode\": \"lines\", \"opacity\": 0.2, \"type\": \"scatter\", \"x\": [-0.05476216657681331, 0.27695065098468147, null], \"y\": [-0.07504206625212563, -0.44311458155570455, null]}, {\"hoverinfo\": \"none\", \"line\": {\"color\": \"yellow\", \"width\": 40.05759257706855}, \"mode\": \"lines\", \"opacity\": 0.2, \"type\": \"scatter\", \"x\": [-0.05476216657681331, -0.29616848857205574, null], \"y\": [-0.07504206625212563, -0.6389132946705339, null]}, {\"hoverinfo\": \"none\", \"line\": {\"color\": \"yellow\", \"width\": 16.771822627777233}, \"mode\": \"lines\", \"opacity\": 0.2, \"type\": \"scatter\", \"x\": [-0.05476216657681331, -0.3011586905270084, null], \"y\": [-0.07504206625212563, -0.05978976628526923, null]}, {\"hoverinfo\": \"none\", \"line\": {\"color\": \"red\", \"width\": 24.388700006120384}, \"mode\": \"lines\", \"opacity\": 0.2, \"type\": \"scatter\", \"x\": [-0.05476216657681331, -0.14238651253932533, null], \"y\": [-0.07504206625212563, 0.6127943027860046, null]}, {\"hoverinfo\": \"none\", \"line\": {\"color\": \"green\", \"width\": 8.191390002639944}, \"mode\": \"lines\", \"opacity\": 0.2, \"type\": \"scatter\", \"x\": [-0.05476216657681331, -0.472743133103884, null], \"y\": [-0.07504206625212563, 1.0, null]}, {\"hoverinfo\": \"none\", \"line\": {\"color\": \"red\", \"width\": 10.500834195918934}, \"mode\": \"lines\", \"opacity\": 0.2, \"type\": \"scatter\", \"x\": [-0.05476216657681331, -0.020938260429115882, null], \"y\": [-0.07504206625212563, -0.9958206339401493, null]}, {\"hoverinfo\": \"none\", \"line\": {\"color\": \"red\", \"width\": 9.86804838344883}, \"mode\": \"lines\", \"opacity\": 0.2, \"type\": \"scatter\", \"x\": [-0.05476216657681331, -0.05476216657681331, null], \"y\": [-0.07504206625212563, -0.07504206625212563, null]}, {\"hoverinfo\": \"none\", \"line\": {\"color\": \"red\", \"width\": 5.250417097959467}, \"mode\": \"lines\", \"opacity\": 0.2, \"type\": \"scatter\", \"x\": [-0.05476216657681331, 0.9920839329710154, null], \"y\": [-0.07504206625212563, 0.842179520727728, null]}, {\"hoverinfo\": \"none\", \"line\": {\"color\": \"orange\", \"width\": 10.443412528352393}, \"mode\": \"lines\", \"opacity\": 0.2, \"type\": \"scatter\", \"x\": [-0.05476216657681331, 0.4171199632827575, null], \"y\": [-0.07504206625212563, 0.29714935394451725, null]}, {\"hoverinfo\": \"none\", \"line\": {\"color\": \"red\", \"width\": 15.413225827928393}, \"mode\": \"lines\", \"opacity\": 0.2, \"type\": \"scatter\", \"x\": [-0.29616848857205574, -0.020938260429115882, null], \"y\": [-0.6389132946705339, -0.9958206339401493, null]}, {\"hoverinfo\": \"none\", \"line\": {\"color\": \"yellow\", \"width\": 9.86804838344883}, \"mode\": \"lines\", \"opacity\": 0.2, \"type\": \"scatter\", \"x\": [-0.434155433387539, -0.14238651253932533, null], \"y\": [0.34631199133485074, 0.6127943027860046, null]}, {\"hoverinfo\": \"none\", \"line\": {\"color\": \"yellow\", \"width\": 12.640637105688612}, \"mode\": \"lines\", \"opacity\": 0.2, \"type\": \"scatter\", \"x\": [-0.434155433387539, -0.434155433387539, null], \"y\": [0.34631199133485074, 0.34631199133485074, null]}, {\"hoverinfo\": \"none\", \"line\": {\"color\": \"green\", \"width\": 8.191390002639944}, \"mode\": \"lines\", \"opacity\": 0.2, \"type\": \"scatter\", \"x\": [-0.020938260429115882, 0.27695065098468147, null], \"y\": [-0.9958206339401493, -0.44311458155570455, null]}, {\"hoverinfo\": \"none\", \"line\": {\"color\": \"orange\", \"width\": 34.15916806123035}, \"mode\": \"lines\", \"opacity\": 0.2, \"type\": \"scatter\", \"x\": [-0.3011586905270084, -0.07907326570960221, null], \"y\": [-0.05978976628526923, -0.2989880163676148, null]}, {\"hoverinfo\": \"none\", \"line\": {\"color\": \"green\", \"width\": 15.413225827928393}, \"mode\": \"lines\", \"opacity\": 0.2, \"type\": \"scatter\", \"x\": [-0.3011586905270084, -0.624497017510726, null], \"y\": [-0.05978976628526923, -0.15813462082855548, null]}, {\"hoverinfo\": \"none\", \"line\": {\"color\": \"orange\", \"width\": 10.808055641940301}, \"mode\": \"lines\", \"opacity\": 0.2, \"type\": \"scatter\", \"x\": [-0.3011586905270084, 0.4171199632827575, null], \"y\": [-0.05978976628526923, 0.29714935394451725, null]}, {\"hoverinfo\": \"none\", \"line\": {\"color\": \"green\", \"width\": 10.28332711300532}, \"mode\": \"lines\", \"opacity\": 0.2, \"type\": \"scatter\", \"x\": [-0.07907326570960221, -0.07907326570960221, null], \"y\": [-0.2989880163676148, -0.2989880163676148, null]}, {\"hoverinfo\": \"none\", \"line\": {\"color\": \"yellow\", \"width\": 8.191390002639944}, \"mode\": \"lines\", \"opacity\": 0.2, \"type\": \"scatter\", \"x\": [0.27695065098468147, 0.7397284211176135, null], \"y\": [-0.44311458155570455, -0.42863218889314697, null]}, {\"hoverinfo\": \"none\", \"line\": {\"color\": \"yellow\", \"width\": 8.191390002639944}, \"mode\": \"lines\", \"opacity\": 0.2, \"type\": \"scatter\", \"x\": [-0.14238651253932533, -0.472743133103884, null], \"y\": [0.6127943027860046, 1.0, null]}, {\"hoverinfo\": \"text\", \"marker\": {\"color\": \"grey\", \"opacity\": 0}, \"mode\": \"markers\", \"text\": [\"'weight': 22.107134280350415<br>'d_suspicious': 0.0<br>'colors': [0. 1. 0. 0.]\", \"'weight': 19.10540694127146<br>'d_suspicious': 0.0<br>'colors': [0. 1. 0. 0.]\", \"'weight': 7.706612913964197<br>'d_suspicious': 0.0<br>'colors': [0. 1. 0. 0.]\", \"'weight': 61.892723695079496<br>'d_suspicious': 0.2727272727272727<br>'colors': [0.18181818 0.54545455 0.         0.27272727]\", \"'weight': 26.4259728329846<br>'d_suspicious': 0.16666666666666666<br>'colors': [0.         0.83333333 0.16666667 0.        ]\", \"'weight': 20.028796288534274<br>'d_suspicious': 0.3333333333333333<br>'colors': [0.         0.66666667 0.         0.33333333]\", \"'weight': 8.385911313888617<br>'d_suspicious': 0.5<br>'colors': [0.  0.5 0.5 0. ]\", \"'weight': 12.194350003060192<br>'d_suspicious': 1.0<br>'colors': [0. 0. 0. 1.]\", \"'weight': 4.095695001319972<br>'d_suspicious': 0.0<br>'colors': [0.5 0.5 0.  0. ]\", \"'weight': 5.250417097959467<br>'d_suspicious': 1.0<br>'colors': [0. 0. 0. 1.]\", \"'weight': 4.934024191724415<br>'d_suspicious': 1.0<br>'colors': [0. 0. 0. 1.]\", \"'weight': 2.6252085489797334<br>'d_suspicious': 1.0<br>'colors': [0. 0. 0. 1.]\", \"'weight': 5.221706264176197<br>'d_suspicious': 1.0<br>'colors': [0. 0. 1. 0.]\", \"'weight': 7.706612913964197<br>'d_suspicious': 1.0<br>'colors': [0. 0. 0. 1.]\", \"'weight': 4.934024191724415<br>'d_suspicious': 0.0<br>'colors': [0. 1. 0. 0.]\", \"'weight': 6.320318552844306<br>'d_suspicious': 0.0<br>'colors': [0. 1. 0. 0.]\", \"'weight': 4.095695001319972<br>'d_suspicious': 0.0<br>'colors': [1. 0. 0. 0.]\", \"'weight': 17.079584030615177<br>'d_suspicious': 1.0<br>'colors': [0. 0. 1. 0.]\", \"'weight': 7.706612913964197<br>'d_suspicious': 0.0<br>'colors': [1. 0. 0. 0.]\", \"'weight': 5.404027820970151<br>'d_suspicious': 1.0<br>'colors': [0. 0. 1. 0.]\", \"'weight': 5.14166355650266<br>'d_suspicious': 0.0<br>'colors': [1. 0. 0. 0.]\", \"'weight': 4.095695001319972<br>'d_suspicious': 0.0<br>'colors': [0. 1. 0. 0.]\", \"'weight': 4.095695001319972<br>'d_suspicious': 0.0<br>'colors': [0. 1. 0. 0.]\"], \"type\": \"scatter\", \"x\": [-0.33962959204376963, -0.24445879998217615, 0.3424831272704001, -0.06691771614320777, 0.11109424220393407, -0.17546532757443453, -0.17796042855191085, -0.09857433955806932, -0.26375264984034863, -0.037850213502964594, -0.05476216657681331, 0.46866088319710103, 0.1811788983529721, -0.15855337450058582, -0.2882709729634322, -0.434155433387539, 0.12800619527778279, -0.1901159781183053, -0.46282785401886717, 0.05798063637787457, -0.07907326570960221, 0.5083395360511475, -0.3075648228216047], \"y\": [-0.11658834354034056, 0.13563496254136256, -0.2518371275726363, -0.1870150413098702, -0.2590783239039151, -0.35697768046132977, -0.06741591626869743, 0.26887611826693947, 0.4624789668739372, -0.5354313500961375, -0.07504206625212563, 0.38356872723780117, 0.11105364384619582, -0.8173669643053416, 0.4795531470604276, 0.34631199133485074, -0.719467607747927, -0.179388891326442, -0.10896219355691236, 0.11867979382962401, -0.2989880163676148, -0.43587338522442576, 0.8063971513930023]}, {\"hoverinfo\": \"text\", \"marker\": {\"color\": [\"black\", \"yellow\", \"yellow\", \"black\", \"black\", \"yellow\", \"black\", \"black\", \"yellow\", \"orange\", \"black\", \"yellow\", \"red\"], \"line\": {\"color\": \"rgb(50,50,50)\", \"width\": 0.5}, \"size\": 50, \"symbol\": \"circle-dot\"}, \"mode\": \"markers\", \"name\": \"net\", \"text\": [\"'name':SUPER:coronavirus|aronavirus|the alarm coronavirus<br>'df': 6.024390243902439<br>'pop': -2.182028472708682<br>'rt': 11.24119241192412<br>'fav': 42.69376693766937<br>'color': [0.21680217 0.49593496 0.14363144 0.14363144]<br>'freq': 369\", \"'name':SUPER:hotel|restaurant<br>'df': 202.0909090909091<br>'pop': -2.4268618565886073<br>'rt': 8.363636363636363<br>'fav': 12.636363636363637<br>'color': [0.18181818 0.54545455 0.09090909 0.18181818]<br>'freq': 11\", \"'name':SUPER:people|people.<br>'df': 71.70967741935483<br>'pop': -3.1651956086741<br>'rt': 1.8709677419354838<br>'fav': 2.6774193548387095<br>'color': [0.19354839 0.67741935 0.06451613 0.06451613]<br>'freq': 31\", \"'name':SUPER:deadly_virus|deadly<br>'df': 444.6<br>'pop': -3.9769689789754183<br>'rt': 1.0<br>'fav': 1.4<br>'color': [0.4 0.2 0.  0.4]<br>'freq': 5\", \"'name':SUPER:outbreak|virus_outbreak|epidemic<br>'df': 30.04054054054054<br>'pop': -2.287344796002749<br>'rt': 2.8513513513513513<br>'fav': 8.391891891891891<br>'color': [0.33783784 0.41891892 0.2027027  0.04054054]<br>'freq': 74\", \"'name':SUPER:<<NUM>>_people|<<NUM>>_death|<<NUM>>_day<br>'df': 27.444444444444443<br>'pop': -3.1125954146581316<br>'rt': 1.3580246913580247<br>'fav': 2.123456790123457<br>'color': [0.28395062 0.51851852 0.07407407 0.12345679]<br>'freq': 81\", \"'name':SUPER:woman|girl<br>'df': 92.625<br>'pop': -2.030736839875133<br>'rt': 2.125<br>'fav': 6.916666666666667<br>'color': [0.375      0.41666667 0.125      0.08333333]<br>'freq': 24\", \"'name':SUPER:virus_outbreak|virus|infection<br>'df': 63.51428571428571<br>'pop': -2.923413498500679<br>'rt': 4.628571428571429<br>'fav': 12.114285714285714<br>'color': [0.31428571 0.28571429 0.25714286 0.14285714]<br>'freq': 35\", \"'name':SUPER:first_time|time<br>'df': 185.25<br>'pop': -2.932050989497182<br>'rt': 6.083333333333333<br>'fav': 23.25<br>'color': [0.16666667 0.58333333 0.         0.25      ]<br>'freq': 12\", \"'name':sale<br>'df': 1111.5<br>'pop': -4.963200661707947<br>'rt': 3.0<br>'fav': 6.5<br>'color': [0. 0. 1. 0.]<br>'freq': 2\", \"'name':SUPER:man|guy|kid<br>'df': 96.65217391304348<br>'pop': -1.863967550667424<br>'rt': 0.782608695652174<br>'fav': 1.8695652173913044<br>'color': [0.43478261 0.47826087 0.         0.08695652]<br>'freq': 23\", \"'name':SUPER:minister|prime_minister<br>'df': 317.57142857142856<br>'pop': -2.9108263351303494<br>'rt': 1.1428571428571428<br>'fav': 2.142857142857143<br>'color': [0.14285714 0.71428571 0.14285714 0.        ]<br>'freq': 7\", \"'name':bioweapon<br>'df': 2223.0<br>'pop': -6.0<br>'rt': 0.0<br>'fav': 0.0<br>'color': [0. 0. 0. 1.]<br>'freq': 1\"], \"type\": \"scatter\", \"x\": [-0.05476216657681331, -0.29616848857205574, -0.434155433387539, -0.020938260429115882, -0.3011586905270084, -0.07907326570960221, 0.27695065098468147, -0.14238651253932533, 0.7397284211176135, 0.4171199632827575, -0.624497017510726, -0.472743133103884, 0.9920839329710154], \"y\": [-0.07504206625212563, -0.6389132946705339, 0.34631199133485074, -0.9958206339401493, -0.05978976628526923, -0.2989880163676148, -0.44311458155570455, 0.6127943027860046, -0.42863218889314697, 0.29714935394451725, -0.15813462082855548, 1.0, 0.842179520727728]}],\n",
       "                        {\"annotations\": [{\"font\": {\"size\": 14}, \"showarrow\": false, \"text\": \"The rumor graph\", \"x\": 0, \"xanchor\": \"left\", \"xref\": \"paper\", \"y\": -0.1, \"yanchor\": \"bottom\", \"yref\": \"paper\"}], \"autosize\": false, \"font\": {\"size\": 12}, \"height\": 1000, \"hovermode\": \"closest\", \"margin\": {\"b\": 85, \"l\": 40, \"r\": 40, \"t\": 100}, \"showlegend\": false, \"template\": {\"data\": {\"bar\": [{\"error_x\": {\"color\": \"#2a3f5f\"}, \"error_y\": {\"color\": \"#2a3f5f\"}, \"marker\": {\"line\": {\"color\": \"#E5ECF6\", \"width\": 0.5}}, \"type\": \"bar\"}], \"barpolar\": [{\"marker\": {\"line\": {\"color\": \"#E5ECF6\", \"width\": 0.5}}, \"type\": \"barpolar\"}], \"carpet\": [{\"aaxis\": {\"endlinecolor\": \"#2a3f5f\", \"gridcolor\": \"white\", \"linecolor\": \"white\", \"minorgridcolor\": \"white\", \"startlinecolor\": \"#2a3f5f\"}, \"baxis\": {\"endlinecolor\": \"#2a3f5f\", \"gridcolor\": \"white\", \"linecolor\": \"white\", \"minorgridcolor\": \"white\", \"startlinecolor\": \"#2a3f5f\"}, \"type\": \"carpet\"}], \"choropleth\": [{\"colorbar\": {\"outlinewidth\": 0, \"ticks\": \"\"}, \"type\": \"choropleth\"}], \"contour\": [{\"colorbar\": {\"outlinewidth\": 0, \"ticks\": \"\"}, \"colorscale\": [[0.0, \"#0d0887\"], [0.1111111111111111, \"#46039f\"], [0.2222222222222222, \"#7201a8\"], [0.3333333333333333, \"#9c179e\"], [0.4444444444444444, \"#bd3786\"], [0.5555555555555556, \"#d8576b\"], [0.6666666666666666, \"#ed7953\"], [0.7777777777777778, \"#fb9f3a\"], [0.8888888888888888, \"#fdca26\"], [1.0, \"#f0f921\"]], \"type\": \"contour\"}], \"contourcarpet\": [{\"colorbar\": {\"outlinewidth\": 0, \"ticks\": \"\"}, \"type\": \"contourcarpet\"}], \"heatmap\": [{\"colorbar\": {\"outlinewidth\": 0, \"ticks\": \"\"}, \"colorscale\": [[0.0, \"#0d0887\"], [0.1111111111111111, \"#46039f\"], [0.2222222222222222, \"#7201a8\"], [0.3333333333333333, \"#9c179e\"], [0.4444444444444444, \"#bd3786\"], [0.5555555555555556, \"#d8576b\"], [0.6666666666666666, \"#ed7953\"], [0.7777777777777778, \"#fb9f3a\"], [0.8888888888888888, \"#fdca26\"], [1.0, \"#f0f921\"]], \"type\": \"heatmap\"}], \"heatmapgl\": [{\"colorbar\": {\"outlinewidth\": 0, \"ticks\": \"\"}, \"colorscale\": [[0.0, \"#0d0887\"], [0.1111111111111111, \"#46039f\"], [0.2222222222222222, \"#7201a8\"], [0.3333333333333333, \"#9c179e\"], [0.4444444444444444, \"#bd3786\"], [0.5555555555555556, \"#d8576b\"], [0.6666666666666666, \"#ed7953\"], [0.7777777777777778, \"#fb9f3a\"], [0.8888888888888888, \"#fdca26\"], [1.0, \"#f0f921\"]], \"type\": \"heatmapgl\"}], \"histogram\": [{\"marker\": {\"colorbar\": {\"outlinewidth\": 0, \"ticks\": \"\"}}, \"type\": \"histogram\"}], \"histogram2d\": [{\"colorbar\": {\"outlinewidth\": 0, \"ticks\": \"\"}, \"colorscale\": [[0.0, \"#0d0887\"], [0.1111111111111111, \"#46039f\"], [0.2222222222222222, \"#7201a8\"], [0.3333333333333333, \"#9c179e\"], [0.4444444444444444, \"#bd3786\"], [0.5555555555555556, \"#d8576b\"], [0.6666666666666666, \"#ed7953\"], [0.7777777777777778, \"#fb9f3a\"], [0.8888888888888888, \"#fdca26\"], [1.0, \"#f0f921\"]], \"type\": \"histogram2d\"}], \"histogram2dcontour\": [{\"colorbar\": {\"outlinewidth\": 0, \"ticks\": \"\"}, \"colorscale\": [[0.0, \"#0d0887\"], [0.1111111111111111, \"#46039f\"], [0.2222222222222222, \"#7201a8\"], [0.3333333333333333, \"#9c179e\"], [0.4444444444444444, \"#bd3786\"], [0.5555555555555556, \"#d8576b\"], [0.6666666666666666, \"#ed7953\"], [0.7777777777777778, \"#fb9f3a\"], [0.8888888888888888, \"#fdca26\"], [1.0, \"#f0f921\"]], \"type\": \"histogram2dcontour\"}], \"mesh3d\": [{\"colorbar\": {\"outlinewidth\": 0, \"ticks\": \"\"}, \"type\": \"mesh3d\"}], \"parcoords\": [{\"line\": {\"colorbar\": {\"outlinewidth\": 0, \"ticks\": \"\"}}, \"type\": \"parcoords\"}], \"pie\": [{\"automargin\": true, \"type\": \"pie\"}], \"scatter\": [{\"marker\": {\"colorbar\": {\"outlinewidth\": 0, \"ticks\": \"\"}}, \"type\": \"scatter\"}], \"scatter3d\": [{\"line\": {\"colorbar\": {\"outlinewidth\": 0, \"ticks\": \"\"}}, \"marker\": {\"colorbar\": {\"outlinewidth\": 0, \"ticks\": \"\"}}, \"type\": \"scatter3d\"}], \"scattercarpet\": [{\"marker\": {\"colorbar\": {\"outlinewidth\": 0, \"ticks\": \"\"}}, \"type\": \"scattercarpet\"}], \"scattergeo\": [{\"marker\": {\"colorbar\": {\"outlinewidth\": 0, \"ticks\": \"\"}}, \"type\": \"scattergeo\"}], \"scattergl\": [{\"marker\": {\"colorbar\": {\"outlinewidth\": 0, \"ticks\": \"\"}}, \"type\": \"scattergl\"}], \"scattermapbox\": [{\"marker\": {\"colorbar\": {\"outlinewidth\": 0, \"ticks\": \"\"}}, \"type\": \"scattermapbox\"}], \"scatterpolar\": [{\"marker\": {\"colorbar\": {\"outlinewidth\": 0, \"ticks\": \"\"}}, \"type\": \"scatterpolar\"}], \"scatterpolargl\": [{\"marker\": {\"colorbar\": {\"outlinewidth\": 0, \"ticks\": \"\"}}, \"type\": \"scatterpolargl\"}], \"scatterternary\": [{\"marker\": {\"colorbar\": {\"outlinewidth\": 0, \"ticks\": \"\"}}, \"type\": \"scatterternary\"}], \"surface\": [{\"colorbar\": {\"outlinewidth\": 0, \"ticks\": \"\"}, \"colorscale\": [[0.0, \"#0d0887\"], [0.1111111111111111, \"#46039f\"], [0.2222222222222222, \"#7201a8\"], [0.3333333333333333, \"#9c179e\"], [0.4444444444444444, \"#bd3786\"], [0.5555555555555556, \"#d8576b\"], [0.6666666666666666, \"#ed7953\"], [0.7777777777777778, \"#fb9f3a\"], [0.8888888888888888, \"#fdca26\"], [1.0, \"#f0f921\"]], \"type\": \"surface\"}], \"table\": [{\"cells\": {\"fill\": {\"color\": \"#EBF0F8\"}, \"line\": {\"color\": \"white\"}}, \"header\": {\"fill\": {\"color\": \"#C8D4E3\"}, \"line\": {\"color\": \"white\"}}, \"type\": \"table\"}]}, \"layout\": {\"annotationdefaults\": {\"arrowcolor\": \"#2a3f5f\", \"arrowhead\": 0, \"arrowwidth\": 1}, \"coloraxis\": {\"colorbar\": {\"outlinewidth\": 0, \"ticks\": \"\"}}, \"colorscale\": {\"diverging\": [[0, \"#8e0152\"], [0.1, \"#c51b7d\"], [0.2, \"#de77ae\"], [0.3, \"#f1b6da\"], [0.4, \"#fde0ef\"], [0.5, \"#f7f7f7\"], [0.6, \"#e6f5d0\"], [0.7, \"#b8e186\"], [0.8, \"#7fbc41\"], [0.9, \"#4d9221\"], [1, \"#276419\"]], \"sequential\": [[0.0, \"#0d0887\"], [0.1111111111111111, \"#46039f\"], [0.2222222222222222, \"#7201a8\"], [0.3333333333333333, \"#9c179e\"], [0.4444444444444444, \"#bd3786\"], [0.5555555555555556, \"#d8576b\"], [0.6666666666666666, \"#ed7953\"], [0.7777777777777778, \"#fb9f3a\"], [0.8888888888888888, \"#fdca26\"], [1.0, \"#f0f921\"]], \"sequentialminus\": [[0.0, \"#0d0887\"], [0.1111111111111111, \"#46039f\"], [0.2222222222222222, \"#7201a8\"], [0.3333333333333333, \"#9c179e\"], [0.4444444444444444, \"#bd3786\"], [0.5555555555555556, \"#d8576b\"], [0.6666666666666666, \"#ed7953\"], [0.7777777777777778, \"#fb9f3a\"], [0.8888888888888888, \"#fdca26\"], [1.0, \"#f0f921\"]]}, \"colorway\": [\"#636efa\", \"#EF553B\", \"#00cc96\", \"#ab63fa\", \"#FFA15A\", \"#19d3f3\", \"#FF6692\", \"#B6E880\", \"#FF97FF\", \"#FECB52\"], \"font\": {\"color\": \"#2a3f5f\"}, \"geo\": {\"bgcolor\": \"white\", \"lakecolor\": \"white\", \"landcolor\": \"#E5ECF6\", \"showlakes\": true, \"showland\": true, \"subunitcolor\": \"white\"}, \"hoverlabel\": {\"align\": \"left\"}, \"hovermode\": \"closest\", \"mapbox\": {\"style\": \"light\"}, \"paper_bgcolor\": \"white\", \"plot_bgcolor\": \"#E5ECF6\", \"polar\": {\"angularaxis\": {\"gridcolor\": \"white\", \"linecolor\": \"white\", \"ticks\": \"\"}, \"bgcolor\": \"#E5ECF6\", \"radialaxis\": {\"gridcolor\": \"white\", \"linecolor\": \"white\", \"ticks\": \"\"}}, \"scene\": {\"xaxis\": {\"backgroundcolor\": \"#E5ECF6\", \"gridcolor\": \"white\", \"gridwidth\": 2, \"linecolor\": \"white\", \"showbackground\": true, \"ticks\": \"\", \"zerolinecolor\": \"white\"}, \"yaxis\": {\"backgroundcolor\": \"#E5ECF6\", \"gridcolor\": \"white\", \"gridwidth\": 2, \"linecolor\": \"white\", \"showbackground\": true, \"ticks\": \"\", \"zerolinecolor\": \"white\"}, \"zaxis\": {\"backgroundcolor\": \"#E5ECF6\", \"gridcolor\": \"white\", \"gridwidth\": 2, \"linecolor\": \"white\", \"showbackground\": true, \"ticks\": \"\", \"zerolinecolor\": \"white\"}}, \"shapedefaults\": {\"line\": {\"color\": \"#2a3f5f\"}}, \"ternary\": {\"aaxis\": {\"gridcolor\": \"white\", \"linecolor\": \"white\", \"ticks\": \"\"}, \"baxis\": {\"gridcolor\": \"white\", \"linecolor\": \"white\", \"ticks\": \"\"}, \"bgcolor\": \"#E5ECF6\", \"caxis\": {\"gridcolor\": \"white\", \"linecolor\": \"white\", \"ticks\": \"\"}}, \"title\": {\"x\": 0.05}, \"xaxis\": {\"automargin\": true, \"gridcolor\": \"white\", \"linecolor\": \"white\", \"ticks\": \"\", \"title\": {\"standoff\": 15}, \"zerolinecolor\": \"white\", \"zerolinewidth\": 2}, \"yaxis\": {\"automargin\": true, \"gridcolor\": \"white\", \"linecolor\": \"white\", \"ticks\": \"\", \"title\": {\"standoff\": 15}, \"zerolinecolor\": \"white\", \"zerolinewidth\": 2}}}, \"title\": {\"text\": \"The rumor graph of bioweapon at week 9\"}, \"width\": 1000, \"xaxis\": {\"showgrid\": false, \"showline\": false, \"showticklabels\": false, \"title\": {\"text\": \"\"}, \"zeroline\": false}, \"yaxis\": {\"showgrid\": false, \"showline\": false, \"showticklabels\": false, \"title\": {\"text\": \"\"}, \"zeroline\": false}},\n",
       "                        {\"responsive\": true}\n",
       "                    ).then(function(){\n",
       "                            \n",
       "var gd = document.getElementById('c1a09ca5-72cd-4951-9a0a-e031534d4883');\n",
       "var x = new MutationObserver(function (mutations, observer) {{\n",
       "        var display = window.getComputedStyle(gd).display;\n",
       "        if (!display || display === 'none') {{\n",
       "            console.log([gd, 'removed!']);\n",
       "            Plotly.purge(gd);\n",
       "            observer.disconnect();\n",
       "        }}\n",
       "}});\n",
       "\n",
       "// Listen for the removal of the full notebook cells\n",
       "var notebookContainer = gd.closest('#notebook-container');\n",
       "if (notebookContainer) {{\n",
       "    x.observe(notebookContainer, {childList: true});\n",
       "}}\n",
       "\n",
       "// Listen for the clearing of the current output cell\n",
       "var outputEl = gd.closest('.output');\n",
       "if (outputEl) {{\n",
       "    x.observe(outputEl, {childList: true});\n",
       "}}\n",
       "\n",
       "                        })\n",
       "                };\n",
       "                });\n",
       "            </script>\n",
       "        </div>"
      ]
     },
     "metadata": {},
     "output_type": "display_data"
    }
   ],
   "source": [
    "rm = 'bioweapon'\n",
    "wk = 9\n",
    "fig = plot_rumor(rm, wk, weekly_rumors[rm][wk], act_mapping, centres)\n",
    "fig"
   ]
  },
  {
   "cell_type": "code",
   "execution_count": 25,
   "metadata": {},
   "outputs": [
    {
     "data": {
      "application/vnd.plotly.v1+json": {
       "config": {
        "plotlyServerURL": "https://plot.ly"
       },
       "data": [
        {
         "hoverinfo": "none",
         "line": {
          "color": "black",
          "width": 2
         },
         "mode": "lines",
         "opacity": 1,
         "type": "scatter",
         "x": [
          -0.25859606204278013,
          -0.015019181597588629,
          null
         ],
         "y": [
          0.8242965068411998,
          0.47473499324270363,
          null
         ]
        },
        {
         "hoverinfo": "none",
         "line": {
          "color": "black",
          "width": 2
         },
         "mode": "lines",
         "opacity": 1,
         "type": "scatter",
         "x": [
          -0.015019181597588629,
          -0.032387763182896136,
          null
         ],
         "y": [
          0.47473499324270363,
          -0.05592611098280903,
          null
         ]
        },
        {
         "hoverinfo": "none",
         "line": {
          "color": "black",
          "width": 2
         },
         "mode": "lines",
         "opacity": 1,
         "type": "scatter",
         "x": [
          -0.032387763182896136,
          0.9999999999999999,
          null
         ],
         "y": [
          -0.05592611098280903,
          -0.6429343832897183,
          null
         ]
        },
        {
         "hoverinfo": "text",
         "marker": {
          "color": "grey",
          "opacity": 0
         },
         "mode": "markers",
         "text": [
          "",
          "",
          ""
         ],
         "type": "scatter",
         "x": [
          -0.13680762182018438,
          -0.023703472390242383,
          0.48380611840855187
         ],
         "y": [
          0.6495157500419517,
          0.2094044411299473,
          -0.3494302471362637
         ]
        },
        {
         "hoverinfo": "none",
         "line": {
          "color": "purple",
          "width": 2
         },
         "mode": "lines",
         "opacity": 1,
         "type": "scatter",
         "x": [
          -0.25859606204278013,
          0.29837748145739584,
          null
         ],
         "y": [
          0.8242965068411998,
          0.9874583715325461,
          null
         ]
        },
        {
         "hoverinfo": "none",
         "line": {
          "color": "purple",
          "width": 2
         },
         "mode": "lines",
         "opacity": 1,
         "type": "scatter",
         "x": [
          0.29837748145739584,
          0.2234048451051425,
          null
         ],
         "y": [
          0.9874583715325461,
          0.2527505233537611,
          null
         ]
        },
        {
         "hoverinfo": "none",
         "line": {
          "color": "purple",
          "width": 2
         },
         "mode": "lines",
         "opacity": 1,
         "type": "scatter",
         "x": [
          0.2234048451051425,
          0.26922004072924394,
          null
         ],
         "y": [
          0.2527505233537611,
          -0.44976222133104804,
          null
         ]
        },
        {
         "hoverinfo": "none",
         "line": {
          "color": "purple",
          "width": 2
         },
         "mode": "lines",
         "opacity": 1,
         "type": "scatter",
         "x": [
          0.26922004072924394,
          0.663766516167293,
          null
         ],
         "y": [
          -0.44976222133104804,
          -0.390285162294308,
          null
         ]
        },
        {
         "hoverinfo": "none",
         "line": {
          "color": "purple",
          "width": 2
         },
         "mode": "lines",
         "opacity": 1,
         "type": "scatter",
         "x": [
          0.663766516167293,
          0.9999999999999999,
          null
         ],
         "y": [
          -0.390285162294308,
          -0.6429343832897183,
          null
         ]
        },
        {
         "hoverinfo": "text",
         "marker": {
          "color": "grey",
          "opacity": 0
         },
         "mode": "markers",
         "text": [
          "",
          "",
          "",
          "",
          ""
         ],
         "type": "scatter",
         "x": [
          0.019890709707307858,
          0.26089116328126916,
          0.24631244291719323,
          0.4664932784482685,
          0.8318832580836464
         ],
         "y": [
          0.9058774391868729,
          0.6201044474431536,
          -0.09850584898864348,
          -0.420023691812678,
          -0.5166097727920131
         ]
        },
        {
         "hoverinfo": "none",
         "line": {
          "color": "green",
          "width": 2
         },
         "mode": "lines",
         "opacity": 1,
         "type": "scatter",
         "x": [
          -0.25859606204278013,
          -0.015019181597588629,
          null
         ],
         "y": [
          0.8242965068411998,
          0.47473499324270363,
          null
         ]
        },
        {
         "hoverinfo": "none",
         "line": {
          "color": "green",
          "width": 2
         },
         "mode": "lines",
         "opacity": 1,
         "type": "scatter",
         "x": [
          -0.015019181597588629,
          -0.032387763182896136,
          null
         ],
         "y": [
          0.47473499324270363,
          -0.05592611098280903,
          null
         ]
        },
        {
         "hoverinfo": "none",
         "line": {
          "color": "green",
          "width": 2
         },
         "mode": "lines",
         "opacity": 1,
         "type": "scatter",
         "x": [
          -0.032387763182896136,
          0.9999999999999999,
          null
         ],
         "y": [
          -0.05592611098280903,
          -0.6429343832897183,
          null
         ]
        },
        {
         "hoverinfo": "text",
         "marker": {
          "color": "grey",
          "opacity": 0
         },
         "mode": "markers",
         "text": [
          "",
          "",
          ""
         ],
         "type": "scatter",
         "x": [
          -0.13680762182018438,
          -0.023703472390242383,
          0.48380611840855187
         ],
         "y": [
          0.6495157500419517,
          0.2094044411299473,
          -0.3494302471362637
         ]
        },
        {
         "hoverinfo": "none",
         "line": {
          "color": "black",
          "width": 2
         },
         "mode": "lines",
         "opacity": 1,
         "type": "scatter",
         "x": [
          -0.7657251324348279,
          -0.032387763182896136,
          null
         ],
         "y": [
          -0.6510237986519786,
          -0.05592611098280903,
          null
         ]
        },
        {
         "hoverinfo": "none",
         "line": {
          "color": "black",
          "width": 2
         },
         "mode": "lines",
         "opacity": 1,
         "type": "scatter",
         "x": [
          -0.032387763182896136,
          0.9999999999999999,
          null
         ],
         "y": [
          -0.05592611098280903,
          -0.6429343832897183,
          null
         ]
        },
        {
         "hoverinfo": "text",
         "marker": {
          "color": "grey",
          "opacity": 0
         },
         "mode": "markers",
         "text": [
          "",
          ""
         ],
         "type": "scatter",
         "x": [
          -0.399056447808862,
          0.48380611840855187
         ],
         "y": [
          -0.35347495481739377,
          -0.3494302471362637
         ]
        },
        {
         "hoverinfo": "none",
         "line": {
          "color": "purple",
          "width": 2
         },
         "mode": "lines",
         "opacity": 1,
         "type": "scatter",
         "x": [
          -0.7657251324348279,
          -0.032387763182896136,
          null
         ],
         "y": [
          -0.6510237986519786,
          -0.05592611098280903,
          null
         ]
        },
        {
         "hoverinfo": "none",
         "line": {
          "color": "purple",
          "width": 2
         },
         "mode": "lines",
         "opacity": 1,
         "type": "scatter",
         "x": [
          -0.032387763182896136,
          -0.47408466504031743,
          null
         ],
         "y": [
          -0.05592611098280903,
          -0.49525617060142274,
          null
         ]
        },
        {
         "hoverinfo": "none",
         "line": {
          "color": "purple",
          "width": 2
         },
         "mode": "lines",
         "opacity": 1,
         "type": "scatter",
         "x": [
          -0.47408466504031743,
          0.003569261157895421,
          null
         ],
         "y": [
          -0.49525617060142274,
          -0.8135758724422406,
          null
         ]
        },
        {
         "hoverinfo": "none",
         "line": {
          "color": "purple",
          "width": 2
         },
         "mode": "lines",
         "opacity": 1,
         "type": "scatter",
         "x": [
          0.003569261157895421,
          0.26922004072924394,
          null
         ],
         "y": [
          -0.8135758724422406,
          -0.44976222133104804,
          null
         ]
        },
        {
         "hoverinfo": "none",
         "line": {
          "color": "purple",
          "width": 2
         },
         "mode": "lines",
         "opacity": 1,
         "type": "scatter",
         "x": [
          0.26922004072924394,
          0.663766516167293,
          null
         ],
         "y": [
          -0.44976222133104804,
          -0.390285162294308,
          null
         ]
        },
        {
         "hoverinfo": "none",
         "line": {
          "color": "purple",
          "width": 2
         },
         "mode": "lines",
         "opacity": 1,
         "type": "scatter",
         "x": [
          0.663766516167293,
          0.9999999999999999,
          null
         ],
         "y": [
          -0.390285162294308,
          -0.6429343832897183,
          null
         ]
        },
        {
         "hoverinfo": "text",
         "marker": {
          "color": "grey",
          "opacity": 0
         },
         "mode": "markers",
         "text": [
          "",
          "",
          "",
          "",
          "",
          ""
         ],
         "type": "scatter",
         "x": [
          -0.399056447808862,
          -0.2532362141116068,
          -0.235257701941211,
          0.13639465094356967,
          0.4664932784482685,
          0.8318832580836464
         ],
         "y": [
          -0.35347495481739377,
          -0.2755911407921159,
          -0.6544160215218316,
          -0.6316690468866444,
          -0.420023691812678,
          -0.5166097727920131
         ]
        },
        {
         "hoverinfo": "none",
         "line": {
          "color": "green",
          "width": 2
         },
         "mode": "lines",
         "opacity": 1,
         "type": "scatter",
         "x": [
          -0.7657251324348279,
          -0.032387763182896136,
          null
         ],
         "y": [
          -0.6510237986519786,
          -0.05592611098280903,
          null
         ]
        },
        {
         "hoverinfo": "none",
         "line": {
          "color": "green",
          "width": 2
         },
         "mode": "lines",
         "opacity": 1,
         "type": "scatter",
         "x": [
          -0.032387763182896136,
          0.9999999999999999,
          null
         ],
         "y": [
          -0.05592611098280903,
          -0.6429343832897183,
          null
         ]
        },
        {
         "hoverinfo": "text",
         "marker": {
          "color": "grey",
          "opacity": 0
         },
         "mode": "markers",
         "text": [
          "",
          ""
         ],
         "type": "scatter",
         "x": [
          -0.399056447808862,
          0.48380611840855187
         ],
         "y": [
          -0.35347495481739377,
          -0.3494302471362637
         ]
        },
        {
         "hoverinfo": "none",
         "line": {
          "color": "black",
          "width": 2
         },
         "mode": "lines",
         "opacity": 1,
         "type": "scatter",
         "x": [
          -0.032387763182896136,
          0.9999999999999999,
          null
         ],
         "y": [
          -0.05592611098280903,
          -0.6429343832897183,
          null
         ]
        },
        {
         "hoverinfo": "text",
         "marker": {
          "color": "grey",
          "opacity": 0
         },
         "mode": "markers",
         "text": [
          ""
         ],
         "type": "scatter",
         "x": [
          0.48380611840855187
         ],
         "y": [
          -0.3494302471362637
         ]
        },
        {
         "hoverinfo": "none",
         "line": {
          "color": "purple",
          "width": 2
         },
         "mode": "lines",
         "opacity": 1,
         "type": "scatter",
         "x": [
          -0.032387763182896136,
          -0.47408466504031743,
          null
         ],
         "y": [
          -0.05592611098280903,
          -0.49525617060142274,
          null
         ]
        },
        {
         "hoverinfo": "none",
         "line": {
          "color": "purple",
          "width": 2
         },
         "mode": "lines",
         "opacity": 1,
         "type": "scatter",
         "x": [
          -0.47408466504031743,
          0.003569261157895421,
          null
         ],
         "y": [
          -0.49525617060142274,
          -0.8135758724422406,
          null
         ]
        },
        {
         "hoverinfo": "none",
         "line": {
          "color": "purple",
          "width": 2
         },
         "mode": "lines",
         "opacity": 1,
         "type": "scatter",
         "x": [
          0.003569261157895421,
          0.26922004072924394,
          null
         ],
         "y": [
          -0.8135758724422406,
          -0.44976222133104804,
          null
         ]
        },
        {
         "hoverinfo": "none",
         "line": {
          "color": "purple",
          "width": 2
         },
         "mode": "lines",
         "opacity": 1,
         "type": "scatter",
         "x": [
          0.26922004072924394,
          0.663766516167293,
          null
         ],
         "y": [
          -0.44976222133104804,
          -0.390285162294308,
          null
         ]
        },
        {
         "hoverinfo": "none",
         "line": {
          "color": "purple",
          "width": 2
         },
         "mode": "lines",
         "opacity": 1,
         "type": "scatter",
         "x": [
          0.663766516167293,
          0.9999999999999999,
          null
         ],
         "y": [
          -0.390285162294308,
          -0.6429343832897183,
          null
         ]
        },
        {
         "hoverinfo": "text",
         "marker": {
          "color": "grey",
          "opacity": 0
         },
         "mode": "markers",
         "text": [
          "",
          "",
          "",
          "",
          ""
         ],
         "type": "scatter",
         "x": [
          -0.2532362141116068,
          -0.235257701941211,
          0.13639465094356967,
          0.4664932784482685,
          0.8318832580836464
         ],
         "y": [
          -0.2755911407921159,
          -0.6544160215218316,
          -0.6316690468866444,
          -0.420023691812678,
          -0.5166097727920131
         ]
        },
        {
         "hoverinfo": "none",
         "line": {
          "color": "green",
          "width": 2
         },
         "mode": "lines",
         "opacity": 1,
         "type": "scatter",
         "x": [
          -0.032387763182896136,
          0.9999999999999999,
          null
         ],
         "y": [
          -0.05592611098280903,
          -0.6429343832897183,
          null
         ]
        },
        {
         "hoverinfo": "text",
         "marker": {
          "color": "grey",
          "opacity": 0
         },
         "mode": "markers",
         "text": [
          ""
         ],
         "type": "scatter",
         "x": [
          0.48380611840855187
         ],
         "y": [
          -0.3494302471362637
         ]
        },
        {
         "hoverinfo": "none",
         "line": {
          "color": "black",
          "width": 2
         },
         "mode": "lines",
         "opacity": 1,
         "type": "scatter",
         "x": [
          0.2234048451051425,
          -0.032387763182896136,
          null
         ],
         "y": [
          0.2527505233537611,
          -0.05592611098280903,
          null
         ]
        },
        {
         "hoverinfo": "none",
         "line": {
          "color": "black",
          "width": 2
         },
         "mode": "lines",
         "opacity": 1,
         "type": "scatter",
         "x": [
          -0.032387763182896136,
          0.9999999999999999,
          null
         ],
         "y": [
          -0.05592611098280903,
          -0.6429343832897183,
          null
         ]
        },
        {
         "hoverinfo": "text",
         "marker": {
          "color": "grey",
          "opacity": 0
         },
         "mode": "markers",
         "text": [
          "",
          ""
         ],
         "type": "scatter",
         "x": [
          0.09550854096112318,
          0.48380611840855187
         ],
         "y": [
          0.09841220618547603,
          -0.3494302471362637
         ]
        },
        {
         "hoverinfo": "none",
         "line": {
          "color": "purple",
          "width": 2
         },
         "mode": "lines",
         "opacity": 1,
         "type": "scatter",
         "x": [
          0.2234048451051425,
          0.26922004072924394,
          null
         ],
         "y": [
          0.2527505233537611,
          -0.44976222133104804,
          null
         ]
        },
        {
         "hoverinfo": "none",
         "line": {
          "color": "purple",
          "width": 2
         },
         "mode": "lines",
         "opacity": 1,
         "type": "scatter",
         "x": [
          0.26922004072924394,
          0.663766516167293,
          null
         ],
         "y": [
          -0.44976222133104804,
          -0.390285162294308,
          null
         ]
        },
        {
         "hoverinfo": "none",
         "line": {
          "color": "purple",
          "width": 2
         },
         "mode": "lines",
         "opacity": 1,
         "type": "scatter",
         "x": [
          0.663766516167293,
          0.9999999999999999,
          null
         ],
         "y": [
          -0.390285162294308,
          -0.6429343832897183,
          null
         ]
        },
        {
         "hoverinfo": "text",
         "marker": {
          "color": "grey",
          "opacity": 0
         },
         "mode": "markers",
         "text": [
          "",
          "",
          ""
         ],
         "type": "scatter",
         "x": [
          0.24631244291719323,
          0.4664932784482685,
          0.8318832580836464
         ],
         "y": [
          -0.09850584898864348,
          -0.420023691812678,
          -0.5166097727920131
         ]
        },
        {
         "hoverinfo": "none",
         "line": {
          "color": "green",
          "width": 2
         },
         "mode": "lines",
         "opacity": 1,
         "type": "scatter",
         "x": [
          0.2234048451051425,
          -0.032387763182896136,
          null
         ],
         "y": [
          0.2527505233537611,
          -0.05592611098280903,
          null
         ]
        },
        {
         "hoverinfo": "none",
         "line": {
          "color": "green",
          "width": 2
         },
         "mode": "lines",
         "opacity": 1,
         "type": "scatter",
         "x": [
          -0.032387763182896136,
          0.9999999999999999,
          null
         ],
         "y": [
          -0.05592611098280903,
          -0.6429343832897183,
          null
         ]
        },
        {
         "hoverinfo": "text",
         "marker": {
          "color": "grey",
          "opacity": 0
         },
         "mode": "markers",
         "text": [
          "",
          ""
         ],
         "type": "scatter",
         "x": [
          0.09550854096112318,
          0.48380611840855187
         ],
         "y": [
          0.09841220618547603,
          -0.3494302471362637
         ]
        },
        {
         "hoverinfo": "none",
         "line": {
          "color": "yellow",
          "width": 5.259923528261547
         },
         "mode": "lines",
         "opacity": 0.2,
         "type": "scatter",
         "x": [
          -0.733606209178751,
          -0.032387763182896136,
          null
         ],
         "y": [
          0.8032339966157098,
          -0.05592611098280903,
          null
         ]
        },
        {
         "hoverinfo": "none",
         "line": {
          "color": "green",
          "width": 11.823624776320726
         },
         "mode": "lines",
         "opacity": 0.2,
         "type": "scatter",
         "x": [
          -0.733606209178751,
          -0.25859606204278013,
          null
         ],
         "y": [
          0.8032339966157098,
          0.8242965068411998,
          null
         ]
        },
        {
         "hoverinfo": "none",
         "line": {
          "color": "yellow",
          "width": 32.023388961533854
         },
         "mode": "lines",
         "opacity": 0.2,
         "type": "scatter",
         "x": [
          -0.032387763182896136,
          -0.015019181597588629,
          null
         ],
         "y": [
          -0.05592611098280903,
          0.47473499324270363,
          null
         ]
        },
        {
         "hoverinfo": "none",
         "line": {
          "color": "orange",
          "width": 47.18801007624528
         },
         "mode": "lines",
         "opacity": 0.2,
         "type": "scatter",
         "x": [
          -0.032387763182896136,
          -0.213658557352234,
          null
         ],
         "y": [
          -0.05592611098280903,
          0.36559965803937233,
          null
         ]
        },
        {
         "hoverinfo": "none",
         "line": {
          "color": "yellow",
          "width": 118.74460005330542
         },
         "mode": "lines",
         "opacity": 0.2,
         "type": "scatter",
         "x": [
          -0.032387763182896136,
          -0.2546564674069552,
          null
         ],
         "y": [
          -0.05592611098280903,
          -0.19384470147652996,
          null
         ]
        },
        {
         "hoverinfo": "none",
         "line": {
          "color": "yellow",
          "width": 5.259923528261547
         },
         "mode": "lines",
         "opacity": 0.2,
         "type": "scatter",
         "x": [
          -0.032387763182896136,
          0.9999999999999999,
          null
         ],
         "y": [
          -0.05592611098280903,
          -0.6429343832897183,
          null
         ]
        },
        {
         "hoverinfo": "none",
         "line": {
          "color": "yellow",
          "width": 13.785283282344178
         },
         "mode": "lines",
         "opacity": 0.2,
         "type": "scatter",
         "x": [
          -0.032387763182896136,
          0.2234048451051425,
          null
         ],
         "y": [
          -0.05592611098280903,
          0.2527505233537611,
          null
         ]
        },
        {
         "hoverinfo": "none",
         "line": {
          "color": "yellow",
          "width": 5.259923528261547
         },
         "mode": "lines",
         "opacity": 0.2,
         "type": "scatter",
         "x": [
          -0.032387763182896136,
          -0.7657251324348279,
          null
         ],
         "y": [
          -0.05592611098280903,
          -0.6510237986519786,
          null
         ]
        },
        {
         "hoverinfo": "none",
         "line": {
          "color": "yellow",
          "width": 58.87865537002833
         },
         "mode": "lines",
         "opacity": 0.2,
         "type": "scatter",
         "x": [
          -0.032387763182896136,
          0.2893958936193807,
          null
         ],
         "y": [
          -0.05592611098280903,
          -0.015465628555238062,
          null
         ]
        },
        {
         "hoverinfo": "none",
         "line": {
          "color": "orange",
          "width": 12.763632034812197
         },
         "mode": "lines",
         "opacity": 0.2,
         "type": "scatter",
         "x": [
          -0.032387763182896136,
          -0.47408466504031743,
          null
         ],
         "y": [
          -0.05592611098280903,
          -0.49525617060142274,
          null
         ]
        },
        {
         "hoverinfo": "none",
         "line": {
          "color": "yellow",
          "width": 13.785283282344178
         },
         "mode": "lines",
         "opacity": 0.2,
         "type": "scatter",
         "x": [
          -0.032387763182896136,
          0.26922004072924394,
          null
         ],
         "y": [
          -0.05592611098280903,
          -0.44976222133104804,
          null
         ]
        },
        {
         "hoverinfo": "none",
         "line": {
          "color": "green",
          "width": 8.707335540227625
         },
         "mode": "lines",
         "opacity": 0.2,
         "type": "scatter",
         "x": [
          -0.032387763182896136,
          0.003569261157895421,
          null
         ],
         "y": [
          -0.05592611098280903,
          -0.8135758724422406,
          null
         ]
        },
        {
         "hoverinfo": "none",
         "line": {
          "color": "green",
          "width": 11.588058705007958
         },
         "mode": "lines",
         "opacity": 0.2,
         "type": "scatter",
         "x": [
          -0.032387763182896136,
          0.663766516167293,
          null
         ],
         "y": [
          -0.05592611098280903,
          -0.390285162294308,
          null
         ]
        },
        {
         "hoverinfo": "none",
         "line": {
          "color": "red",
          "width": 15.982507859680398
         },
         "mode": "lines",
         "opacity": 0.2,
         "type": "scatter",
         "x": [
          0.26922004072924394,
          0.003569261157895421,
          null
         ],
         "y": [
          -0.44976222133104804,
          -0.8135758724422406,
          null
         ]
        },
        {
         "hoverinfo": "none",
         "line": {
          "color": "orange",
          "width": 8.929786810448075
         },
         "mode": "lines",
         "opacity": 0.2,
         "type": "scatter",
         "x": [
          0.26922004072924394,
          0.663766516167293,
          null
         ],
         "y": [
          -0.44976222133104804,
          -0.390285162294308,
          null
         ]
        },
        {
         "hoverinfo": "none",
         "line": {
          "color": "red",
          "width": 10.852609144757324
         },
         "mode": "lines",
         "opacity": 0.2,
         "type": "scatter",
         "x": [
          0.26922004072924394,
          0.2234048451051425,
          null
         ],
         "y": [
          -0.44976222133104804,
          0.2527505233537611,
          null
         ]
        },
        {
         "hoverinfo": "none",
         "line": {
          "color": "green",
          "width": 31.965015719360796
         },
         "mode": "lines",
         "opacity": 0.2,
         "type": "scatter",
         "x": [
          -0.213658557352234,
          -0.25859606204278013,
          null
         ],
         "y": [
          0.36559965803937233,
          0.8242965068411998,
          null
         ]
        },
        {
         "hoverinfo": "none",
         "line": {
          "color": "green",
          "width": 15.982507859680398
         },
         "mode": "lines",
         "opacity": 0.2,
         "type": "scatter",
         "x": [
          -0.213658557352234,
          0.2234048451051425,
          null
         ],
         "y": [
          0.36559965803937233,
          0.2527505233537611,
          null
         ]
        },
        {
         "hoverinfo": "none",
         "line": {
          "color": "green",
          "width": 9.800422952963766
         },
         "mode": "lines",
         "opacity": 0.2,
         "type": "scatter",
         "x": [
          -0.7657251324348279,
          -0.2546564674069552,
          null
         ],
         "y": [
          -0.6510237986519786,
          -0.19384470147652996,
          null
         ]
        },
        {
         "hoverinfo": "none",
         "line": {
          "color": "orange",
          "width": 5.259923528261547
         },
         "mode": "lines",
         "opacity": 0.2,
         "type": "scatter",
         "x": [
          -0.47408466504031743,
          0.003569261157895421,
          null
         ],
         "y": [
          -0.49525617060142274,
          -0.8135758724422406,
          null
         ]
        },
        {
         "hoverinfo": "none",
         "line": {
          "color": "orange",
          "width": 9.893462984233551
         },
         "mode": "lines",
         "opacity": 0.2,
         "type": "scatter",
         "x": [
          -0.47408466504031743,
          -0.2546564674069552,
          null
         ],
         "y": [
          -0.49525617060142274,
          -0.19384470147652996,
          null
         ]
        },
        {
         "hoverinfo": "none",
         "line": {
          "color": "orange",
          "width": 9.800422952963766
         },
         "mode": "lines",
         "opacity": 0.2,
         "type": "scatter",
         "x": [
          -0.25859606204278013,
          0.29837748145739584,
          null
         ],
         "y": [
          0.8242965068411998,
          0.9874583715325461,
          null
         ]
        },
        {
         "hoverinfo": "none",
         "line": {
          "color": "green",
          "width": 12.090687561569771
         },
         "mode": "lines",
         "opacity": 0.2,
         "type": "scatter",
         "x": [
          -0.25859606204278013,
          -0.015019181597588629,
          null
         ],
         "y": [
          0.8242965068411998,
          0.47473499324270363,
          null
         ]
        },
        {
         "hoverinfo": "none",
         "line": {
          "color": "green",
          "width": 19.411728740677503
         },
         "mode": "lines",
         "opacity": 0.2,
         "type": "scatter",
         "x": [
          0.2234048451051425,
          0.2893958936193807,
          null
         ],
         "y": [
          0.2527505233537611,
          -0.015465628555238062,
          null
         ]
        },
        {
         "hoverinfo": "none",
         "line": {
          "color": "orange",
          "width": 12.090687561569771
         },
         "mode": "lines",
         "opacity": 0.2,
         "type": "scatter",
         "x": [
          0.2234048451051425,
          0.29837748145739584,
          null
         ],
         "y": [
          0.2527505233537611,
          0.9874583715325461,
          null
         ]
        },
        {
         "hoverinfo": "none",
         "line": {
          "color": "green",
          "width": 8.555363726271782
         },
         "mode": "lines",
         "opacity": 0.2,
         "type": "scatter",
         "x": [
          0.2234048451051425,
          -0.2546564674069552,
          null
         ],
         "y": [
          0.2527505233537611,
          -0.19384470147652996,
          null
         ]
        },
        {
         "hoverinfo": "none",
         "line": {
          "color": "red",
          "width": 5.259923528261547
         },
         "mode": "lines",
         "opacity": 0.2,
         "type": "scatter",
         "x": [
          0.663766516167293,
          0.9999999999999999,
          null
         ],
         "y": [
          -0.390285162294308,
          -0.6429343832897183,
          null
         ]
        },
        {
         "hoverinfo": "none",
         "line": {
          "color": "yellow",
          "width": 13.209919137440616
         },
         "mode": "lines",
         "opacity": 0.2,
         "type": "scatter",
         "x": [
          -0.2546564674069552,
          -0.2546564674069552,
          null
         ],
         "y": [
          -0.19384470147652996,
          -0.19384470147652996,
          null
         ]
        },
        {
         "hoverinfo": "text",
         "marker": {
          "color": "grey",
          "opacity": 0
         },
         "mode": "markers",
         "text": [
          "'weight': 2.6299617641307735<br>'d_suspicious': 0.0<br>'colors': [0. 1. 0. 0.]",
          "'weight': 5.911812388160363<br>'d_suspicious': 0.0<br>'colors': [1. 0. 0. 0.]",
          "'weight': 16.011694480766927<br>'d_suspicious': 0.0<br>'colors': [0.33333333 0.66666667 0.         0.        ]",
          "'weight': 23.59400503812264<br>'d_suspicious': 0.5<br>'colors': [0.25 0.25 0.5  0.  ]",
          "'weight': 59.37230002665271<br>'d_suspicious': 0.2222222222222222<br>'colors': [0.27777778 0.5        0.05555556 0.16666667]",
          "'weight': 2.6299617641307735<br>'d_suspicious': 0.5<br>'colors': [0.  0.5 0.  0.5]",
          "'weight': 6.892641641172089<br>'d_suspicious': 0.0<br>'colors': [0. 1. 0. 0.]",
          "'weight': 2.6299617641307735<br>'d_suspicious': 0.0<br>'colors': [0. 1. 0. 0.]",
          "'weight': 29.439327685014167<br>'d_suspicious': 0.0<br>'colors': [0.2 0.8 0.  0. ]",
          "'weight': 6.3818160174060985<br>'d_suspicious': 1.0<br>'colors': [0. 0. 1. 0.]",
          "'weight': 6.892641641172089<br>'d_suspicious': 0.0<br>'colors': [0. 1. 0. 0.]",
          "'weight': 4.3536677701138125<br>'d_suspicious': 0.0<br>'colors': [1. 0. 0. 0.]",
          "'weight': 5.794029352503979<br>'d_suspicious': 0.0<br>'colors': [1. 0. 0. 0.]",
          "'weight': 7.991253929840199<br>'d_suspicious': 1.0<br>'colors': [0. 0. 0. 1.]",
          "'weight': 4.464893405224037<br>'d_suspicious': 1.0<br>'colors': [0. 0. 1. 0.]",
          "'weight': 5.426304572378662<br>'d_suspicious': 1.0<br>'colors': [0. 0. 0. 1.]",
          "'weight': 15.982507859680398<br>'d_suspicious': 0.5<br>'colors': [0.5 0.  0.5 0. ]",
          "'weight': 7.991253929840199<br>'d_suspicious': 0.0<br>'colors': [1. 0. 0. 0.]",
          "'weight': 4.900211476481883<br>'d_suspicious': 0.0<br>'colors': [1. 0. 0. 0.]",
          "'weight': 2.6299617641307735<br>'d_suspicious': 1.0<br>'colors': [0. 0. 1. 0.]",
          "'weight': 4.9467314921167755<br>'d_suspicious': 1.0<br>'colors': [0. 0. 1. 0.]",
          "'weight': 4.900211476481883<br>'d_suspicious': 1.0<br>'colors': [0. 0. 1. 0.]",
          "'weight': 6.0453437807848855<br>'d_suspicious': 0.0<br>'colors': [1. 0. 0. 0.]",
          "'weight': 9.705864370338752<br>'d_suspicious': 0.0<br>'colors': [0.5 0.5 0.  0. ]",
          "'weight': 6.0453437807848855<br>'d_suspicious': 1.0<br>'colors': [0. 0. 1. 0.]",
          "'weight': 4.277681863135891<br>'d_suspicious': 0.0<br>'colors': [1. 0. 0. 0.]",
          "'weight': 2.6299617641307735<br>'d_suspicious': 1.0<br>'colors': [0. 0. 0. 1.]",
          "'weight': 6.604959568720308<br>'d_suspicious': 0.0<br>'colors': [0. 1. 0. 0.]"
         ],
         "type": "scatter",
         "x": [
          -0.38299698618082356,
          -0.4961011356107655,
          -0.023703472390242383,
          -0.12302316026756506,
          -0.14352211529492567,
          0.48380611840855187,
          0.09550854096112318,
          -0.399056447808862,
          0.12850406521824226,
          -0.2532362141116068,
          0.1184161387731739,
          -0.014409251012500358,
          0.3156893764921984,
          0.13639465094356967,
          0.4664932784482685,
          0.24631244291719323,
          -0.23612730969750706,
          0.004873143876454253,
          -0.5101907999208916,
          -0.235257701941211,
          -0.3643705662236363,
          0.019890709707307858,
          -0.13680762182018438,
          0.25640036936226157,
          0.26089116328126916,
          -0.015625811150906346,
          0.8318832580836464,
          -0.2546564674069552
         ],
         "y": [
          0.37365394281645037,
          0.8137652517284548,
          0.2094044411299473,
          0.15483677352828165,
          -0.1248854062296695,
          -0.3494302471362637,
          0.09841220618547603,
          -0.35347495481739377,
          -0.035695869769023544,
          -0.2755911407921159,
          -0.2528441661569285,
          -0.43475099171252485,
          -0.2231056366385585,
          -0.6316690468866444,
          -0.420023691812678,
          -0.09850584898864348,
          0.5949480824402861,
          0.3091750906965667,
          -0.4224342500642543,
          -0.6544160215218316,
          -0.34455043603897634,
          0.9058774391868729,
          0.6495157500419517,
          0.11864244739926151,
          0.6201044474431536,
          0.02945291093861556,
          -0.5166097727920131,
          -0.19384470147652996
         ]
        },
        {
         "hoverinfo": "text",
         "marker": {
          "color": [
           "yellow",
           "yellow",
           "red",
           "black",
           "green",
           "black",
           "black",
           "black",
           "black",
           "black",
           "black",
           "yellow",
           "yellow",
           "red",
           "yellow"
          ],
          "line": {
           "color": "rgb(50,50,50)",
           "width": 0.5
          },
          "size": 50,
          "symbol": "circle-dot"
         },
         "mode": "markers",
         "name": "net",
         "text": [
          "'name':fan<br>'df': 128.47826086956522<br>'pop': -2.2849461508958586<br>'rt': 2.0869565217391304<br>'fav': 7.043478260869565<br>'color': [0.17391304 0.69565217 0.13043478 0.        ]<br>'freq': 23",
          "'name':coronavirus<br>'df': 6.610738255033557<br>'pop': -2.3473600399687022<br>'rt': 2.825503355704698<br>'fav': 6.156599552572707<br>'color': [0.25055928 0.5458613  0.12304251 0.08053691]<br>'freq': 447",
          "'name':c<br>'df': 738.75<br>'pop': -3.8645903408505546<br>'rt': 3.5<br>'fav': 4.0<br>'color': [0.   0.25 0.25 0.5 ]<br>'freq': 4",
          "'name':china<br>'df': 72.07317073170732<br>'pop': -2.6952540966873557<br>'rt': 3.5121951219512195<br>'fav': 8.24390243902439<br>'color': [0.46341463 0.29268293 0.14634146 0.09756098]<br>'freq': 41",
          "'name':SUPER:deadly_virus|deadly<br>'df': 738.75<br>'pop': -2.3786635058308447<br>'rt': 1.0<br>'fav': 0.5<br>'color': [0.5  0.25 0.   0.25]<br>'freq': 4",
          "'name':symptom<br>'df': 211.07142857142858<br>'pop': -1.9867506136317254<br>'rt': 0.42857142857142855<br>'fav': 0.7142857142857143<br>'color': [0.42857143 0.35714286 0.21428571 0.        ]<br>'freq': 14",
          "'name':SUPER:outbreak|virus_outbreak|epidemic<br>'df': 49.25<br>'pop': -1.0760787706707804<br>'rt': 3.966666666666667<br>'fav': 6.733333333333333<br>'color': [0.28333333 0.46666667 0.21666667 0.03333333]<br>'freq': 60",
          "'name':SUPER:health_official|official<br>'df': 101.89655172413794<br>'pop': -1.7538619196728737<br>'rt': 6.758620689655173<br>'fav': 13.827586206896552<br>'color': [0.34482759 0.4137931  0.17241379 0.06896552]<br>'freq': 29",
          "'name':SUPER:virus_outbreak|virus|infection<br>'df': 67.1590909090909<br>'pop': -2.623327617910032<br>'rt': 6.681818181818182<br>'fav': 9.568181818181818<br>'color': [0.43181818 0.22727273 0.27272727 0.06818182]<br>'freq': 44",
          "'name':claim<br>'df': 295.5<br>'pop': -1.745023857955142<br>'rt': 3.3<br>'fav': 9.7<br>'color': [0.3 0.3 0.2 0.2]<br>'freq': 10",
          "'name':SUPER:deadly_virus|vaccine<br>'df': 173.8235294117647<br>'pop': -2.7473011298770365<br>'rt': 1.2352941176470589<br>'fav': 1.9411764705882353<br>'color': [0.47058824 0.23529412 0.11764706 0.17647059]<br>'freq': 17",
          "'name':person<br>'df': 197.0<br>'pop': -2.5605788184681657<br>'rt': 19.533333333333335<br>'fav': 23.466666666666665<br>'color': [0.26666667 0.6        0.13333333 0.        ]<br>'freq': 15",
          "'name':SUPER:worker|employee<br>'df': 82.08333333333333<br>'pop': -3.6847250323065435<br>'rt': 1.6944444444444444<br>'fav': 1.4444444444444444<br>'color': [0.30555556 0.52777778 0.08333333 0.08333333]<br>'freq': 36",
          "'name':bioweapon<br>'df': 738.75<br>'pop': -3.220842474108931<br>'rt': 1.75<br>'fav': 1.25<br>'color': [0.   0.25 0.   0.75]<br>'freq': 4",
          "'name':SUPER:panic|panic_buying|surge<br>'df': 89.54545454545455<br>'pop': -2.2364712020491497<br>'rt': 3.0303030303030303<br>'fav': 6.2727272727272725<br>'color': [0.18181818 0.51515152 0.3030303  0.        ]<br>'freq': 33"
         ],
         "type": "scatter",
         "x": [
          -0.733606209178751,
          -0.032387763182896136,
          0.26922004072924394,
          -0.213658557352234,
          -0.7657251324348279,
          -0.47408466504031743,
          -0.25859606204278013,
          -0.015019181597588629,
          0.2234048451051425,
          0.003569261157895421,
          0.663766516167293,
          0.2893958936193807,
          -0.2546564674069552,
          0.9999999999999999,
          0.29837748145739584
         ],
         "y": [
          0.8032339966157098,
          -0.05592611098280903,
          -0.44976222133104804,
          0.36559965803937233,
          -0.6510237986519786,
          -0.49525617060142274,
          0.8242965068411998,
          0.47473499324270363,
          0.2527505233537611,
          -0.8135758724422406,
          -0.390285162294308,
          -0.015465628555238062,
          -0.19384470147652996,
          -0.6429343832897183,
          0.9874583715325461
         ]
        }
       ],
       "layout": {
        "annotations": [
         {
          "font": {
           "size": 14
          },
          "showarrow": false,
          "text": "The rumor graph",
          "x": 0,
          "xanchor": "left",
          "xref": "paper",
          "y": -0.1,
          "yanchor": "bottom",
          "yref": "paper"
         }
        ],
        "autosize": false,
        "font": {
         "size": 12
        },
        "height": 1000,
        "hovermode": "closest",
        "margin": {
         "b": 85,
         "l": 40,
         "r": 40,
         "t": 100
        },
        "showlegend": false,
        "template": {
         "data": {
          "bar": [
           {
            "error_x": {
             "color": "#2a3f5f"
            },
            "error_y": {
             "color": "#2a3f5f"
            },
            "marker": {
             "line": {
              "color": "#E5ECF6",
              "width": 0.5
             }
            },
            "type": "bar"
           }
          ],
          "barpolar": [
           {
            "marker": {
             "line": {
              "color": "#E5ECF6",
              "width": 0.5
             }
            },
            "type": "barpolar"
           }
          ],
          "carpet": [
           {
            "aaxis": {
             "endlinecolor": "#2a3f5f",
             "gridcolor": "white",
             "linecolor": "white",
             "minorgridcolor": "white",
             "startlinecolor": "#2a3f5f"
            },
            "baxis": {
             "endlinecolor": "#2a3f5f",
             "gridcolor": "white",
             "linecolor": "white",
             "minorgridcolor": "white",
             "startlinecolor": "#2a3f5f"
            },
            "type": "carpet"
           }
          ],
          "choropleth": [
           {
            "colorbar": {
             "outlinewidth": 0,
             "ticks": ""
            },
            "type": "choropleth"
           }
          ],
          "contour": [
           {
            "colorbar": {
             "outlinewidth": 0,
             "ticks": ""
            },
            "colorscale": [
             [
              0,
              "#0d0887"
             ],
             [
              0.1111111111111111,
              "#46039f"
             ],
             [
              0.2222222222222222,
              "#7201a8"
             ],
             [
              0.3333333333333333,
              "#9c179e"
             ],
             [
              0.4444444444444444,
              "#bd3786"
             ],
             [
              0.5555555555555556,
              "#d8576b"
             ],
             [
              0.6666666666666666,
              "#ed7953"
             ],
             [
              0.7777777777777778,
              "#fb9f3a"
             ],
             [
              0.8888888888888888,
              "#fdca26"
             ],
             [
              1,
              "#f0f921"
             ]
            ],
            "type": "contour"
           }
          ],
          "contourcarpet": [
           {
            "colorbar": {
             "outlinewidth": 0,
             "ticks": ""
            },
            "type": "contourcarpet"
           }
          ],
          "heatmap": [
           {
            "colorbar": {
             "outlinewidth": 0,
             "ticks": ""
            },
            "colorscale": [
             [
              0,
              "#0d0887"
             ],
             [
              0.1111111111111111,
              "#46039f"
             ],
             [
              0.2222222222222222,
              "#7201a8"
             ],
             [
              0.3333333333333333,
              "#9c179e"
             ],
             [
              0.4444444444444444,
              "#bd3786"
             ],
             [
              0.5555555555555556,
              "#d8576b"
             ],
             [
              0.6666666666666666,
              "#ed7953"
             ],
             [
              0.7777777777777778,
              "#fb9f3a"
             ],
             [
              0.8888888888888888,
              "#fdca26"
             ],
             [
              1,
              "#f0f921"
             ]
            ],
            "type": "heatmap"
           }
          ],
          "heatmapgl": [
           {
            "colorbar": {
             "outlinewidth": 0,
             "ticks": ""
            },
            "colorscale": [
             [
              0,
              "#0d0887"
             ],
             [
              0.1111111111111111,
              "#46039f"
             ],
             [
              0.2222222222222222,
              "#7201a8"
             ],
             [
              0.3333333333333333,
              "#9c179e"
             ],
             [
              0.4444444444444444,
              "#bd3786"
             ],
             [
              0.5555555555555556,
              "#d8576b"
             ],
             [
              0.6666666666666666,
              "#ed7953"
             ],
             [
              0.7777777777777778,
              "#fb9f3a"
             ],
             [
              0.8888888888888888,
              "#fdca26"
             ],
             [
              1,
              "#f0f921"
             ]
            ],
            "type": "heatmapgl"
           }
          ],
          "histogram": [
           {
            "marker": {
             "colorbar": {
              "outlinewidth": 0,
              "ticks": ""
             }
            },
            "type": "histogram"
           }
          ],
          "histogram2d": [
           {
            "colorbar": {
             "outlinewidth": 0,
             "ticks": ""
            },
            "colorscale": [
             [
              0,
              "#0d0887"
             ],
             [
              0.1111111111111111,
              "#46039f"
             ],
             [
              0.2222222222222222,
              "#7201a8"
             ],
             [
              0.3333333333333333,
              "#9c179e"
             ],
             [
              0.4444444444444444,
              "#bd3786"
             ],
             [
              0.5555555555555556,
              "#d8576b"
             ],
             [
              0.6666666666666666,
              "#ed7953"
             ],
             [
              0.7777777777777778,
              "#fb9f3a"
             ],
             [
              0.8888888888888888,
              "#fdca26"
             ],
             [
              1,
              "#f0f921"
             ]
            ],
            "type": "histogram2d"
           }
          ],
          "histogram2dcontour": [
           {
            "colorbar": {
             "outlinewidth": 0,
             "ticks": ""
            },
            "colorscale": [
             [
              0,
              "#0d0887"
             ],
             [
              0.1111111111111111,
              "#46039f"
             ],
             [
              0.2222222222222222,
              "#7201a8"
             ],
             [
              0.3333333333333333,
              "#9c179e"
             ],
             [
              0.4444444444444444,
              "#bd3786"
             ],
             [
              0.5555555555555556,
              "#d8576b"
             ],
             [
              0.6666666666666666,
              "#ed7953"
             ],
             [
              0.7777777777777778,
              "#fb9f3a"
             ],
             [
              0.8888888888888888,
              "#fdca26"
             ],
             [
              1,
              "#f0f921"
             ]
            ],
            "type": "histogram2dcontour"
           }
          ],
          "mesh3d": [
           {
            "colorbar": {
             "outlinewidth": 0,
             "ticks": ""
            },
            "type": "mesh3d"
           }
          ],
          "parcoords": [
           {
            "line": {
             "colorbar": {
              "outlinewidth": 0,
              "ticks": ""
             }
            },
            "type": "parcoords"
           }
          ],
          "pie": [
           {
            "automargin": true,
            "type": "pie"
           }
          ],
          "scatter": [
           {
            "marker": {
             "colorbar": {
              "outlinewidth": 0,
              "ticks": ""
             }
            },
            "type": "scatter"
           }
          ],
          "scatter3d": [
           {
            "line": {
             "colorbar": {
              "outlinewidth": 0,
              "ticks": ""
             }
            },
            "marker": {
             "colorbar": {
              "outlinewidth": 0,
              "ticks": ""
             }
            },
            "type": "scatter3d"
           }
          ],
          "scattercarpet": [
           {
            "marker": {
             "colorbar": {
              "outlinewidth": 0,
              "ticks": ""
             }
            },
            "type": "scattercarpet"
           }
          ],
          "scattergeo": [
           {
            "marker": {
             "colorbar": {
              "outlinewidth": 0,
              "ticks": ""
             }
            },
            "type": "scattergeo"
           }
          ],
          "scattergl": [
           {
            "marker": {
             "colorbar": {
              "outlinewidth": 0,
              "ticks": ""
             }
            },
            "type": "scattergl"
           }
          ],
          "scattermapbox": [
           {
            "marker": {
             "colorbar": {
              "outlinewidth": 0,
              "ticks": ""
             }
            },
            "type": "scattermapbox"
           }
          ],
          "scatterpolar": [
           {
            "marker": {
             "colorbar": {
              "outlinewidth": 0,
              "ticks": ""
             }
            },
            "type": "scatterpolar"
           }
          ],
          "scatterpolargl": [
           {
            "marker": {
             "colorbar": {
              "outlinewidth": 0,
              "ticks": ""
             }
            },
            "type": "scatterpolargl"
           }
          ],
          "scatterternary": [
           {
            "marker": {
             "colorbar": {
              "outlinewidth": 0,
              "ticks": ""
             }
            },
            "type": "scatterternary"
           }
          ],
          "surface": [
           {
            "colorbar": {
             "outlinewidth": 0,
             "ticks": ""
            },
            "colorscale": [
             [
              0,
              "#0d0887"
             ],
             [
              0.1111111111111111,
              "#46039f"
             ],
             [
              0.2222222222222222,
              "#7201a8"
             ],
             [
              0.3333333333333333,
              "#9c179e"
             ],
             [
              0.4444444444444444,
              "#bd3786"
             ],
             [
              0.5555555555555556,
              "#d8576b"
             ],
             [
              0.6666666666666666,
              "#ed7953"
             ],
             [
              0.7777777777777778,
              "#fb9f3a"
             ],
             [
              0.8888888888888888,
              "#fdca26"
             ],
             [
              1,
              "#f0f921"
             ]
            ],
            "type": "surface"
           }
          ],
          "table": [
           {
            "cells": {
             "fill": {
              "color": "#EBF0F8"
             },
             "line": {
              "color": "white"
             }
            },
            "header": {
             "fill": {
              "color": "#C8D4E3"
             },
             "line": {
              "color": "white"
             }
            },
            "type": "table"
           }
          ]
         },
         "layout": {
          "annotationdefaults": {
           "arrowcolor": "#2a3f5f",
           "arrowhead": 0,
           "arrowwidth": 1
          },
          "coloraxis": {
           "colorbar": {
            "outlinewidth": 0,
            "ticks": ""
           }
          },
          "colorscale": {
           "diverging": [
            [
             0,
             "#8e0152"
            ],
            [
             0.1,
             "#c51b7d"
            ],
            [
             0.2,
             "#de77ae"
            ],
            [
             0.3,
             "#f1b6da"
            ],
            [
             0.4,
             "#fde0ef"
            ],
            [
             0.5,
             "#f7f7f7"
            ],
            [
             0.6,
             "#e6f5d0"
            ],
            [
             0.7,
             "#b8e186"
            ],
            [
             0.8,
             "#7fbc41"
            ],
            [
             0.9,
             "#4d9221"
            ],
            [
             1,
             "#276419"
            ]
           ],
           "sequential": [
            [
             0,
             "#0d0887"
            ],
            [
             0.1111111111111111,
             "#46039f"
            ],
            [
             0.2222222222222222,
             "#7201a8"
            ],
            [
             0.3333333333333333,
             "#9c179e"
            ],
            [
             0.4444444444444444,
             "#bd3786"
            ],
            [
             0.5555555555555556,
             "#d8576b"
            ],
            [
             0.6666666666666666,
             "#ed7953"
            ],
            [
             0.7777777777777778,
             "#fb9f3a"
            ],
            [
             0.8888888888888888,
             "#fdca26"
            ],
            [
             1,
             "#f0f921"
            ]
           ],
           "sequentialminus": [
            [
             0,
             "#0d0887"
            ],
            [
             0.1111111111111111,
             "#46039f"
            ],
            [
             0.2222222222222222,
             "#7201a8"
            ],
            [
             0.3333333333333333,
             "#9c179e"
            ],
            [
             0.4444444444444444,
             "#bd3786"
            ],
            [
             0.5555555555555556,
             "#d8576b"
            ],
            [
             0.6666666666666666,
             "#ed7953"
            ],
            [
             0.7777777777777778,
             "#fb9f3a"
            ],
            [
             0.8888888888888888,
             "#fdca26"
            ],
            [
             1,
             "#f0f921"
            ]
           ]
          },
          "colorway": [
           "#636efa",
           "#EF553B",
           "#00cc96",
           "#ab63fa",
           "#FFA15A",
           "#19d3f3",
           "#FF6692",
           "#B6E880",
           "#FF97FF",
           "#FECB52"
          ],
          "font": {
           "color": "#2a3f5f"
          },
          "geo": {
           "bgcolor": "white",
           "lakecolor": "white",
           "landcolor": "#E5ECF6",
           "showlakes": true,
           "showland": true,
           "subunitcolor": "white"
          },
          "hoverlabel": {
           "align": "left"
          },
          "hovermode": "closest",
          "mapbox": {
           "style": "light"
          },
          "paper_bgcolor": "white",
          "plot_bgcolor": "#E5ECF6",
          "polar": {
           "angularaxis": {
            "gridcolor": "white",
            "linecolor": "white",
            "ticks": ""
           },
           "bgcolor": "#E5ECF6",
           "radialaxis": {
            "gridcolor": "white",
            "linecolor": "white",
            "ticks": ""
           }
          },
          "scene": {
           "xaxis": {
            "backgroundcolor": "#E5ECF6",
            "gridcolor": "white",
            "gridwidth": 2,
            "linecolor": "white",
            "showbackground": true,
            "ticks": "",
            "zerolinecolor": "white"
           },
           "yaxis": {
            "backgroundcolor": "#E5ECF6",
            "gridcolor": "white",
            "gridwidth": 2,
            "linecolor": "white",
            "showbackground": true,
            "ticks": "",
            "zerolinecolor": "white"
           },
           "zaxis": {
            "backgroundcolor": "#E5ECF6",
            "gridcolor": "white",
            "gridwidth": 2,
            "linecolor": "white",
            "showbackground": true,
            "ticks": "",
            "zerolinecolor": "white"
           }
          },
          "shapedefaults": {
           "line": {
            "color": "#2a3f5f"
           }
          },
          "ternary": {
           "aaxis": {
            "gridcolor": "white",
            "linecolor": "white",
            "ticks": ""
           },
           "baxis": {
            "gridcolor": "white",
            "linecolor": "white",
            "ticks": ""
           },
           "bgcolor": "#E5ECF6",
           "caxis": {
            "gridcolor": "white",
            "linecolor": "white",
            "ticks": ""
           }
          },
          "title": {
           "x": 0.05
          },
          "xaxis": {
           "automargin": true,
           "gridcolor": "white",
           "linecolor": "white",
           "ticks": "",
           "title": {
            "standoff": 15
           },
           "zerolinecolor": "white",
           "zerolinewidth": 2
          },
          "yaxis": {
           "automargin": true,
           "gridcolor": "white",
           "linecolor": "white",
           "ticks": "",
           "title": {
            "standoff": 15
           },
           "zerolinecolor": "white",
           "zerolinewidth": 2
          }
         }
        },
        "title": {
         "text": "The rumor graph of bioweapon at week 10"
        },
        "width": 1000,
        "xaxis": {
         "showgrid": false,
         "showline": false,
         "showticklabels": false,
         "title": {
          "text": ""
         },
         "zeroline": false
        },
        "yaxis": {
         "showgrid": false,
         "showline": false,
         "showticklabels": false,
         "title": {
          "text": ""
         },
         "zeroline": false
        }
       }
      },
      "text/html": [
       "<div>\n",
       "        \n",
       "        \n",
       "            <div id=\"4c974f01-174b-452a-b447-046fea992d3c\" class=\"plotly-graph-div\" style=\"height:1000px; width:1000px;\"></div>\n",
       "            <script type=\"text/javascript\">\n",
       "                require([\"plotly\"], function(Plotly) {\n",
       "                    window.PLOTLYENV=window.PLOTLYENV || {};\n",
       "                    \n",
       "                if (document.getElementById(\"4c974f01-174b-452a-b447-046fea992d3c\")) {\n",
       "                    Plotly.newPlot(\n",
       "                        '4c974f01-174b-452a-b447-046fea992d3c',\n",
       "                        [{\"hoverinfo\": \"none\", \"line\": {\"color\": \"black\", \"width\": 2}, \"mode\": \"lines\", \"opacity\": 1, \"type\": \"scatter\", \"x\": [-0.25859606204278013, -0.015019181597588629, null], \"y\": [0.8242965068411998, 0.47473499324270363, null]}, {\"hoverinfo\": \"none\", \"line\": {\"color\": \"black\", \"width\": 2}, \"mode\": \"lines\", \"opacity\": 1, \"type\": \"scatter\", \"x\": [-0.015019181597588629, -0.032387763182896136, null], \"y\": [0.47473499324270363, -0.05592611098280903, null]}, {\"hoverinfo\": \"none\", \"line\": {\"color\": \"black\", \"width\": 2}, \"mode\": \"lines\", \"opacity\": 1, \"type\": \"scatter\", \"x\": [-0.032387763182896136, 0.9999999999999999, null], \"y\": [-0.05592611098280903, -0.6429343832897183, null]}, {\"hoverinfo\": \"text\", \"marker\": {\"color\": \"grey\", \"opacity\": 0}, \"mode\": \"markers\", \"text\": [\"\", \"\", \"\"], \"type\": \"scatter\", \"x\": [-0.13680762182018438, -0.023703472390242383, 0.48380611840855187], \"y\": [0.6495157500419517, 0.2094044411299473, -0.3494302471362637]}, {\"hoverinfo\": \"none\", \"line\": {\"color\": \"purple\", \"width\": 2}, \"mode\": \"lines\", \"opacity\": 1, \"type\": \"scatter\", \"x\": [-0.25859606204278013, 0.29837748145739584, null], \"y\": [0.8242965068411998, 0.9874583715325461, null]}, {\"hoverinfo\": \"none\", \"line\": {\"color\": \"purple\", \"width\": 2}, \"mode\": \"lines\", \"opacity\": 1, \"type\": \"scatter\", \"x\": [0.29837748145739584, 0.2234048451051425, null], \"y\": [0.9874583715325461, 0.2527505233537611, null]}, {\"hoverinfo\": \"none\", \"line\": {\"color\": \"purple\", \"width\": 2}, \"mode\": \"lines\", \"opacity\": 1, \"type\": \"scatter\", \"x\": [0.2234048451051425, 0.26922004072924394, null], \"y\": [0.2527505233537611, -0.44976222133104804, null]}, {\"hoverinfo\": \"none\", \"line\": {\"color\": \"purple\", \"width\": 2}, \"mode\": \"lines\", \"opacity\": 1, \"type\": \"scatter\", \"x\": [0.26922004072924394, 0.663766516167293, null], \"y\": [-0.44976222133104804, -0.390285162294308, null]}, {\"hoverinfo\": \"none\", \"line\": {\"color\": \"purple\", \"width\": 2}, \"mode\": \"lines\", \"opacity\": 1, \"type\": \"scatter\", \"x\": [0.663766516167293, 0.9999999999999999, null], \"y\": [-0.390285162294308, -0.6429343832897183, null]}, {\"hoverinfo\": \"text\", \"marker\": {\"color\": \"grey\", \"opacity\": 0}, \"mode\": \"markers\", \"text\": [\"\", \"\", \"\", \"\", \"\"], \"type\": \"scatter\", \"x\": [0.019890709707307858, 0.26089116328126916, 0.24631244291719323, 0.4664932784482685, 0.8318832580836464], \"y\": [0.9058774391868729, 0.6201044474431536, -0.09850584898864348, -0.420023691812678, -0.5166097727920131]}, {\"hoverinfo\": \"none\", \"line\": {\"color\": \"green\", \"width\": 2}, \"mode\": \"lines\", \"opacity\": 1, \"type\": \"scatter\", \"x\": [-0.25859606204278013, -0.015019181597588629, null], \"y\": [0.8242965068411998, 0.47473499324270363, null]}, {\"hoverinfo\": \"none\", \"line\": {\"color\": \"green\", \"width\": 2}, \"mode\": \"lines\", \"opacity\": 1, \"type\": \"scatter\", \"x\": [-0.015019181597588629, -0.032387763182896136, null], \"y\": [0.47473499324270363, -0.05592611098280903, null]}, {\"hoverinfo\": \"none\", \"line\": {\"color\": \"green\", \"width\": 2}, \"mode\": \"lines\", \"opacity\": 1, \"type\": \"scatter\", \"x\": [-0.032387763182896136, 0.9999999999999999, null], \"y\": [-0.05592611098280903, -0.6429343832897183, null]}, {\"hoverinfo\": \"text\", \"marker\": {\"color\": \"grey\", \"opacity\": 0}, \"mode\": \"markers\", \"text\": [\"\", \"\", \"\"], \"type\": \"scatter\", \"x\": [-0.13680762182018438, -0.023703472390242383, 0.48380611840855187], \"y\": [0.6495157500419517, 0.2094044411299473, -0.3494302471362637]}, {\"hoverinfo\": \"none\", \"line\": {\"color\": \"black\", \"width\": 2}, \"mode\": \"lines\", \"opacity\": 1, \"type\": \"scatter\", \"x\": [-0.7657251324348279, -0.032387763182896136, null], \"y\": [-0.6510237986519786, -0.05592611098280903, null]}, {\"hoverinfo\": \"none\", \"line\": {\"color\": \"black\", \"width\": 2}, \"mode\": \"lines\", \"opacity\": 1, \"type\": \"scatter\", \"x\": [-0.032387763182896136, 0.9999999999999999, null], \"y\": [-0.05592611098280903, -0.6429343832897183, null]}, {\"hoverinfo\": \"text\", \"marker\": {\"color\": \"grey\", \"opacity\": 0}, \"mode\": \"markers\", \"text\": [\"\", \"\"], \"type\": \"scatter\", \"x\": [-0.399056447808862, 0.48380611840855187], \"y\": [-0.35347495481739377, -0.3494302471362637]}, {\"hoverinfo\": \"none\", \"line\": {\"color\": \"purple\", \"width\": 2}, \"mode\": \"lines\", \"opacity\": 1, \"type\": \"scatter\", \"x\": [-0.7657251324348279, -0.032387763182896136, null], \"y\": [-0.6510237986519786, -0.05592611098280903, null]}, {\"hoverinfo\": \"none\", \"line\": {\"color\": \"purple\", \"width\": 2}, \"mode\": \"lines\", \"opacity\": 1, \"type\": \"scatter\", \"x\": [-0.032387763182896136, -0.47408466504031743, null], \"y\": [-0.05592611098280903, -0.49525617060142274, null]}, {\"hoverinfo\": \"none\", \"line\": {\"color\": \"purple\", \"width\": 2}, \"mode\": \"lines\", \"opacity\": 1, \"type\": \"scatter\", \"x\": [-0.47408466504031743, 0.003569261157895421, null], \"y\": [-0.49525617060142274, -0.8135758724422406, null]}, {\"hoverinfo\": \"none\", \"line\": {\"color\": \"purple\", \"width\": 2}, \"mode\": \"lines\", \"opacity\": 1, \"type\": \"scatter\", \"x\": [0.003569261157895421, 0.26922004072924394, null], \"y\": [-0.8135758724422406, -0.44976222133104804, null]}, {\"hoverinfo\": \"none\", \"line\": {\"color\": \"purple\", \"width\": 2}, \"mode\": \"lines\", \"opacity\": 1, \"type\": \"scatter\", \"x\": [0.26922004072924394, 0.663766516167293, null], \"y\": [-0.44976222133104804, -0.390285162294308, null]}, {\"hoverinfo\": \"none\", \"line\": {\"color\": \"purple\", \"width\": 2}, \"mode\": \"lines\", \"opacity\": 1, \"type\": \"scatter\", \"x\": [0.663766516167293, 0.9999999999999999, null], \"y\": [-0.390285162294308, -0.6429343832897183, null]}, {\"hoverinfo\": \"text\", \"marker\": {\"color\": \"grey\", \"opacity\": 0}, \"mode\": \"markers\", \"text\": [\"\", \"\", \"\", \"\", \"\", \"\"], \"type\": \"scatter\", \"x\": [-0.399056447808862, -0.2532362141116068, -0.235257701941211, 0.13639465094356967, 0.4664932784482685, 0.8318832580836464], \"y\": [-0.35347495481739377, -0.2755911407921159, -0.6544160215218316, -0.6316690468866444, -0.420023691812678, -0.5166097727920131]}, {\"hoverinfo\": \"none\", \"line\": {\"color\": \"green\", \"width\": 2}, \"mode\": \"lines\", \"opacity\": 1, \"type\": \"scatter\", \"x\": [-0.7657251324348279, -0.032387763182896136, null], \"y\": [-0.6510237986519786, -0.05592611098280903, null]}, {\"hoverinfo\": \"none\", \"line\": {\"color\": \"green\", \"width\": 2}, \"mode\": \"lines\", \"opacity\": 1, \"type\": \"scatter\", \"x\": [-0.032387763182896136, 0.9999999999999999, null], \"y\": [-0.05592611098280903, -0.6429343832897183, null]}, {\"hoverinfo\": \"text\", \"marker\": {\"color\": \"grey\", \"opacity\": 0}, \"mode\": \"markers\", \"text\": [\"\", \"\"], \"type\": \"scatter\", \"x\": [-0.399056447808862, 0.48380611840855187], \"y\": [-0.35347495481739377, -0.3494302471362637]}, {\"hoverinfo\": \"none\", \"line\": {\"color\": \"black\", \"width\": 2}, \"mode\": \"lines\", \"opacity\": 1, \"type\": \"scatter\", \"x\": [-0.032387763182896136, 0.9999999999999999, null], \"y\": [-0.05592611098280903, -0.6429343832897183, null]}, {\"hoverinfo\": \"text\", \"marker\": {\"color\": \"grey\", \"opacity\": 0}, \"mode\": \"markers\", \"text\": [\"\"], \"type\": \"scatter\", \"x\": [0.48380611840855187], \"y\": [-0.3494302471362637]}, {\"hoverinfo\": \"none\", \"line\": {\"color\": \"purple\", \"width\": 2}, \"mode\": \"lines\", \"opacity\": 1, \"type\": \"scatter\", \"x\": [-0.032387763182896136, -0.47408466504031743, null], \"y\": [-0.05592611098280903, -0.49525617060142274, null]}, {\"hoverinfo\": \"none\", \"line\": {\"color\": \"purple\", \"width\": 2}, \"mode\": \"lines\", \"opacity\": 1, \"type\": \"scatter\", \"x\": [-0.47408466504031743, 0.003569261157895421, null], \"y\": [-0.49525617060142274, -0.8135758724422406, null]}, {\"hoverinfo\": \"none\", \"line\": {\"color\": \"purple\", \"width\": 2}, \"mode\": \"lines\", \"opacity\": 1, \"type\": \"scatter\", \"x\": [0.003569261157895421, 0.26922004072924394, null], \"y\": [-0.8135758724422406, -0.44976222133104804, null]}, {\"hoverinfo\": \"none\", \"line\": {\"color\": \"purple\", \"width\": 2}, \"mode\": \"lines\", \"opacity\": 1, \"type\": \"scatter\", \"x\": [0.26922004072924394, 0.663766516167293, null], \"y\": [-0.44976222133104804, -0.390285162294308, null]}, {\"hoverinfo\": \"none\", \"line\": {\"color\": \"purple\", \"width\": 2}, \"mode\": \"lines\", \"opacity\": 1, \"type\": \"scatter\", \"x\": [0.663766516167293, 0.9999999999999999, null], \"y\": [-0.390285162294308, -0.6429343832897183, null]}, {\"hoverinfo\": \"text\", \"marker\": {\"color\": \"grey\", \"opacity\": 0}, \"mode\": \"markers\", \"text\": [\"\", \"\", \"\", \"\", \"\"], \"type\": \"scatter\", \"x\": [-0.2532362141116068, -0.235257701941211, 0.13639465094356967, 0.4664932784482685, 0.8318832580836464], \"y\": [-0.2755911407921159, -0.6544160215218316, -0.6316690468866444, -0.420023691812678, -0.5166097727920131]}, {\"hoverinfo\": \"none\", \"line\": {\"color\": \"green\", \"width\": 2}, \"mode\": \"lines\", \"opacity\": 1, \"type\": \"scatter\", \"x\": [-0.032387763182896136, 0.9999999999999999, null], \"y\": [-0.05592611098280903, -0.6429343832897183, null]}, {\"hoverinfo\": \"text\", \"marker\": {\"color\": \"grey\", \"opacity\": 0}, \"mode\": \"markers\", \"text\": [\"\"], \"type\": \"scatter\", \"x\": [0.48380611840855187], \"y\": [-0.3494302471362637]}, {\"hoverinfo\": \"none\", \"line\": {\"color\": \"black\", \"width\": 2}, \"mode\": \"lines\", \"opacity\": 1, \"type\": \"scatter\", \"x\": [0.2234048451051425, -0.032387763182896136, null], \"y\": [0.2527505233537611, -0.05592611098280903, null]}, {\"hoverinfo\": \"none\", \"line\": {\"color\": \"black\", \"width\": 2}, \"mode\": \"lines\", \"opacity\": 1, \"type\": \"scatter\", \"x\": [-0.032387763182896136, 0.9999999999999999, null], \"y\": [-0.05592611098280903, -0.6429343832897183, null]}, {\"hoverinfo\": \"text\", \"marker\": {\"color\": \"grey\", \"opacity\": 0}, \"mode\": \"markers\", \"text\": [\"\", \"\"], \"type\": \"scatter\", \"x\": [0.09550854096112318, 0.48380611840855187], \"y\": [0.09841220618547603, -0.3494302471362637]}, {\"hoverinfo\": \"none\", \"line\": {\"color\": \"purple\", \"width\": 2}, \"mode\": \"lines\", \"opacity\": 1, \"type\": \"scatter\", \"x\": [0.2234048451051425, 0.26922004072924394, null], \"y\": [0.2527505233537611, -0.44976222133104804, null]}, {\"hoverinfo\": \"none\", \"line\": {\"color\": \"purple\", \"width\": 2}, \"mode\": \"lines\", \"opacity\": 1, \"type\": \"scatter\", \"x\": [0.26922004072924394, 0.663766516167293, null], \"y\": [-0.44976222133104804, -0.390285162294308, null]}, {\"hoverinfo\": \"none\", \"line\": {\"color\": \"purple\", \"width\": 2}, \"mode\": \"lines\", \"opacity\": 1, \"type\": \"scatter\", \"x\": [0.663766516167293, 0.9999999999999999, null], \"y\": [-0.390285162294308, -0.6429343832897183, null]}, {\"hoverinfo\": \"text\", \"marker\": {\"color\": \"grey\", \"opacity\": 0}, \"mode\": \"markers\", \"text\": [\"\", \"\", \"\"], \"type\": \"scatter\", \"x\": [0.24631244291719323, 0.4664932784482685, 0.8318832580836464], \"y\": [-0.09850584898864348, -0.420023691812678, -0.5166097727920131]}, {\"hoverinfo\": \"none\", \"line\": {\"color\": \"green\", \"width\": 2}, \"mode\": \"lines\", \"opacity\": 1, \"type\": \"scatter\", \"x\": [0.2234048451051425, -0.032387763182896136, null], \"y\": [0.2527505233537611, -0.05592611098280903, null]}, {\"hoverinfo\": \"none\", \"line\": {\"color\": \"green\", \"width\": 2}, \"mode\": \"lines\", \"opacity\": 1, \"type\": \"scatter\", \"x\": [-0.032387763182896136, 0.9999999999999999, null], \"y\": [-0.05592611098280903, -0.6429343832897183, null]}, {\"hoverinfo\": \"text\", \"marker\": {\"color\": \"grey\", \"opacity\": 0}, \"mode\": \"markers\", \"text\": [\"\", \"\"], \"type\": \"scatter\", \"x\": [0.09550854096112318, 0.48380611840855187], \"y\": [0.09841220618547603, -0.3494302471362637]}, {\"hoverinfo\": \"none\", \"line\": {\"color\": \"yellow\", \"width\": 5.259923528261547}, \"mode\": \"lines\", \"opacity\": 0.2, \"type\": \"scatter\", \"x\": [-0.733606209178751, -0.032387763182896136, null], \"y\": [0.8032339966157098, -0.05592611098280903, null]}, {\"hoverinfo\": \"none\", \"line\": {\"color\": \"green\", \"width\": 11.823624776320726}, \"mode\": \"lines\", \"opacity\": 0.2, \"type\": \"scatter\", \"x\": [-0.733606209178751, -0.25859606204278013, null], \"y\": [0.8032339966157098, 0.8242965068411998, null]}, {\"hoverinfo\": \"none\", \"line\": {\"color\": \"yellow\", \"width\": 32.023388961533854}, \"mode\": \"lines\", \"opacity\": 0.2, \"type\": \"scatter\", \"x\": [-0.032387763182896136, -0.015019181597588629, null], \"y\": [-0.05592611098280903, 0.47473499324270363, null]}, {\"hoverinfo\": \"none\", \"line\": {\"color\": \"orange\", \"width\": 47.18801007624528}, \"mode\": \"lines\", \"opacity\": 0.2, \"type\": \"scatter\", \"x\": [-0.032387763182896136, -0.213658557352234, null], \"y\": [-0.05592611098280903, 0.36559965803937233, null]}, {\"hoverinfo\": \"none\", \"line\": {\"color\": \"yellow\", \"width\": 118.74460005330542}, \"mode\": \"lines\", \"opacity\": 0.2, \"type\": \"scatter\", \"x\": [-0.032387763182896136, -0.2546564674069552, null], \"y\": [-0.05592611098280903, -0.19384470147652996, null]}, {\"hoverinfo\": \"none\", \"line\": {\"color\": \"yellow\", \"width\": 5.259923528261547}, \"mode\": \"lines\", \"opacity\": 0.2, \"type\": \"scatter\", \"x\": [-0.032387763182896136, 0.9999999999999999, null], \"y\": [-0.05592611098280903, -0.6429343832897183, null]}, {\"hoverinfo\": \"none\", \"line\": {\"color\": \"yellow\", \"width\": 13.785283282344178}, \"mode\": \"lines\", \"opacity\": 0.2, \"type\": \"scatter\", \"x\": [-0.032387763182896136, 0.2234048451051425, null], \"y\": [-0.05592611098280903, 0.2527505233537611, null]}, {\"hoverinfo\": \"none\", \"line\": {\"color\": \"yellow\", \"width\": 5.259923528261547}, \"mode\": \"lines\", \"opacity\": 0.2, \"type\": \"scatter\", \"x\": [-0.032387763182896136, -0.7657251324348279, null], \"y\": [-0.05592611098280903, -0.6510237986519786, null]}, {\"hoverinfo\": \"none\", \"line\": {\"color\": \"yellow\", \"width\": 58.87865537002833}, \"mode\": \"lines\", \"opacity\": 0.2, \"type\": \"scatter\", \"x\": [-0.032387763182896136, 0.2893958936193807, null], \"y\": [-0.05592611098280903, -0.015465628555238062, null]}, {\"hoverinfo\": \"none\", \"line\": {\"color\": \"orange\", \"width\": 12.763632034812197}, \"mode\": \"lines\", \"opacity\": 0.2, \"type\": \"scatter\", \"x\": [-0.032387763182896136, -0.47408466504031743, null], \"y\": [-0.05592611098280903, -0.49525617060142274, null]}, {\"hoverinfo\": \"none\", \"line\": {\"color\": \"yellow\", \"width\": 13.785283282344178}, \"mode\": \"lines\", \"opacity\": 0.2, \"type\": \"scatter\", \"x\": [-0.032387763182896136, 0.26922004072924394, null], \"y\": [-0.05592611098280903, -0.44976222133104804, null]}, {\"hoverinfo\": \"none\", \"line\": {\"color\": \"green\", \"width\": 8.707335540227625}, \"mode\": \"lines\", \"opacity\": 0.2, \"type\": \"scatter\", \"x\": [-0.032387763182896136, 0.003569261157895421, null], \"y\": [-0.05592611098280903, -0.8135758724422406, null]}, {\"hoverinfo\": \"none\", \"line\": {\"color\": \"green\", \"width\": 11.588058705007958}, \"mode\": \"lines\", \"opacity\": 0.2, \"type\": \"scatter\", \"x\": [-0.032387763182896136, 0.663766516167293, null], \"y\": [-0.05592611098280903, -0.390285162294308, null]}, {\"hoverinfo\": \"none\", \"line\": {\"color\": \"red\", \"width\": 15.982507859680398}, \"mode\": \"lines\", \"opacity\": 0.2, \"type\": \"scatter\", \"x\": [0.26922004072924394, 0.003569261157895421, null], \"y\": [-0.44976222133104804, -0.8135758724422406, null]}, {\"hoverinfo\": \"none\", \"line\": {\"color\": \"orange\", \"width\": 8.929786810448075}, \"mode\": \"lines\", \"opacity\": 0.2, \"type\": \"scatter\", \"x\": [0.26922004072924394, 0.663766516167293, null], \"y\": [-0.44976222133104804, -0.390285162294308, null]}, {\"hoverinfo\": \"none\", \"line\": {\"color\": \"red\", \"width\": 10.852609144757324}, \"mode\": \"lines\", \"opacity\": 0.2, \"type\": \"scatter\", \"x\": [0.26922004072924394, 0.2234048451051425, null], \"y\": [-0.44976222133104804, 0.2527505233537611, null]}, {\"hoverinfo\": \"none\", \"line\": {\"color\": \"green\", \"width\": 31.965015719360796}, \"mode\": \"lines\", \"opacity\": 0.2, \"type\": \"scatter\", \"x\": [-0.213658557352234, -0.25859606204278013, null], \"y\": [0.36559965803937233, 0.8242965068411998, null]}, {\"hoverinfo\": \"none\", \"line\": {\"color\": \"green\", \"width\": 15.982507859680398}, \"mode\": \"lines\", \"opacity\": 0.2, \"type\": \"scatter\", \"x\": [-0.213658557352234, 0.2234048451051425, null], \"y\": [0.36559965803937233, 0.2527505233537611, null]}, {\"hoverinfo\": \"none\", \"line\": {\"color\": \"green\", \"width\": 9.800422952963766}, \"mode\": \"lines\", \"opacity\": 0.2, \"type\": \"scatter\", \"x\": [-0.7657251324348279, -0.2546564674069552, null], \"y\": [-0.6510237986519786, -0.19384470147652996, null]}, {\"hoverinfo\": \"none\", \"line\": {\"color\": \"orange\", \"width\": 5.259923528261547}, \"mode\": \"lines\", \"opacity\": 0.2, \"type\": \"scatter\", \"x\": [-0.47408466504031743, 0.003569261157895421, null], \"y\": [-0.49525617060142274, -0.8135758724422406, null]}, {\"hoverinfo\": \"none\", \"line\": {\"color\": \"orange\", \"width\": 9.893462984233551}, \"mode\": \"lines\", \"opacity\": 0.2, \"type\": \"scatter\", \"x\": [-0.47408466504031743, -0.2546564674069552, null], \"y\": [-0.49525617060142274, -0.19384470147652996, null]}, {\"hoverinfo\": \"none\", \"line\": {\"color\": \"orange\", \"width\": 9.800422952963766}, \"mode\": \"lines\", \"opacity\": 0.2, \"type\": \"scatter\", \"x\": [-0.25859606204278013, 0.29837748145739584, null], \"y\": [0.8242965068411998, 0.9874583715325461, null]}, {\"hoverinfo\": \"none\", \"line\": {\"color\": \"green\", \"width\": 12.090687561569771}, \"mode\": \"lines\", \"opacity\": 0.2, \"type\": \"scatter\", \"x\": [-0.25859606204278013, -0.015019181597588629, null], \"y\": [0.8242965068411998, 0.47473499324270363, null]}, {\"hoverinfo\": \"none\", \"line\": {\"color\": \"green\", \"width\": 19.411728740677503}, \"mode\": \"lines\", \"opacity\": 0.2, \"type\": \"scatter\", \"x\": [0.2234048451051425, 0.2893958936193807, null], \"y\": [0.2527505233537611, -0.015465628555238062, null]}, {\"hoverinfo\": \"none\", \"line\": {\"color\": \"orange\", \"width\": 12.090687561569771}, \"mode\": \"lines\", \"opacity\": 0.2, \"type\": \"scatter\", \"x\": [0.2234048451051425, 0.29837748145739584, null], \"y\": [0.2527505233537611, 0.9874583715325461, null]}, {\"hoverinfo\": \"none\", \"line\": {\"color\": \"green\", \"width\": 8.555363726271782}, \"mode\": \"lines\", \"opacity\": 0.2, \"type\": \"scatter\", \"x\": [0.2234048451051425, -0.2546564674069552, null], \"y\": [0.2527505233537611, -0.19384470147652996, null]}, {\"hoverinfo\": \"none\", \"line\": {\"color\": \"red\", \"width\": 5.259923528261547}, \"mode\": \"lines\", \"opacity\": 0.2, \"type\": \"scatter\", \"x\": [0.663766516167293, 0.9999999999999999, null], \"y\": [-0.390285162294308, -0.6429343832897183, null]}, {\"hoverinfo\": \"none\", \"line\": {\"color\": \"yellow\", \"width\": 13.209919137440616}, \"mode\": \"lines\", \"opacity\": 0.2, \"type\": \"scatter\", \"x\": [-0.2546564674069552, -0.2546564674069552, null], \"y\": [-0.19384470147652996, -0.19384470147652996, null]}, {\"hoverinfo\": \"text\", \"marker\": {\"color\": \"grey\", \"opacity\": 0}, \"mode\": \"markers\", \"text\": [\"'weight': 2.6299617641307735<br>'d_suspicious': 0.0<br>'colors': [0. 1. 0. 0.]\", \"'weight': 5.911812388160363<br>'d_suspicious': 0.0<br>'colors': [1. 0. 0. 0.]\", \"'weight': 16.011694480766927<br>'d_suspicious': 0.0<br>'colors': [0.33333333 0.66666667 0.         0.        ]\", \"'weight': 23.59400503812264<br>'d_suspicious': 0.5<br>'colors': [0.25 0.25 0.5  0.  ]\", \"'weight': 59.37230002665271<br>'d_suspicious': 0.2222222222222222<br>'colors': [0.27777778 0.5        0.05555556 0.16666667]\", \"'weight': 2.6299617641307735<br>'d_suspicious': 0.5<br>'colors': [0.  0.5 0.  0.5]\", \"'weight': 6.892641641172089<br>'d_suspicious': 0.0<br>'colors': [0. 1. 0. 0.]\", \"'weight': 2.6299617641307735<br>'d_suspicious': 0.0<br>'colors': [0. 1. 0. 0.]\", \"'weight': 29.439327685014167<br>'d_suspicious': 0.0<br>'colors': [0.2 0.8 0.  0. ]\", \"'weight': 6.3818160174060985<br>'d_suspicious': 1.0<br>'colors': [0. 0. 1. 0.]\", \"'weight': 6.892641641172089<br>'d_suspicious': 0.0<br>'colors': [0. 1. 0. 0.]\", \"'weight': 4.3536677701138125<br>'d_suspicious': 0.0<br>'colors': [1. 0. 0. 0.]\", \"'weight': 5.794029352503979<br>'d_suspicious': 0.0<br>'colors': [1. 0. 0. 0.]\", \"'weight': 7.991253929840199<br>'d_suspicious': 1.0<br>'colors': [0. 0. 0. 1.]\", \"'weight': 4.464893405224037<br>'d_suspicious': 1.0<br>'colors': [0. 0. 1. 0.]\", \"'weight': 5.426304572378662<br>'d_suspicious': 1.0<br>'colors': [0. 0. 0. 1.]\", \"'weight': 15.982507859680398<br>'d_suspicious': 0.5<br>'colors': [0.5 0.  0.5 0. ]\", \"'weight': 7.991253929840199<br>'d_suspicious': 0.0<br>'colors': [1. 0. 0. 0.]\", \"'weight': 4.900211476481883<br>'d_suspicious': 0.0<br>'colors': [1. 0. 0. 0.]\", \"'weight': 2.6299617641307735<br>'d_suspicious': 1.0<br>'colors': [0. 0. 1. 0.]\", \"'weight': 4.9467314921167755<br>'d_suspicious': 1.0<br>'colors': [0. 0. 1. 0.]\", \"'weight': 4.900211476481883<br>'d_suspicious': 1.0<br>'colors': [0. 0. 1. 0.]\", \"'weight': 6.0453437807848855<br>'d_suspicious': 0.0<br>'colors': [1. 0. 0. 0.]\", \"'weight': 9.705864370338752<br>'d_suspicious': 0.0<br>'colors': [0.5 0.5 0.  0. ]\", \"'weight': 6.0453437807848855<br>'d_suspicious': 1.0<br>'colors': [0. 0. 1. 0.]\", \"'weight': 4.277681863135891<br>'d_suspicious': 0.0<br>'colors': [1. 0. 0. 0.]\", \"'weight': 2.6299617641307735<br>'d_suspicious': 1.0<br>'colors': [0. 0. 0. 1.]\", \"'weight': 6.604959568720308<br>'d_suspicious': 0.0<br>'colors': [0. 1. 0. 0.]\"], \"type\": \"scatter\", \"x\": [-0.38299698618082356, -0.4961011356107655, -0.023703472390242383, -0.12302316026756506, -0.14352211529492567, 0.48380611840855187, 0.09550854096112318, -0.399056447808862, 0.12850406521824226, -0.2532362141116068, 0.1184161387731739, -0.014409251012500358, 0.3156893764921984, 0.13639465094356967, 0.4664932784482685, 0.24631244291719323, -0.23612730969750706, 0.004873143876454253, -0.5101907999208916, -0.235257701941211, -0.3643705662236363, 0.019890709707307858, -0.13680762182018438, 0.25640036936226157, 0.26089116328126916, -0.015625811150906346, 0.8318832580836464, -0.2546564674069552], \"y\": [0.37365394281645037, 0.8137652517284548, 0.2094044411299473, 0.15483677352828165, -0.1248854062296695, -0.3494302471362637, 0.09841220618547603, -0.35347495481739377, -0.035695869769023544, -0.2755911407921159, -0.2528441661569285, -0.43475099171252485, -0.2231056366385585, -0.6316690468866444, -0.420023691812678, -0.09850584898864348, 0.5949480824402861, 0.3091750906965667, -0.4224342500642543, -0.6544160215218316, -0.34455043603897634, 0.9058774391868729, 0.6495157500419517, 0.11864244739926151, 0.6201044474431536, 0.02945291093861556, -0.5166097727920131, -0.19384470147652996]}, {\"hoverinfo\": \"text\", \"marker\": {\"color\": [\"yellow\", \"yellow\", \"red\", \"black\", \"green\", \"black\", \"black\", \"black\", \"black\", \"black\", \"black\", \"yellow\", \"yellow\", \"red\", \"yellow\"], \"line\": {\"color\": \"rgb(50,50,50)\", \"width\": 0.5}, \"size\": 50, \"symbol\": \"circle-dot\"}, \"mode\": \"markers\", \"name\": \"net\", \"text\": [\"'name':fan<br>'df': 128.47826086956522<br>'pop': -2.2849461508958586<br>'rt': 2.0869565217391304<br>'fav': 7.043478260869565<br>'color': [0.17391304 0.69565217 0.13043478 0.        ]<br>'freq': 23\", \"'name':coronavirus<br>'df': 6.610738255033557<br>'pop': -2.3473600399687022<br>'rt': 2.825503355704698<br>'fav': 6.156599552572707<br>'color': [0.25055928 0.5458613  0.12304251 0.08053691]<br>'freq': 447\", \"'name':c<br>'df': 738.75<br>'pop': -3.8645903408505546<br>'rt': 3.5<br>'fav': 4.0<br>'color': [0.   0.25 0.25 0.5 ]<br>'freq': 4\", \"'name':china<br>'df': 72.07317073170732<br>'pop': -2.6952540966873557<br>'rt': 3.5121951219512195<br>'fav': 8.24390243902439<br>'color': [0.46341463 0.29268293 0.14634146 0.09756098]<br>'freq': 41\", \"'name':SUPER:deadly_virus|deadly<br>'df': 738.75<br>'pop': -2.3786635058308447<br>'rt': 1.0<br>'fav': 0.5<br>'color': [0.5  0.25 0.   0.25]<br>'freq': 4\", \"'name':symptom<br>'df': 211.07142857142858<br>'pop': -1.9867506136317254<br>'rt': 0.42857142857142855<br>'fav': 0.7142857142857143<br>'color': [0.42857143 0.35714286 0.21428571 0.        ]<br>'freq': 14\", \"'name':SUPER:outbreak|virus_outbreak|epidemic<br>'df': 49.25<br>'pop': -1.0760787706707804<br>'rt': 3.966666666666667<br>'fav': 6.733333333333333<br>'color': [0.28333333 0.46666667 0.21666667 0.03333333]<br>'freq': 60\", \"'name':SUPER:health_official|official<br>'df': 101.89655172413794<br>'pop': -1.7538619196728737<br>'rt': 6.758620689655173<br>'fav': 13.827586206896552<br>'color': [0.34482759 0.4137931  0.17241379 0.06896552]<br>'freq': 29\", \"'name':SUPER:virus_outbreak|virus|infection<br>'df': 67.1590909090909<br>'pop': -2.623327617910032<br>'rt': 6.681818181818182<br>'fav': 9.568181818181818<br>'color': [0.43181818 0.22727273 0.27272727 0.06818182]<br>'freq': 44\", \"'name':claim<br>'df': 295.5<br>'pop': -1.745023857955142<br>'rt': 3.3<br>'fav': 9.7<br>'color': [0.3 0.3 0.2 0.2]<br>'freq': 10\", \"'name':SUPER:deadly_virus|vaccine<br>'df': 173.8235294117647<br>'pop': -2.7473011298770365<br>'rt': 1.2352941176470589<br>'fav': 1.9411764705882353<br>'color': [0.47058824 0.23529412 0.11764706 0.17647059]<br>'freq': 17\", \"'name':person<br>'df': 197.0<br>'pop': -2.5605788184681657<br>'rt': 19.533333333333335<br>'fav': 23.466666666666665<br>'color': [0.26666667 0.6        0.13333333 0.        ]<br>'freq': 15\", \"'name':SUPER:worker|employee<br>'df': 82.08333333333333<br>'pop': -3.6847250323065435<br>'rt': 1.6944444444444444<br>'fav': 1.4444444444444444<br>'color': [0.30555556 0.52777778 0.08333333 0.08333333]<br>'freq': 36\", \"'name':bioweapon<br>'df': 738.75<br>'pop': -3.220842474108931<br>'rt': 1.75<br>'fav': 1.25<br>'color': [0.   0.25 0.   0.75]<br>'freq': 4\", \"'name':SUPER:panic|panic_buying|surge<br>'df': 89.54545454545455<br>'pop': -2.2364712020491497<br>'rt': 3.0303030303030303<br>'fav': 6.2727272727272725<br>'color': [0.18181818 0.51515152 0.3030303  0.        ]<br>'freq': 33\"], \"type\": \"scatter\", \"x\": [-0.733606209178751, -0.032387763182896136, 0.26922004072924394, -0.213658557352234, -0.7657251324348279, -0.47408466504031743, -0.25859606204278013, -0.015019181597588629, 0.2234048451051425, 0.003569261157895421, 0.663766516167293, 0.2893958936193807, -0.2546564674069552, 0.9999999999999999, 0.29837748145739584], \"y\": [0.8032339966157098, -0.05592611098280903, -0.44976222133104804, 0.36559965803937233, -0.6510237986519786, -0.49525617060142274, 0.8242965068411998, 0.47473499324270363, 0.2527505233537611, -0.8135758724422406, -0.390285162294308, -0.015465628555238062, -0.19384470147652996, -0.6429343832897183, 0.9874583715325461]}],\n",
       "                        {\"annotations\": [{\"font\": {\"size\": 14}, \"showarrow\": false, \"text\": \"The rumor graph\", \"x\": 0, \"xanchor\": \"left\", \"xref\": \"paper\", \"y\": -0.1, \"yanchor\": \"bottom\", \"yref\": \"paper\"}], \"autosize\": false, \"font\": {\"size\": 12}, \"height\": 1000, \"hovermode\": \"closest\", \"margin\": {\"b\": 85, \"l\": 40, \"r\": 40, \"t\": 100}, \"showlegend\": false, \"template\": {\"data\": {\"bar\": [{\"error_x\": {\"color\": \"#2a3f5f\"}, \"error_y\": {\"color\": \"#2a3f5f\"}, \"marker\": {\"line\": {\"color\": \"#E5ECF6\", \"width\": 0.5}}, \"type\": \"bar\"}], \"barpolar\": [{\"marker\": {\"line\": {\"color\": \"#E5ECF6\", \"width\": 0.5}}, \"type\": \"barpolar\"}], \"carpet\": [{\"aaxis\": {\"endlinecolor\": \"#2a3f5f\", \"gridcolor\": \"white\", \"linecolor\": \"white\", \"minorgridcolor\": \"white\", \"startlinecolor\": \"#2a3f5f\"}, \"baxis\": {\"endlinecolor\": \"#2a3f5f\", \"gridcolor\": \"white\", \"linecolor\": \"white\", \"minorgridcolor\": \"white\", \"startlinecolor\": \"#2a3f5f\"}, \"type\": \"carpet\"}], \"choropleth\": [{\"colorbar\": {\"outlinewidth\": 0, \"ticks\": \"\"}, \"type\": \"choropleth\"}], \"contour\": [{\"colorbar\": {\"outlinewidth\": 0, \"ticks\": \"\"}, \"colorscale\": [[0.0, \"#0d0887\"], [0.1111111111111111, \"#46039f\"], [0.2222222222222222, \"#7201a8\"], [0.3333333333333333, \"#9c179e\"], [0.4444444444444444, \"#bd3786\"], [0.5555555555555556, \"#d8576b\"], [0.6666666666666666, \"#ed7953\"], [0.7777777777777778, \"#fb9f3a\"], [0.8888888888888888, \"#fdca26\"], [1.0, \"#f0f921\"]], \"type\": \"contour\"}], \"contourcarpet\": [{\"colorbar\": {\"outlinewidth\": 0, \"ticks\": \"\"}, \"type\": \"contourcarpet\"}], \"heatmap\": [{\"colorbar\": {\"outlinewidth\": 0, \"ticks\": \"\"}, \"colorscale\": [[0.0, \"#0d0887\"], [0.1111111111111111, \"#46039f\"], [0.2222222222222222, \"#7201a8\"], [0.3333333333333333, \"#9c179e\"], [0.4444444444444444, \"#bd3786\"], [0.5555555555555556, \"#d8576b\"], [0.6666666666666666, \"#ed7953\"], [0.7777777777777778, \"#fb9f3a\"], [0.8888888888888888, \"#fdca26\"], [1.0, \"#f0f921\"]], \"type\": \"heatmap\"}], \"heatmapgl\": [{\"colorbar\": {\"outlinewidth\": 0, \"ticks\": \"\"}, \"colorscale\": [[0.0, \"#0d0887\"], [0.1111111111111111, \"#46039f\"], [0.2222222222222222, \"#7201a8\"], [0.3333333333333333, \"#9c179e\"], [0.4444444444444444, \"#bd3786\"], [0.5555555555555556, \"#d8576b\"], [0.6666666666666666, \"#ed7953\"], [0.7777777777777778, \"#fb9f3a\"], [0.8888888888888888, \"#fdca26\"], [1.0, \"#f0f921\"]], \"type\": \"heatmapgl\"}], \"histogram\": [{\"marker\": {\"colorbar\": {\"outlinewidth\": 0, \"ticks\": \"\"}}, \"type\": \"histogram\"}], \"histogram2d\": [{\"colorbar\": {\"outlinewidth\": 0, \"ticks\": \"\"}, \"colorscale\": [[0.0, \"#0d0887\"], [0.1111111111111111, \"#46039f\"], [0.2222222222222222, \"#7201a8\"], [0.3333333333333333, \"#9c179e\"], [0.4444444444444444, \"#bd3786\"], [0.5555555555555556, \"#d8576b\"], [0.6666666666666666, \"#ed7953\"], [0.7777777777777778, \"#fb9f3a\"], [0.8888888888888888, \"#fdca26\"], [1.0, \"#f0f921\"]], \"type\": \"histogram2d\"}], \"histogram2dcontour\": [{\"colorbar\": {\"outlinewidth\": 0, \"ticks\": \"\"}, \"colorscale\": [[0.0, \"#0d0887\"], [0.1111111111111111, \"#46039f\"], [0.2222222222222222, \"#7201a8\"], [0.3333333333333333, \"#9c179e\"], [0.4444444444444444, \"#bd3786\"], [0.5555555555555556, \"#d8576b\"], [0.6666666666666666, \"#ed7953\"], [0.7777777777777778, \"#fb9f3a\"], [0.8888888888888888, \"#fdca26\"], [1.0, \"#f0f921\"]], \"type\": \"histogram2dcontour\"}], \"mesh3d\": [{\"colorbar\": {\"outlinewidth\": 0, \"ticks\": \"\"}, \"type\": \"mesh3d\"}], \"parcoords\": [{\"line\": {\"colorbar\": {\"outlinewidth\": 0, \"ticks\": \"\"}}, \"type\": \"parcoords\"}], \"pie\": [{\"automargin\": true, \"type\": \"pie\"}], \"scatter\": [{\"marker\": {\"colorbar\": {\"outlinewidth\": 0, \"ticks\": \"\"}}, \"type\": \"scatter\"}], \"scatter3d\": [{\"line\": {\"colorbar\": {\"outlinewidth\": 0, \"ticks\": \"\"}}, \"marker\": {\"colorbar\": {\"outlinewidth\": 0, \"ticks\": \"\"}}, \"type\": \"scatter3d\"}], \"scattercarpet\": [{\"marker\": {\"colorbar\": {\"outlinewidth\": 0, \"ticks\": \"\"}}, \"type\": \"scattercarpet\"}], \"scattergeo\": [{\"marker\": {\"colorbar\": {\"outlinewidth\": 0, \"ticks\": \"\"}}, \"type\": \"scattergeo\"}], \"scattergl\": [{\"marker\": {\"colorbar\": {\"outlinewidth\": 0, \"ticks\": \"\"}}, \"type\": \"scattergl\"}], \"scattermapbox\": [{\"marker\": {\"colorbar\": {\"outlinewidth\": 0, \"ticks\": \"\"}}, \"type\": \"scattermapbox\"}], \"scatterpolar\": [{\"marker\": {\"colorbar\": {\"outlinewidth\": 0, \"ticks\": \"\"}}, \"type\": \"scatterpolar\"}], \"scatterpolargl\": [{\"marker\": {\"colorbar\": {\"outlinewidth\": 0, \"ticks\": \"\"}}, \"type\": \"scatterpolargl\"}], \"scatterternary\": [{\"marker\": {\"colorbar\": {\"outlinewidth\": 0, \"ticks\": \"\"}}, \"type\": \"scatterternary\"}], \"surface\": [{\"colorbar\": {\"outlinewidth\": 0, \"ticks\": \"\"}, \"colorscale\": [[0.0, \"#0d0887\"], [0.1111111111111111, \"#46039f\"], [0.2222222222222222, \"#7201a8\"], [0.3333333333333333, \"#9c179e\"], [0.4444444444444444, \"#bd3786\"], [0.5555555555555556, \"#d8576b\"], [0.6666666666666666, \"#ed7953\"], [0.7777777777777778, \"#fb9f3a\"], [0.8888888888888888, \"#fdca26\"], [1.0, \"#f0f921\"]], \"type\": \"surface\"}], \"table\": [{\"cells\": {\"fill\": {\"color\": \"#EBF0F8\"}, \"line\": {\"color\": \"white\"}}, \"header\": {\"fill\": {\"color\": \"#C8D4E3\"}, \"line\": {\"color\": \"white\"}}, \"type\": \"table\"}]}, \"layout\": {\"annotationdefaults\": {\"arrowcolor\": \"#2a3f5f\", \"arrowhead\": 0, \"arrowwidth\": 1}, \"coloraxis\": {\"colorbar\": {\"outlinewidth\": 0, \"ticks\": \"\"}}, \"colorscale\": {\"diverging\": [[0, \"#8e0152\"], [0.1, \"#c51b7d\"], [0.2, \"#de77ae\"], [0.3, \"#f1b6da\"], [0.4, \"#fde0ef\"], [0.5, \"#f7f7f7\"], [0.6, \"#e6f5d0\"], [0.7, \"#b8e186\"], [0.8, \"#7fbc41\"], [0.9, \"#4d9221\"], [1, \"#276419\"]], \"sequential\": [[0.0, \"#0d0887\"], [0.1111111111111111, \"#46039f\"], [0.2222222222222222, \"#7201a8\"], [0.3333333333333333, \"#9c179e\"], [0.4444444444444444, \"#bd3786\"], [0.5555555555555556, \"#d8576b\"], [0.6666666666666666, \"#ed7953\"], [0.7777777777777778, \"#fb9f3a\"], [0.8888888888888888, \"#fdca26\"], [1.0, \"#f0f921\"]], \"sequentialminus\": [[0.0, \"#0d0887\"], [0.1111111111111111, \"#46039f\"], [0.2222222222222222, \"#7201a8\"], [0.3333333333333333, \"#9c179e\"], [0.4444444444444444, \"#bd3786\"], [0.5555555555555556, \"#d8576b\"], [0.6666666666666666, \"#ed7953\"], [0.7777777777777778, \"#fb9f3a\"], [0.8888888888888888, \"#fdca26\"], [1.0, \"#f0f921\"]]}, \"colorway\": [\"#636efa\", \"#EF553B\", \"#00cc96\", \"#ab63fa\", \"#FFA15A\", \"#19d3f3\", \"#FF6692\", \"#B6E880\", \"#FF97FF\", \"#FECB52\"], \"font\": {\"color\": \"#2a3f5f\"}, \"geo\": {\"bgcolor\": \"white\", \"lakecolor\": \"white\", \"landcolor\": \"#E5ECF6\", \"showlakes\": true, \"showland\": true, \"subunitcolor\": \"white\"}, \"hoverlabel\": {\"align\": \"left\"}, \"hovermode\": \"closest\", \"mapbox\": {\"style\": \"light\"}, \"paper_bgcolor\": \"white\", \"plot_bgcolor\": \"#E5ECF6\", \"polar\": {\"angularaxis\": {\"gridcolor\": \"white\", \"linecolor\": \"white\", \"ticks\": \"\"}, \"bgcolor\": \"#E5ECF6\", \"radialaxis\": {\"gridcolor\": \"white\", \"linecolor\": \"white\", \"ticks\": \"\"}}, \"scene\": {\"xaxis\": {\"backgroundcolor\": \"#E5ECF6\", \"gridcolor\": \"white\", \"gridwidth\": 2, \"linecolor\": \"white\", \"showbackground\": true, \"ticks\": \"\", \"zerolinecolor\": \"white\"}, \"yaxis\": {\"backgroundcolor\": \"#E5ECF6\", \"gridcolor\": \"white\", \"gridwidth\": 2, \"linecolor\": \"white\", \"showbackground\": true, \"ticks\": \"\", \"zerolinecolor\": \"white\"}, \"zaxis\": {\"backgroundcolor\": \"#E5ECF6\", \"gridcolor\": \"white\", \"gridwidth\": 2, \"linecolor\": \"white\", \"showbackground\": true, \"ticks\": \"\", \"zerolinecolor\": \"white\"}}, \"shapedefaults\": {\"line\": {\"color\": \"#2a3f5f\"}}, \"ternary\": {\"aaxis\": {\"gridcolor\": \"white\", \"linecolor\": \"white\", \"ticks\": \"\"}, \"baxis\": {\"gridcolor\": \"white\", \"linecolor\": \"white\", \"ticks\": \"\"}, \"bgcolor\": \"#E5ECF6\", \"caxis\": {\"gridcolor\": \"white\", \"linecolor\": \"white\", \"ticks\": \"\"}}, \"title\": {\"x\": 0.05}, \"xaxis\": {\"automargin\": true, \"gridcolor\": \"white\", \"linecolor\": \"white\", \"ticks\": \"\", \"title\": {\"standoff\": 15}, \"zerolinecolor\": \"white\", \"zerolinewidth\": 2}, \"yaxis\": {\"automargin\": true, \"gridcolor\": \"white\", \"linecolor\": \"white\", \"ticks\": \"\", \"title\": {\"standoff\": 15}, \"zerolinecolor\": \"white\", \"zerolinewidth\": 2}}}, \"title\": {\"text\": \"The rumor graph of bioweapon at week 10\"}, \"width\": 1000, \"xaxis\": {\"showgrid\": false, \"showline\": false, \"showticklabels\": false, \"title\": {\"text\": \"\"}, \"zeroline\": false}, \"yaxis\": {\"showgrid\": false, \"showline\": false, \"showticklabels\": false, \"title\": {\"text\": \"\"}, \"zeroline\": false}},\n",
       "                        {\"responsive\": true}\n",
       "                    ).then(function(){\n",
       "                            \n",
       "var gd = document.getElementById('4c974f01-174b-452a-b447-046fea992d3c');\n",
       "var x = new MutationObserver(function (mutations, observer) {{\n",
       "        var display = window.getComputedStyle(gd).display;\n",
       "        if (!display || display === 'none') {{\n",
       "            console.log([gd, 'removed!']);\n",
       "            Plotly.purge(gd);\n",
       "            observer.disconnect();\n",
       "        }}\n",
       "}});\n",
       "\n",
       "// Listen for the removal of the full notebook cells\n",
       "var notebookContainer = gd.closest('#notebook-container');\n",
       "if (notebookContainer) {{\n",
       "    x.observe(notebookContainer, {childList: true});\n",
       "}}\n",
       "\n",
       "// Listen for the clearing of the current output cell\n",
       "var outputEl = gd.closest('.output');\n",
       "if (outputEl) {{\n",
       "    x.observe(outputEl, {childList: true});\n",
       "}}\n",
       "\n",
       "                        })\n",
       "                };\n",
       "                });\n",
       "            </script>\n",
       "        </div>"
      ]
     },
     "metadata": {},
     "output_type": "display_data"
    }
   ],
   "source": [
    "rm = 'bioweapon'\n",
    "wk = 10\n",
    "fig = plot_rumor(rm, wk, weekly_rumors[rm][wk], act_mapping, centres)\n",
    "fig"
   ]
  },
  {
   "cell_type": "code",
   "execution_count": 26,
   "metadata": {},
   "outputs": [
    {
     "data": {
      "application/vnd.plotly.v1+json": {
       "config": {
        "plotlyServerURL": "https://plot.ly"
       },
       "data": [
        {
         "hoverinfo": "none",
         "line": {
          "color": "black",
          "width": 2
         },
         "mode": "lines",
         "opacity": 1,
         "type": "scatter",
         "x": [
          -0.3313708576488317,
          0.0015038187875087074,
          null
         ],
         "y": [
          0.22149037837065588,
          0.21416903338571275,
          null
         ]
        },
        {
         "hoverinfo": "none",
         "line": {
          "color": "black",
          "width": 2
         },
         "mode": "lines",
         "opacity": 1,
         "type": "scatter",
         "x": [
          0.0015038187875087074,
          0.4717058970854199,
          null
         ],
         "y": [
          0.21416903338571275,
          -0.2331519072324582,
          null
         ]
        },
        {
         "hoverinfo": "none",
         "line": {
          "color": "black",
          "width": 2
         },
         "mode": "lines",
         "opacity": 1,
         "type": "scatter",
         "x": [
          0.4717058970854199,
          1,
          null
         ],
         "y": [
          -0.2331519072324582,
          -0.4466832547541534,
          null
         ]
        },
        {
         "hoverinfo": "text",
         "marker": {
          "color": "grey",
          "opacity": 0
         },
         "mode": "markers",
         "text": [
          "",
          "",
          ""
         ],
         "type": "scatter",
         "x": [
          -0.16493351943066148,
          0.2366048579364643,
          0.7358529485427099
         ],
         "y": [
          0.21782970587818432,
          -0.009491436923372731,
          -0.3399175809933058
         ]
        },
        {
         "hoverinfo": "none",
         "line": {
          "color": "purple",
          "width": 2
         },
         "mode": "lines",
         "opacity": 1,
         "type": "scatter",
         "x": [
          -0.3313708576488317,
          -0.22811458059774026,
          null
         ],
         "y": [
          0.22149037837065588,
          -0.02312388925706436,
          null
         ]
        },
        {
         "hoverinfo": "none",
         "line": {
          "color": "purple",
          "width": 2
         },
         "mode": "lines",
         "opacity": 1,
         "type": "scatter",
         "x": [
          -0.22811458059774026,
          -0.4126600447558474,
          null
         ],
         "y": [
          -0.02312388925706436,
          0.42649483453922404,
          null
         ]
        },
        {
         "hoverinfo": "none",
         "line": {
          "color": "purple",
          "width": 2
         },
         "mode": "lines",
         "opacity": 1,
         "type": "scatter",
         "x": [
          -0.4126600447558474,
          0.0015038187875087074,
          null
         ],
         "y": [
          0.42649483453922404,
          0.21416903338571275,
          null
         ]
        },
        {
         "hoverinfo": "none",
         "line": {
          "color": "purple",
          "width": 2
         },
         "mode": "lines",
         "opacity": 1,
         "type": "scatter",
         "x": [
          0.0015038187875087074,
          0.4717058970854199,
          null
         ],
         "y": [
          0.21416903338571275,
          -0.2331519072324582,
          null
         ]
        },
        {
         "hoverinfo": "none",
         "line": {
          "color": "purple",
          "width": 2
         },
         "mode": "lines",
         "opacity": 1,
         "type": "scatter",
         "x": [
          0.4717058970854199,
          1,
          null
         ],
         "y": [
          -0.2331519072324582,
          -0.4466832547541534,
          null
         ]
        },
        {
         "hoverinfo": "text",
         "marker": {
          "color": "grey",
          "opacity": 0
         },
         "mode": "markers",
         "text": [
          "",
          "",
          "",
          "",
          ""
         ],
         "type": "scatter",
         "x": [
          -0.27974271912328597,
          -0.3203873126767938,
          -0.20557811298416934,
          0.2366048579364643,
          0.7358529485427099
         ],
         "y": [
          0.09918324455679577,
          0.20168547264107983,
          0.3203319339624684,
          -0.009491436923372731,
          -0.3399175809933058
         ]
        },
        {
         "hoverinfo": "none",
         "line": {
          "color": "green",
          "width": 2
         },
         "mode": "lines",
         "opacity": 1,
         "type": "scatter",
         "x": [
          -0.3313708576488317,
          0.0015038187875087074,
          null
         ],
         "y": [
          0.22149037837065588,
          0.21416903338571275,
          null
         ]
        },
        {
         "hoverinfo": "none",
         "line": {
          "color": "green",
          "width": 2
         },
         "mode": "lines",
         "opacity": 1,
         "type": "scatter",
         "x": [
          0.0015038187875087074,
          0.5063352857543862,
          null
         ],
         "y": [
          0.21416903338571275,
          0.19908679503774634,
          null
         ]
        },
        {
         "hoverinfo": "none",
         "line": {
          "color": "green",
          "width": 2
         },
         "mode": "lines",
         "opacity": 1,
         "type": "scatter",
         "x": [
          0.5063352857543862,
          0.4717058970854199,
          null
         ],
         "y": [
          0.19908679503774634,
          -0.2331519072324582,
          null
         ]
        },
        {
         "hoverinfo": "none",
         "line": {
          "color": "green",
          "width": 2
         },
         "mode": "lines",
         "opacity": 1,
         "type": "scatter",
         "x": [
          0.4717058970854199,
          1,
          null
         ],
         "y": [
          -0.2331519072324582,
          -0.4466832547541534,
          null
         ]
        },
        {
         "hoverinfo": "text",
         "marker": {
          "color": "grey",
          "opacity": 0
         },
         "mode": "markers",
         "text": [
          "",
          "",
          "",
          ""
         ],
         "type": "scatter",
         "x": [
          -0.16493351943066148,
          0.2539195522709475,
          0.48902059141990306,
          0.7358529485427099
         ],
         "y": [
          0.21782970587818432,
          0.20662791421172955,
          -0.017032556097355933,
          -0.3399175809933058
         ]
        },
        {
         "hoverinfo": "none",
         "line": {
          "color": "black",
          "width": 2
         },
         "mode": "lines",
         "opacity": 1,
         "type": "scatter",
         "x": [
          -0.002125286025297636,
          0.05609227146961643,
          null
         ],
         "y": [
          0.007357544410729826,
          -0.23666050732903937,
          null
         ]
        },
        {
         "hoverinfo": "none",
         "line": {
          "color": "black",
          "width": 2
         },
         "mode": "lines",
         "opacity": 1,
         "type": "scatter",
         "x": [
          0.05609227146961643,
          0.4717058970854199,
          null
         ],
         "y": [
          -0.23666050732903937,
          -0.2331519072324582,
          null
         ]
        },
        {
         "hoverinfo": "none",
         "line": {
          "color": "black",
          "width": 2
         },
         "mode": "lines",
         "opacity": 1,
         "type": "scatter",
         "x": [
          0.4717058970854199,
          1,
          null
         ],
         "y": [
          -0.2331519072324582,
          -0.4466832547541534,
          null
         ]
        },
        {
         "hoverinfo": "text",
         "marker": {
          "color": "grey",
          "opacity": 0
         },
         "mode": "markers",
         "text": [
          "",
          "",
          ""
         ],
         "type": "scatter",
         "x": [
          0.026983492722159396,
          0.2638990842775182,
          0.7358529485427099
         ],
         "y": [
          -0.11465148145915477,
          -0.2349062072807488,
          -0.3399175809933058
         ]
        },
        {
         "hoverinfo": "none",
         "line": {
          "color": "purple",
          "width": 2
         },
         "mode": "lines",
         "opacity": 1,
         "type": "scatter",
         "x": [
          -0.002125286025297636,
          -0.23720751818190972,
          null
         ],
         "y": [
          0.007357544410729826,
          -0.49336649147758943,
          null
         ]
        },
        {
         "hoverinfo": "none",
         "line": {
          "color": "purple",
          "width": 2
         },
         "mode": "lines",
         "opacity": 1,
         "type": "scatter",
         "x": [
          -0.23720751818190972,
          -0.13845791525174758,
          null
         ],
         "y": [
          -0.49336649147758943,
          -0.1780513262231826,
          null
         ]
        },
        {
         "hoverinfo": "none",
         "line": {
          "color": "purple",
          "width": 2
         },
         "mode": "lines",
         "opacity": 1,
         "type": "scatter",
         "x": [
          -0.13845791525174758,
          0.15251749678767937,
          null
         ],
         "y": [
          -0.1780513262231826,
          -0.5817087818374858,
          null
         ]
        },
        {
         "hoverinfo": "none",
         "line": {
          "color": "purple",
          "width": 2
         },
         "mode": "lines",
         "opacity": 1,
         "type": "scatter",
         "x": [
          0.15251749678767937,
          0.4717058970854199,
          null
         ],
         "y": [
          -0.5817087818374858,
          -0.2331519072324582,
          null
         ]
        },
        {
         "hoverinfo": "none",
         "line": {
          "color": "purple",
          "width": 2
         },
         "mode": "lines",
         "opacity": 1,
         "type": "scatter",
         "x": [
          0.4717058970854199,
          1,
          null
         ],
         "y": [
          -0.2331519072324582,
          -0.4466832547541534,
          null
         ]
        },
        {
         "hoverinfo": "text",
         "marker": {
          "color": "grey",
          "opacity": 0
         },
         "mode": "markers",
         "text": [
          "",
          "",
          "",
          "",
          ""
         ],
         "type": "scatter",
         "x": [
          -0.11966640210360367,
          -0.18783271671682866,
          0.007029790767965893,
          0.3121116969365496,
          0.7358529485427099
         ],
         "y": [
          -0.2430044735334298,
          -0.335708908850386,
          -0.3798800540303342,
          -0.40743034453497196,
          -0.3399175809933058
         ]
        },
        {
         "hoverinfo": "none",
         "line": {
          "color": "green",
          "width": 2
         },
         "mode": "lines",
         "opacity": 1,
         "type": "scatter",
         "x": [
          -0.002125286025297636,
          0.25408454023893323,
          null
         ],
         "y": [
          0.007357544410729826,
          -0.3176096256374583,
          null
         ]
        },
        {
         "hoverinfo": "none",
         "line": {
          "color": "green",
          "width": 2
         },
         "mode": "lines",
         "opacity": 1,
         "type": "scatter",
         "x": [
          0.25408454023893323,
          0.4717058970854199,
          null
         ],
         "y": [
          -0.3176096256374583,
          -0.2331519072324582,
          null
         ]
        },
        {
         "hoverinfo": "none",
         "line": {
          "color": "green",
          "width": 2
         },
         "mode": "lines",
         "opacity": 1,
         "type": "scatter",
         "x": [
          0.4717058970854199,
          1,
          null
         ],
         "y": [
          -0.2331519072324582,
          -0.4466832547541534,
          null
         ]
        },
        {
         "hoverinfo": "text",
         "marker": {
          "color": "grey",
          "opacity": 0
         },
         "mode": "markers",
         "text": [
          "",
          "",
          ""
         ],
         "type": "scatter",
         "x": [
          0.1259796271068178,
          0.36289521866217656,
          0.7358529485427099
         ],
         "y": [
          -0.15512604061336424,
          -0.27538076643495824,
          -0.3399175809933058
         ]
        },
        {
         "hoverinfo": "none",
         "line": {
          "color": "black",
          "width": 2
         },
         "mode": "lines",
         "opacity": 1,
         "type": "scatter",
         "x": [
          0.035856272575065615,
          0.20818170201671332,
          null
         ],
         "y": [
          0.553994980042004,
          0.16171788277103075,
          null
         ]
        },
        {
         "hoverinfo": "none",
         "line": {
          "color": "black",
          "width": 2
         },
         "mode": "lines",
         "opacity": 1,
         "type": "scatter",
         "x": [
          0.20818170201671332,
          0.5063352857543862,
          null
         ],
         "y": [
          0.16171788277103075,
          0.19908679503774634,
          null
         ]
        },
        {
         "hoverinfo": "none",
         "line": {
          "color": "black",
          "width": 2
         },
         "mode": "lines",
         "opacity": 1,
         "type": "scatter",
         "x": [
          0.5063352857543862,
          0.4717058970854199,
          null
         ],
         "y": [
          0.19908679503774634,
          -0.2331519072324582,
          null
         ]
        },
        {
         "hoverinfo": "none",
         "line": {
          "color": "black",
          "width": 2
         },
         "mode": "lines",
         "opacity": 1,
         "type": "scatter",
         "x": [
          0.4717058970854199,
          1,
          null
         ],
         "y": [
          -0.2331519072324582,
          -0.4466832547541534,
          null
         ]
        },
        {
         "hoverinfo": "text",
         "marker": {
          "color": "grey",
          "opacity": 0
         },
         "mode": "markers",
         "text": [
          "",
          "",
          "",
          ""
         ],
         "type": "scatter",
         "x": [
          0.12201898729588948,
          0.35725849388554975,
          0.48902059141990306,
          0.7358529485427099
         ],
         "y": [
          0.35785643140651735,
          0.18040233890438856,
          -0.017032556097355933,
          -0.3399175809933058
         ]
        },
        {
         "hoverinfo": "none",
         "line": {
          "color": "purple",
          "width": 2
         },
         "mode": "lines",
         "opacity": 1,
         "type": "scatter",
         "x": [
          0.035856272575065615,
          0.20818170201671332,
          null
         ],
         "y": [
          0.553994980042004,
          0.16171788277103075,
          null
         ]
        },
        {
         "hoverinfo": "none",
         "line": {
          "color": "purple",
          "width": 2
         },
         "mode": "lines",
         "opacity": 1,
         "type": "scatter",
         "x": [
          0.20818170201671332,
          -0.1937996796167162,
          null
         ],
         "y": [
          0.16171788277103075,
          0.13524224898313986,
          null
         ]
        },
        {
         "hoverinfo": "none",
         "line": {
          "color": "purple",
          "width": 2
         },
         "mode": "lines",
         "opacity": 1,
         "type": "scatter",
         "x": [
          -0.1937996796167162,
          0.0015038187875087074,
          null
         ],
         "y": [
          0.13524224898313986,
          0.21416903338571275,
          null
         ]
        },
        {
         "hoverinfo": "none",
         "line": {
          "color": "purple",
          "width": 2
         },
         "mode": "lines",
         "opacity": 1,
         "type": "scatter",
         "x": [
          0.0015038187875087074,
          0.4717058970854199,
          null
         ],
         "y": [
          0.21416903338571275,
          -0.2331519072324582,
          null
         ]
        },
        {
         "hoverinfo": "none",
         "line": {
          "color": "purple",
          "width": 2
         },
         "mode": "lines",
         "opacity": 1,
         "type": "scatter",
         "x": [
          0.4717058970854199,
          1,
          null
         ],
         "y": [
          -0.2331519072324582,
          -0.4466832547541534,
          null
         ]
        },
        {
         "hoverinfo": "text",
         "marker": {
          "color": "grey",
          "opacity": 0
         },
         "mode": "markers",
         "text": [
          "",
          "",
          "",
          "",
          ""
         ],
         "type": "scatter",
         "x": [
          0.12201898729588948,
          0.0071910111999985565,
          -0.09614793041460375,
          0.2366048579364643,
          0.7358529485427099
         ],
         "y": [
          0.35785643140651735,
          0.1484800658770853,
          0.1747056411844263,
          -0.009491436923372731,
          -0.3399175809933058
         ]
        },
        {
         "hoverinfo": "none",
         "line": {
          "color": "green",
          "width": 2
         },
         "mode": "lines",
         "opacity": 1,
         "type": "scatter",
         "x": [
          0.035856272575065615,
          0.05038560391031897,
          null
         ],
         "y": [
          0.553994980042004,
          0.11602542311367249,
          null
         ]
        },
        {
         "hoverinfo": "none",
         "line": {
          "color": "green",
          "width": 2
         },
         "mode": "lines",
         "opacity": 1,
         "type": "scatter",
         "x": [
          0.05038560391031897,
          -0.05700922552589907,
          null
         ],
         "y": [
          0.11602542311367249,
          -0.07647988227229871,
          null
         ]
        },
        {
         "hoverinfo": "none",
         "line": {
          "color": "green",
          "width": 2
         },
         "mode": "lines",
         "opacity": 1,
         "type": "scatter",
         "x": [
          -0.05700922552589907,
          0.4717058970854199,
          null
         ],
         "y": [
          -0.07647988227229871,
          -0.2331519072324582,
          null
         ]
        },
        {
         "hoverinfo": "none",
         "line": {
          "color": "green",
          "width": 2
         },
         "mode": "lines",
         "opacity": 1,
         "type": "scatter",
         "x": [
          0.4717058970854199,
          1,
          null
         ],
         "y": [
          -0.2331519072324582,
          -0.4466832547541534,
          null
         ]
        },
        {
         "hoverinfo": "text",
         "marker": {
          "color": "grey",
          "opacity": 0
         },
         "mode": "markers",
         "text": [
          "",
          "",
          "",
          ""
         ],
         "type": "scatter",
         "x": [
          0.043120938242692294,
          -0.003311810807790052,
          0.20734833577976042,
          0.7358529485427099
         ],
         "y": [
          0.33501020157783823,
          0.01977277042068689,
          -0.15481589475237845,
          -0.3399175809933058
         ]
        },
        {
         "hoverinfo": "none",
         "line": {
          "color": "orange",
          "width": 27.34503710910827
         },
         "mode": "lines",
         "opacity": 0.2,
         "type": "scatter",
         "x": [
          0.15251749678767937,
          -0.13845791525174758,
          null
         ],
         "y": [
          -0.5817087818374858,
          -0.1780513262231826,
          null
         ]
        },
        {
         "hoverinfo": "none",
         "line": {
          "color": "orange",
          "width": 14.247882699457696
         },
         "mode": "lines",
         "opacity": 0.2,
         "type": "scatter",
         "x": [
          0.15251749678767937,
          0.4717058970854199,
          null
         ],
         "y": [
          -0.5817087818374858,
          -0.2331519072324582,
          null
         ]
        },
        {
         "hoverinfo": "none",
         "line": {
          "color": "red",
          "width": 16.445107276793916
         },
         "mode": "lines",
         "opacity": 0.2,
         "type": "scatter",
         "x": [
          -0.4126600447558474,
          -0.1190839073877582,
          null
         ],
         "y": [
          0.42649483453922404,
          0.21105585379833822,
          null
         ]
        },
        {
         "hoverinfo": "none",
         "line": {
          "color": "orange",
          "width": 15.058812915674025
         },
         "mode": "lines",
         "opacity": 0.2,
         "type": "scatter",
         "x": [
          -0.4126600447558474,
          -0.22811458059774026,
          null
         ],
         "y": [
          0.42649483453922404,
          -0.02312388925706436,
          null
         ]
        },
        {
         "hoverinfo": "none",
         "line": {
          "color": "red",
          "width": 15.058812915674025
         },
         "mode": "lines",
         "opacity": 0.2,
         "type": "scatter",
         "x": [
          -0.4126600447558474,
          0.0015038187875087074,
          null
         ],
         "y": [
          0.42649483453922404,
          0.21416903338571275,
          null
         ]
        },
        {
         "hoverinfo": "none",
         "line": {
          "color": "yellow",
          "width": 16.445107276793916
         },
         "mode": "lines",
         "opacity": 0.2,
         "type": "scatter",
         "x": [
          0.05609227146961643,
          0.20818170201671332,
          null
         ],
         "y": [
          -0.23666050732903937,
          0.16171788277103075,
          null
         ]
        },
        {
         "hoverinfo": "none",
         "line": {
          "color": "green",
          "width": 27.92040125401183
         },
         "mode": "lines",
         "opacity": 0.2,
         "type": "scatter",
         "x": [
          0.05609227146961643,
          -0.22811458059774026,
          null
         ],
         "y": [
          -0.23666050732903937,
          -0.02312388925706436,
          null
         ]
        },
        {
         "hoverinfo": "none",
         "line": {
          "color": "yellow",
          "width": 25.06616854273154
         },
         "mode": "lines",
         "opacity": 0.2,
         "type": "scatter",
         "x": [
          0.05609227146961643,
          -0.002125286025297636,
          null
         ],
         "y": [
          -0.23666050732903937,
          0.007357544410729826,
          null
         ]
        },
        {
         "hoverinfo": "none",
         "line": {
          "color": "yellow",
          "width": 11.475293977217914
         },
         "mode": "lines",
         "opacity": 0.2,
         "type": "scatter",
         "x": [
          0.05609227146961643,
          0.4717058970854199,
          null
         ],
         "y": [
          -0.23666050732903937,
          -0.2331519072324582,
          null
         ]
        },
        {
         "hoverinfo": "none",
         "line": {
          "color": "orange",
          "width": 5.450770826207512
         },
         "mode": "lines",
         "opacity": 0.2,
         "type": "scatter",
         "x": [
          0.05609227146961643,
          -0.4709531077896626,
          null
         ],
         "y": [
          -0.23666050732903937,
          -0.24605162721926088,
          null
         ]
        },
        {
         "hoverinfo": "none",
         "line": {
          "color": "yellow",
          "width": 90.71047026016217
         },
         "mode": "lines",
         "opacity": 0.2,
         "type": "scatter",
         "x": [
          0.20818170201671332,
          -0.002125286025297636,
          null
         ],
         "y": [
          0.16171788277103075,
          0.007357544410729826,
          null
         ]
        },
        {
         "hoverinfo": "none",
         "line": {
          "color": "orange",
          "width": 9.642712513469604
         },
         "mode": "lines",
         "opacity": 0.2,
         "type": "scatter",
         "x": [
          0.20818170201671332,
          0.035856272575065615,
          null
         ],
         "y": [
          0.16171788277103075,
          0.553994980042004,
          null
         ]
        },
        {
         "hoverinfo": "none",
         "line": {
          "color": "yellow",
          "width": 13.672518554554134
         },
         "mode": "lines",
         "opacity": 0.2,
         "type": "scatter",
         "x": [
          0.20818170201671332,
          0.5063352857543862,
          null
         ],
         "y": [
          0.16171788277103075,
          0.19908679503774634,
          null
         ]
        },
        {
         "hoverinfo": "none",
         "line": {
          "color": "red",
          "width": 15.058812915674025
         },
         "mode": "lines",
         "opacity": 0.2,
         "type": "scatter",
         "x": [
          0.20818170201671332,
          -0.1937996796167162,
          null
         ],
         "y": [
          0.16171788277103075,
          0.13524224898313986,
          null
         ]
        },
        {
         "hoverinfo": "none",
         "line": {
          "color": "yellow",
          "width": 28.495765398915392
         },
         "mode": "lines",
         "opacity": 0.2,
         "type": "scatter",
         "x": [
          0.24211994379070867,
          0.05038560391031897,
          null
         ],
         "y": [
          -0.06874794424428939,
          0.11602542311367249,
          null
         ]
        },
        {
         "hoverinfo": "none",
         "line": {
          "color": "yellow",
          "width": 50.319200975048176
         },
         "mode": "lines",
         "opacity": 0.2,
         "type": "scatter",
         "x": [
          0.24211994379070867,
          -0.002125286025297636,
          null
         ],
         "y": [
          -0.06874794424428939,
          0.007357544410729826,
          null
         ]
        },
        {
         "hoverinfo": "none",
         "line": {
          "color": "yellow",
          "width": 39.45203698516314
         },
         "mode": "lines",
         "opacity": 0.2,
         "type": "scatter",
         "x": [
          0.24211994379070867,
          -0.05700922552589907,
          null
         ],
         "y": [
          -0.06874794424428939,
          -0.07647988227229871,
          null
         ]
        },
        {
         "hoverinfo": "none",
         "line": {
          "color": "green",
          "width": 10.899929832314353
         },
         "mode": "lines",
         "opacity": 0.2,
         "type": "scatter",
         "x": [
          0.24211994379070867,
          0.4717058970854199,
          null
         ],
         "y": [
          -0.06874794424428939,
          -0.2331519072324582,
          null
         ]
        },
        {
         "hoverinfo": "none",
         "line": {
          "color": "yellow",
          "width": 70.89961542369768
         },
         "mode": "lines",
         "opacity": 0.2,
         "type": "scatter",
         "x": [
          -0.05700922552589907,
          -0.22811458059774026,
          null
         ],
         "y": [
          -0.07647988227229871,
          -0.02312388925706436,
          null
         ]
        },
        {
         "hoverinfo": "none",
         "line": {
          "color": "yellow",
          "width": 24.42200154439331
         },
         "mode": "lines",
         "opacity": 0.2,
         "type": "scatter",
         "x": [
          -0.05700922552589907,
          0.05038560391031897,
          null
         ],
         "y": [
          -0.07647988227229871,
          0.11602542311367249,
          null
         ]
        },
        {
         "hoverinfo": "none",
         "line": {
          "color": "green",
          "width": 22.375223809532265
         },
         "mode": "lines",
         "opacity": 0.2,
         "type": "scatter",
         "x": [
          -0.05700922552589907,
          0.0015038187875087074,
          null
         ],
         "y": [
          -0.07647988227229871,
          0.21416903338571275,
          null
         ]
        },
        {
         "hoverinfo": "none",
         "line": {
          "color": "yellow",
          "width": 20.767300715731796
         },
         "mode": "lines",
         "opacity": 0.2,
         "type": "scatter",
         "x": [
          -0.05700922552589907,
          -0.002125286025297636,
          null
         ],
         "y": [
          -0.07647988227229871,
          0.007357544410729826,
          null
         ]
        },
        {
         "hoverinfo": "none",
         "line": {
          "color": "red",
          "width": 12.286224193434244
         },
         "mode": "lines",
         "opacity": 0.2,
         "type": "scatter",
         "x": [
          -0.05700922552589907,
          -0.1937996796167162,
          null
         ],
         "y": [
          -0.07647988227229871,
          0.13524224898313986,
          null
         ]
        },
        {
         "hoverinfo": "none",
         "line": {
          "color": "yellow",
          "width": 11.315208561870842
         },
         "mode": "lines",
         "opacity": 0.2,
         "type": "scatter",
         "x": [
          -0.05700922552589907,
          -0.5938487163714908,
          null
         ],
         "y": [
          -0.07647988227229871,
          -0.08708675200384342,
          null
         ]
        },
        {
         "hoverinfo": "none",
         "line": {
          "color": "green",
          "width": 11.839937090805824
         },
         "mode": "lines",
         "opacity": 0.2,
         "type": "scatter",
         "x": [
          -0.05700922552589907,
          -0.13845791525174758,
          null
         ],
         "y": [
          -0.07647988227229871,
          -0.1780513262231826,
          null
         ]
        },
        {
         "hoverinfo": "none",
         "line": {
          "color": "green",
          "width": 9.710515616820967
         },
         "mode": "lines",
         "opacity": 0.2,
         "type": "scatter",
         "x": [
          -0.05700922552589907,
          0.4717058970854199,
          null
         ],
         "y": [
          -0.07647988227229871,
          -0.2331519072324582,
          null
         ]
        },
        {
         "hoverinfo": "none",
         "line": {
          "color": "yellow",
          "width": 21.404208177968865
         },
         "mode": "lines",
         "opacity": 0.2,
         "type": "scatter",
         "x": [
          -0.002125286025297636,
          0.25408454023893323,
          null
         ],
         "y": [
          0.007357544410729826,
          -0.3176096256374583,
          null
         ]
        },
        {
         "hoverinfo": "none",
         "line": {
          "color": "yellow",
          "width": 68.7056157865926
         },
         "mode": "lines",
         "opacity": 0.2,
         "type": "scatter",
         "x": [
          -0.002125286025297636,
          -0.1937996796167162,
          null
         ],
         "y": [
          0.007357544410729826,
          0.13524224898313986,
          null
         ]
        },
        {
         "hoverinfo": "none",
         "line": {
          "color": "yellow",
          "width": 119.45001529429562
         },
         "mode": "lines",
         "opacity": 0.2,
         "type": "scatter",
         "x": [
          -0.002125286025297636,
          0.05038560391031897,
          null
         ],
         "y": [
          0.007357544410729826,
          0.11602542311367249,
          null
         ]
        },
        {
         "hoverinfo": "none",
         "line": {
          "color": "yellow",
          "width": 112.25696916095089
         },
         "mode": "lines",
         "opacity": 0.2,
         "type": "scatter",
         "x": [
          -0.002125286025297636,
          -0.1190839073877582,
          null
         ],
         "y": [
          0.007357544410729826,
          0.21105585379833822,
          null
         ]
        },
        {
         "hoverinfo": "none",
         "line": {
          "color": "orange",
          "width": 16.445107276793916
         },
         "mode": "lines",
         "opacity": 0.2,
         "type": "scatter",
         "x": [
          -0.002125286025297636,
          -0.23720751818190972,
          null
         ],
         "y": [
          0.007357544410729826,
          -0.49336649147758943,
          null
         ]
        },
        {
         "hoverinfo": "none",
         "line": {
          "color": "yellow",
          "width": 5.450770826207512
         },
         "mode": "lines",
         "opacity": 0.2,
         "type": "scatter",
         "x": [
          -0.002125286025297636,
          -0.4709531077896626,
          null
         ],
         "y": [
          0.007357544410729826,
          -0.24605162721926088,
          null
         ]
        },
        {
         "hoverinfo": "none",
         "line": {
          "color": "green",
          "width": 32.89021455358783
         },
         "mode": "lines",
         "opacity": 0.2,
         "type": "scatter",
         "x": [
          -0.002125286025297636,
          -0.13845791525174758,
          null
         ],
         "y": [
          0.007357544410729826,
          -0.1780513262231826,
          null
         ]
        },
        {
         "hoverinfo": "none",
         "line": {
          "color": "green",
          "width": 38.16832921281835
         },
         "mode": "lines",
         "opacity": 0.2,
         "type": "scatter",
         "x": [
          -0.002125286025297636,
          -0.22811458059774026,
          null
         ],
         "y": [
          0.007357544410729826,
          -0.02312388925706436,
          null
         ]
        },
        {
         "hoverinfo": "none",
         "line": {
          "color": "green",
          "width": 15.058812915674025
         },
         "mode": "lines",
         "opacity": 0.2,
         "type": "scatter",
         "x": [
          -0.002125286025297636,
          0.0015038187875087074,
          null
         ],
         "y": [
          0.007357544410729826,
          0.21416903338571275,
          null
         ]
        },
        {
         "hoverinfo": "none",
         "line": {
          "color": "yellow",
          "width": 12.861588338337805
         },
         "mode": "lines",
         "opacity": 0.2,
         "type": "scatter",
         "x": [
          0.035856272575065615,
          0.05038560391031897,
          null
         ],
         "y": [
          0.553994980042004,
          0.11602542311367249,
          null
         ]
        },
        {
         "hoverinfo": "none",
         "line": {
          "color": "yellow",
          "width": 30.69298997625161
         },
         "mode": "lines",
         "opacity": 0.2,
         "type": "scatter",
         "x": [
          0.035856272575065615,
          -0.1190839073877582,
          null
         ],
         "y": [
          0.553994980042004,
          0.21105585379833822,
          null
         ]
        },
        {
         "hoverinfo": "none",
         "line": {
          "color": "yellow",
          "width": 14.247882699457696
         },
         "mode": "lines",
         "opacity": 0.2,
         "type": "scatter",
         "x": [
          0.035856272575065615,
          -0.1941519932634471,
          null
         ],
         "y": [
          0.553994980042004,
          0.7420870150358696,
          null
         ]
        },
        {
         "hoverinfo": "none",
         "line": {
          "color": "yellow",
          "width": 12.286224193434244
         },
         "mode": "lines",
         "opacity": 0.2,
         "type": "scatter",
         "x": [
          -0.5938487163714908,
          -0.3313708576488317,
          null
         ],
         "y": [
          -0.08708675200384342,
          0.22149037837065588,
          null
         ]
        },
        {
         "hoverinfo": "none",
         "line": {
          "color": "green",
          "width": 16.445107276793916
         },
         "mode": "lines",
         "opacity": 0.2,
         "type": "scatter",
         "x": [
          -0.5938487163714908,
          -0.13845791525174758,
          null
         ],
         "y": [
          -0.08708675200384342,
          -0.1780513262231826,
          null
         ]
        },
        {
         "hoverinfo": "none",
         "line": {
          "color": "orange",
          "width": 16.445107276793916
         },
         "mode": "lines",
         "opacity": 0.2,
         "type": "scatter",
         "x": [
          -0.13845791525174758,
          0.25408454023893323,
          null
         ],
         "y": [
          -0.1780513262231826,
          -0.3176096256374583,
          null
         ]
        },
        {
         "hoverinfo": "none",
         "line": {
          "color": "red",
          "width": 11.315208561870842
         },
         "mode": "lines",
         "opacity": 0.2,
         "type": "scatter",
         "x": [
          -0.13845791525174758,
          0.05038560391031897,
          null
         ],
         "y": [
          -0.1780513262231826,
          0.11602542311367249,
          null
         ]
        },
        {
         "hoverinfo": "none",
         "line": {
          "color": "orange",
          "width": 27.34503710910827
         },
         "mode": "lines",
         "opacity": 0.2,
         "type": "scatter",
         "x": [
          -0.13845791525174758,
          -0.23720751818190972,
          null
         ],
         "y": [
          -0.1780513262231826,
          -0.49336649147758943,
          null
         ]
        },
        {
         "hoverinfo": "none",
         "line": {
          "color": "green",
          "width": 26.801169678140987
         },
         "mode": "lines",
         "opacity": 0.2,
         "type": "scatter",
         "x": [
          -0.13845791525174758,
          -0.1937996796167162,
          null
         ],
         "y": [
          -0.1780513262231826,
          0.13524224898313986,
          null
         ]
        },
        {
         "hoverinfo": "none",
         "line": {
          "color": "orange",
          "width": 16.445107276793916
         },
         "mode": "lines",
         "opacity": 0.2,
         "type": "scatter",
         "x": [
          -0.13845791525174758,
          0.0015038187875087074,
          null
         ],
         "y": [
          -0.1780513262231826,
          0.21416903338571275,
          null
         ]
        },
        {
         "hoverinfo": "none",
         "line": {
          "color": "black",
          "width": 36.561563191656454
         },
         "mode": "lines",
         "opacity": 0.2,
         "type": "scatter",
         "x": [
          -0.13845791525174758,
          -0.1190839073877582,
          null
         ],
         "y": [
          -0.1780513262231826,
          0.21105585379833822,
          null
         ]
        },
        {
         "hoverinfo": "none",
         "line": {
          "color": "yellow",
          "width": 16.445107276793916
         },
         "mode": "lines",
         "opacity": 0.2,
         "type": "scatter",
         "x": [
          -0.13845791525174758,
          -0.13845791525174758,
          null
         ],
         "y": [
          -0.1780513262231826,
          -0.1780513262231826,
          null
         ]
        },
        {
         "hoverinfo": "none",
         "line": {
          "color": "green",
          "width": 40.22756804718067
         },
         "mode": "lines",
         "opacity": 0.2,
         "type": "scatter",
         "x": [
          -0.13845791525174758,
          -0.22811458059774026,
          null
         ],
         "y": [
          -0.1780513262231826,
          -0.02312388925706436,
          null
         ]
        },
        {
         "hoverinfo": "none",
         "line": {
          "color": "green",
          "width": 8.467139183665367
         },
         "mode": "lines",
         "opacity": 0.2,
         "type": "scatter",
         "x": [
          0.25408454023893323,
          0.05038560391031897,
          null
         ],
         "y": [
          -0.3176096256374583,
          0.11602542311367249,
          null
         ]
        },
        {
         "hoverinfo": "none",
         "line": {
          "color": "green",
          "width": 16.445107276793916
         },
         "mode": "lines",
         "opacity": 0.2,
         "type": "scatter",
         "x": [
          0.25408454023893323,
          0.4717058970854199,
          null
         ],
         "y": [
          -0.3176096256374583,
          -0.2331519072324582,
          null
         ]
        },
        {
         "hoverinfo": "none",
         "line": {
          "color": "yellow",
          "width": 25.72317667667561
         },
         "mode": "lines",
         "opacity": 0.2,
         "type": "scatter",
         "x": [
          0.0015038187875087074,
          -0.3313708576488317,
          null
         ],
         "y": [
          0.21416903338571275,
          0.22149037837065588,
          null
         ]
        },
        {
         "hoverinfo": "none",
         "line": {
          "color": "yellow",
          "width": 13.672518554554134
         },
         "mode": "lines",
         "opacity": 0.2,
         "type": "scatter",
         "x": [
          0.0015038187875087074,
          0.5063352857543862,
          null
         ],
         "y": [
          0.21416903338571275,
          0.19908679503774634,
          null
         ]
        },
        {
         "hoverinfo": "none",
         "line": {
          "color": "red",
          "width": 14.247882699457696
         },
         "mode": "lines",
         "opacity": 0.2,
         "type": "scatter",
         "x": [
          0.0015038187875087074,
          -0.1937996796167162,
          null
         ],
         "y": [
          0.21416903338571275,
          0.13524224898313986,
          null
         ]
        },
        {
         "hoverinfo": "none",
         "line": {
          "color": "orange",
          "width": 12.050658122121476
         },
         "mode": "lines",
         "opacity": 0.2,
         "type": "scatter",
         "x": [
          0.0015038187875087074,
          0.4717058970854199,
          null
         ],
         "y": [
          0.21416903338571275,
          -0.2331519072324582,
          null
         ]
        },
        {
         "hoverinfo": "none",
         "line": {
          "color": "green",
          "width": 5.450770826207512
         },
         "mode": "lines",
         "opacity": 0.2,
         "type": "scatter",
         "x": [
          0.0015038187875087074,
          -0.1941519932634471,
          null
         ],
         "y": [
          0.21416903338571275,
          0.7420870150358696,
          null
         ]
        },
        {
         "hoverinfo": "none",
         "line": {
          "color": "green",
          "width": 16.445107276793916
         },
         "mode": "lines",
         "opacity": 0.2,
         "type": "scatter",
         "x": [
          0.0015038187875087074,
          -0.22811458059774026,
          null
         ],
         "y": [
          0.21416903338571275,
          -0.02312388925706436,
          null
         ]
        },
        {
         "hoverinfo": "none",
         "line": {
          "color": "green",
          "width": 8.467139183665367
         },
         "mode": "lines",
         "opacity": 0.2,
         "type": "scatter",
         "x": [
          0.0015038187875087074,
          -0.1190839073877582,
          null
         ],
         "y": [
          0.21416903338571275,
          0.21105585379833822,
          null
         ]
        },
        {
         "hoverinfo": "none",
         "line": {
          "color": "orange",
          "width": 15.058812915674025
         },
         "mode": "lines",
         "opacity": 0.2,
         "type": "scatter",
         "x": [
          -0.3313708576488317,
          -0.22811458059774026,
          null
         ],
         "y": [
          0.22149037837065588,
          -0.02312388925706436,
          null
         ]
        },
        {
         "hoverinfo": "none",
         "line": {
          "color": "black",
          "width": 31.409513574195888
         },
         "mode": "lines",
         "opacity": 0.2,
         "type": "scatter",
         "x": [
          -0.3313708576488317,
          -0.1190839073877582,
          null
         ],
         "y": [
          0.22149037837065588,
          0.21105585379833822,
          null
         ]
        },
        {
         "hoverinfo": "none",
         "line": {
          "color": "green",
          "width": 25.23293176060964
         },
         "mode": "lines",
         "opacity": 0.2,
         "type": "scatter",
         "x": [
          -0.3313708576488317,
          0.05038560391031897,
          null
         ],
         "y": [
          0.22149037837065588,
          0.11602542311367249,
          null
         ]
        },
        {
         "hoverinfo": "none",
         "line": {
          "color": "green",
          "width": 13.226231451925715
         },
         "mode": "lines",
         "opacity": 0.2,
         "type": "scatter",
         "x": [
          -0.3313708576488317,
          -0.1937996796167162,
          null
         ],
         "y": [
          0.22149037837065588,
          0.13524224898313986,
          null
         ]
        },
        {
         "hoverinfo": "none",
         "line": {
          "color": "yellow",
          "width": 13.672518554554134
         },
         "mode": "lines",
         "opacity": 0.2,
         "type": "scatter",
         "x": [
          0.5063352857543862,
          0.4717058970854199,
          null
         ],
         "y": [
          0.19908679503774634,
          -0.2331519072324582,
          null
         ]
        },
        {
         "hoverinfo": "none",
         "line": {
          "color": "yellow",
          "width": 12.286224193434244
         },
         "mode": "lines",
         "opacity": 0.2,
         "type": "scatter",
         "x": [
          0.5063352857543862,
          0.05038560391031897,
          null
         ],
         "y": [
          0.19908679503774634,
          0.11602542311367249,
          null
         ]
        },
        {
         "hoverinfo": "none",
         "line": {
          "color": "red",
          "width": 16.445107276793916
         },
         "mode": "lines",
         "opacity": 0.2,
         "type": "scatter",
         "x": [
          1,
          0.4717058970854199,
          null
         ],
         "y": [
          -0.4466832547541534,
          -0.2331519072324582,
          null
         ]
        },
        {
         "hoverinfo": "none",
         "line": {
          "color": "yellow",
          "width": 15.058812915674025
         },
         "mode": "lines",
         "opacity": 0.2,
         "type": "scatter",
         "x": [
          -0.1937996796167162,
          0.05038560391031897,
          null
         ],
         "y": [
          0.13524224898313986,
          0.11602542311367249,
          null
         ]
        },
        {
         "hoverinfo": "none",
         "line": {
          "color": "red",
          "width": 13.641609332911244
         },
         "mode": "lines",
         "opacity": 0.2,
         "type": "scatter",
         "x": [
          -0.1937996796167162,
          -0.1941519932634471,
          null
         ],
         "y": [
          0.13524224898313986,
          0.7420870150358696,
          null
         ]
        },
        {
         "hoverinfo": "none",
         "line": {
          "color": "green",
          "width": 11.649316731197175
         },
         "mode": "lines",
         "opacity": 0.2,
         "type": "scatter",
         "x": [
          -0.1937996796167162,
          -0.4709531077896626,
          null
         ],
         "y": [
          0.13524224898313986,
          -0.24605162721926088,
          null
         ]
        },
        {
         "hoverinfo": "none",
         "line": {
          "color": "yellow",
          "width": 14.247882699457696
         },
         "mode": "lines",
         "opacity": 0.2,
         "type": "scatter",
         "x": [
          -0.1190839073877582,
          0.05038560391031897,
          null
         ],
         "y": [
          0.21105585379833822,
          0.11602542311367249,
          null
         ]
        },
        {
         "hoverinfo": "none",
         "line": {
          "color": "green",
          "width": 17.501428948328986
         },
         "mode": "lines",
         "opacity": 0.2,
         "type": "scatter",
         "x": [
          -0.1190839073877582,
          -0.22811458059774026,
          null
         ],
         "y": [
          0.21105585379833822,
          -0.02312388925706436,
          null
         ]
        },
        {
         "hoverinfo": "none",
         "line": {
          "color": "yellow",
          "width": 12.553286978683289
         },
         "mode": "lines",
         "opacity": 0.2,
         "type": "scatter",
         "x": [
          -0.22811458059774026,
          0.05038560391031897,
          null
         ],
         "y": [
          -0.02312388925706436,
          0.11602542311367249,
          null
         ]
        },
        {
         "hoverinfo": "none",
         "line": {
          "color": "yellow",
          "width": 25.414875317021092
         },
         "mode": "lines",
         "opacity": 0.2,
         "type": "scatter",
         "x": [
          -0.22811458059774026,
          -0.4709531077896626,
          null
         ],
         "y": [
          -0.02312388925706436,
          -0.24605162721926088,
          null
         ]
        },
        {
         "hoverinfo": "none",
         "line": {
          "color": "yellow",
          "width": 37.06419204821827
         },
         "mode": "lines",
         "opacity": 0.2,
         "type": "scatter",
         "x": [
          0.05038560391031897,
          0.05038560391031897,
          null
         ],
         "y": [
          0.11602542311367249,
          0.11602542311367249,
          null
         ]
        },
        {
         "hoverinfo": "text",
         "marker": {
          "color": "grey",
          "opacity": 0
         },
         "mode": "markers",
         "text": [
          "'weight': 13.672518554554134<br>'d_suspicious': 1.0<br>'colors': [0. 0. 1. 0.]",
          "'weight': 7.123941349728848<br>'d_suspicious': 1.0<br>'colors': [0. 0. 1. 0.]",
          "'weight': 8.222553638396958<br>'d_suspicious': 1.0<br>'colors': [0. 0. 0. 1.]",
          "'weight': 7.529406457837013<br>'d_suspicious': 1.0<br>'colors': [0.  0.  0.5 0.5]",
          "'weight': 7.529406457837013<br>'d_suspicious': 1.0<br>'colors': [0. 0. 0. 1.]",
          "'weight': 8.222553638396958<br>'d_suspicious': 0.0<br>'colors': [0. 1. 0. 0.]",
          "'weight': 13.960200627005914<br>'d_suspicious': 0.5<br>'colors': [0.5 0.  0.5 0. ]",
          "'weight': 12.53308427136577<br>'d_suspicious': 0.3333333333333333<br>'colors': [0.         0.66666667 0.33333333 0.        ]",
          "'weight': 5.737646988608957<br>'d_suspicious': 0.0<br>'colors': [0. 1. 0. 0.]",
          "'weight': 2.725385413103756<br>'d_suspicious': 1.0<br>'colors': [0. 0. 1. 0.]",
          "'weight': 45.355235130081084<br>'d_suspicious': 0.0<br>'colors': [0.25 0.75 0.   0.  ]",
          "'weight': 4.821356256734802<br>'d_suspicious': 1.0<br>'colors': [0. 0. 1. 0.]",
          "'weight': 6.836259277277067<br>'d_suspicious': 0.0<br>'colors': [0. 1. 0. 0.]",
          "'weight': 7.529406457837013<br>'d_suspicious': 1.0<br>'colors': [0. 0. 0. 1.]",
          "'weight': 14.247882699457696<br>'d_suspicious': 0.0<br>'colors': [0. 1. 0. 0.]",
          "'weight': 25.159600487524088<br>'d_suspicious': 0.0<br>'colors': [0.25 0.75 0.   0.  ]",
          "'weight': 19.72601849258157<br>'d_suspicious': 0.0<br>'colors': [0.25 0.75 0.   0.  ]",
          "'weight': 5.449964916157176<br>'d_suspicious': 0.0<br>'colors': [1. 0. 0. 0.]",
          "'weight': 35.44980771184884<br>'d_suspicious': 0.0<br>'colors': [0. 1. 0. 0.]",
          "'weight': 12.211000772196655<br>'d_suspicious': 0.0<br>'colors': [0. 1. 0. 0.]",
          "'weight': 11.187611904766133<br>'d_suspicious': 0.5<br>'colors': [0.5 0.  0.5 0. ]",
          "'weight': 10.383650357865898<br>'d_suspicious': 0.5<br>'colors': [0.  0.5 0.5 0. ]",
          "'weight': 6.143112096717122<br>'d_suspicious': 1.0<br>'colors': [0.   0.   0.25 0.75]",
          "'weight': 5.657604280935421<br>'d_suspicious': 0.0<br>'colors': [0. 1. 0. 0.]",
          "'weight': 5.919968545402912<br>'d_suspicious': 0.0<br>'colors': [1. 0. 0. 0.]",
          "'weight': 4.855257808410483<br>'d_suspicious': 0.0<br>'colors': [1. 0. 0. 0.]",
          "'weight': 10.702104088984433<br>'d_suspicious': 0.0<br>'colors': [0. 1. 0. 0.]",
          "'weight': 34.3528078932963<br>'d_suspicious': 0.0<br>'colors': [0. 1. 0. 0.]",
          "'weight': 59.72500764714781<br>'d_suspicious': 0.09090909090909091<br>'colors': [0.09090909 0.81818182 0.09090909 0.        ]",
          "'weight': 56.128484580475444<br>'d_suspicious': 0.125<br>'colors': [0.375 0.5   0.    0.125]",
          "'weight': 8.222553638396958<br>'d_suspicious': 1.0<br>'colors': [0. 0. 1. 0.]",
          "'weight': 2.725385413103756<br>'d_suspicious': 0.0<br>'colors': [0. 1. 0. 0.]",
          "'weight': 16.445107276793916<br>'d_suspicious': 0.0<br>'colors': [0.5 0.5 0.  0. ]",
          "'weight': 19.084164606409175<br>'d_suspicious': 0.3333333333333333<br>'colors': [0.66666667 0.         0.33333333 0.        ]",
          "'weight': 7.529406457837013<br>'d_suspicious': 0.0<br>'colors': [1. 0. 0. 0.]",
          "'weight': 6.430794169168903<br>'d_suspicious': 0.0<br>'colors': [0. 1. 0. 0.]",
          "'weight': 15.346494988125805<br>'d_suspicious': 0.5<br>'colors': [0.  0.5 0.  0.5]",
          "'weight': 7.123941349728848<br>'d_suspicious': 0.0<br>'colors': [0. 1. 0. 0.]",
          "'weight': 6.143112096717122<br>'d_suspicious': 0.0<br>'colors': [0. 1. 0. 0.]",
          "'weight': 8.222553638396958<br>'d_suspicious': 0.0<br>'colors': [1. 0. 0. 0.]",
          "'weight': 8.222553638396958<br>'d_suspicious': 1.0<br>'colors': [0. 0. 1. 0.]",
          "'weight': 5.657604280935421<br>'d_suspicious': 1.0<br>'colors': [0. 0. 0. 1.]",
          "'weight': 13.672518554554134<br>'d_suspicious': 1.0<br>'colors': [0.  0.  0.5 0.5]",
          "'weight': 13.400584839070493<br>'d_suspicious': 0.5<br>'colors': [0.5 0.  0.  0.5]",
          "'weight': 8.222553638396958<br>'d_suspicious': 1.0<br>'colors': [0. 0. 1. 0.]",
          "'weight': 18.280781595828227<br>'d_suspicious': 0.3333333333333333<br>'colors': [0.33333333 0.33333333 0.33333333 0.        ]",
          "'weight': 8.222553638396958<br>'d_suspicious': 0.0<br>'colors': [0. 1. 0. 0.]",
          "'weight': 20.113784023590334<br>'d_suspicious': 0.0<br>'colors': [1. 0. 0. 0.]",
          "'weight': 4.233569591832683<br>'d_suspicious': 0.0<br>'colors': [1. 0. 0. 0.]",
          "'weight': 8.222553638396958<br>'d_suspicious': 0.0<br>'colors': [1. 0. 0. 0.]",
          "'weight': 12.861588338337805<br>'d_suspicious': 0.0<br>'colors': [0. 1. 0. 0.]",
          "'weight': 6.836259277277067<br>'d_suspicious': 0.0<br>'colors': [0. 1. 0. 0.]",
          "'weight': 7.123941349728848<br>'d_suspicious': 1.0<br>'colors': [0. 0. 0. 1.]",
          "'weight': 6.025329061060738<br>'d_suspicious': 1.0<br>'colors': [0. 0. 1. 0.]",
          "'weight': 2.725385413103756<br>'d_suspicious': 0.0<br>'colors': [1. 0. 0. 0.]",
          "'weight': 8.222553638396958<br>'d_suspicious': 0.0<br>'colors': [1. 0. 0. 0.]",
          "'weight': 4.233569591832683<br>'d_suspicious': 0.0<br>'colors': [1. 0. 0. 0.]",
          "'weight': 7.529406457837013<br>'d_suspicious': 1.0<br>'colors': [0.  0.  0.5 0.5]",
          "'weight': 15.704756787097944<br>'d_suspicious': 0.6666666666666666<br>'colors': [0.         0.33333333 0.33333333 0.33333333]",
          "'weight': 12.61646588030482<br>'d_suspicious': 0.0<br>'colors': [0.5 0.5 0.  0. ]",
          "'weight': 6.6131157259628575<br>'d_suspicious': 0.0<br>'colors': [1. 0. 0. 0.]",
          "'weight': 6.836259277277067<br>'d_suspicious': 0.0<br>'colors': [0. 1. 0. 0.]",
          "'weight': 6.143112096717122<br>'d_suspicious': 0.0<br>'colors': [0. 1. 0. 0.]",
          "'weight': 8.222553638396958<br>'d_suspicious': 1.0<br>'colors': [0. 0. 0. 1.]",
          "'weight': 7.529406457837013<br>'d_suspicious': 0.0<br>'colors': [0. 1. 0. 0.]",
          "'weight': 6.820804666455622<br>'d_suspicious': 1.0<br>'colors': [0. 0. 0. 1.]",
          "'weight': 5.824658365598587<br>'d_suspicious': 0.0<br>'colors': [1. 0. 0. 0.]",
          "'weight': 7.123941349728848<br>'d_suspicious': 0.0<br>'colors': [0. 1. 0. 0.]",
          "'weight': 8.750714474164493<br>'d_suspicious': 0.0<br>'colors': [0.5 0.5 0.  0. ]",
          "'weight': 6.2766434893416445<br>'d_suspicious': 0.0<br>'colors': [0. 1. 0. 0.]",
          "'weight': 12.707437658510546<br>'d_suspicious': 0.0<br>'colors': [0. 1. 0. 0.]",
          "'weight': 18.532096024109133<br>'d_suspicious': 0.25<br>'colors': [0.   0.75 0.25 0.  ]"
         ],
         "type": "scatter",
         "x": [
          0.007029790767965893,
          0.3121116969365496,
          -0.2658719760718028,
          -0.3203873126767938,
          -0.20557811298416934,
          0.13213698674316487,
          -0.08601115456406191,
          0.026983492722159396,
          0.2638990842775182,
          -0.20743041816002308,
          0.10302820799570785,
          0.12201898729588948,
          0.35725849388554975,
          0.0071910111999985565,
          0.14625277385051383,
          0.11999732888270552,
          0.0925553591324048,
          0.3569129204380643,
          -0.14256190306181965,
          -0.003311810807790052,
          -0.02775270336919518,
          -0.029567255775598354,
          -0.12540445257130764,
          -0.32542897094869494,
          -0.09773357038882333,
          0.20734833577976042,
          0.1259796271068178,
          -0.09796248282100692,
          0.024130158942510666,
          -0.060604596706527916,
          -0.11966640210360367,
          -0.23653919690748013,
          -0.0702916006385226,
          -0.11511993331151894,
          -0.0003107336188944643,
          0.043120938242692294,
          -0.041613817406346294,
          -0.07914786034419075,
          -0.46260978701016126,
          -0.3661533158116192,
          0.057813312493592825,
          -0.04403615567071431,
          -0.18783271671682866,
          -0.1661287974342319,
          -0.06847704823211943,
          -0.12877091131975288,
          -0.13845791525174758,
          -0.1832862479247439,
          0.1522350720746261,
          0.36289521866217656,
          -0.16493351943066148,
          0.2539195522709475,
          -0.09614793041460375,
          0.2366048579364643,
          -0.09632408723796919,
          -0.11330538090511577,
          -0.05879004430012475,
          -0.27974271912328597,
          -0.22522738251829494,
          -0.14049262686925634,
          -0.2625852686327739,
          0.48902059141990306,
          0.2783604448323526,
          0.7358529485427099,
          -0.07170703785319862,
          -0.19397583644008165,
          -0.3323763937031894,
          -0.03434915173871962,
          -0.17359924399274923,
          -0.08886448834371065,
          -0.3495338441937014,
          0.05038560391031897
         ],
         "y": [
          -0.3798800540303342,
          -0.40743034453497196,
          0.3187753441687811,
          0.20168547264107983,
          0.3203319339624684,
          -0.03747131227900431,
          -0.12989219829305187,
          -0.11465148145915477,
          -0.2349062072807488,
          -0.24135606727415013,
          0.08453771359088029,
          0.35785643140651735,
          0.18040233890438856,
          0.1484800658770853,
          0.023638739434691552,
          -0.03069519991677978,
          -0.07261391325829405,
          -0.1509499257383738,
          -0.04980188576468154,
          0.01977277042068689,
          0.06884457555670702,
          -0.03456116893078444,
          0.029381183355420573,
          -0.08178331713807106,
          -0.12726560424774064,
          -0.15481589475237845,
          -0.15512604061336424,
          0.07129989669693484,
          0.061691483762201155,
          0.10920669910453402,
          -0.2430044735334298,
          -0.11934704140426552,
          -0.08534689090622638,
          -0.007883172423167268,
          0.11076328889822129,
          0.33501020157783823,
          0.3825254169201711,
          0.6480409975389367,
          0.06720181318340623,
          -0.132569039113513,
          -0.24783047593032045,
          -0.03101295155475505,
          -0.335708908850386,
          -0.02140453862002137,
          0.018058853581265077,
          0.01650226378757781,
          -0.1780513262231826,
          -0.10058760774012347,
          -0.10079210126189292,
          -0.27538076643495824,
          0.21782970587818432,
          0.20662791421172955,
          0.1747056411844263,
          -0.009491436923372731,
          0.47812802421079115,
          0.0955225720643242,
          0.21261244359202547,
          0.09918324455679577,
          0.21627311608449706,
          0.16875790074216418,
          0.17836631367689787,
          -0.017032556097355933,
          0.1575561090757094,
          -0.3399175809933058,
          0.12563383604840617,
          0.43866463200950473,
          -0.05540468911806051,
          0.16354063845600536,
          0.09396598227063693,
          0.04645076692830406,
          -0.13458775823816263,
          0.11602542311367249
         ]
        },
        {
         "hoverinfo": "text",
         "marker": {
          "color": [
           "yellow",
           "red",
           "yellow",
           "yellow",
           "yellow",
           "yellow",
           "yellow",
           "yellow",
           "green",
           "black",
           "black",
           "green",
           "black",
           "yellow",
           "red",
           "black",
           "black",
           "black",
           "yellow",
           "yellow",
           "black",
           "green",
           "black"
          ],
          "line": {
           "color": "rgb(50,50,50)",
           "width": 0.5
          },
          "size": 50,
          "symbol": "circle-dot"
         },
         "mode": "markers",
         "name": "net",
         "text": [
          "'name':boris<br>'df': 1862.0<br>'pop': -3.30131653972484<br>'rt': 0.5<br>'fav': 1.0<br>'color': [0.  0.5 0.5 0. ]<br>'freq': 2",
          "'name':research<br>'df': 620.6666666666666<br>'pop': -4.101787912188876<br>'rt': 0.3333333333333333<br>'fav': 0.5<br>'color': [0.         0.33333333 0.16666667 0.5       ]<br>'freq': 6",
          "'name':SUPER:face_mask|mask<br>'df': 133.0<br>'pop': -2.7637806191271825<br>'rt': 13.0<br>'fav': 24.571428571428573<br>'color': [0.17857143 0.60714286 0.21428571 0.        ]<br>'freq': 28",
          "'name':SUPER:worker|employee<br>'df': 80.95652173913044<br>'pop': -2.9849320916792283<br>'rt': 37.17391304347826<br>'fav': 64.58695652173913<br>'color': [0.36956522 0.52173913 0.08695652 0.02173913]<br>'freq': 46",
          "'name':SUPER:uk|uk_death_toll<br>'df': 86.6046511627907<br>'pop': -1.5830148393038446<br>'rt': 9.418604651162791<br>'fav': 21.6046511627907<br>'color': [0.27906977 0.62790698 0.09302326 0.        ]<br>'freq': 43",
          "'name':SUPER:lockdown|shutdown<br>'df': 26.985507246376812<br>'pop': -2.185047132510023<br>'rt': 6.217391304347826<br>'fav': 19.652173913043477<br>'color': [0.18115942 0.55797101 0.16666667 0.0942029 ]<br>'freq': 138",
          "'name':SUPER:coronavirus|coronaviruses|coronvirus<br>'df': 10.985250737463128<br>'pop': -1.7198100899764428<br>'rt': 8.513274336283185<br>'fav': 18.492625368731563<br>'color': [0.25663717 0.59882006 0.09439528 0.05014749]<br>'freq': 339",
          "'name':SUPER:virus_outbreak|virus|infection<br>'df': 143.23076923076923<br>'pop': -2.73092403573338<br>'rt': 2.4615384615384617<br>'fav': 3.9615384615384617<br>'color': [0.23076923 0.5        0.07692308 0.19230769]<br>'freq': 26",
          "'name':medium<br>'df': 931.0<br>'pop': -3.1097258774610648<br>'rt': 3.25<br>'fav': 2.5<br>'color': [0.5 0.5 0.  0. ]<br>'freq': 4",
          "'name':SUPER:trump|donald_trump|president_trump<br>'df': 26.225352112676056<br>'pop': -2.7461704500387376<br>'rt': 13.098591549295774<br>'fav': 24.739436619718308<br>'color': [0.33802817 0.42253521 0.14788732 0.0915493 ]<br>'freq': 142",
          "'name':SUPER:<<NUM>>_new_case|stayathome_order|nurse_,_<<NUM>><br>'df': 128.41379310344828<br>'pop': -2.5413973990288747<br>'rt': 6.0344827586206895<br>'fav': 13.10344827586207<br>'color': [0.27586207 0.34482759 0.20689655 0.17241379]<br>'freq': 29",
          "'name':government<br>'df': 79.23404255319149<br>'pop': -1.8491655864700827<br>'rt': 6.9361702127659575<br>'fav': 12.595744680851064<br>'color': [0.53191489 0.21276596 0.14893617 0.10638298]<br>'freq': 47",
          "'name':SUPER:outbreak|virus_outbreak<br>'df': 137.92592592592592<br>'pop': -1.820484437014899<br>'rt': 13.407407407407407<br>'fav': 28.48148148148148<br>'color': [0.22222222 0.48148148 0.14814815 0.14814815]<br>'freq': 27",
          "'name':job<br>'df': 372.4<br>'pop': -2.7625792054346334<br>'rt': 23.9<br>'fav': 24.3<br>'color': [0.2 0.7 0.1 0. ]<br>'freq': 10",
          "'name':bioweapon<br>'df': 3724.0<br>'pop': -6.0<br>'rt': 0.0<br>'fav': 0.0<br>'color': [0. 0. 0. 1.]<br>'freq': 1",
          "'name':SUPER:it|he|they<br>'df': 44.333333333333336<br>'pop': -2.4950300104275294<br>'rt': 9.44047619047619<br>'fav': 17.88095238095238<br>'color': [0.21428571 0.42857143 0.17857143 0.17857143]<br>'freq': 84",
          "'name':SUPER:million|billion<br>'df': 148.96<br>'pop': -2.8088496616792837<br>'rt': 7.0<br>'fav': 13.6<br>'color': [0.4  0.36 0.16 0.08]<br>'freq': 25",
          "'name':china<br>'df': 41.37777777777778<br>'pop': -2.638759900068285<br>'rt': 7.277777777777778<br>'fav': 9.511111111111111<br>'color': [0.24444444 0.44444444 0.18888889 0.12222222]<br>'freq': 90",
          "'name':SUPER:u|i<br>'df': 49.653333333333336<br>'pop': -2.5162945335935607<br>'rt': 10.333333333333334<br>'fav': 35.48<br>'color': [0.22666667 0.53333333 0.17333333 0.06666667]<br>'freq': 75",
          "'name':SUPER:<<NUM>>_people|<<NUM>>_death|<<NUM>>_day<br>'df': 29.555555555555557<br>'pop': -1.8329622570207176<br>'rt': 8.722222222222221<br>'fav': 27.976190476190474<br>'color': [0.3015873  0.57142857 0.1031746  0.02380952]<br>'freq': 126",
          "'name':what<br>'df': 155.16666666666666<br>'pop': -2.9145092193072615<br>'rt': 4.333333333333333<br>'fav': 6.458333333333333<br>'color': [0.33333333 0.25       0.16666667 0.25      ]<br>'freq': 24",
          "'name':SUPER:first_time|time<br>'df': 186.2<br>'pop': -2.217725490451495<br>'rt': 7.0<br>'fav': 16.95<br>'color': [0.55 0.25 0.05 0.15]<br>'freq': 20",
          "'name':funding<br>'df': 465.5<br>'pop': -2.64181263607478<br>'rt': 43.875<br>'fav': 75.0<br>'color': [0.125 0.375 0.25  0.25 ]<br>'freq': 8"
         ],
         "type": "scatter",
         "x": [
          0.15251749678767937,
          -0.4126600447558474,
          0.05609227146961643,
          0.20818170201671332,
          0.24211994379070867,
          -0.05700922552589907,
          -0.002125286025297636,
          0.035856272575065615,
          -0.5938487163714908,
          -0.13845791525174758,
          0.25408454023893323,
          0.0015038187875087074,
          -0.3313708576488317,
          0.5063352857543862,
          1,
          -0.1937996796167162,
          0.4717058970854199,
          -0.1190839073877582,
          -0.22811458059774026,
          0.05038560391031897,
          -0.4709531077896626,
          -0.1941519932634471,
          -0.23720751818190972
         ],
         "y": [
          -0.5817087818374858,
          0.42649483453922404,
          -0.23666050732903937,
          0.16171788277103075,
          -0.06874794424428939,
          -0.07647988227229871,
          0.007357544410729826,
          0.553994980042004,
          -0.08708675200384342,
          -0.1780513262231826,
          -0.3176096256374583,
          0.21416903338571275,
          0.22149037837065588,
          0.19908679503774634,
          -0.4466832547541534,
          0.13524224898313986,
          -0.2331519072324582,
          0.21105585379833822,
          -0.02312388925706436,
          0.11602542311367249,
          -0.24605162721926088,
          0.7420870150358696,
          -0.49336649147758943
         ]
        }
       ],
       "layout": {
        "annotations": [
         {
          "font": {
           "size": 14
          },
          "showarrow": false,
          "text": "The rumor graph",
          "x": 0,
          "xanchor": "left",
          "xref": "paper",
          "y": -0.1,
          "yanchor": "bottom",
          "yref": "paper"
         }
        ],
        "autosize": false,
        "font": {
         "size": 12
        },
        "height": 1000,
        "hovermode": "closest",
        "margin": {
         "b": 85,
         "l": 40,
         "r": 40,
         "t": 100
        },
        "showlegend": false,
        "template": {
         "data": {
          "bar": [
           {
            "error_x": {
             "color": "#2a3f5f"
            },
            "error_y": {
             "color": "#2a3f5f"
            },
            "marker": {
             "line": {
              "color": "#E5ECF6",
              "width": 0.5
             }
            },
            "type": "bar"
           }
          ],
          "barpolar": [
           {
            "marker": {
             "line": {
              "color": "#E5ECF6",
              "width": 0.5
             }
            },
            "type": "barpolar"
           }
          ],
          "carpet": [
           {
            "aaxis": {
             "endlinecolor": "#2a3f5f",
             "gridcolor": "white",
             "linecolor": "white",
             "minorgridcolor": "white",
             "startlinecolor": "#2a3f5f"
            },
            "baxis": {
             "endlinecolor": "#2a3f5f",
             "gridcolor": "white",
             "linecolor": "white",
             "minorgridcolor": "white",
             "startlinecolor": "#2a3f5f"
            },
            "type": "carpet"
           }
          ],
          "choropleth": [
           {
            "colorbar": {
             "outlinewidth": 0,
             "ticks": ""
            },
            "type": "choropleth"
           }
          ],
          "contour": [
           {
            "colorbar": {
             "outlinewidth": 0,
             "ticks": ""
            },
            "colorscale": [
             [
              0,
              "#0d0887"
             ],
             [
              0.1111111111111111,
              "#46039f"
             ],
             [
              0.2222222222222222,
              "#7201a8"
             ],
             [
              0.3333333333333333,
              "#9c179e"
             ],
             [
              0.4444444444444444,
              "#bd3786"
             ],
             [
              0.5555555555555556,
              "#d8576b"
             ],
             [
              0.6666666666666666,
              "#ed7953"
             ],
             [
              0.7777777777777778,
              "#fb9f3a"
             ],
             [
              0.8888888888888888,
              "#fdca26"
             ],
             [
              1,
              "#f0f921"
             ]
            ],
            "type": "contour"
           }
          ],
          "contourcarpet": [
           {
            "colorbar": {
             "outlinewidth": 0,
             "ticks": ""
            },
            "type": "contourcarpet"
           }
          ],
          "heatmap": [
           {
            "colorbar": {
             "outlinewidth": 0,
             "ticks": ""
            },
            "colorscale": [
             [
              0,
              "#0d0887"
             ],
             [
              0.1111111111111111,
              "#46039f"
             ],
             [
              0.2222222222222222,
              "#7201a8"
             ],
             [
              0.3333333333333333,
              "#9c179e"
             ],
             [
              0.4444444444444444,
              "#bd3786"
             ],
             [
              0.5555555555555556,
              "#d8576b"
             ],
             [
              0.6666666666666666,
              "#ed7953"
             ],
             [
              0.7777777777777778,
              "#fb9f3a"
             ],
             [
              0.8888888888888888,
              "#fdca26"
             ],
             [
              1,
              "#f0f921"
             ]
            ],
            "type": "heatmap"
           }
          ],
          "heatmapgl": [
           {
            "colorbar": {
             "outlinewidth": 0,
             "ticks": ""
            },
            "colorscale": [
             [
              0,
              "#0d0887"
             ],
             [
              0.1111111111111111,
              "#46039f"
             ],
             [
              0.2222222222222222,
              "#7201a8"
             ],
             [
              0.3333333333333333,
              "#9c179e"
             ],
             [
              0.4444444444444444,
              "#bd3786"
             ],
             [
              0.5555555555555556,
              "#d8576b"
             ],
             [
              0.6666666666666666,
              "#ed7953"
             ],
             [
              0.7777777777777778,
              "#fb9f3a"
             ],
             [
              0.8888888888888888,
              "#fdca26"
             ],
             [
              1,
              "#f0f921"
             ]
            ],
            "type": "heatmapgl"
           }
          ],
          "histogram": [
           {
            "marker": {
             "colorbar": {
              "outlinewidth": 0,
              "ticks": ""
             }
            },
            "type": "histogram"
           }
          ],
          "histogram2d": [
           {
            "colorbar": {
             "outlinewidth": 0,
             "ticks": ""
            },
            "colorscale": [
             [
              0,
              "#0d0887"
             ],
             [
              0.1111111111111111,
              "#46039f"
             ],
             [
              0.2222222222222222,
              "#7201a8"
             ],
             [
              0.3333333333333333,
              "#9c179e"
             ],
             [
              0.4444444444444444,
              "#bd3786"
             ],
             [
              0.5555555555555556,
              "#d8576b"
             ],
             [
              0.6666666666666666,
              "#ed7953"
             ],
             [
              0.7777777777777778,
              "#fb9f3a"
             ],
             [
              0.8888888888888888,
              "#fdca26"
             ],
             [
              1,
              "#f0f921"
             ]
            ],
            "type": "histogram2d"
           }
          ],
          "histogram2dcontour": [
           {
            "colorbar": {
             "outlinewidth": 0,
             "ticks": ""
            },
            "colorscale": [
             [
              0,
              "#0d0887"
             ],
             [
              0.1111111111111111,
              "#46039f"
             ],
             [
              0.2222222222222222,
              "#7201a8"
             ],
             [
              0.3333333333333333,
              "#9c179e"
             ],
             [
              0.4444444444444444,
              "#bd3786"
             ],
             [
              0.5555555555555556,
              "#d8576b"
             ],
             [
              0.6666666666666666,
              "#ed7953"
             ],
             [
              0.7777777777777778,
              "#fb9f3a"
             ],
             [
              0.8888888888888888,
              "#fdca26"
             ],
             [
              1,
              "#f0f921"
             ]
            ],
            "type": "histogram2dcontour"
           }
          ],
          "mesh3d": [
           {
            "colorbar": {
             "outlinewidth": 0,
             "ticks": ""
            },
            "type": "mesh3d"
           }
          ],
          "parcoords": [
           {
            "line": {
             "colorbar": {
              "outlinewidth": 0,
              "ticks": ""
             }
            },
            "type": "parcoords"
           }
          ],
          "pie": [
           {
            "automargin": true,
            "type": "pie"
           }
          ],
          "scatter": [
           {
            "marker": {
             "colorbar": {
              "outlinewidth": 0,
              "ticks": ""
             }
            },
            "type": "scatter"
           }
          ],
          "scatter3d": [
           {
            "line": {
             "colorbar": {
              "outlinewidth": 0,
              "ticks": ""
             }
            },
            "marker": {
             "colorbar": {
              "outlinewidth": 0,
              "ticks": ""
             }
            },
            "type": "scatter3d"
           }
          ],
          "scattercarpet": [
           {
            "marker": {
             "colorbar": {
              "outlinewidth": 0,
              "ticks": ""
             }
            },
            "type": "scattercarpet"
           }
          ],
          "scattergeo": [
           {
            "marker": {
             "colorbar": {
              "outlinewidth": 0,
              "ticks": ""
             }
            },
            "type": "scattergeo"
           }
          ],
          "scattergl": [
           {
            "marker": {
             "colorbar": {
              "outlinewidth": 0,
              "ticks": ""
             }
            },
            "type": "scattergl"
           }
          ],
          "scattermapbox": [
           {
            "marker": {
             "colorbar": {
              "outlinewidth": 0,
              "ticks": ""
             }
            },
            "type": "scattermapbox"
           }
          ],
          "scatterpolar": [
           {
            "marker": {
             "colorbar": {
              "outlinewidth": 0,
              "ticks": ""
             }
            },
            "type": "scatterpolar"
           }
          ],
          "scatterpolargl": [
           {
            "marker": {
             "colorbar": {
              "outlinewidth": 0,
              "ticks": ""
             }
            },
            "type": "scatterpolargl"
           }
          ],
          "scatterternary": [
           {
            "marker": {
             "colorbar": {
              "outlinewidth": 0,
              "ticks": ""
             }
            },
            "type": "scatterternary"
           }
          ],
          "surface": [
           {
            "colorbar": {
             "outlinewidth": 0,
             "ticks": ""
            },
            "colorscale": [
             [
              0,
              "#0d0887"
             ],
             [
              0.1111111111111111,
              "#46039f"
             ],
             [
              0.2222222222222222,
              "#7201a8"
             ],
             [
              0.3333333333333333,
              "#9c179e"
             ],
             [
              0.4444444444444444,
              "#bd3786"
             ],
             [
              0.5555555555555556,
              "#d8576b"
             ],
             [
              0.6666666666666666,
              "#ed7953"
             ],
             [
              0.7777777777777778,
              "#fb9f3a"
             ],
             [
              0.8888888888888888,
              "#fdca26"
             ],
             [
              1,
              "#f0f921"
             ]
            ],
            "type": "surface"
           }
          ],
          "table": [
           {
            "cells": {
             "fill": {
              "color": "#EBF0F8"
             },
             "line": {
              "color": "white"
             }
            },
            "header": {
             "fill": {
              "color": "#C8D4E3"
             },
             "line": {
              "color": "white"
             }
            },
            "type": "table"
           }
          ]
         },
         "layout": {
          "annotationdefaults": {
           "arrowcolor": "#2a3f5f",
           "arrowhead": 0,
           "arrowwidth": 1
          },
          "coloraxis": {
           "colorbar": {
            "outlinewidth": 0,
            "ticks": ""
           }
          },
          "colorscale": {
           "diverging": [
            [
             0,
             "#8e0152"
            ],
            [
             0.1,
             "#c51b7d"
            ],
            [
             0.2,
             "#de77ae"
            ],
            [
             0.3,
             "#f1b6da"
            ],
            [
             0.4,
             "#fde0ef"
            ],
            [
             0.5,
             "#f7f7f7"
            ],
            [
             0.6,
             "#e6f5d0"
            ],
            [
             0.7,
             "#b8e186"
            ],
            [
             0.8,
             "#7fbc41"
            ],
            [
             0.9,
             "#4d9221"
            ],
            [
             1,
             "#276419"
            ]
           ],
           "sequential": [
            [
             0,
             "#0d0887"
            ],
            [
             0.1111111111111111,
             "#46039f"
            ],
            [
             0.2222222222222222,
             "#7201a8"
            ],
            [
             0.3333333333333333,
             "#9c179e"
            ],
            [
             0.4444444444444444,
             "#bd3786"
            ],
            [
             0.5555555555555556,
             "#d8576b"
            ],
            [
             0.6666666666666666,
             "#ed7953"
            ],
            [
             0.7777777777777778,
             "#fb9f3a"
            ],
            [
             0.8888888888888888,
             "#fdca26"
            ],
            [
             1,
             "#f0f921"
            ]
           ],
           "sequentialminus": [
            [
             0,
             "#0d0887"
            ],
            [
             0.1111111111111111,
             "#46039f"
            ],
            [
             0.2222222222222222,
             "#7201a8"
            ],
            [
             0.3333333333333333,
             "#9c179e"
            ],
            [
             0.4444444444444444,
             "#bd3786"
            ],
            [
             0.5555555555555556,
             "#d8576b"
            ],
            [
             0.6666666666666666,
             "#ed7953"
            ],
            [
             0.7777777777777778,
             "#fb9f3a"
            ],
            [
             0.8888888888888888,
             "#fdca26"
            ],
            [
             1,
             "#f0f921"
            ]
           ]
          },
          "colorway": [
           "#636efa",
           "#EF553B",
           "#00cc96",
           "#ab63fa",
           "#FFA15A",
           "#19d3f3",
           "#FF6692",
           "#B6E880",
           "#FF97FF",
           "#FECB52"
          ],
          "font": {
           "color": "#2a3f5f"
          },
          "geo": {
           "bgcolor": "white",
           "lakecolor": "white",
           "landcolor": "#E5ECF6",
           "showlakes": true,
           "showland": true,
           "subunitcolor": "white"
          },
          "hoverlabel": {
           "align": "left"
          },
          "hovermode": "closest",
          "mapbox": {
           "style": "light"
          },
          "paper_bgcolor": "white",
          "plot_bgcolor": "#E5ECF6",
          "polar": {
           "angularaxis": {
            "gridcolor": "white",
            "linecolor": "white",
            "ticks": ""
           },
           "bgcolor": "#E5ECF6",
           "radialaxis": {
            "gridcolor": "white",
            "linecolor": "white",
            "ticks": ""
           }
          },
          "scene": {
           "xaxis": {
            "backgroundcolor": "#E5ECF6",
            "gridcolor": "white",
            "gridwidth": 2,
            "linecolor": "white",
            "showbackground": true,
            "ticks": "",
            "zerolinecolor": "white"
           },
           "yaxis": {
            "backgroundcolor": "#E5ECF6",
            "gridcolor": "white",
            "gridwidth": 2,
            "linecolor": "white",
            "showbackground": true,
            "ticks": "",
            "zerolinecolor": "white"
           },
           "zaxis": {
            "backgroundcolor": "#E5ECF6",
            "gridcolor": "white",
            "gridwidth": 2,
            "linecolor": "white",
            "showbackground": true,
            "ticks": "",
            "zerolinecolor": "white"
           }
          },
          "shapedefaults": {
           "line": {
            "color": "#2a3f5f"
           }
          },
          "ternary": {
           "aaxis": {
            "gridcolor": "white",
            "linecolor": "white",
            "ticks": ""
           },
           "baxis": {
            "gridcolor": "white",
            "linecolor": "white",
            "ticks": ""
           },
           "bgcolor": "#E5ECF6",
           "caxis": {
            "gridcolor": "white",
            "linecolor": "white",
            "ticks": ""
           }
          },
          "title": {
           "x": 0.05
          },
          "xaxis": {
           "automargin": true,
           "gridcolor": "white",
           "linecolor": "white",
           "ticks": "",
           "title": {
            "standoff": 15
           },
           "zerolinecolor": "white",
           "zerolinewidth": 2
          },
          "yaxis": {
           "automargin": true,
           "gridcolor": "white",
           "linecolor": "white",
           "ticks": "",
           "title": {
            "standoff": 15
           },
           "zerolinecolor": "white",
           "zerolinewidth": 2
          }
         }
        },
        "title": {
         "text": "The rumor graph of bioweapon at week 16"
        },
        "width": 1000,
        "xaxis": {
         "showgrid": false,
         "showline": false,
         "showticklabels": false,
         "title": {
          "text": ""
         },
         "zeroline": false
        },
        "yaxis": {
         "showgrid": false,
         "showline": false,
         "showticklabels": false,
         "title": {
          "text": ""
         },
         "zeroline": false
        }
       }
      },
      "text/html": [
       "<div>\n",
       "        \n",
       "        \n",
       "            <div id=\"393d8330-564c-4ffc-9417-2a59b47749ea\" class=\"plotly-graph-div\" style=\"height:1000px; width:1000px;\"></div>\n",
       "            <script type=\"text/javascript\">\n",
       "                require([\"plotly\"], function(Plotly) {\n",
       "                    window.PLOTLYENV=window.PLOTLYENV || {};\n",
       "                    \n",
       "                if (document.getElementById(\"393d8330-564c-4ffc-9417-2a59b47749ea\")) {\n",
       "                    Plotly.newPlot(\n",
       "                        '393d8330-564c-4ffc-9417-2a59b47749ea',\n",
       "                        [{\"hoverinfo\": \"none\", \"line\": {\"color\": \"black\", \"width\": 2}, \"mode\": \"lines\", \"opacity\": 1, \"type\": \"scatter\", \"x\": [-0.3313708576488317, 0.0015038187875087074, null], \"y\": [0.22149037837065588, 0.21416903338571275, null]}, {\"hoverinfo\": \"none\", \"line\": {\"color\": \"black\", \"width\": 2}, \"mode\": \"lines\", \"opacity\": 1, \"type\": \"scatter\", \"x\": [0.0015038187875087074, 0.4717058970854199, null], \"y\": [0.21416903338571275, -0.2331519072324582, null]}, {\"hoverinfo\": \"none\", \"line\": {\"color\": \"black\", \"width\": 2}, \"mode\": \"lines\", \"opacity\": 1, \"type\": \"scatter\", \"x\": [0.4717058970854199, 1.0, null], \"y\": [-0.2331519072324582, -0.4466832547541534, null]}, {\"hoverinfo\": \"text\", \"marker\": {\"color\": \"grey\", \"opacity\": 0}, \"mode\": \"markers\", \"text\": [\"\", \"\", \"\"], \"type\": \"scatter\", \"x\": [-0.16493351943066148, 0.2366048579364643, 0.7358529485427099], \"y\": [0.21782970587818432, -0.009491436923372731, -0.3399175809933058]}, {\"hoverinfo\": \"none\", \"line\": {\"color\": \"purple\", \"width\": 2}, \"mode\": \"lines\", \"opacity\": 1, \"type\": \"scatter\", \"x\": [-0.3313708576488317, -0.22811458059774026, null], \"y\": [0.22149037837065588, -0.02312388925706436, null]}, {\"hoverinfo\": \"none\", \"line\": {\"color\": \"purple\", \"width\": 2}, \"mode\": \"lines\", \"opacity\": 1, \"type\": \"scatter\", \"x\": [-0.22811458059774026, -0.4126600447558474, null], \"y\": [-0.02312388925706436, 0.42649483453922404, null]}, {\"hoverinfo\": \"none\", \"line\": {\"color\": \"purple\", \"width\": 2}, \"mode\": \"lines\", \"opacity\": 1, \"type\": \"scatter\", \"x\": [-0.4126600447558474, 0.0015038187875087074, null], \"y\": [0.42649483453922404, 0.21416903338571275, null]}, {\"hoverinfo\": \"none\", \"line\": {\"color\": \"purple\", \"width\": 2}, \"mode\": \"lines\", \"opacity\": 1, \"type\": \"scatter\", \"x\": [0.0015038187875087074, 0.4717058970854199, null], \"y\": [0.21416903338571275, -0.2331519072324582, null]}, {\"hoverinfo\": \"none\", \"line\": {\"color\": \"purple\", \"width\": 2}, \"mode\": \"lines\", \"opacity\": 1, \"type\": \"scatter\", \"x\": [0.4717058970854199, 1.0, null], \"y\": [-0.2331519072324582, -0.4466832547541534, null]}, {\"hoverinfo\": \"text\", \"marker\": {\"color\": \"grey\", \"opacity\": 0}, \"mode\": \"markers\", \"text\": [\"\", \"\", \"\", \"\", \"\"], \"type\": \"scatter\", \"x\": [-0.27974271912328597, -0.3203873126767938, -0.20557811298416934, 0.2366048579364643, 0.7358529485427099], \"y\": [0.09918324455679577, 0.20168547264107983, 0.3203319339624684, -0.009491436923372731, -0.3399175809933058]}, {\"hoverinfo\": \"none\", \"line\": {\"color\": \"green\", \"width\": 2}, \"mode\": \"lines\", \"opacity\": 1, \"type\": \"scatter\", \"x\": [-0.3313708576488317, 0.0015038187875087074, null], \"y\": [0.22149037837065588, 0.21416903338571275, null]}, {\"hoverinfo\": \"none\", \"line\": {\"color\": \"green\", \"width\": 2}, \"mode\": \"lines\", \"opacity\": 1, \"type\": \"scatter\", \"x\": [0.0015038187875087074, 0.5063352857543862, null], \"y\": [0.21416903338571275, 0.19908679503774634, null]}, {\"hoverinfo\": \"none\", \"line\": {\"color\": \"green\", \"width\": 2}, \"mode\": \"lines\", \"opacity\": 1, \"type\": \"scatter\", \"x\": [0.5063352857543862, 0.4717058970854199, null], \"y\": [0.19908679503774634, -0.2331519072324582, null]}, {\"hoverinfo\": \"none\", \"line\": {\"color\": \"green\", \"width\": 2}, \"mode\": \"lines\", \"opacity\": 1, \"type\": \"scatter\", \"x\": [0.4717058970854199, 1.0, null], \"y\": [-0.2331519072324582, -0.4466832547541534, null]}, {\"hoverinfo\": \"text\", \"marker\": {\"color\": \"grey\", \"opacity\": 0}, \"mode\": \"markers\", \"text\": [\"\", \"\", \"\", \"\"], \"type\": \"scatter\", \"x\": [-0.16493351943066148, 0.2539195522709475, 0.48902059141990306, 0.7358529485427099], \"y\": [0.21782970587818432, 0.20662791421172955, -0.017032556097355933, -0.3399175809933058]}, {\"hoverinfo\": \"none\", \"line\": {\"color\": \"black\", \"width\": 2}, \"mode\": \"lines\", \"opacity\": 1, \"type\": \"scatter\", \"x\": [-0.002125286025297636, 0.05609227146961643, null], \"y\": [0.007357544410729826, -0.23666050732903937, null]}, {\"hoverinfo\": \"none\", \"line\": {\"color\": \"black\", \"width\": 2}, \"mode\": \"lines\", \"opacity\": 1, \"type\": \"scatter\", \"x\": [0.05609227146961643, 0.4717058970854199, null], \"y\": [-0.23666050732903937, -0.2331519072324582, null]}, {\"hoverinfo\": \"none\", \"line\": {\"color\": \"black\", \"width\": 2}, \"mode\": \"lines\", \"opacity\": 1, \"type\": \"scatter\", \"x\": [0.4717058970854199, 1.0, null], \"y\": [-0.2331519072324582, -0.4466832547541534, null]}, {\"hoverinfo\": \"text\", \"marker\": {\"color\": \"grey\", \"opacity\": 0}, \"mode\": \"markers\", \"text\": [\"\", \"\", \"\"], \"type\": \"scatter\", \"x\": [0.026983492722159396, 0.2638990842775182, 0.7358529485427099], \"y\": [-0.11465148145915477, -0.2349062072807488, -0.3399175809933058]}, {\"hoverinfo\": \"none\", \"line\": {\"color\": \"purple\", \"width\": 2}, \"mode\": \"lines\", \"opacity\": 1, \"type\": \"scatter\", \"x\": [-0.002125286025297636, -0.23720751818190972, null], \"y\": [0.007357544410729826, -0.49336649147758943, null]}, {\"hoverinfo\": \"none\", \"line\": {\"color\": \"purple\", \"width\": 2}, \"mode\": \"lines\", \"opacity\": 1, \"type\": \"scatter\", \"x\": [-0.23720751818190972, -0.13845791525174758, null], \"y\": [-0.49336649147758943, -0.1780513262231826, null]}, {\"hoverinfo\": \"none\", \"line\": {\"color\": \"purple\", \"width\": 2}, \"mode\": \"lines\", \"opacity\": 1, \"type\": \"scatter\", \"x\": [-0.13845791525174758, 0.15251749678767937, null], \"y\": [-0.1780513262231826, -0.5817087818374858, null]}, {\"hoverinfo\": \"none\", \"line\": {\"color\": \"purple\", \"width\": 2}, \"mode\": \"lines\", \"opacity\": 1, \"type\": \"scatter\", \"x\": [0.15251749678767937, 0.4717058970854199, null], \"y\": [-0.5817087818374858, -0.2331519072324582, null]}, {\"hoverinfo\": \"none\", \"line\": {\"color\": \"purple\", \"width\": 2}, \"mode\": \"lines\", \"opacity\": 1, \"type\": \"scatter\", \"x\": [0.4717058970854199, 1.0, null], \"y\": [-0.2331519072324582, -0.4466832547541534, null]}, {\"hoverinfo\": \"text\", \"marker\": {\"color\": \"grey\", \"opacity\": 0}, \"mode\": \"markers\", \"text\": [\"\", \"\", \"\", \"\", \"\"], \"type\": \"scatter\", \"x\": [-0.11966640210360367, -0.18783271671682866, 0.007029790767965893, 0.3121116969365496, 0.7358529485427099], \"y\": [-0.2430044735334298, -0.335708908850386, -0.3798800540303342, -0.40743034453497196, -0.3399175809933058]}, {\"hoverinfo\": \"none\", \"line\": {\"color\": \"green\", \"width\": 2}, \"mode\": \"lines\", \"opacity\": 1, \"type\": \"scatter\", \"x\": [-0.002125286025297636, 0.25408454023893323, null], \"y\": [0.007357544410729826, -0.3176096256374583, null]}, {\"hoverinfo\": \"none\", \"line\": {\"color\": \"green\", \"width\": 2}, \"mode\": \"lines\", \"opacity\": 1, \"type\": \"scatter\", \"x\": [0.25408454023893323, 0.4717058970854199, null], \"y\": [-0.3176096256374583, -0.2331519072324582, null]}, {\"hoverinfo\": \"none\", \"line\": {\"color\": \"green\", \"width\": 2}, \"mode\": \"lines\", \"opacity\": 1, \"type\": \"scatter\", \"x\": [0.4717058970854199, 1.0, null], \"y\": [-0.2331519072324582, -0.4466832547541534, null]}, {\"hoverinfo\": \"text\", \"marker\": {\"color\": \"grey\", \"opacity\": 0}, \"mode\": \"markers\", \"text\": [\"\", \"\", \"\"], \"type\": \"scatter\", \"x\": [0.1259796271068178, 0.36289521866217656, 0.7358529485427099], \"y\": [-0.15512604061336424, -0.27538076643495824, -0.3399175809933058]}, {\"hoverinfo\": \"none\", \"line\": {\"color\": \"black\", \"width\": 2}, \"mode\": \"lines\", \"opacity\": 1, \"type\": \"scatter\", \"x\": [0.035856272575065615, 0.20818170201671332, null], \"y\": [0.553994980042004, 0.16171788277103075, null]}, {\"hoverinfo\": \"none\", \"line\": {\"color\": \"black\", \"width\": 2}, \"mode\": \"lines\", \"opacity\": 1, \"type\": \"scatter\", \"x\": [0.20818170201671332, 0.5063352857543862, null], \"y\": [0.16171788277103075, 0.19908679503774634, null]}, {\"hoverinfo\": \"none\", \"line\": {\"color\": \"black\", \"width\": 2}, \"mode\": \"lines\", \"opacity\": 1, \"type\": \"scatter\", \"x\": [0.5063352857543862, 0.4717058970854199, null], \"y\": [0.19908679503774634, -0.2331519072324582, null]}, {\"hoverinfo\": \"none\", \"line\": {\"color\": \"black\", \"width\": 2}, \"mode\": \"lines\", \"opacity\": 1, \"type\": \"scatter\", \"x\": [0.4717058970854199, 1.0, null], \"y\": [-0.2331519072324582, -0.4466832547541534, null]}, {\"hoverinfo\": \"text\", \"marker\": {\"color\": \"grey\", \"opacity\": 0}, \"mode\": \"markers\", \"text\": [\"\", \"\", \"\", \"\"], \"type\": \"scatter\", \"x\": [0.12201898729588948, 0.35725849388554975, 0.48902059141990306, 0.7358529485427099], \"y\": [0.35785643140651735, 0.18040233890438856, -0.017032556097355933, -0.3399175809933058]}, {\"hoverinfo\": \"none\", \"line\": {\"color\": \"purple\", \"width\": 2}, \"mode\": \"lines\", \"opacity\": 1, \"type\": \"scatter\", \"x\": [0.035856272575065615, 0.20818170201671332, null], \"y\": [0.553994980042004, 0.16171788277103075, null]}, {\"hoverinfo\": \"none\", \"line\": {\"color\": \"purple\", \"width\": 2}, \"mode\": \"lines\", \"opacity\": 1, \"type\": \"scatter\", \"x\": [0.20818170201671332, -0.1937996796167162, null], \"y\": [0.16171788277103075, 0.13524224898313986, null]}, {\"hoverinfo\": \"none\", \"line\": {\"color\": \"purple\", \"width\": 2}, \"mode\": \"lines\", \"opacity\": 1, \"type\": \"scatter\", \"x\": [-0.1937996796167162, 0.0015038187875087074, null], \"y\": [0.13524224898313986, 0.21416903338571275, null]}, {\"hoverinfo\": \"none\", \"line\": {\"color\": \"purple\", \"width\": 2}, \"mode\": \"lines\", \"opacity\": 1, \"type\": \"scatter\", \"x\": [0.0015038187875087074, 0.4717058970854199, null], \"y\": [0.21416903338571275, -0.2331519072324582, null]}, {\"hoverinfo\": \"none\", \"line\": {\"color\": \"purple\", \"width\": 2}, \"mode\": \"lines\", \"opacity\": 1, \"type\": \"scatter\", \"x\": [0.4717058970854199, 1.0, null], \"y\": [-0.2331519072324582, -0.4466832547541534, null]}, {\"hoverinfo\": \"text\", \"marker\": {\"color\": \"grey\", \"opacity\": 0}, \"mode\": \"markers\", \"text\": [\"\", \"\", \"\", \"\", \"\"], \"type\": \"scatter\", \"x\": [0.12201898729588948, 0.0071910111999985565, -0.09614793041460375, 0.2366048579364643, 0.7358529485427099], \"y\": [0.35785643140651735, 0.1484800658770853, 0.1747056411844263, -0.009491436923372731, -0.3399175809933058]}, {\"hoverinfo\": \"none\", \"line\": {\"color\": \"green\", \"width\": 2}, \"mode\": \"lines\", \"opacity\": 1, \"type\": \"scatter\", \"x\": [0.035856272575065615, 0.05038560391031897, null], \"y\": [0.553994980042004, 0.11602542311367249, null]}, {\"hoverinfo\": \"none\", \"line\": {\"color\": \"green\", \"width\": 2}, \"mode\": \"lines\", \"opacity\": 1, \"type\": \"scatter\", \"x\": [0.05038560391031897, -0.05700922552589907, null], \"y\": [0.11602542311367249, -0.07647988227229871, null]}, {\"hoverinfo\": \"none\", \"line\": {\"color\": \"green\", \"width\": 2}, \"mode\": \"lines\", \"opacity\": 1, \"type\": \"scatter\", \"x\": [-0.05700922552589907, 0.4717058970854199, null], \"y\": [-0.07647988227229871, -0.2331519072324582, null]}, {\"hoverinfo\": \"none\", \"line\": {\"color\": \"green\", \"width\": 2}, \"mode\": \"lines\", \"opacity\": 1, \"type\": \"scatter\", \"x\": [0.4717058970854199, 1.0, null], \"y\": [-0.2331519072324582, -0.4466832547541534, null]}, {\"hoverinfo\": \"text\", \"marker\": {\"color\": \"grey\", \"opacity\": 0}, \"mode\": \"markers\", \"text\": [\"\", \"\", \"\", \"\"], \"type\": \"scatter\", \"x\": [0.043120938242692294, -0.003311810807790052, 0.20734833577976042, 0.7358529485427099], \"y\": [0.33501020157783823, 0.01977277042068689, -0.15481589475237845, -0.3399175809933058]}, {\"hoverinfo\": \"none\", \"line\": {\"color\": \"orange\", \"width\": 27.34503710910827}, \"mode\": \"lines\", \"opacity\": 0.2, \"type\": \"scatter\", \"x\": [0.15251749678767937, -0.13845791525174758, null], \"y\": [-0.5817087818374858, -0.1780513262231826, null]}, {\"hoverinfo\": \"none\", \"line\": {\"color\": \"orange\", \"width\": 14.247882699457696}, \"mode\": \"lines\", \"opacity\": 0.2, \"type\": \"scatter\", \"x\": [0.15251749678767937, 0.4717058970854199, null], \"y\": [-0.5817087818374858, -0.2331519072324582, null]}, {\"hoverinfo\": \"none\", \"line\": {\"color\": \"red\", \"width\": 16.445107276793916}, \"mode\": \"lines\", \"opacity\": 0.2, \"type\": \"scatter\", \"x\": [-0.4126600447558474, -0.1190839073877582, null], \"y\": [0.42649483453922404, 0.21105585379833822, null]}, {\"hoverinfo\": \"none\", \"line\": {\"color\": \"orange\", \"width\": 15.058812915674025}, \"mode\": \"lines\", \"opacity\": 0.2, \"type\": \"scatter\", \"x\": [-0.4126600447558474, -0.22811458059774026, null], \"y\": [0.42649483453922404, -0.02312388925706436, null]}, {\"hoverinfo\": \"none\", \"line\": {\"color\": \"red\", \"width\": 15.058812915674025}, \"mode\": \"lines\", \"opacity\": 0.2, \"type\": \"scatter\", \"x\": [-0.4126600447558474, 0.0015038187875087074, null], \"y\": [0.42649483453922404, 0.21416903338571275, null]}, {\"hoverinfo\": \"none\", \"line\": {\"color\": \"yellow\", \"width\": 16.445107276793916}, \"mode\": \"lines\", \"opacity\": 0.2, \"type\": \"scatter\", \"x\": [0.05609227146961643, 0.20818170201671332, null], \"y\": [-0.23666050732903937, 0.16171788277103075, null]}, {\"hoverinfo\": \"none\", \"line\": {\"color\": \"green\", \"width\": 27.92040125401183}, \"mode\": \"lines\", \"opacity\": 0.2, \"type\": \"scatter\", \"x\": [0.05609227146961643, -0.22811458059774026, null], \"y\": [-0.23666050732903937, -0.02312388925706436, null]}, {\"hoverinfo\": \"none\", \"line\": {\"color\": \"yellow\", \"width\": 25.06616854273154}, \"mode\": \"lines\", \"opacity\": 0.2, \"type\": \"scatter\", \"x\": [0.05609227146961643, -0.002125286025297636, null], \"y\": [-0.23666050732903937, 0.007357544410729826, null]}, {\"hoverinfo\": \"none\", \"line\": {\"color\": \"yellow\", \"width\": 11.475293977217914}, \"mode\": \"lines\", \"opacity\": 0.2, \"type\": \"scatter\", \"x\": [0.05609227146961643, 0.4717058970854199, null], \"y\": [-0.23666050732903937, -0.2331519072324582, null]}, {\"hoverinfo\": \"none\", \"line\": {\"color\": \"orange\", \"width\": 5.450770826207512}, \"mode\": \"lines\", \"opacity\": 0.2, \"type\": \"scatter\", \"x\": [0.05609227146961643, -0.4709531077896626, null], \"y\": [-0.23666050732903937, -0.24605162721926088, null]}, {\"hoverinfo\": \"none\", \"line\": {\"color\": \"yellow\", \"width\": 90.71047026016217}, \"mode\": \"lines\", \"opacity\": 0.2, \"type\": \"scatter\", \"x\": [0.20818170201671332, -0.002125286025297636, null], \"y\": [0.16171788277103075, 0.007357544410729826, null]}, {\"hoverinfo\": \"none\", \"line\": {\"color\": \"orange\", \"width\": 9.642712513469604}, \"mode\": \"lines\", \"opacity\": 0.2, \"type\": \"scatter\", \"x\": [0.20818170201671332, 0.035856272575065615, null], \"y\": [0.16171788277103075, 0.553994980042004, null]}, {\"hoverinfo\": \"none\", \"line\": {\"color\": \"yellow\", \"width\": 13.672518554554134}, \"mode\": \"lines\", \"opacity\": 0.2, \"type\": \"scatter\", \"x\": [0.20818170201671332, 0.5063352857543862, null], \"y\": [0.16171788277103075, 0.19908679503774634, null]}, {\"hoverinfo\": \"none\", \"line\": {\"color\": \"red\", \"width\": 15.058812915674025}, \"mode\": \"lines\", \"opacity\": 0.2, \"type\": \"scatter\", \"x\": [0.20818170201671332, -0.1937996796167162, null], \"y\": [0.16171788277103075, 0.13524224898313986, null]}, {\"hoverinfo\": \"none\", \"line\": {\"color\": \"yellow\", \"width\": 28.495765398915392}, \"mode\": \"lines\", \"opacity\": 0.2, \"type\": \"scatter\", \"x\": [0.24211994379070867, 0.05038560391031897, null], \"y\": [-0.06874794424428939, 0.11602542311367249, null]}, {\"hoverinfo\": \"none\", \"line\": {\"color\": \"yellow\", \"width\": 50.319200975048176}, \"mode\": \"lines\", \"opacity\": 0.2, \"type\": \"scatter\", \"x\": [0.24211994379070867, -0.002125286025297636, null], \"y\": [-0.06874794424428939, 0.007357544410729826, null]}, {\"hoverinfo\": \"none\", \"line\": {\"color\": \"yellow\", \"width\": 39.45203698516314}, \"mode\": \"lines\", \"opacity\": 0.2, \"type\": \"scatter\", \"x\": [0.24211994379070867, -0.05700922552589907, null], \"y\": [-0.06874794424428939, -0.07647988227229871, null]}, {\"hoverinfo\": \"none\", \"line\": {\"color\": \"green\", \"width\": 10.899929832314353}, \"mode\": \"lines\", \"opacity\": 0.2, \"type\": \"scatter\", \"x\": [0.24211994379070867, 0.4717058970854199, null], \"y\": [-0.06874794424428939, -0.2331519072324582, null]}, {\"hoverinfo\": \"none\", \"line\": {\"color\": \"yellow\", \"width\": 70.89961542369768}, \"mode\": \"lines\", \"opacity\": 0.2, \"type\": \"scatter\", \"x\": [-0.05700922552589907, -0.22811458059774026, null], \"y\": [-0.07647988227229871, -0.02312388925706436, null]}, {\"hoverinfo\": \"none\", \"line\": {\"color\": \"yellow\", \"width\": 24.42200154439331}, \"mode\": \"lines\", \"opacity\": 0.2, \"type\": \"scatter\", \"x\": [-0.05700922552589907, 0.05038560391031897, null], \"y\": [-0.07647988227229871, 0.11602542311367249, null]}, {\"hoverinfo\": \"none\", \"line\": {\"color\": \"green\", \"width\": 22.375223809532265}, \"mode\": \"lines\", \"opacity\": 0.2, \"type\": \"scatter\", \"x\": [-0.05700922552589907, 0.0015038187875087074, null], \"y\": [-0.07647988227229871, 0.21416903338571275, null]}, {\"hoverinfo\": \"none\", \"line\": {\"color\": \"yellow\", \"width\": 20.767300715731796}, \"mode\": \"lines\", \"opacity\": 0.2, \"type\": \"scatter\", \"x\": [-0.05700922552589907, -0.002125286025297636, null], \"y\": [-0.07647988227229871, 0.007357544410729826, null]}, {\"hoverinfo\": \"none\", \"line\": {\"color\": \"red\", \"width\": 12.286224193434244}, \"mode\": \"lines\", \"opacity\": 0.2, \"type\": \"scatter\", \"x\": [-0.05700922552589907, -0.1937996796167162, null], \"y\": [-0.07647988227229871, 0.13524224898313986, null]}, {\"hoverinfo\": \"none\", \"line\": {\"color\": \"yellow\", \"width\": 11.315208561870842}, \"mode\": \"lines\", \"opacity\": 0.2, \"type\": \"scatter\", \"x\": [-0.05700922552589907, -0.5938487163714908, null], \"y\": [-0.07647988227229871, -0.08708675200384342, null]}, {\"hoverinfo\": \"none\", \"line\": {\"color\": \"green\", \"width\": 11.839937090805824}, \"mode\": \"lines\", \"opacity\": 0.2, \"type\": \"scatter\", \"x\": [-0.05700922552589907, -0.13845791525174758, null], \"y\": [-0.07647988227229871, -0.1780513262231826, null]}, {\"hoverinfo\": \"none\", \"line\": {\"color\": \"green\", \"width\": 9.710515616820967}, \"mode\": \"lines\", \"opacity\": 0.2, \"type\": \"scatter\", \"x\": [-0.05700922552589907, 0.4717058970854199, null], \"y\": [-0.07647988227229871, -0.2331519072324582, null]}, {\"hoverinfo\": \"none\", \"line\": {\"color\": \"yellow\", \"width\": 21.404208177968865}, \"mode\": \"lines\", \"opacity\": 0.2, \"type\": \"scatter\", \"x\": [-0.002125286025297636, 0.25408454023893323, null], \"y\": [0.007357544410729826, -0.3176096256374583, null]}, {\"hoverinfo\": \"none\", \"line\": {\"color\": \"yellow\", \"width\": 68.7056157865926}, \"mode\": \"lines\", \"opacity\": 0.2, \"type\": \"scatter\", \"x\": [-0.002125286025297636, -0.1937996796167162, null], \"y\": [0.007357544410729826, 0.13524224898313986, null]}, {\"hoverinfo\": \"none\", \"line\": {\"color\": \"yellow\", \"width\": 119.45001529429562}, \"mode\": \"lines\", \"opacity\": 0.2, \"type\": \"scatter\", \"x\": [-0.002125286025297636, 0.05038560391031897, null], \"y\": [0.007357544410729826, 0.11602542311367249, null]}, {\"hoverinfo\": \"none\", \"line\": {\"color\": \"yellow\", \"width\": 112.25696916095089}, \"mode\": \"lines\", \"opacity\": 0.2, \"type\": \"scatter\", \"x\": [-0.002125286025297636, -0.1190839073877582, null], \"y\": [0.007357544410729826, 0.21105585379833822, null]}, {\"hoverinfo\": \"none\", \"line\": {\"color\": \"orange\", \"width\": 16.445107276793916}, \"mode\": \"lines\", \"opacity\": 0.2, \"type\": \"scatter\", \"x\": [-0.002125286025297636, -0.23720751818190972, null], \"y\": [0.007357544410729826, -0.49336649147758943, null]}, {\"hoverinfo\": \"none\", \"line\": {\"color\": \"yellow\", \"width\": 5.450770826207512}, \"mode\": \"lines\", \"opacity\": 0.2, \"type\": \"scatter\", \"x\": [-0.002125286025297636, -0.4709531077896626, null], \"y\": [0.007357544410729826, -0.24605162721926088, null]}, {\"hoverinfo\": \"none\", \"line\": {\"color\": \"green\", \"width\": 32.89021455358783}, \"mode\": \"lines\", \"opacity\": 0.2, \"type\": \"scatter\", \"x\": [-0.002125286025297636, -0.13845791525174758, null], \"y\": [0.007357544410729826, -0.1780513262231826, null]}, {\"hoverinfo\": \"none\", \"line\": {\"color\": \"green\", \"width\": 38.16832921281835}, \"mode\": \"lines\", \"opacity\": 0.2, \"type\": \"scatter\", \"x\": [-0.002125286025297636, -0.22811458059774026, null], \"y\": [0.007357544410729826, -0.02312388925706436, null]}, {\"hoverinfo\": \"none\", \"line\": {\"color\": \"green\", \"width\": 15.058812915674025}, \"mode\": \"lines\", \"opacity\": 0.2, \"type\": \"scatter\", \"x\": [-0.002125286025297636, 0.0015038187875087074, null], \"y\": [0.007357544410729826, 0.21416903338571275, null]}, {\"hoverinfo\": \"none\", \"line\": {\"color\": \"yellow\", \"width\": 12.861588338337805}, \"mode\": \"lines\", \"opacity\": 0.2, \"type\": \"scatter\", \"x\": [0.035856272575065615, 0.05038560391031897, null], \"y\": [0.553994980042004, 0.11602542311367249, null]}, {\"hoverinfo\": \"none\", \"line\": {\"color\": \"yellow\", \"width\": 30.69298997625161}, \"mode\": \"lines\", \"opacity\": 0.2, \"type\": \"scatter\", \"x\": [0.035856272575065615, -0.1190839073877582, null], \"y\": [0.553994980042004, 0.21105585379833822, null]}, {\"hoverinfo\": \"none\", \"line\": {\"color\": \"yellow\", \"width\": 14.247882699457696}, \"mode\": \"lines\", \"opacity\": 0.2, \"type\": \"scatter\", \"x\": [0.035856272575065615, -0.1941519932634471, null], \"y\": [0.553994980042004, 0.7420870150358696, null]}, {\"hoverinfo\": \"none\", \"line\": {\"color\": \"yellow\", \"width\": 12.286224193434244}, \"mode\": \"lines\", \"opacity\": 0.2, \"type\": \"scatter\", \"x\": [-0.5938487163714908, -0.3313708576488317, null], \"y\": [-0.08708675200384342, 0.22149037837065588, null]}, {\"hoverinfo\": \"none\", \"line\": {\"color\": \"green\", \"width\": 16.445107276793916}, \"mode\": \"lines\", \"opacity\": 0.2, \"type\": \"scatter\", \"x\": [-0.5938487163714908, -0.13845791525174758, null], \"y\": [-0.08708675200384342, -0.1780513262231826, null]}, {\"hoverinfo\": \"none\", \"line\": {\"color\": \"orange\", \"width\": 16.445107276793916}, \"mode\": \"lines\", \"opacity\": 0.2, \"type\": \"scatter\", \"x\": [-0.13845791525174758, 0.25408454023893323, null], \"y\": [-0.1780513262231826, -0.3176096256374583, null]}, {\"hoverinfo\": \"none\", \"line\": {\"color\": \"red\", \"width\": 11.315208561870842}, \"mode\": \"lines\", \"opacity\": 0.2, \"type\": \"scatter\", \"x\": [-0.13845791525174758, 0.05038560391031897, null], \"y\": [-0.1780513262231826, 0.11602542311367249, null]}, {\"hoverinfo\": \"none\", \"line\": {\"color\": \"orange\", \"width\": 27.34503710910827}, \"mode\": \"lines\", \"opacity\": 0.2, \"type\": \"scatter\", \"x\": [-0.13845791525174758, -0.23720751818190972, null], \"y\": [-0.1780513262231826, -0.49336649147758943, null]}, {\"hoverinfo\": \"none\", \"line\": {\"color\": \"green\", \"width\": 26.801169678140987}, \"mode\": \"lines\", \"opacity\": 0.2, \"type\": \"scatter\", \"x\": [-0.13845791525174758, -0.1937996796167162, null], \"y\": [-0.1780513262231826, 0.13524224898313986, null]}, {\"hoverinfo\": \"none\", \"line\": {\"color\": \"orange\", \"width\": 16.445107276793916}, \"mode\": \"lines\", \"opacity\": 0.2, \"type\": \"scatter\", \"x\": [-0.13845791525174758, 0.0015038187875087074, null], \"y\": [-0.1780513262231826, 0.21416903338571275, null]}, {\"hoverinfo\": \"none\", \"line\": {\"color\": \"black\", \"width\": 36.561563191656454}, \"mode\": \"lines\", \"opacity\": 0.2, \"type\": \"scatter\", \"x\": [-0.13845791525174758, -0.1190839073877582, null], \"y\": [-0.1780513262231826, 0.21105585379833822, null]}, {\"hoverinfo\": \"none\", \"line\": {\"color\": \"yellow\", \"width\": 16.445107276793916}, \"mode\": \"lines\", \"opacity\": 0.2, \"type\": \"scatter\", \"x\": [-0.13845791525174758, -0.13845791525174758, null], \"y\": [-0.1780513262231826, -0.1780513262231826, null]}, {\"hoverinfo\": \"none\", \"line\": {\"color\": \"green\", \"width\": 40.22756804718067}, \"mode\": \"lines\", \"opacity\": 0.2, \"type\": \"scatter\", \"x\": [-0.13845791525174758, -0.22811458059774026, null], \"y\": [-0.1780513262231826, -0.02312388925706436, null]}, {\"hoverinfo\": \"none\", \"line\": {\"color\": \"green\", \"width\": 8.467139183665367}, \"mode\": \"lines\", \"opacity\": 0.2, \"type\": \"scatter\", \"x\": [0.25408454023893323, 0.05038560391031897, null], \"y\": [-0.3176096256374583, 0.11602542311367249, null]}, {\"hoverinfo\": \"none\", \"line\": {\"color\": \"green\", \"width\": 16.445107276793916}, \"mode\": \"lines\", \"opacity\": 0.2, \"type\": \"scatter\", \"x\": [0.25408454023893323, 0.4717058970854199, null], \"y\": [-0.3176096256374583, -0.2331519072324582, null]}, {\"hoverinfo\": \"none\", \"line\": {\"color\": \"yellow\", \"width\": 25.72317667667561}, \"mode\": \"lines\", \"opacity\": 0.2, \"type\": \"scatter\", \"x\": [0.0015038187875087074, -0.3313708576488317, null], \"y\": [0.21416903338571275, 0.22149037837065588, null]}, {\"hoverinfo\": \"none\", \"line\": {\"color\": \"yellow\", \"width\": 13.672518554554134}, \"mode\": \"lines\", \"opacity\": 0.2, \"type\": \"scatter\", \"x\": [0.0015038187875087074, 0.5063352857543862, null], \"y\": [0.21416903338571275, 0.19908679503774634, null]}, {\"hoverinfo\": \"none\", \"line\": {\"color\": \"red\", \"width\": 14.247882699457696}, \"mode\": \"lines\", \"opacity\": 0.2, \"type\": \"scatter\", \"x\": [0.0015038187875087074, -0.1937996796167162, null], \"y\": [0.21416903338571275, 0.13524224898313986, null]}, {\"hoverinfo\": \"none\", \"line\": {\"color\": \"orange\", \"width\": 12.050658122121476}, \"mode\": \"lines\", \"opacity\": 0.2, \"type\": \"scatter\", \"x\": [0.0015038187875087074, 0.4717058970854199, null], \"y\": [0.21416903338571275, -0.2331519072324582, null]}, {\"hoverinfo\": \"none\", \"line\": {\"color\": \"green\", \"width\": 5.450770826207512}, \"mode\": \"lines\", \"opacity\": 0.2, \"type\": \"scatter\", \"x\": [0.0015038187875087074, -0.1941519932634471, null], \"y\": [0.21416903338571275, 0.7420870150358696, null]}, {\"hoverinfo\": \"none\", \"line\": {\"color\": \"green\", \"width\": 16.445107276793916}, \"mode\": \"lines\", \"opacity\": 0.2, \"type\": \"scatter\", \"x\": [0.0015038187875087074, -0.22811458059774026, null], \"y\": [0.21416903338571275, -0.02312388925706436, null]}, {\"hoverinfo\": \"none\", \"line\": {\"color\": \"green\", \"width\": 8.467139183665367}, \"mode\": \"lines\", \"opacity\": 0.2, \"type\": \"scatter\", \"x\": [0.0015038187875087074, -0.1190839073877582, null], \"y\": [0.21416903338571275, 0.21105585379833822, null]}, {\"hoverinfo\": \"none\", \"line\": {\"color\": \"orange\", \"width\": 15.058812915674025}, \"mode\": \"lines\", \"opacity\": 0.2, \"type\": \"scatter\", \"x\": [-0.3313708576488317, -0.22811458059774026, null], \"y\": [0.22149037837065588, -0.02312388925706436, null]}, {\"hoverinfo\": \"none\", \"line\": {\"color\": \"black\", \"width\": 31.409513574195888}, \"mode\": \"lines\", \"opacity\": 0.2, \"type\": \"scatter\", \"x\": [-0.3313708576488317, -0.1190839073877582, null], \"y\": [0.22149037837065588, 0.21105585379833822, null]}, {\"hoverinfo\": \"none\", \"line\": {\"color\": \"green\", \"width\": 25.23293176060964}, \"mode\": \"lines\", \"opacity\": 0.2, \"type\": \"scatter\", \"x\": [-0.3313708576488317, 0.05038560391031897, null], \"y\": [0.22149037837065588, 0.11602542311367249, null]}, {\"hoverinfo\": \"none\", \"line\": {\"color\": \"green\", \"width\": 13.226231451925715}, \"mode\": \"lines\", \"opacity\": 0.2, \"type\": \"scatter\", \"x\": [-0.3313708576488317, -0.1937996796167162, null], \"y\": [0.22149037837065588, 0.13524224898313986, null]}, {\"hoverinfo\": \"none\", \"line\": {\"color\": \"yellow\", \"width\": 13.672518554554134}, \"mode\": \"lines\", \"opacity\": 0.2, \"type\": \"scatter\", \"x\": [0.5063352857543862, 0.4717058970854199, null], \"y\": [0.19908679503774634, -0.2331519072324582, null]}, {\"hoverinfo\": \"none\", \"line\": {\"color\": \"yellow\", \"width\": 12.286224193434244}, \"mode\": \"lines\", \"opacity\": 0.2, \"type\": \"scatter\", \"x\": [0.5063352857543862, 0.05038560391031897, null], \"y\": [0.19908679503774634, 0.11602542311367249, null]}, {\"hoverinfo\": \"none\", \"line\": {\"color\": \"red\", \"width\": 16.445107276793916}, \"mode\": \"lines\", \"opacity\": 0.2, \"type\": \"scatter\", \"x\": [1.0, 0.4717058970854199, null], \"y\": [-0.4466832547541534, -0.2331519072324582, null]}, {\"hoverinfo\": \"none\", \"line\": {\"color\": \"yellow\", \"width\": 15.058812915674025}, \"mode\": \"lines\", \"opacity\": 0.2, \"type\": \"scatter\", \"x\": [-0.1937996796167162, 0.05038560391031897, null], \"y\": [0.13524224898313986, 0.11602542311367249, null]}, {\"hoverinfo\": \"none\", \"line\": {\"color\": \"red\", \"width\": 13.641609332911244}, \"mode\": \"lines\", \"opacity\": 0.2, \"type\": \"scatter\", \"x\": [-0.1937996796167162, -0.1941519932634471, null], \"y\": [0.13524224898313986, 0.7420870150358696, null]}, {\"hoverinfo\": \"none\", \"line\": {\"color\": \"green\", \"width\": 11.649316731197175}, \"mode\": \"lines\", \"opacity\": 0.2, \"type\": \"scatter\", \"x\": [-0.1937996796167162, -0.4709531077896626, null], \"y\": [0.13524224898313986, -0.24605162721926088, null]}, {\"hoverinfo\": \"none\", \"line\": {\"color\": \"yellow\", \"width\": 14.247882699457696}, \"mode\": \"lines\", \"opacity\": 0.2, \"type\": \"scatter\", \"x\": [-0.1190839073877582, 0.05038560391031897, null], \"y\": [0.21105585379833822, 0.11602542311367249, null]}, {\"hoverinfo\": \"none\", \"line\": {\"color\": \"green\", \"width\": 17.501428948328986}, \"mode\": \"lines\", \"opacity\": 0.2, \"type\": \"scatter\", \"x\": [-0.1190839073877582, -0.22811458059774026, null], \"y\": [0.21105585379833822, -0.02312388925706436, null]}, {\"hoverinfo\": \"none\", \"line\": {\"color\": \"yellow\", \"width\": 12.553286978683289}, \"mode\": \"lines\", \"opacity\": 0.2, \"type\": \"scatter\", \"x\": [-0.22811458059774026, 0.05038560391031897, null], \"y\": [-0.02312388925706436, 0.11602542311367249, null]}, {\"hoverinfo\": \"none\", \"line\": {\"color\": \"yellow\", \"width\": 25.414875317021092}, \"mode\": \"lines\", \"opacity\": 0.2, \"type\": \"scatter\", \"x\": [-0.22811458059774026, -0.4709531077896626, null], \"y\": [-0.02312388925706436, -0.24605162721926088, null]}, {\"hoverinfo\": \"none\", \"line\": {\"color\": \"yellow\", \"width\": 37.06419204821827}, \"mode\": \"lines\", \"opacity\": 0.2, \"type\": \"scatter\", \"x\": [0.05038560391031897, 0.05038560391031897, null], \"y\": [0.11602542311367249, 0.11602542311367249, null]}, {\"hoverinfo\": \"text\", \"marker\": {\"color\": \"grey\", \"opacity\": 0}, \"mode\": \"markers\", \"text\": [\"'weight': 13.672518554554134<br>'d_suspicious': 1.0<br>'colors': [0. 0. 1. 0.]\", \"'weight': 7.123941349728848<br>'d_suspicious': 1.0<br>'colors': [0. 0. 1. 0.]\", \"'weight': 8.222553638396958<br>'d_suspicious': 1.0<br>'colors': [0. 0. 0. 1.]\", \"'weight': 7.529406457837013<br>'d_suspicious': 1.0<br>'colors': [0.  0.  0.5 0.5]\", \"'weight': 7.529406457837013<br>'d_suspicious': 1.0<br>'colors': [0. 0. 0. 1.]\", \"'weight': 8.222553638396958<br>'d_suspicious': 0.0<br>'colors': [0. 1. 0. 0.]\", \"'weight': 13.960200627005914<br>'d_suspicious': 0.5<br>'colors': [0.5 0.  0.5 0. ]\", \"'weight': 12.53308427136577<br>'d_suspicious': 0.3333333333333333<br>'colors': [0.         0.66666667 0.33333333 0.        ]\", \"'weight': 5.737646988608957<br>'d_suspicious': 0.0<br>'colors': [0. 1. 0. 0.]\", \"'weight': 2.725385413103756<br>'d_suspicious': 1.0<br>'colors': [0. 0. 1. 0.]\", \"'weight': 45.355235130081084<br>'d_suspicious': 0.0<br>'colors': [0.25 0.75 0.   0.  ]\", \"'weight': 4.821356256734802<br>'d_suspicious': 1.0<br>'colors': [0. 0. 1. 0.]\", \"'weight': 6.836259277277067<br>'d_suspicious': 0.0<br>'colors': [0. 1. 0. 0.]\", \"'weight': 7.529406457837013<br>'d_suspicious': 1.0<br>'colors': [0. 0. 0. 1.]\", \"'weight': 14.247882699457696<br>'d_suspicious': 0.0<br>'colors': [0. 1. 0. 0.]\", \"'weight': 25.159600487524088<br>'d_suspicious': 0.0<br>'colors': [0.25 0.75 0.   0.  ]\", \"'weight': 19.72601849258157<br>'d_suspicious': 0.0<br>'colors': [0.25 0.75 0.   0.  ]\", \"'weight': 5.449964916157176<br>'d_suspicious': 0.0<br>'colors': [1. 0. 0. 0.]\", \"'weight': 35.44980771184884<br>'d_suspicious': 0.0<br>'colors': [0. 1. 0. 0.]\", \"'weight': 12.211000772196655<br>'d_suspicious': 0.0<br>'colors': [0. 1. 0. 0.]\", \"'weight': 11.187611904766133<br>'d_suspicious': 0.5<br>'colors': [0.5 0.  0.5 0. ]\", \"'weight': 10.383650357865898<br>'d_suspicious': 0.5<br>'colors': [0.  0.5 0.5 0. ]\", \"'weight': 6.143112096717122<br>'d_suspicious': 1.0<br>'colors': [0.   0.   0.25 0.75]\", \"'weight': 5.657604280935421<br>'d_suspicious': 0.0<br>'colors': [0. 1. 0. 0.]\", \"'weight': 5.919968545402912<br>'d_suspicious': 0.0<br>'colors': [1. 0. 0. 0.]\", \"'weight': 4.855257808410483<br>'d_suspicious': 0.0<br>'colors': [1. 0. 0. 0.]\", \"'weight': 10.702104088984433<br>'d_suspicious': 0.0<br>'colors': [0. 1. 0. 0.]\", \"'weight': 34.3528078932963<br>'d_suspicious': 0.0<br>'colors': [0. 1. 0. 0.]\", \"'weight': 59.72500764714781<br>'d_suspicious': 0.09090909090909091<br>'colors': [0.09090909 0.81818182 0.09090909 0.        ]\", \"'weight': 56.128484580475444<br>'d_suspicious': 0.125<br>'colors': [0.375 0.5   0.    0.125]\", \"'weight': 8.222553638396958<br>'d_suspicious': 1.0<br>'colors': [0. 0. 1. 0.]\", \"'weight': 2.725385413103756<br>'d_suspicious': 0.0<br>'colors': [0. 1. 0. 0.]\", \"'weight': 16.445107276793916<br>'d_suspicious': 0.0<br>'colors': [0.5 0.5 0.  0. ]\", \"'weight': 19.084164606409175<br>'d_suspicious': 0.3333333333333333<br>'colors': [0.66666667 0.         0.33333333 0.        ]\", \"'weight': 7.529406457837013<br>'d_suspicious': 0.0<br>'colors': [1. 0. 0. 0.]\", \"'weight': 6.430794169168903<br>'d_suspicious': 0.0<br>'colors': [0. 1. 0. 0.]\", \"'weight': 15.346494988125805<br>'d_suspicious': 0.5<br>'colors': [0.  0.5 0.  0.5]\", \"'weight': 7.123941349728848<br>'d_suspicious': 0.0<br>'colors': [0. 1. 0. 0.]\", \"'weight': 6.143112096717122<br>'d_suspicious': 0.0<br>'colors': [0. 1. 0. 0.]\", \"'weight': 8.222553638396958<br>'d_suspicious': 0.0<br>'colors': [1. 0. 0. 0.]\", \"'weight': 8.222553638396958<br>'d_suspicious': 1.0<br>'colors': [0. 0. 1. 0.]\", \"'weight': 5.657604280935421<br>'d_suspicious': 1.0<br>'colors': [0. 0. 0. 1.]\", \"'weight': 13.672518554554134<br>'d_suspicious': 1.0<br>'colors': [0.  0.  0.5 0.5]\", \"'weight': 13.400584839070493<br>'d_suspicious': 0.5<br>'colors': [0.5 0.  0.  0.5]\", \"'weight': 8.222553638396958<br>'d_suspicious': 1.0<br>'colors': [0. 0. 1. 0.]\", \"'weight': 18.280781595828227<br>'d_suspicious': 0.3333333333333333<br>'colors': [0.33333333 0.33333333 0.33333333 0.        ]\", \"'weight': 8.222553638396958<br>'d_suspicious': 0.0<br>'colors': [0. 1. 0. 0.]\", \"'weight': 20.113784023590334<br>'d_suspicious': 0.0<br>'colors': [1. 0. 0. 0.]\", \"'weight': 4.233569591832683<br>'d_suspicious': 0.0<br>'colors': [1. 0. 0. 0.]\", \"'weight': 8.222553638396958<br>'d_suspicious': 0.0<br>'colors': [1. 0. 0. 0.]\", \"'weight': 12.861588338337805<br>'d_suspicious': 0.0<br>'colors': [0. 1. 0. 0.]\", \"'weight': 6.836259277277067<br>'d_suspicious': 0.0<br>'colors': [0. 1. 0. 0.]\", \"'weight': 7.123941349728848<br>'d_suspicious': 1.0<br>'colors': [0. 0. 0. 1.]\", \"'weight': 6.025329061060738<br>'d_suspicious': 1.0<br>'colors': [0. 0. 1. 0.]\", \"'weight': 2.725385413103756<br>'d_suspicious': 0.0<br>'colors': [1. 0. 0. 0.]\", \"'weight': 8.222553638396958<br>'d_suspicious': 0.0<br>'colors': [1. 0. 0. 0.]\", \"'weight': 4.233569591832683<br>'d_suspicious': 0.0<br>'colors': [1. 0. 0. 0.]\", \"'weight': 7.529406457837013<br>'d_suspicious': 1.0<br>'colors': [0.  0.  0.5 0.5]\", \"'weight': 15.704756787097944<br>'d_suspicious': 0.6666666666666666<br>'colors': [0.         0.33333333 0.33333333 0.33333333]\", \"'weight': 12.61646588030482<br>'d_suspicious': 0.0<br>'colors': [0.5 0.5 0.  0. ]\", \"'weight': 6.6131157259628575<br>'d_suspicious': 0.0<br>'colors': [1. 0. 0. 0.]\", \"'weight': 6.836259277277067<br>'d_suspicious': 0.0<br>'colors': [0. 1. 0. 0.]\", \"'weight': 6.143112096717122<br>'d_suspicious': 0.0<br>'colors': [0. 1. 0. 0.]\", \"'weight': 8.222553638396958<br>'d_suspicious': 1.0<br>'colors': [0. 0. 0. 1.]\", \"'weight': 7.529406457837013<br>'d_suspicious': 0.0<br>'colors': [0. 1. 0. 0.]\", \"'weight': 6.820804666455622<br>'d_suspicious': 1.0<br>'colors': [0. 0. 0. 1.]\", \"'weight': 5.824658365598587<br>'d_suspicious': 0.0<br>'colors': [1. 0. 0. 0.]\", \"'weight': 7.123941349728848<br>'d_suspicious': 0.0<br>'colors': [0. 1. 0. 0.]\", \"'weight': 8.750714474164493<br>'d_suspicious': 0.0<br>'colors': [0.5 0.5 0.  0. ]\", \"'weight': 6.2766434893416445<br>'d_suspicious': 0.0<br>'colors': [0. 1. 0. 0.]\", \"'weight': 12.707437658510546<br>'d_suspicious': 0.0<br>'colors': [0. 1. 0. 0.]\", \"'weight': 18.532096024109133<br>'d_suspicious': 0.25<br>'colors': [0.   0.75 0.25 0.  ]\"], \"type\": \"scatter\", \"x\": [0.007029790767965893, 0.3121116969365496, -0.2658719760718028, -0.3203873126767938, -0.20557811298416934, 0.13213698674316487, -0.08601115456406191, 0.026983492722159396, 0.2638990842775182, -0.20743041816002308, 0.10302820799570785, 0.12201898729588948, 0.35725849388554975, 0.0071910111999985565, 0.14625277385051383, 0.11999732888270552, 0.0925553591324048, 0.3569129204380643, -0.14256190306181965, -0.003311810807790052, -0.02775270336919518, -0.029567255775598354, -0.12540445257130764, -0.32542897094869494, -0.09773357038882333, 0.20734833577976042, 0.1259796271068178, -0.09796248282100692, 0.024130158942510666, -0.060604596706527916, -0.11966640210360367, -0.23653919690748013, -0.0702916006385226, -0.11511993331151894, -0.0003107336188944643, 0.043120938242692294, -0.041613817406346294, -0.07914786034419075, -0.46260978701016126, -0.3661533158116192, 0.057813312493592825, -0.04403615567071431, -0.18783271671682866, -0.1661287974342319, -0.06847704823211943, -0.12877091131975288, -0.13845791525174758, -0.1832862479247439, 0.1522350720746261, 0.36289521866217656, -0.16493351943066148, 0.2539195522709475, -0.09614793041460375, 0.2366048579364643, -0.09632408723796919, -0.11330538090511577, -0.05879004430012475, -0.27974271912328597, -0.22522738251829494, -0.14049262686925634, -0.2625852686327739, 0.48902059141990306, 0.2783604448323526, 0.7358529485427099, -0.07170703785319862, -0.19397583644008165, -0.3323763937031894, -0.03434915173871962, -0.17359924399274923, -0.08886448834371065, -0.3495338441937014, 0.05038560391031897], \"y\": [-0.3798800540303342, -0.40743034453497196, 0.3187753441687811, 0.20168547264107983, 0.3203319339624684, -0.03747131227900431, -0.12989219829305187, -0.11465148145915477, -0.2349062072807488, -0.24135606727415013, 0.08453771359088029, 0.35785643140651735, 0.18040233890438856, 0.1484800658770853, 0.023638739434691552, -0.03069519991677978, -0.07261391325829405, -0.1509499257383738, -0.04980188576468154, 0.01977277042068689, 0.06884457555670702, -0.03456116893078444, 0.029381183355420573, -0.08178331713807106, -0.12726560424774064, -0.15481589475237845, -0.15512604061336424, 0.07129989669693484, 0.061691483762201155, 0.10920669910453402, -0.2430044735334298, -0.11934704140426552, -0.08534689090622638, -0.007883172423167268, 0.11076328889822129, 0.33501020157783823, 0.3825254169201711, 0.6480409975389367, 0.06720181318340623, -0.132569039113513, -0.24783047593032045, -0.03101295155475505, -0.335708908850386, -0.02140453862002137, 0.018058853581265077, 0.01650226378757781, -0.1780513262231826, -0.10058760774012347, -0.10079210126189292, -0.27538076643495824, 0.21782970587818432, 0.20662791421172955, 0.1747056411844263, -0.009491436923372731, 0.47812802421079115, 0.0955225720643242, 0.21261244359202547, 0.09918324455679577, 0.21627311608449706, 0.16875790074216418, 0.17836631367689787, -0.017032556097355933, 0.1575561090757094, -0.3399175809933058, 0.12563383604840617, 0.43866463200950473, -0.05540468911806051, 0.16354063845600536, 0.09396598227063693, 0.04645076692830406, -0.13458775823816263, 0.11602542311367249]}, {\"hoverinfo\": \"text\", \"marker\": {\"color\": [\"yellow\", \"red\", \"yellow\", \"yellow\", \"yellow\", \"yellow\", \"yellow\", \"yellow\", \"green\", \"black\", \"black\", \"green\", \"black\", \"yellow\", \"red\", \"black\", \"black\", \"black\", \"yellow\", \"yellow\", \"black\", \"green\", \"black\"], \"line\": {\"color\": \"rgb(50,50,50)\", \"width\": 0.5}, \"size\": 50, \"symbol\": \"circle-dot\"}, \"mode\": \"markers\", \"name\": \"net\", \"text\": [\"'name':boris<br>'df': 1862.0<br>'pop': -3.30131653972484<br>'rt': 0.5<br>'fav': 1.0<br>'color': [0.  0.5 0.5 0. ]<br>'freq': 2\", \"'name':research<br>'df': 620.6666666666666<br>'pop': -4.101787912188876<br>'rt': 0.3333333333333333<br>'fav': 0.5<br>'color': [0.         0.33333333 0.16666667 0.5       ]<br>'freq': 6\", \"'name':SUPER:face_mask|mask<br>'df': 133.0<br>'pop': -2.7637806191271825<br>'rt': 13.0<br>'fav': 24.571428571428573<br>'color': [0.17857143 0.60714286 0.21428571 0.        ]<br>'freq': 28\", \"'name':SUPER:worker|employee<br>'df': 80.95652173913044<br>'pop': -2.9849320916792283<br>'rt': 37.17391304347826<br>'fav': 64.58695652173913<br>'color': [0.36956522 0.52173913 0.08695652 0.02173913]<br>'freq': 46\", \"'name':SUPER:uk|uk_death_toll<br>'df': 86.6046511627907<br>'pop': -1.5830148393038446<br>'rt': 9.418604651162791<br>'fav': 21.6046511627907<br>'color': [0.27906977 0.62790698 0.09302326 0.        ]<br>'freq': 43\", \"'name':SUPER:lockdown|shutdown<br>'df': 26.985507246376812<br>'pop': -2.185047132510023<br>'rt': 6.217391304347826<br>'fav': 19.652173913043477<br>'color': [0.18115942 0.55797101 0.16666667 0.0942029 ]<br>'freq': 138\", \"'name':SUPER:coronavirus|coronaviruses|coronvirus<br>'df': 10.985250737463128<br>'pop': -1.7198100899764428<br>'rt': 8.513274336283185<br>'fav': 18.492625368731563<br>'color': [0.25663717 0.59882006 0.09439528 0.05014749]<br>'freq': 339\", \"'name':SUPER:virus_outbreak|virus|infection<br>'df': 143.23076923076923<br>'pop': -2.73092403573338<br>'rt': 2.4615384615384617<br>'fav': 3.9615384615384617<br>'color': [0.23076923 0.5        0.07692308 0.19230769]<br>'freq': 26\", \"'name':medium<br>'df': 931.0<br>'pop': -3.1097258774610648<br>'rt': 3.25<br>'fav': 2.5<br>'color': [0.5 0.5 0.  0. ]<br>'freq': 4\", \"'name':SUPER:trump|donald_trump|president_trump<br>'df': 26.225352112676056<br>'pop': -2.7461704500387376<br>'rt': 13.098591549295774<br>'fav': 24.739436619718308<br>'color': [0.33802817 0.42253521 0.14788732 0.0915493 ]<br>'freq': 142\", \"'name':SUPER:<<NUM>>_new_case|stayathome_order|nurse_,_<<NUM>><br>'df': 128.41379310344828<br>'pop': -2.5413973990288747<br>'rt': 6.0344827586206895<br>'fav': 13.10344827586207<br>'color': [0.27586207 0.34482759 0.20689655 0.17241379]<br>'freq': 29\", \"'name':government<br>'df': 79.23404255319149<br>'pop': -1.8491655864700827<br>'rt': 6.9361702127659575<br>'fav': 12.595744680851064<br>'color': [0.53191489 0.21276596 0.14893617 0.10638298]<br>'freq': 47\", \"'name':SUPER:outbreak|virus_outbreak<br>'df': 137.92592592592592<br>'pop': -1.820484437014899<br>'rt': 13.407407407407407<br>'fav': 28.48148148148148<br>'color': [0.22222222 0.48148148 0.14814815 0.14814815]<br>'freq': 27\", \"'name':job<br>'df': 372.4<br>'pop': -2.7625792054346334<br>'rt': 23.9<br>'fav': 24.3<br>'color': [0.2 0.7 0.1 0. ]<br>'freq': 10\", \"'name':bioweapon<br>'df': 3724.0<br>'pop': -6.0<br>'rt': 0.0<br>'fav': 0.0<br>'color': [0. 0. 0. 1.]<br>'freq': 1\", \"'name':SUPER:it|he|they<br>'df': 44.333333333333336<br>'pop': -2.4950300104275294<br>'rt': 9.44047619047619<br>'fav': 17.88095238095238<br>'color': [0.21428571 0.42857143 0.17857143 0.17857143]<br>'freq': 84\", \"'name':SUPER:million|billion<br>'df': 148.96<br>'pop': -2.8088496616792837<br>'rt': 7.0<br>'fav': 13.6<br>'color': [0.4  0.36 0.16 0.08]<br>'freq': 25\", \"'name':china<br>'df': 41.37777777777778<br>'pop': -2.638759900068285<br>'rt': 7.277777777777778<br>'fav': 9.511111111111111<br>'color': [0.24444444 0.44444444 0.18888889 0.12222222]<br>'freq': 90\", \"'name':SUPER:u|i<br>'df': 49.653333333333336<br>'pop': -2.5162945335935607<br>'rt': 10.333333333333334<br>'fav': 35.48<br>'color': [0.22666667 0.53333333 0.17333333 0.06666667]<br>'freq': 75\", \"'name':SUPER:<<NUM>>_people|<<NUM>>_death|<<NUM>>_day<br>'df': 29.555555555555557<br>'pop': -1.8329622570207176<br>'rt': 8.722222222222221<br>'fav': 27.976190476190474<br>'color': [0.3015873  0.57142857 0.1031746  0.02380952]<br>'freq': 126\", \"'name':what<br>'df': 155.16666666666666<br>'pop': -2.9145092193072615<br>'rt': 4.333333333333333<br>'fav': 6.458333333333333<br>'color': [0.33333333 0.25       0.16666667 0.25      ]<br>'freq': 24\", \"'name':SUPER:first_time|time<br>'df': 186.2<br>'pop': -2.217725490451495<br>'rt': 7.0<br>'fav': 16.95<br>'color': [0.55 0.25 0.05 0.15]<br>'freq': 20\", \"'name':funding<br>'df': 465.5<br>'pop': -2.64181263607478<br>'rt': 43.875<br>'fav': 75.0<br>'color': [0.125 0.375 0.25  0.25 ]<br>'freq': 8\"], \"type\": \"scatter\", \"x\": [0.15251749678767937, -0.4126600447558474, 0.05609227146961643, 0.20818170201671332, 0.24211994379070867, -0.05700922552589907, -0.002125286025297636, 0.035856272575065615, -0.5938487163714908, -0.13845791525174758, 0.25408454023893323, 0.0015038187875087074, -0.3313708576488317, 0.5063352857543862, 1.0, -0.1937996796167162, 0.4717058970854199, -0.1190839073877582, -0.22811458059774026, 0.05038560391031897, -0.4709531077896626, -0.1941519932634471, -0.23720751818190972], \"y\": [-0.5817087818374858, 0.42649483453922404, -0.23666050732903937, 0.16171788277103075, -0.06874794424428939, -0.07647988227229871, 0.007357544410729826, 0.553994980042004, -0.08708675200384342, -0.1780513262231826, -0.3176096256374583, 0.21416903338571275, 0.22149037837065588, 0.19908679503774634, -0.4466832547541534, 0.13524224898313986, -0.2331519072324582, 0.21105585379833822, -0.02312388925706436, 0.11602542311367249, -0.24605162721926088, 0.7420870150358696, -0.49336649147758943]}],\n",
       "                        {\"annotations\": [{\"font\": {\"size\": 14}, \"showarrow\": false, \"text\": \"The rumor graph\", \"x\": 0, \"xanchor\": \"left\", \"xref\": \"paper\", \"y\": -0.1, \"yanchor\": \"bottom\", \"yref\": \"paper\"}], \"autosize\": false, \"font\": {\"size\": 12}, \"height\": 1000, \"hovermode\": \"closest\", \"margin\": {\"b\": 85, \"l\": 40, \"r\": 40, \"t\": 100}, \"showlegend\": false, \"template\": {\"data\": {\"bar\": [{\"error_x\": {\"color\": \"#2a3f5f\"}, \"error_y\": {\"color\": \"#2a3f5f\"}, \"marker\": {\"line\": {\"color\": \"#E5ECF6\", \"width\": 0.5}}, \"type\": \"bar\"}], \"barpolar\": [{\"marker\": {\"line\": {\"color\": \"#E5ECF6\", \"width\": 0.5}}, \"type\": \"barpolar\"}], \"carpet\": [{\"aaxis\": {\"endlinecolor\": \"#2a3f5f\", \"gridcolor\": \"white\", \"linecolor\": \"white\", \"minorgridcolor\": \"white\", \"startlinecolor\": \"#2a3f5f\"}, \"baxis\": {\"endlinecolor\": \"#2a3f5f\", \"gridcolor\": \"white\", \"linecolor\": \"white\", \"minorgridcolor\": \"white\", \"startlinecolor\": \"#2a3f5f\"}, \"type\": \"carpet\"}], \"choropleth\": [{\"colorbar\": {\"outlinewidth\": 0, \"ticks\": \"\"}, \"type\": \"choropleth\"}], \"contour\": [{\"colorbar\": {\"outlinewidth\": 0, \"ticks\": \"\"}, \"colorscale\": [[0.0, \"#0d0887\"], [0.1111111111111111, \"#46039f\"], [0.2222222222222222, \"#7201a8\"], [0.3333333333333333, \"#9c179e\"], [0.4444444444444444, \"#bd3786\"], [0.5555555555555556, \"#d8576b\"], [0.6666666666666666, \"#ed7953\"], [0.7777777777777778, \"#fb9f3a\"], [0.8888888888888888, \"#fdca26\"], [1.0, \"#f0f921\"]], \"type\": \"contour\"}], \"contourcarpet\": [{\"colorbar\": {\"outlinewidth\": 0, \"ticks\": \"\"}, \"type\": \"contourcarpet\"}], \"heatmap\": [{\"colorbar\": {\"outlinewidth\": 0, \"ticks\": \"\"}, \"colorscale\": [[0.0, \"#0d0887\"], [0.1111111111111111, \"#46039f\"], [0.2222222222222222, \"#7201a8\"], [0.3333333333333333, \"#9c179e\"], [0.4444444444444444, \"#bd3786\"], [0.5555555555555556, \"#d8576b\"], [0.6666666666666666, \"#ed7953\"], [0.7777777777777778, \"#fb9f3a\"], [0.8888888888888888, \"#fdca26\"], [1.0, \"#f0f921\"]], \"type\": \"heatmap\"}], \"heatmapgl\": [{\"colorbar\": {\"outlinewidth\": 0, \"ticks\": \"\"}, \"colorscale\": [[0.0, \"#0d0887\"], [0.1111111111111111, \"#46039f\"], [0.2222222222222222, \"#7201a8\"], [0.3333333333333333, \"#9c179e\"], [0.4444444444444444, \"#bd3786\"], [0.5555555555555556, \"#d8576b\"], [0.6666666666666666, \"#ed7953\"], [0.7777777777777778, \"#fb9f3a\"], [0.8888888888888888, \"#fdca26\"], [1.0, \"#f0f921\"]], \"type\": \"heatmapgl\"}], \"histogram\": [{\"marker\": {\"colorbar\": {\"outlinewidth\": 0, \"ticks\": \"\"}}, \"type\": \"histogram\"}], \"histogram2d\": [{\"colorbar\": {\"outlinewidth\": 0, \"ticks\": \"\"}, \"colorscale\": [[0.0, \"#0d0887\"], [0.1111111111111111, \"#46039f\"], [0.2222222222222222, \"#7201a8\"], [0.3333333333333333, \"#9c179e\"], [0.4444444444444444, \"#bd3786\"], [0.5555555555555556, \"#d8576b\"], [0.6666666666666666, \"#ed7953\"], [0.7777777777777778, \"#fb9f3a\"], [0.8888888888888888, \"#fdca26\"], [1.0, \"#f0f921\"]], \"type\": \"histogram2d\"}], \"histogram2dcontour\": [{\"colorbar\": {\"outlinewidth\": 0, \"ticks\": \"\"}, \"colorscale\": [[0.0, \"#0d0887\"], [0.1111111111111111, \"#46039f\"], [0.2222222222222222, \"#7201a8\"], [0.3333333333333333, \"#9c179e\"], [0.4444444444444444, \"#bd3786\"], [0.5555555555555556, \"#d8576b\"], [0.6666666666666666, \"#ed7953\"], [0.7777777777777778, \"#fb9f3a\"], [0.8888888888888888, \"#fdca26\"], [1.0, \"#f0f921\"]], \"type\": \"histogram2dcontour\"}], \"mesh3d\": [{\"colorbar\": {\"outlinewidth\": 0, \"ticks\": \"\"}, \"type\": \"mesh3d\"}], \"parcoords\": [{\"line\": {\"colorbar\": {\"outlinewidth\": 0, \"ticks\": \"\"}}, \"type\": \"parcoords\"}], \"pie\": [{\"automargin\": true, \"type\": \"pie\"}], \"scatter\": [{\"marker\": {\"colorbar\": {\"outlinewidth\": 0, \"ticks\": \"\"}}, \"type\": \"scatter\"}], \"scatter3d\": [{\"line\": {\"colorbar\": {\"outlinewidth\": 0, \"ticks\": \"\"}}, \"marker\": {\"colorbar\": {\"outlinewidth\": 0, \"ticks\": \"\"}}, \"type\": \"scatter3d\"}], \"scattercarpet\": [{\"marker\": {\"colorbar\": {\"outlinewidth\": 0, \"ticks\": \"\"}}, \"type\": \"scattercarpet\"}], \"scattergeo\": [{\"marker\": {\"colorbar\": {\"outlinewidth\": 0, \"ticks\": \"\"}}, \"type\": \"scattergeo\"}], \"scattergl\": [{\"marker\": {\"colorbar\": {\"outlinewidth\": 0, \"ticks\": \"\"}}, \"type\": \"scattergl\"}], \"scattermapbox\": [{\"marker\": {\"colorbar\": {\"outlinewidth\": 0, \"ticks\": \"\"}}, \"type\": \"scattermapbox\"}], \"scatterpolar\": [{\"marker\": {\"colorbar\": {\"outlinewidth\": 0, \"ticks\": \"\"}}, \"type\": \"scatterpolar\"}], \"scatterpolargl\": [{\"marker\": {\"colorbar\": {\"outlinewidth\": 0, \"ticks\": \"\"}}, \"type\": \"scatterpolargl\"}], \"scatterternary\": [{\"marker\": {\"colorbar\": {\"outlinewidth\": 0, \"ticks\": \"\"}}, \"type\": \"scatterternary\"}], \"surface\": [{\"colorbar\": {\"outlinewidth\": 0, \"ticks\": \"\"}, \"colorscale\": [[0.0, \"#0d0887\"], [0.1111111111111111, \"#46039f\"], [0.2222222222222222, \"#7201a8\"], [0.3333333333333333, \"#9c179e\"], [0.4444444444444444, \"#bd3786\"], [0.5555555555555556, \"#d8576b\"], [0.6666666666666666, \"#ed7953\"], [0.7777777777777778, \"#fb9f3a\"], [0.8888888888888888, \"#fdca26\"], [1.0, \"#f0f921\"]], \"type\": \"surface\"}], \"table\": [{\"cells\": {\"fill\": {\"color\": \"#EBF0F8\"}, \"line\": {\"color\": \"white\"}}, \"header\": {\"fill\": {\"color\": \"#C8D4E3\"}, \"line\": {\"color\": \"white\"}}, \"type\": \"table\"}]}, \"layout\": {\"annotationdefaults\": {\"arrowcolor\": \"#2a3f5f\", \"arrowhead\": 0, \"arrowwidth\": 1}, \"coloraxis\": {\"colorbar\": {\"outlinewidth\": 0, \"ticks\": \"\"}}, \"colorscale\": {\"diverging\": [[0, \"#8e0152\"], [0.1, \"#c51b7d\"], [0.2, \"#de77ae\"], [0.3, \"#f1b6da\"], [0.4, \"#fde0ef\"], [0.5, \"#f7f7f7\"], [0.6, \"#e6f5d0\"], [0.7, \"#b8e186\"], [0.8, \"#7fbc41\"], [0.9, \"#4d9221\"], [1, \"#276419\"]], \"sequential\": [[0.0, \"#0d0887\"], [0.1111111111111111, \"#46039f\"], [0.2222222222222222, \"#7201a8\"], [0.3333333333333333, \"#9c179e\"], [0.4444444444444444, \"#bd3786\"], [0.5555555555555556, \"#d8576b\"], [0.6666666666666666, \"#ed7953\"], [0.7777777777777778, \"#fb9f3a\"], [0.8888888888888888, \"#fdca26\"], [1.0, \"#f0f921\"]], \"sequentialminus\": [[0.0, \"#0d0887\"], [0.1111111111111111, \"#46039f\"], [0.2222222222222222, \"#7201a8\"], [0.3333333333333333, \"#9c179e\"], [0.4444444444444444, \"#bd3786\"], [0.5555555555555556, \"#d8576b\"], [0.6666666666666666, \"#ed7953\"], [0.7777777777777778, \"#fb9f3a\"], [0.8888888888888888, \"#fdca26\"], [1.0, \"#f0f921\"]]}, \"colorway\": [\"#636efa\", \"#EF553B\", \"#00cc96\", \"#ab63fa\", \"#FFA15A\", \"#19d3f3\", \"#FF6692\", \"#B6E880\", \"#FF97FF\", \"#FECB52\"], \"font\": {\"color\": \"#2a3f5f\"}, \"geo\": {\"bgcolor\": \"white\", \"lakecolor\": \"white\", \"landcolor\": \"#E5ECF6\", \"showlakes\": true, \"showland\": true, \"subunitcolor\": \"white\"}, \"hoverlabel\": {\"align\": \"left\"}, \"hovermode\": \"closest\", \"mapbox\": {\"style\": \"light\"}, \"paper_bgcolor\": \"white\", \"plot_bgcolor\": \"#E5ECF6\", \"polar\": {\"angularaxis\": {\"gridcolor\": \"white\", \"linecolor\": \"white\", \"ticks\": \"\"}, \"bgcolor\": \"#E5ECF6\", \"radialaxis\": {\"gridcolor\": \"white\", \"linecolor\": \"white\", \"ticks\": \"\"}}, \"scene\": {\"xaxis\": {\"backgroundcolor\": \"#E5ECF6\", \"gridcolor\": \"white\", \"gridwidth\": 2, \"linecolor\": \"white\", \"showbackground\": true, \"ticks\": \"\", \"zerolinecolor\": \"white\"}, \"yaxis\": {\"backgroundcolor\": \"#E5ECF6\", \"gridcolor\": \"white\", \"gridwidth\": 2, \"linecolor\": \"white\", \"showbackground\": true, \"ticks\": \"\", \"zerolinecolor\": \"white\"}, \"zaxis\": {\"backgroundcolor\": \"#E5ECF6\", \"gridcolor\": \"white\", \"gridwidth\": 2, \"linecolor\": \"white\", \"showbackground\": true, \"ticks\": \"\", \"zerolinecolor\": \"white\"}}, \"shapedefaults\": {\"line\": {\"color\": \"#2a3f5f\"}}, \"ternary\": {\"aaxis\": {\"gridcolor\": \"white\", \"linecolor\": \"white\", \"ticks\": \"\"}, \"baxis\": {\"gridcolor\": \"white\", \"linecolor\": \"white\", \"ticks\": \"\"}, \"bgcolor\": \"#E5ECF6\", \"caxis\": {\"gridcolor\": \"white\", \"linecolor\": \"white\", \"ticks\": \"\"}}, \"title\": {\"x\": 0.05}, \"xaxis\": {\"automargin\": true, \"gridcolor\": \"white\", \"linecolor\": \"white\", \"ticks\": \"\", \"title\": {\"standoff\": 15}, \"zerolinecolor\": \"white\", \"zerolinewidth\": 2}, \"yaxis\": {\"automargin\": true, \"gridcolor\": \"white\", \"linecolor\": \"white\", \"ticks\": \"\", \"title\": {\"standoff\": 15}, \"zerolinecolor\": \"white\", \"zerolinewidth\": 2}}}, \"title\": {\"text\": \"The rumor graph of bioweapon at week 16\"}, \"width\": 1000, \"xaxis\": {\"showgrid\": false, \"showline\": false, \"showticklabels\": false, \"title\": {\"text\": \"\"}, \"zeroline\": false}, \"yaxis\": {\"showgrid\": false, \"showline\": false, \"showticklabels\": false, \"title\": {\"text\": \"\"}, \"zeroline\": false}},\n",
       "                        {\"responsive\": true}\n",
       "                    ).then(function(){\n",
       "                            \n",
       "var gd = document.getElementById('393d8330-564c-4ffc-9417-2a59b47749ea');\n",
       "var x = new MutationObserver(function (mutations, observer) {{\n",
       "        var display = window.getComputedStyle(gd).display;\n",
       "        if (!display || display === 'none') {{\n",
       "            console.log([gd, 'removed!']);\n",
       "            Plotly.purge(gd);\n",
       "            observer.disconnect();\n",
       "        }}\n",
       "}});\n",
       "\n",
       "// Listen for the removal of the full notebook cells\n",
       "var notebookContainer = gd.closest('#notebook-container');\n",
       "if (notebookContainer) {{\n",
       "    x.observe(notebookContainer, {childList: true});\n",
       "}}\n",
       "\n",
       "// Listen for the clearing of the current output cell\n",
       "var outputEl = gd.closest('.output');\n",
       "if (outputEl) {{\n",
       "    x.observe(outputEl, {childList: true});\n",
       "}}\n",
       "\n",
       "                        })\n",
       "                };\n",
       "                });\n",
       "            </script>\n",
       "        </div>"
      ]
     },
     "metadata": {},
     "output_type": "display_data"
    }
   ],
   "source": [
    "rm = 'bioweapon'\n",
    "wk = 16\n",
    "fig = plot_rumor(rm, wk, weekly_rumors[rm][wk], act_mapping, centres)\n",
    "fig"
   ]
  },
  {
   "cell_type": "code",
   "execution_count": null,
   "metadata": {},
   "outputs": [],
   "source": []
  },
  {
   "cell_type": "code",
   "execution_count": null,
   "metadata": {},
   "outputs": [],
   "source": []
  }
 ],
 "metadata": {
  "kernelspec": {
   "display_name": "python3.7",
   "language": "python",
   "name": "python3.7"
  },
  "language_info": {
   "codemirror_mode": {
    "name": "ipython",
    "version": 3
   },
   "file_extension": ".py",
   "mimetype": "text/x-python",
   "name": "python",
   "nbconvert_exporter": "python",
   "pygments_lexer": "ipython3",
   "version": "3.7.7"
  }
 },
 "nbformat": 4,
 "nbformat_minor": 2
}
